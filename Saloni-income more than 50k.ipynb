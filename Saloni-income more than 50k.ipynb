{
 "cells": [
  {
   "cell_type": "markdown",
   "metadata": {},
   "source": [
    "# IMPORTING DATA"
   ]
  },
  {
   "cell_type": "code",
   "execution_count": 1,
   "metadata": {},
   "outputs": [],
   "source": [
    "#import pandas and numpy\n",
    "import pandas as pd\n",
    "import numpy as np"
   ]
  },
  {
   "cell_type": "code",
   "execution_count": 2,
   "metadata": {},
   "outputs": [],
   "source": [
    "#read csv file\n",
    "df=pd.read_csv(\"/Users/salonisharma/Downloads/adult - adult.csv\")"
   ]
  },
  {
   "cell_type": "code",
   "execution_count": 3,
   "metadata": {},
   "outputs": [
    {
     "data": {
      "text/html": [
       "<div>\n",
       "<style scoped>\n",
       "    .dataframe tbody tr th:only-of-type {\n",
       "        vertical-align: middle;\n",
       "    }\n",
       "\n",
       "    .dataframe tbody tr th {\n",
       "        vertical-align: top;\n",
       "    }\n",
       "\n",
       "    .dataframe thead th {\n",
       "        text-align: right;\n",
       "    }\n",
       "</style>\n",
       "<table border=\"1\" class=\"dataframe\">\n",
       "  <thead>\n",
       "    <tr style=\"text-align: right;\">\n",
       "      <th></th>\n",
       "      <th>age</th>\n",
       "      <th>workclass</th>\n",
       "      <th>fnlwgt</th>\n",
       "      <th>education</th>\n",
       "      <th>education.num</th>\n",
       "      <th>marital.status</th>\n",
       "      <th>occupation</th>\n",
       "      <th>relationship</th>\n",
       "      <th>race</th>\n",
       "      <th>sex</th>\n",
       "      <th>capital.gain</th>\n",
       "      <th>capital.loss</th>\n",
       "      <th>hours.per.week</th>\n",
       "      <th>native.country</th>\n",
       "      <th>income</th>\n",
       "    </tr>\n",
       "  </thead>\n",
       "  <tbody>\n",
       "    <tr>\n",
       "      <th>0</th>\n",
       "      <td>39</td>\n",
       "      <td>State-gov</td>\n",
       "      <td>77516</td>\n",
       "      <td>Bachelors</td>\n",
       "      <td>13</td>\n",
       "      <td>Never-married</td>\n",
       "      <td>Adm-clerical</td>\n",
       "      <td>Not-in-family</td>\n",
       "      <td>White</td>\n",
       "      <td>Male</td>\n",
       "      <td>2174</td>\n",
       "      <td>0</td>\n",
       "      <td>40</td>\n",
       "      <td>United-States</td>\n",
       "      <td>&lt;=50K</td>\n",
       "    </tr>\n",
       "    <tr>\n",
       "      <th>1</th>\n",
       "      <td>50</td>\n",
       "      <td>Self-emp-not-inc</td>\n",
       "      <td>83311</td>\n",
       "      <td>Bachelors</td>\n",
       "      <td>13</td>\n",
       "      <td>Married-civ-spouse</td>\n",
       "      <td>Exec-managerial</td>\n",
       "      <td>Husband</td>\n",
       "      <td>White</td>\n",
       "      <td>Male</td>\n",
       "      <td>0</td>\n",
       "      <td>0</td>\n",
       "      <td>13</td>\n",
       "      <td>United-States</td>\n",
       "      <td>&lt;=50K</td>\n",
       "    </tr>\n",
       "    <tr>\n",
       "      <th>2</th>\n",
       "      <td>38</td>\n",
       "      <td>Private</td>\n",
       "      <td>215646</td>\n",
       "      <td>HS-grad</td>\n",
       "      <td>9</td>\n",
       "      <td>Divorced</td>\n",
       "      <td>Handlers-cleaners</td>\n",
       "      <td>Not-in-family</td>\n",
       "      <td>White</td>\n",
       "      <td>Male</td>\n",
       "      <td>0</td>\n",
       "      <td>0</td>\n",
       "      <td>40</td>\n",
       "      <td>United-States</td>\n",
       "      <td>&lt;=50K</td>\n",
       "    </tr>\n",
       "    <tr>\n",
       "      <th>3</th>\n",
       "      <td>53</td>\n",
       "      <td>Private</td>\n",
       "      <td>234721</td>\n",
       "      <td>11th</td>\n",
       "      <td>7</td>\n",
       "      <td>Married-civ-spouse</td>\n",
       "      <td>Handlers-cleaners</td>\n",
       "      <td>Husband</td>\n",
       "      <td>Black</td>\n",
       "      <td>Male</td>\n",
       "      <td>0</td>\n",
       "      <td>0</td>\n",
       "      <td>40</td>\n",
       "      <td>United-States</td>\n",
       "      <td>&lt;=50K</td>\n",
       "    </tr>\n",
       "    <tr>\n",
       "      <th>4</th>\n",
       "      <td>28</td>\n",
       "      <td>Private</td>\n",
       "      <td>338409</td>\n",
       "      <td>Bachelors</td>\n",
       "      <td>13</td>\n",
       "      <td>Married-civ-spouse</td>\n",
       "      <td>Prof-specialty</td>\n",
       "      <td>Wife</td>\n",
       "      <td>Black</td>\n",
       "      <td>Female</td>\n",
       "      <td>0</td>\n",
       "      <td>0</td>\n",
       "      <td>40</td>\n",
       "      <td>Cuba</td>\n",
       "      <td>&lt;=50K</td>\n",
       "    </tr>\n",
       "  </tbody>\n",
       "</table>\n",
       "</div>"
      ],
      "text/plain": [
       "   age         workclass  fnlwgt  education  education.num  \\\n",
       "0   39         State-gov   77516  Bachelors             13   \n",
       "1   50  Self-emp-not-inc   83311  Bachelors             13   \n",
       "2   38           Private  215646    HS-grad              9   \n",
       "3   53           Private  234721       11th              7   \n",
       "4   28           Private  338409  Bachelors             13   \n",
       "\n",
       "       marital.status         occupation   relationship   race     sex  \\\n",
       "0       Never-married       Adm-clerical  Not-in-family  White    Male   \n",
       "1  Married-civ-spouse    Exec-managerial        Husband  White    Male   \n",
       "2            Divorced  Handlers-cleaners  Not-in-family  White    Male   \n",
       "3  Married-civ-spouse  Handlers-cleaners        Husband  Black    Male   \n",
       "4  Married-civ-spouse     Prof-specialty           Wife  Black  Female   \n",
       "\n",
       "   capital.gain  capital.loss  hours.per.week native.country income  \n",
       "0          2174             0              40  United-States  <=50K  \n",
       "1             0             0              13  United-States  <=50K  \n",
       "2             0             0              40  United-States  <=50K  \n",
       "3             0             0              40  United-States  <=50K  \n",
       "4             0             0              40           Cuba  <=50K  "
      ]
     },
     "execution_count": 3,
     "metadata": {},
     "output_type": "execute_result"
    }
   ],
   "source": [
    "#view first few rows\n",
    "df.head()"
   ]
  },
  {
   "cell_type": "code",
   "execution_count": 4,
   "metadata": {},
   "outputs": [
    {
     "data": {
      "text/plain": [
       "(32561, 15)"
      ]
     },
     "execution_count": 4,
     "metadata": {},
     "output_type": "execute_result"
    }
   ],
   "source": [
    "#no. of rows and columns\n",
    "df.shape"
   ]
  },
  {
   "cell_type": "code",
   "execution_count": 5,
   "metadata": {},
   "outputs": [
    {
     "data": {
      "text/html": [
       "<div>\n",
       "<style scoped>\n",
       "    .dataframe tbody tr th:only-of-type {\n",
       "        vertical-align: middle;\n",
       "    }\n",
       "\n",
       "    .dataframe tbody tr th {\n",
       "        vertical-align: top;\n",
       "    }\n",
       "\n",
       "    .dataframe thead th {\n",
       "        text-align: right;\n",
       "    }\n",
       "</style>\n",
       "<table border=\"1\" class=\"dataframe\">\n",
       "  <thead>\n",
       "    <tr style=\"text-align: right;\">\n",
       "      <th></th>\n",
       "      <th>age</th>\n",
       "      <th>fnlwgt</th>\n",
       "      <th>education.num</th>\n",
       "      <th>capital.gain</th>\n",
       "      <th>capital.loss</th>\n",
       "      <th>hours.per.week</th>\n",
       "    </tr>\n",
       "  </thead>\n",
       "  <tbody>\n",
       "    <tr>\n",
       "      <th>count</th>\n",
       "      <td>32561.000000</td>\n",
       "      <td>3.256100e+04</td>\n",
       "      <td>32561.000000</td>\n",
       "      <td>32561.000000</td>\n",
       "      <td>32561.000000</td>\n",
       "      <td>32561.000000</td>\n",
       "    </tr>\n",
       "    <tr>\n",
       "      <th>mean</th>\n",
       "      <td>38.581647</td>\n",
       "      <td>1.897784e+05</td>\n",
       "      <td>10.080679</td>\n",
       "      <td>1077.648844</td>\n",
       "      <td>87.303830</td>\n",
       "      <td>40.437456</td>\n",
       "    </tr>\n",
       "    <tr>\n",
       "      <th>std</th>\n",
       "      <td>13.640433</td>\n",
       "      <td>1.055500e+05</td>\n",
       "      <td>2.572720</td>\n",
       "      <td>7385.292085</td>\n",
       "      <td>402.960219</td>\n",
       "      <td>12.347429</td>\n",
       "    </tr>\n",
       "    <tr>\n",
       "      <th>min</th>\n",
       "      <td>17.000000</td>\n",
       "      <td>1.228500e+04</td>\n",
       "      <td>1.000000</td>\n",
       "      <td>0.000000</td>\n",
       "      <td>0.000000</td>\n",
       "      <td>1.000000</td>\n",
       "    </tr>\n",
       "    <tr>\n",
       "      <th>25%</th>\n",
       "      <td>28.000000</td>\n",
       "      <td>1.178270e+05</td>\n",
       "      <td>9.000000</td>\n",
       "      <td>0.000000</td>\n",
       "      <td>0.000000</td>\n",
       "      <td>40.000000</td>\n",
       "    </tr>\n",
       "    <tr>\n",
       "      <th>50%</th>\n",
       "      <td>37.000000</td>\n",
       "      <td>1.783560e+05</td>\n",
       "      <td>10.000000</td>\n",
       "      <td>0.000000</td>\n",
       "      <td>0.000000</td>\n",
       "      <td>40.000000</td>\n",
       "    </tr>\n",
       "    <tr>\n",
       "      <th>75%</th>\n",
       "      <td>48.000000</td>\n",
       "      <td>2.370510e+05</td>\n",
       "      <td>12.000000</td>\n",
       "      <td>0.000000</td>\n",
       "      <td>0.000000</td>\n",
       "      <td>45.000000</td>\n",
       "    </tr>\n",
       "    <tr>\n",
       "      <th>max</th>\n",
       "      <td>90.000000</td>\n",
       "      <td>1.484705e+06</td>\n",
       "      <td>16.000000</td>\n",
       "      <td>99999.000000</td>\n",
       "      <td>4356.000000</td>\n",
       "      <td>99.000000</td>\n",
       "    </tr>\n",
       "  </tbody>\n",
       "</table>\n",
       "</div>"
      ],
      "text/plain": [
       "                age        fnlwgt  education.num  capital.gain  capital.loss  \\\n",
       "count  32561.000000  3.256100e+04   32561.000000  32561.000000  32561.000000   \n",
       "mean      38.581647  1.897784e+05      10.080679   1077.648844     87.303830   \n",
       "std       13.640433  1.055500e+05       2.572720   7385.292085    402.960219   \n",
       "min       17.000000  1.228500e+04       1.000000      0.000000      0.000000   \n",
       "25%       28.000000  1.178270e+05       9.000000      0.000000      0.000000   \n",
       "50%       37.000000  1.783560e+05      10.000000      0.000000      0.000000   \n",
       "75%       48.000000  2.370510e+05      12.000000      0.000000      0.000000   \n",
       "max       90.000000  1.484705e+06      16.000000  99999.000000   4356.000000   \n",
       "\n",
       "       hours.per.week  \n",
       "count    32561.000000  \n",
       "mean        40.437456  \n",
       "std         12.347429  \n",
       "min          1.000000  \n",
       "25%         40.000000  \n",
       "50%         40.000000  \n",
       "75%         45.000000  \n",
       "max         99.000000  "
      ]
     },
     "execution_count": 5,
     "metadata": {},
     "output_type": "execute_result"
    }
   ],
   "source": [
    "#statistics of dataframe\n",
    "df.describe()"
   ]
  },
  {
   "cell_type": "code",
   "execution_count": 6,
   "metadata": {},
   "outputs": [
    {
     "name": "stdout",
     "output_type": "stream",
     "text": [
      "<class 'pandas.core.frame.DataFrame'>\n",
      "RangeIndex: 32561 entries, 0 to 32560\n",
      "Data columns (total 15 columns):\n",
      " #   Column          Non-Null Count  Dtype \n",
      "---  ------          --------------  ----- \n",
      " 0   age             32561 non-null  int64 \n",
      " 1   workclass       32561 non-null  object\n",
      " 2   fnlwgt          32561 non-null  int64 \n",
      " 3   education       32561 non-null  object\n",
      " 4   education.num   32561 non-null  int64 \n",
      " 5   marital.status  32561 non-null  object\n",
      " 6   occupation      32561 non-null  object\n",
      " 7   relationship    32561 non-null  object\n",
      " 8   race            32561 non-null  object\n",
      " 9   sex             32561 non-null  object\n",
      " 10  capital.gain    32561 non-null  int64 \n",
      " 11  capital.loss    32561 non-null  int64 \n",
      " 12  hours.per.week  32561 non-null  int64 \n",
      " 13  native.country  32561 non-null  object\n",
      " 14  income          32561 non-null  object\n",
      "dtypes: int64(6), object(9)\n",
      "memory usage: 3.7+ MB\n"
     ]
    }
   ],
   "source": [
    "#information such as data type, null values etc\n",
    "df.info()"
   ]
  },
  {
   "cell_type": "code",
   "execution_count": 7,
   "metadata": {},
   "outputs": [],
   "source": [
    "#converting target variable in numerical class\n",
    "from sklearn.preprocessing import LabelEncoder\n",
    "\n",
    "labelEncoder = LabelEncoder()\n",
    "df['income'] = labelEncoder.fit_transform(df['income'])"
   ]
  },
  {
   "cell_type": "markdown",
   "metadata": {},
   "source": [
    "# EXPLORATORY ANALYSIS"
   ]
  },
  {
   "cell_type": "code",
   "execution_count": 8,
   "metadata": {},
   "outputs": [],
   "source": [
    "#importing libraries\n",
    "import matplotlib.pyplot as plt\n",
    "from matplotlib import rcParams\n",
    "import seaborn as sns"
   ]
  },
  {
   "cell_type": "code",
   "execution_count": 9,
   "metadata": {},
   "outputs": [],
   "source": [
    "#Separating categorical and numberical columns\n",
    "cat_col = df.dtypes[df.dtypes == 'object']\n",
    "num_col = df.dtypes[df.dtypes != 'object']"
   ]
  },
  {
   "cell_type": "code",
   "execution_count": 10,
   "metadata": {},
   "outputs": [
    {
     "data": {
      "image/png": "[encoded data removed]",
      "text/plain": [
       "<Figure size 864x432 with 2 Axes>"
      ]
     },
     "metadata": {
      "needs_background": "light"
     },
     "output_type": "display_data"
    }
   ],
   "source": [
    "#correlation matrix\n",
    "fig = plt.figure(figsize = (12,6))\n",
    "sns.heatmap(df[list(num_col.index)].corr(),annot = True,square = True);"
   ]
  },
  {
   "cell_type": "markdown",
   "metadata": {},
   "source": [
    "Strong correlation between Age and Hours per week, education num and hours per week & capital gain and hours per week.\n",
    "\n",
    "Moderate Correlation between capital loss and age & capital loss and hours per week.\n",
    "\n",
    "Low correlation between capital loss and capital gain & fnlwgt with all variables.\n"
   ]
  },
  {
   "cell_type": "code",
   "execution_count": 11,
   "metadata": {},
   "outputs": [
    {
     "name": "stdout",
     "output_type": "stream",
     "text": [
      "Workclass\n",
      "                  total   percent\n",
      "Private           22696  0.697030\n",
      "Self-emp-not-inc   2541  0.078038\n",
      "Local-gov          2093  0.064279\n",
      "?                  1836  0.056386\n",
      "State-gov          1298  0.039864\n",
      "Self-emp-inc       1116  0.034274\n",
      "Federal-gov         960  0.029483\n",
      "Without-pay          14  0.000430\n",
      "Never-worked          7  0.000215\n",
      "\n",
      "\n",
      "Education\n",
      "              total   percent\n",
      "HS-grad       10501  0.322502\n",
      "Some-college   7291  0.223918\n",
      "Bachelors      5355  0.164461\n",
      "Masters        1723  0.052916\n",
      "Assoc-voc      1382  0.042443\n",
      "11th           1175  0.036086\n",
      "Assoc-acdm     1067  0.032769\n",
      "10th            933  0.028654\n",
      "7th-8th         646  0.019840\n",
      "Prof-school     576  0.017690\n",
      "9th             514  0.015786\n",
      "12th            433  0.013298\n",
      "Doctorate       413  0.012684\n",
      "5th-6th         333  0.010227\n",
      "1st-4th         168  0.005160\n",
      "Preschool        51  0.001566\n",
      "\n",
      "\n",
      "Marital.Status\n",
      "                       total   percent\n",
      "Married-civ-spouse     14976  0.459937\n",
      "Never-married          10683  0.328092\n",
      "Divorced                4443  0.136452\n",
      "Separated               1025  0.031479\n",
      "Widowed                  993  0.030497\n",
      "Married-spouse-absent    418  0.012837\n",
      "Married-AF-spouse         23  0.000706\n",
      "\n",
      "\n",
      "Occupation\n",
      "                   total   percent\n",
      "Prof-specialty      4140  0.127146\n",
      "Craft-repair        4099  0.125887\n",
      "Exec-managerial     4066  0.124873\n",
      "Adm-clerical        3770  0.115783\n",
      "Sales               3650  0.112097\n",
      "Other-service       3295  0.101195\n",
      "Machine-op-inspct   2002  0.061485\n",
      "?                   1843  0.056601\n",
      "Transport-moving    1597  0.049046\n",
      "Handlers-cleaners   1370  0.042075\n",
      "Farming-fishing      994  0.030527\n",
      "Tech-support         928  0.028500\n",
      "Protective-serv      649  0.019932\n",
      "Priv-house-serv      149  0.004576\n",
      "Armed-Forces           9  0.000276\n",
      "\n",
      "\n",
      "Relationship\n",
      "                total   percent\n",
      "Husband         13193  0.405178\n",
      "Not-in-family    8305  0.255060\n",
      "Own-child        5068  0.155646\n",
      "Unmarried        3446  0.105832\n",
      "Wife             1568  0.048156\n",
      "Other-relative    981  0.030128\n",
      "\n",
      "\n",
      "Race\n",
      "                    total   percent\n",
      "White               27816  0.854274\n",
      "Black                3124  0.095943\n",
      "Asian-Pac-Islander   1039  0.031909\n",
      "Amer-Indian-Eskimo    311  0.009551\n",
      "Other                 271  0.008323\n",
      "\n",
      "\n",
      "Sex\n",
      "        total   percent\n",
      "Male    21790  0.669205\n",
      "Female  10771  0.330795\n",
      "\n",
      "\n",
      "Native.Country\n",
      "                            total   percent\n",
      "United-States               29170  0.895857\n",
      "Mexico                        643  0.019748\n",
      "?                             583  0.017905\n",
      "Philippines                   198  0.006081\n",
      "Germany                       137  0.004207\n",
      "Canada                        121  0.003716\n",
      "Puerto-Rico                   114  0.003501\n",
      "El-Salvador                   106  0.003255\n",
      "India                         100  0.003071\n",
      "Cuba                           95  0.002918\n",
      "England                        90  0.002764\n",
      "Jamaica                        81  0.002488\n",
      "South                          80  0.002457\n",
      "China                          75  0.002303\n",
      "Italy                          73  0.002242\n",
      "Dominican-Republic             70  0.002150\n",
      "Vietnam                        67  0.002058\n",
      "Guatemala                      64  0.001966\n",
      "Japan                          62  0.001904\n",
      "Poland                         60  0.001843\n",
      "Columbia                       59  0.001812\n",
      "Taiwan                         51  0.001566\n",
      "Haiti                          44  0.001351\n",
      "Iran                           43  0.001321\n",
      "Portugal                       37  0.001136\n",
      "Nicaragua                      34  0.001044\n",
      "Peru                           31  0.000952\n",
      "Greece                         29  0.000891\n",
      "France                         29  0.000891\n",
      "Ecuador                        28  0.000860\n",
      "Ireland                        24  0.000737\n",
      "Hong                           20  0.000614\n",
      "Cambodia                       19  0.000584\n",
      "Trinadad&Tobago                19  0.000584\n",
      "Thailand                       18  0.000553\n",
      "Laos                           18  0.000553\n",
      "Yugoslavia                     16  0.000491\n",
      "Outlying-US(Guam-USVI-etc)     14  0.000430\n",
      "Hungary                        13  0.000399\n",
      "Honduras                       13  0.000399\n",
      "Scotland                       12  0.000369\n",
      "Holand-Netherlands              1  0.000031\n",
      "\n",
      "\n"
     ]
    }
   ],
   "source": [
    "#finding unique values of categorical columns\n",
    "for col in list(cat_col.index):\n",
    "    print(col.title())\n",
    "    total= df[col].value_counts()\n",
    "    percent = df[col].value_counts() / df.shape[0]\n",
    "    df1 = pd.concat([total,percent],keys = ['total','percent'],axis = 1)\n",
    "    print(df1)\n",
    "    print('\\n')"
   ]
  },
  {
   "cell_type": "code",
   "execution_count": 12,
   "metadata": {},
   "outputs": [
    {
     "data": {
      "image/png": "[encoded data removed]",
      "text/plain": [
       "<Figure size 864x432 with 1 Axes>"
      ]
     },
     "metadata": {
      "needs_background": "light"
     },
     "output_type": "display_data"
    }
   ],
   "source": [
    "# plotting income\n",
    "plt.figure(figsize =(12,6));\n",
    "sns.countplot(x = 'income', data = df);\n",
    "plt.xlabel(\"Income\",fontsize = 12);\n",
    "plt.ylabel(\"Frequency\",fontsize = 12);"
   ]
  },
  {
   "cell_type": "markdown",
   "metadata": {},
   "source": [
    "Around 25,000 people earn less than 50k in our dataset."
   ]
  },
  {
   "cell_type": "markdown",
   "metadata": {},
   "source": [
    "### Workclass"
   ]
  },
  {
   "cell_type": "code",
   "execution_count": 13,
   "metadata": {},
   "outputs": [],
   "source": [
    "#Replacing \"?\" values with Mode \n",
    "df[\"workclass\"].replace(\"?\",df[\"workclass\"].mode()[0],inplace = True)"
   ]
  },
  {
   "cell_type": "code",
   "execution_count": 14,
   "metadata": {
    "scrolled": true
   },
   "outputs": [
    {
     "data": {
      "text/plain": [
       "<AxesSubplot:xlabel='workclass', ylabel='count'>"
      ]
     },
     "execution_count": 14,
     "metadata": {},
     "output_type": "execute_result"
    },
    {
     "data": {
      "image/png": "[encoded data removed]",
      "text/plain": [
       "<Figure size 432x288 with 1 Axes>"
      ]
     },
     "metadata": {
      "needs_background": "light"
     },
     "output_type": "display_data"
    }
   ],
   "source": [
    "#rotating x labels\n",
    "plt.xticks(rotation=90)\n",
    "\n",
    "#plotting workclass against income\n",
    "sns.countplot(x = 'workclass', hue = 'income', data = df)"
   ]
  },
  {
   "cell_type": "markdown",
   "metadata": {},
   "source": [
    "More percentage of people in private workclass earn more than 50k than people in other workclass."
   ]
  },
  {
   "cell_type": "markdown",
   "metadata": {},
   "source": [
    "### Education"
   ]
  },
  {
   "cell_type": "markdown",
   "metadata": {},
   "source": [
    "As Education Number and Education are just the same. So, we will remove one of the columns."
   ]
  },
  {
   "cell_type": "code",
   "execution_count": 15,
   "metadata": {},
   "outputs": [],
   "source": [
    "#dropping education number\n",
    "df.drop(['education.num'], axis = 1, inplace = True)"
   ]
  },
  {
   "cell_type": "markdown",
   "metadata": {},
   "source": [
    "We will combine all rows from Preschool to 12th as one class-who have no college/university level education."
   ]
  },
  {
   "cell_type": "code",
   "execution_count": 16,
   "metadata": {},
   "outputs": [],
   "source": [
    "#combining preschool to 12th as one class-school\n",
    "df['education'].replace(['11th', '9th', '7th-8th', '5th-6th', '10th', '1st-4th', 'Preschool', '12th'],\n",
    "                             'School', inplace = True)"
   ]
  },
  {
   "cell_type": "code",
   "execution_count": 17,
   "metadata": {},
   "outputs": [
    {
     "data": {
      "text/plain": [
       "HS-grad         10501\n",
       "Some-college     7291\n",
       "Bachelors        5355\n",
       "School           4253\n",
       "Masters          1723\n",
       "Assoc-voc        1382\n",
       "Assoc-acdm       1067\n",
       "Prof-school       576\n",
       "Doctorate         413\n",
       "Name: education, dtype: int64"
      ]
     },
     "execution_count": 17,
     "metadata": {},
     "output_type": "execute_result"
    }
   ],
   "source": [
    "#checking value counts in education column\n",
    "df['education'].value_counts()"
   ]
  },
  {
   "cell_type": "code",
   "execution_count": 18,
   "metadata": {},
   "outputs": [
    {
     "data": {
      "text/plain": [
       "<AxesSubplot:xlabel='education', ylabel='count'>"
      ]
     },
     "execution_count": 18,
     "metadata": {},
     "output_type": "execute_result"
    },
    {
     "data": {
      "image/png": "[encoded data removed]",
      "text/plain": [
       "<Figure size 432x288 with 1 Axes>"
      ]
     },
     "metadata": {
      "needs_background": "light"
     },
     "output_type": "display_data"
    }
   ],
   "source": [
    "#rotating x labels\n",
    "plt.xticks(rotation=90)\n",
    "\n",
    "#plotting education against income\n",
    "sns.countplot(x = 'education', hue = 'income', data = df)"
   ]
  },
  {
   "cell_type": "markdown",
   "metadata": {},
   "source": [
    " More percentage of people having Bachelors education earn more than 50k."
   ]
  },
  {
   "cell_type": "markdown",
   "metadata": {},
   "source": [
    "### Occupation"
   ]
  },
  {
   "cell_type": "code",
   "execution_count": 19,
   "metadata": {},
   "outputs": [],
   "source": [
    "#Replacing \"?\" values with Mode \n",
    "df[\"occupation\"].replace(\"?\",df[\"occupation\"].mode()[0],inplace = True)"
   ]
  },
  {
   "cell_type": "code",
   "execution_count": 20,
   "metadata": {},
   "outputs": [
    {
     "data": {
      "text/plain": [
       "<AxesSubplot:xlabel='occupation', ylabel='count'>"
      ]
     },
     "execution_count": 20,
     "metadata": {},
     "output_type": "execute_result"
    },
    {
     "data": {
      "image/png": "[encoded data removed]",
      "text/plain": [
       "<Figure size 432x288 with 1 Axes>"
      ]
     },
     "metadata": {
      "needs_background": "light"
     },
     "output_type": "display_data"
    }
   ],
   "source": [
    "#rotating x labels\n",
    "plt.xticks(rotation = 90)\n",
    "\n",
    "#plotting occupation against income\n",
    "sns.countplot(x = 'occupation', hue = 'income', data = df)"
   ]
  },
  {
   "cell_type": "markdown",
   "metadata": {},
   "source": [
    "People having Prof-specialty and Exec-managerial as occupation earn more than 50k, than others."
   ]
  },
  {
   "cell_type": "markdown",
   "metadata": {},
   "source": [
    "### Race "
   ]
  },
  {
   "cell_type": "code",
   "execution_count": 21,
   "metadata": {},
   "outputs": [
    {
     "data": {
      "text/plain": [
       "<AxesSubplot:xlabel='race', ylabel='count'>"
      ]
     },
     "execution_count": 21,
     "metadata": {},
     "output_type": "execute_result"
    },
    {
     "data": {
      "image/png": "[encoded data removed]",
      "text/plain": [
       "<Figure size 432x288 with 1 Axes>"
      ]
     },
     "metadata": {
      "needs_background": "light"
     },
     "output_type": "display_data"
    }
   ],
   "source": [
    "#rotating x labels\n",
    "plt.xticks(rotation=90)\n",
    "\n",
    "#plotting race against income\n",
    "sns.countplot(x = 'race', hue = 'income', data = df)"
   ]
  },
  {
   "cell_type": "markdown",
   "metadata": {},
   "source": [
    "As the proportion of black, asian-pac-islander, amer-indian-eskimo and other is very small, we will combine them in one class"
   ]
  },
  {
   "cell_type": "code",
   "execution_count": 22,
   "metadata": {},
   "outputs": [],
   "source": [
    "#making two classes\n",
    "df['race'].replace(['Black', 'Asian-Pac-Islander', 'Amer-Indian-Eskimo', 'Other'],'Other', inplace = True)"
   ]
  },
  {
   "cell_type": "code",
   "execution_count": 23,
   "metadata": {},
   "outputs": [
    {
     "data": {
      "text/plain": [
       "White    27816\n",
       "Other     4745\n",
       "Name: race, dtype: int64"
      ]
     },
     "execution_count": 23,
     "metadata": {},
     "output_type": "execute_result"
    }
   ],
   "source": [
    "#counting unique values of race\n",
    "df['race'].value_counts()"
   ]
  },
  {
   "cell_type": "code",
   "execution_count": 24,
   "metadata": {},
   "outputs": [
    {
     "data": {
      "text/plain": [
       "<AxesSubplot:xlabel='race', ylabel='count'>"
      ]
     },
     "execution_count": 24,
     "metadata": {},
     "output_type": "execute_result"
    },
    {
     "data": {
      "image/png": "[encoded data removed]",
      "text/plain": [
       "<Figure size 432x288 with 1 Axes>"
      ]
     },
     "metadata": {
      "needs_background": "light"
     },
     "output_type": "display_data"
    }
   ],
   "source": [
    "#again plotting race against income\n",
    "sns.countplot(x = 'race', hue = 'income', data = df)"
   ]
  },
  {
   "cell_type": "markdown",
   "metadata": {},
   "source": [
    "More percentage of white people earn more than 50k."
   ]
  },
  {
   "cell_type": "markdown",
   "metadata": {},
   "source": [
    "### Sex "
   ]
  },
  {
   "cell_type": "code",
   "execution_count": 25,
   "metadata": {},
   "outputs": [
    {
     "data": {
      "text/plain": [
       "<AxesSubplot:xlabel='sex', ylabel='count'>"
      ]
     },
     "execution_count": 25,
     "metadata": {},
     "output_type": "execute_result"
    },
    {
     "data": {
      "image/png": "[encoded data removed]",
      "text/plain": [
       "<Figure size 432x288 with 1 Axes>"
      ]
     },
     "metadata": {
      "needs_background": "light"
     },
     "output_type": "display_data"
    }
   ],
   "source": [
    "#plot sex against income\n",
    "sns.countplot(x = 'sex', hue = 'income', data = df)"
   ]
  },
  {
   "cell_type": "markdown",
   "metadata": {},
   "source": [
    "From above, we can conclude-\n",
    "\n",
    "1) There are more Male than Female members.\n",
    "\n",
    "2) We can see more percentage of Males have an Income of more than $50K than Females."
   ]
  },
  {
   "cell_type": "markdown",
   "metadata": {},
   "source": [
    "### Marital Status "
   ]
  },
  {
   "cell_type": "code",
   "execution_count": 26,
   "metadata": {},
   "outputs": [
    {
     "data": {
      "text/plain": [
       "<AxesSubplot:xlabel='marital.status', ylabel='count'>"
      ]
     },
     "execution_count": 26,
     "metadata": {},
     "output_type": "execute_result"
    },
    {
     "data": {
      "image/png": "[encoded data removed]",
      "text/plain": [
       "<Figure size 432x288 with 1 Axes>"
      ]
     },
     "metadata": {
      "needs_background": "light"
     },
     "output_type": "display_data"
    }
   ],
   "source": [
    "#plot marital status against income\n",
    "plt.xticks(rotation=90)\n",
    "sns.countplot(x = 'marital.status', hue = 'income', data = df)"
   ]
  },
  {
   "cell_type": "markdown",
   "metadata": {},
   "source": [
    "More percentage of Married-civ-spouse people earn more than 50k."
   ]
  },
  {
   "cell_type": "markdown",
   "metadata": {},
   "source": [
    "### Relationship "
   ]
  },
  {
   "cell_type": "code",
   "execution_count": 27,
   "metadata": {},
   "outputs": [
    {
     "data": {
      "text/plain": [
       "<AxesSubplot:xlabel='relationship', ylabel='count'>"
      ]
     },
     "execution_count": 27,
     "metadata": {},
     "output_type": "execute_result"
    },
    {
     "data": {
      "image/png": "[encoded data removed]",
      "text/plain": [
       "<Figure size 432x288 with 1 Axes>"
      ]
     },
     "metadata": {
      "needs_background": "light"
     },
     "output_type": "display_data"
    }
   ],
   "source": [
    "#plot relationship against income\n",
    "sns.countplot(x = 'relationship', hue = 'income', data = df)"
   ]
  },
  {
   "cell_type": "markdown",
   "metadata": {},
   "source": [
    "More percentage of people having relationship as husband earn more than 50k."
   ]
  },
  {
   "cell_type": "markdown",
   "metadata": {},
   "source": [
    "### Country "
   ]
  },
  {
   "cell_type": "code",
   "execution_count": 28,
   "metadata": {},
   "outputs": [],
   "source": [
    "#Replacing \"?\" values with Mode \n",
    "df[\"native.country\"].replace(\"?\",df[\"native.country\"].mode()[0],inplace = True)"
   ]
  },
  {
   "cell_type": "code",
   "execution_count": 29,
   "metadata": {},
   "outputs": [
    {
     "data": {
      "text/plain": [
       "<AxesSubplot:xlabel='count', ylabel='native.country'>"
      ]
     },
     "execution_count": 29,
     "metadata": {},
     "output_type": "execute_result"
    },
    {
     "data": {
      "image/png": "[encoded data removed]",
      "text/plain": [
       "<Figure size 1440x864 with 1 Axes>"
      ]
     },
     "metadata": {
      "needs_background": "light"
     },
     "output_type": "display_data"
    }
   ],
   "source": [
    "#plot country against income\n",
    "plt.figure(figsize = (20, 12))\n",
    "sns.countplot(y = 'native.country', hue = 'income', data = df)"
   ]
  },
  {
   "cell_type": "markdown",
   "metadata": {},
   "source": [
    "The majority of adults are from United States. So, combining in two classes- united states and others.\n"
   ]
  },
  {
   "cell_type": "code",
   "execution_count": 30,
   "metadata": {},
   "outputs": [],
   "source": [
    "#making a list countries of all countries in our dataset\n",
    "countries = np.array(df['native.country'].unique())\n",
    "countries = np.delete(countries, 0)"
   ]
  },
  {
   "cell_type": "code",
   "execution_count": 31,
   "metadata": {},
   "outputs": [],
   "source": [
    "#replacing values with other\n",
    "df['native.country'].replace(countries, 'other', inplace = True)"
   ]
  },
  {
   "cell_type": "code",
   "execution_count": 32,
   "metadata": {},
   "outputs": [
    {
     "data": {
      "text/plain": [
       "<AxesSubplot:xlabel='count', ylabel='native.country'>"
      ]
     },
     "execution_count": 32,
     "metadata": {},
     "output_type": "execute_result"
    },
    {
     "data": {
      "image/png": "[encoded data removed]",
      "text/plain": [
       "<Figure size 432x288 with 1 Axes>"
      ]
     },
     "metadata": {
      "needs_background": "light"
     },
     "output_type": "display_data"
    }
   ],
   "source": [
    "#now plot country against income\n",
    "sns.countplot(y = 'native.country', hue = 'income', data = df)"
   ]
  },
  {
   "cell_type": "markdown",
   "metadata": {},
   "source": [
    "More percentage of people from United States earn more than 50 than others."
   ]
  },
  {
   "cell_type": "markdown",
   "metadata": {},
   "source": [
    "### Age "
   ]
  },
  {
   "cell_type": "code",
   "execution_count": 33,
   "metadata": {},
   "outputs": [
    {
     "name": "stderr",
     "output_type": "stream",
     "text": [
      "/opt/anaconda3/lib/python3.8/site-packages/seaborn/distributions.py:2551: FutureWarning: `distplot` is a deprecated function and will be removed in a future version. Please adapt your code to use either `displot` (a figure-level function with similar flexibility) or `histplot` (an axes-level function for histograms).\n",
      "  warnings.warn(msg, FutureWarning)\n"
     ]
    },
    {
     "data": {
      "text/plain": [
       "<AxesSubplot:xlabel='age', ylabel='Density'>"
      ]
     },
     "execution_count": 33,
     "metadata": {},
     "output_type": "execute_result"
    },
    {
     "data": {
      "image/png": "[encoded data removed]",
      "text/plain": [
       "<Figure size 432x288 with 1 Axes>"
      ]
     },
     "metadata": {
      "needs_background": "light"
     },
     "output_type": "display_data"
    }
   ],
   "source": [
    "sns.distplot(df[\"age\"])"
   ]
  },
  {
   "cell_type": "markdown",
   "metadata": {},
   "source": [
    "People are from age group of 18 to 50. We can make separate bins of age as follows-\n",
    "\n",
    "0-25: Young\n",
    "\n",
    "25-50: Adult\n",
    "\n",
    "50-100: Old"
   ]
  },
  {
   "cell_type": "code",
   "execution_count": 34,
   "metadata": {},
   "outputs": [],
   "source": [
    "#making separate bins\n",
    "df['age'] = pd.cut(df['age'], bins = [0, 25, 50, 100], labels = ['Young', 'Adult', 'Old'])"
   ]
  },
  {
   "cell_type": "code",
   "execution_count": 35,
   "metadata": {},
   "outputs": [
    {
     "data": {
      "text/plain": [
       "<AxesSubplot:xlabel='age', ylabel='count'>"
      ]
     },
     "execution_count": 35,
     "metadata": {},
     "output_type": "execute_result"
    },
    {
     "data": {
      "image/png": "[encoded data removed]",
      "text/plain": [
       "<Figure size 432x288 with 1 Axes>"
      ]
     },
     "metadata": {
      "needs_background": "light"
     },
     "output_type": "display_data"
    }
   ],
   "source": [
    "#plot age against income\n",
    "sns.countplot(x = 'age', hue = 'income', data = df)"
   ]
  },
  {
   "cell_type": "markdown",
   "metadata": {},
   "source": [
    "There are relatively less Young people who have an income more than $50K.\n",
    "\n"
   ]
  },
  {
   "cell_type": "markdown",
   "metadata": {},
   "source": [
    "### Capital Gain and Capital Loss "
   ]
  },
  {
   "cell_type": "code",
   "execution_count": 36,
   "metadata": {},
   "outputs": [
    {
     "name": "stderr",
     "output_type": "stream",
     "text": [
      "/opt/anaconda3/lib/python3.8/site-packages/seaborn/distributions.py:2551: FutureWarning: `distplot` is a deprecated function and will be removed in a future version. Please adapt your code to use either `displot` (a figure-level function with similar flexibility) or `histplot` (an axes-level function for histograms).\n",
      "  warnings.warn(msg, FutureWarning)\n"
     ]
    },
    {
     "data": {
      "text/plain": [
       "<AxesSubplot:xlabel='capital.loss', ylabel='Density'>"
      ]
     },
     "execution_count": 36,
     "metadata": {},
     "output_type": "execute_result"
    },
    {
     "data": {
      "image/png": "[encoded data removed]",
      "text/plain": [
       "<Figure size 432x288 with 1 Axes>"
      ]
     },
     "metadata": {
      "needs_background": "light"
     },
     "output_type": "display_data"
    }
   ],
   "source": [
    "#plotting capital loss\n",
    "sns.distplot(df[\"capital.loss\"])"
   ]
  },
  {
   "cell_type": "markdown",
   "metadata": {},
   "source": [
    "It is highy skewed towards left."
   ]
  },
  {
   "cell_type": "code",
   "execution_count": 37,
   "metadata": {},
   "outputs": [
    {
     "name": "stderr",
     "output_type": "stream",
     "text": [
      "/opt/anaconda3/lib/python3.8/site-packages/seaborn/distributions.py:2551: FutureWarning: `distplot` is a deprecated function and will be removed in a future version. Please adapt your code to use either `displot` (a figure-level function with similar flexibility) or `histplot` (an axes-level function for histograms).\n",
      "  warnings.warn(msg, FutureWarning)\n"
     ]
    },
    {
     "data": {
      "text/plain": [
       "<AxesSubplot:xlabel='capital.gain', ylabel='Density'>"
      ]
     },
     "execution_count": 37,
     "metadata": {},
     "output_type": "execute_result"
    },
    {
     "data": {
      "image/png": "[encoded data removed]",
      "text/plain": [
       "<Figure size 432x288 with 1 Axes>"
      ]
     },
     "metadata": {
      "needs_background": "light"
     },
     "output_type": "display_data"
    }
   ],
   "source": [
    "#plotting capital gain\n",
    "sns.distplot(df[\"capital.gain\"])"
   ]
  },
  {
   "cell_type": "markdown",
   "metadata": {},
   "source": [
    "It is also highy skewed towards left."
   ]
  },
  {
   "cell_type": "markdown",
   "metadata": {},
   "source": [
    "Because of high skewness, scaling is required for better performance of our models. Aso, Capital difference give more relevant information than capital gain and capital loss.So,We will use capital difference and will drop the two respective columns."
   ]
  },
  {
   "cell_type": "code",
   "execution_count": 38,
   "metadata": {},
   "outputs": [],
   "source": [
    "#new column as capital difference\n",
    "df['capital.diff'] = df['capital.gain'] - df['capital.loss']\n",
    "\n",
    "#drop capital gain and capital loss column\n",
    "df.drop(['capital.gain'], axis = 1, inplace = True)\n",
    "df.drop(['capital.loss'], axis = 1, inplace = True)"
   ]
  },
  {
   "cell_type": "code",
   "execution_count": 39,
   "metadata": {},
   "outputs": [],
   "source": [
    "#making bins in capital difference column\n",
    "df['capital.diff'] = pd.cut(df['capital.diff'], bins = [-5000, 5000, 100000], labels = ['Minor', 'Major'])"
   ]
  },
  {
   "cell_type": "code",
   "execution_count": 40,
   "metadata": {},
   "outputs": [
    {
     "data": {
      "text/plain": [
       "<AxesSubplot:xlabel='capital.diff', ylabel='count'>"
      ]
     },
     "execution_count": 40,
     "metadata": {},
     "output_type": "execute_result"
    },
    {
     "data": {
      "image/png": "[encoded data removed]",
      "text/plain": [
       "<Figure size 432x288 with 1 Axes>"
      ]
     },
     "metadata": {
      "needs_background": "light"
     },
     "output_type": "display_data"
    }
   ],
   "source": [
    "#plot capital difference against income\n",
    "sns.countplot(x = 'capital.diff', hue = 'income', data = df)"
   ]
  },
  {
   "cell_type": "markdown",
   "metadata": {},
   "source": [
    "As we can see, minor have more income greater than 50k, than major. So, people who have large Capital Gain compared to Capital Loss have Income more than $50K."
   ]
  },
  {
   "cell_type": "markdown",
   "metadata": {},
   "source": [
    "### Hours per week "
   ]
  },
  {
   "cell_type": "code",
   "execution_count": 41,
   "metadata": {},
   "outputs": [
    {
     "name": "stderr",
     "output_type": "stream",
     "text": [
      "/opt/anaconda3/lib/python3.8/site-packages/seaborn/distributions.py:2551: FutureWarning: `distplot` is a deprecated function and will be removed in a future version. Please adapt your code to use either `displot` (a figure-level function with similar flexibility) or `histplot` (an axes-level function for histograms).\n",
      "  warnings.warn(msg, FutureWarning)\n"
     ]
    },
    {
     "data": {
      "text/plain": [
       "<AxesSubplot:xlabel='hours.per.week', ylabel='Density'>"
      ]
     },
     "execution_count": 41,
     "metadata": {},
     "output_type": "execute_result"
    },
    {
     "data": {
      "image/png": "[encoded data removed]",
      "text/plain": [
       "<Figure size 432x288 with 1 Axes>"
      ]
     },
     "metadata": {
      "needs_background": "light"
     },
     "output_type": "display_data"
    }
   ],
   "source": [
    "sns.distplot(df[\"hours.per.week\"])"
   ]
  },
  {
   "cell_type": "markdown",
   "metadata": {},
   "source": [
    "People are generally working for 30 hours to 40 hours per week.This can be split into bins as follwing-\n",
    "\n",
    "0-30 hours- Less Hours\n",
    "\n",
    "30-40 hours- Normal Hours\n",
    "\n",
    "40-100- Extra Hours"
   ]
  },
  {
   "cell_type": "code",
   "execution_count": 42,
   "metadata": {},
   "outputs": [],
   "source": [
    "#creating bins\n",
    "df['hours.per.week'] = pd.cut(df['hours.per.week'], \n",
    "                                   bins = [0, 30, 40, 100], \n",
    "                                   labels = ['Less Hours', 'Normal Hours', 'Extra Hours'])"
   ]
  },
  {
   "cell_type": "code",
   "execution_count": 43,
   "metadata": {},
   "outputs": [
    {
     "data": {
      "text/plain": [
       "<AxesSubplot:xlabel='hours.per.week', ylabel='count'>"
      ]
     },
     "execution_count": 43,
     "metadata": {},
     "output_type": "execute_result"
    },
    {
     "data": {
      "image/png": "[encoded data removed]",
      "text/plain": [
       "<Figure size 432x288 with 1 Axes>"
      ]
     },
     "metadata": {
      "needs_background": "light"
     },
     "output_type": "display_data"
    }
   ],
   "source": [
    "#plot hours per week against income\n",
    "sns.countplot(x = 'hours.per.week', hue = 'income', data = df)"
   ]
  },
  {
   "cell_type": "markdown",
   "metadata": {},
   "source": [
    "People working extra hours have income more than 50 k, than others."
   ]
  },
  {
   "cell_type": "markdown",
   "metadata": {},
   "source": [
    "### Final Weight\n"
   ]
  },
  {
   "cell_type": "code",
   "execution_count": 44,
   "metadata": {},
   "outputs": [
    {
     "name": "stderr",
     "output_type": "stream",
     "text": [
      "/opt/anaconda3/lib/python3.8/site-packages/seaborn/distributions.py:2551: FutureWarning: `distplot` is a deprecated function and will be removed in a future version. Please adapt your code to use either `displot` (a figure-level function with similar flexibility) or `histplot` (an axes-level function for histograms).\n",
      "  warnings.warn(msg, FutureWarning)\n"
     ]
    },
    {
     "data": {
      "text/plain": [
       "<AxesSubplot:xlabel='fnlwgt', ylabel='Density'>"
      ]
     },
     "execution_count": 44,
     "metadata": {},
     "output_type": "execute_result"
    },
    {
     "data": {
      "image/png": "[encoded data removed]",
      "text/plain": [
       "<Figure size 432x288 with 1 Axes>"
      ]
     },
     "metadata": {
      "needs_background": "light"
     },
     "output_type": "display_data"
    }
   ],
   "source": [
    "sns.distplot(df[\"fnlwgt\"])"
   ]
  },
  {
   "cell_type": "markdown",
   "metadata": {},
   "source": [
    "As, we can see it is highly left skewed, we will take log of the variable to correct the skewness."
   ]
  },
  {
   "cell_type": "code",
   "execution_count": 45,
   "metadata": {},
   "outputs": [],
   "source": [
    "df['log_fnlwgt']=np.log(df['fnlwgt'])"
   ]
  },
  {
   "cell_type": "code",
   "execution_count": 46,
   "metadata": {},
   "outputs": [
    {
     "name": "stderr",
     "output_type": "stream",
     "text": [
      "/opt/anaconda3/lib/python3.8/site-packages/seaborn/distributions.py:2551: FutureWarning: `distplot` is a deprecated function and will be removed in a future version. Please adapt your code to use either `displot` (a figure-level function with similar flexibility) or `histplot` (an axes-level function for histograms).\n",
      "  warnings.warn(msg, FutureWarning)\n"
     ]
    },
    {
     "data": {
      "text/plain": [
       "<AxesSubplot:xlabel='log_fnlwgt', ylabel='Density'>"
      ]
     },
     "execution_count": 46,
     "metadata": {},
     "output_type": "execute_result"
    },
    {
     "data": {
      "image/png": "[encoded data removed]",
      "text/plain": [
       "<Figure size 432x288 with 1 Axes>"
      ]
     },
     "metadata": {
      "needs_background": "light"
     },
     "output_type": "display_data"
    }
   ],
   "source": [
    "sns.distplot(df[\"log_fnlwgt\"])"
   ]
  },
  {
   "cell_type": "markdown",
   "metadata": {},
   "source": [
    "Now, log_fnlwgt anf fnlwgt,both depict same info, so we will drop fnlwgt column."
   ]
  },
  {
   "cell_type": "code",
   "execution_count": 47,
   "metadata": {},
   "outputs": [],
   "source": [
    "#drop fnlwgt\n",
    "df.drop(['fnlwgt'], axis = 1, inplace = True)"
   ]
  },
  {
   "cell_type": "markdown",
   "metadata": {},
   "source": [
    "Now, Making bins of log of final weight as-\n",
    "\n",
    "0-11- Less Weight\n",
    "\n",
    "11-12- Normal Weight\n",
    "\n",
    "12-20- Extra Weight"
   ]
  },
  {
   "cell_type": "code",
   "execution_count": 48,
   "metadata": {},
   "outputs": [],
   "source": [
    "#amking bins\n",
    "df['log_fnlwgt'] = pd.cut(df['log_fnlwgt'], \n",
    "                                   bins = [0, 11, 12, 20], \n",
    "                                   labels = ['Less weight', 'Normal weight', 'Extra weight'])"
   ]
  },
  {
   "cell_type": "code",
   "execution_count": 49,
   "metadata": {},
   "outputs": [
    {
     "data": {
      "text/plain": [
       "<AxesSubplot:xlabel='log_fnlwgt', ylabel='count'>"
      ]
     },
     "execution_count": 49,
     "metadata": {},
     "output_type": "execute_result"
    },
    {
     "data": {
      "image/png": "[encoded data removed]",
      "text/plain": [
       "<Figure size 432x288 with 1 Axes>"
      ]
     },
     "metadata": {
      "needs_background": "light"
     },
     "output_type": "display_data"
    }
   ],
   "source": [
    "#plotting log_fnlwgt against income\n",
    "sns.countplot(x = 'log_fnlwgt', hue = 'income', data = df)"
   ]
  },
  {
   "cell_type": "markdown",
   "metadata": {},
   "source": [
    "People having extra weight earn more than 50k, than other people."
   ]
  },
  {
   "cell_type": "markdown",
   "metadata": {},
   "source": [
    "Now, seeing the first few rows of our dataset."
   ]
  },
  {
   "cell_type": "code",
   "execution_count": 50,
   "metadata": {},
   "outputs": [
    {
     "data": {
      "text/html": [
       "<div>\n",
       "<style scoped>\n",
       "    .dataframe tbody tr th:only-of-type {\n",
       "        vertical-align: middle;\n",
       "    }\n",
       "\n",
       "    .dataframe tbody tr th {\n",
       "        vertical-align: top;\n",
       "    }\n",
       "\n",
       "    .dataframe thead th {\n",
       "        text-align: right;\n",
       "    }\n",
       "</style>\n",
       "<table border=\"1\" class=\"dataframe\">\n",
       "  <thead>\n",
       "    <tr style=\"text-align: right;\">\n",
       "      <th></th>\n",
       "      <th>age</th>\n",
       "      <th>workclass</th>\n",
       "      <th>education</th>\n",
       "      <th>marital.status</th>\n",
       "      <th>occupation</th>\n",
       "      <th>relationship</th>\n",
       "      <th>race</th>\n",
       "      <th>sex</th>\n",
       "      <th>hours.per.week</th>\n",
       "      <th>native.country</th>\n",
       "      <th>income</th>\n",
       "      <th>capital.diff</th>\n",
       "      <th>log_fnlwgt</th>\n",
       "    </tr>\n",
       "  </thead>\n",
       "  <tbody>\n",
       "    <tr>\n",
       "      <th>0</th>\n",
       "      <td>Adult</td>\n",
       "      <td>State-gov</td>\n",
       "      <td>Bachelors</td>\n",
       "      <td>Never-married</td>\n",
       "      <td>Adm-clerical</td>\n",
       "      <td>Not-in-family</td>\n",
       "      <td>White</td>\n",
       "      <td>Male</td>\n",
       "      <td>Normal Hours</td>\n",
       "      <td>United-States</td>\n",
       "      <td>0</td>\n",
       "      <td>Minor</td>\n",
       "      <td>Normal weight</td>\n",
       "    </tr>\n",
       "    <tr>\n",
       "      <th>1</th>\n",
       "      <td>Adult</td>\n",
       "      <td>Self-emp-not-inc</td>\n",
       "      <td>Bachelors</td>\n",
       "      <td>Married-civ-spouse</td>\n",
       "      <td>Exec-managerial</td>\n",
       "      <td>Husband</td>\n",
       "      <td>White</td>\n",
       "      <td>Male</td>\n",
       "      <td>Less Hours</td>\n",
       "      <td>United-States</td>\n",
       "      <td>0</td>\n",
       "      <td>Minor</td>\n",
       "      <td>Normal weight</td>\n",
       "    </tr>\n",
       "    <tr>\n",
       "      <th>2</th>\n",
       "      <td>Adult</td>\n",
       "      <td>Private</td>\n",
       "      <td>HS-grad</td>\n",
       "      <td>Divorced</td>\n",
       "      <td>Handlers-cleaners</td>\n",
       "      <td>Not-in-family</td>\n",
       "      <td>White</td>\n",
       "      <td>Male</td>\n",
       "      <td>Normal Hours</td>\n",
       "      <td>United-States</td>\n",
       "      <td>0</td>\n",
       "      <td>Minor</td>\n",
       "      <td>Extra weight</td>\n",
       "    </tr>\n",
       "    <tr>\n",
       "      <th>3</th>\n",
       "      <td>Old</td>\n",
       "      <td>Private</td>\n",
       "      <td>School</td>\n",
       "      <td>Married-civ-spouse</td>\n",
       "      <td>Handlers-cleaners</td>\n",
       "      <td>Husband</td>\n",
       "      <td>Other</td>\n",
       "      <td>Male</td>\n",
       "      <td>Normal Hours</td>\n",
       "      <td>United-States</td>\n",
       "      <td>0</td>\n",
       "      <td>Minor</td>\n",
       "      <td>Extra weight</td>\n",
       "    </tr>\n",
       "    <tr>\n",
       "      <th>4</th>\n",
       "      <td>Adult</td>\n",
       "      <td>Private</td>\n",
       "      <td>Bachelors</td>\n",
       "      <td>Married-civ-spouse</td>\n",
       "      <td>Prof-specialty</td>\n",
       "      <td>Wife</td>\n",
       "      <td>Other</td>\n",
       "      <td>Female</td>\n",
       "      <td>Normal Hours</td>\n",
       "      <td>other</td>\n",
       "      <td>0</td>\n",
       "      <td>Minor</td>\n",
       "      <td>Extra weight</td>\n",
       "    </tr>\n",
       "  </tbody>\n",
       "</table>\n",
       "</div>"
      ],
      "text/plain": [
       "     age         workclass  education      marital.status         occupation  \\\n",
       "0  Adult         State-gov  Bachelors       Never-married       Adm-clerical   \n",
       "1  Adult  Self-emp-not-inc  Bachelors  Married-civ-spouse    Exec-managerial   \n",
       "2  Adult           Private    HS-grad            Divorced  Handlers-cleaners   \n",
       "3    Old           Private     School  Married-civ-spouse  Handlers-cleaners   \n",
       "4  Adult           Private  Bachelors  Married-civ-spouse     Prof-specialty   \n",
       "\n",
       "    relationship   race     sex hours.per.week native.country  income  \\\n",
       "0  Not-in-family  White    Male   Normal Hours  United-States       0   \n",
       "1        Husband  White    Male     Less Hours  United-States       0   \n",
       "2  Not-in-family  White    Male   Normal Hours  United-States       0   \n",
       "3        Husband  Other    Male   Normal Hours  United-States       0   \n",
       "4           Wife  Other  Female   Normal Hours          other       0   \n",
       "\n",
       "  capital.diff     log_fnlwgt  \n",
       "0        Minor  Normal weight  \n",
       "1        Minor  Normal weight  \n",
       "2        Minor   Extra weight  \n",
       "3        Minor   Extra weight  \n",
       "4        Minor   Extra weight  "
      ]
     },
     "execution_count": 50,
     "metadata": {},
     "output_type": "execute_result"
    }
   ],
   "source": [
    "#first few rows of dataset\n",
    "df.head()"
   ]
  },
  {
   "cell_type": "code",
   "execution_count": 51,
   "metadata": {},
   "outputs": [
    {
     "data": {
      "text/plain": [
       "age               0\n",
       "workclass         0\n",
       "education         0\n",
       "marital.status    0\n",
       "occupation        0\n",
       "relationship      0\n",
       "race              0\n",
       "sex               0\n",
       "hours.per.week    0\n",
       "native.country    0\n",
       "income            0\n",
       "capital.diff      0\n",
       "log_fnlwgt        0\n",
       "dtype: int64"
      ]
     },
     "execution_count": 51,
     "metadata": {},
     "output_type": "execute_result"
    }
   ],
   "source": [
    "#checking missing values\n",
    "df.isnull().sum()"
   ]
  },
  {
   "cell_type": "markdown",
   "metadata": {},
   "source": [
    "No missing values."
   ]
  },
  {
   "cell_type": "markdown",
   "metadata": {},
   "source": [
    "# DATA MANIPULATION "
   ]
  },
  {
   "cell_type": "code",
   "execution_count": 52,
   "metadata": {},
   "outputs": [],
   "source": [
    "#setting independent and dependent variables\n",
    "y = df['income']\n",
    "X = df.drop(['income'], axis = 1)"
   ]
  },
  {
   "cell_type": "markdown",
   "metadata": {},
   "source": [
    "As for modelling we need numerical data, so converting categorical data into numerical data using label encoding."
   ]
  },
  {
   "cell_type": "code",
   "execution_count": 53,
   "metadata": {},
   "outputs": [],
   "source": [
    "#using label encoding\n",
    "X = pd.get_dummies(X)"
   ]
  },
  {
   "cell_type": "code",
   "execution_count": 54,
   "metadata": {},
   "outputs": [],
   "source": [
    "from sklearn import preprocessing\n",
    "X = preprocessing.scale(X)"
   ]
  },
  {
   "cell_type": "markdown",
   "metadata": {},
   "source": [
    "Now, we will split data into test and train data set using train_test_split"
   ]
  },
  {
   "cell_type": "code",
   "execution_count": 55,
   "metadata": {},
   "outputs": [],
   "source": [
    "#splitting data into train and test data set\n",
    "from sklearn.model_selection import train_test_split\n",
    "X_train, X_test, y_train, y_test = train_test_split(X, y, test_size = 0.30, random_state = 0)"
   ]
  },
  {
   "cell_type": "markdown",
   "metadata": {},
   "source": [
    "# MACHINE LEARNING MODELLING"
   ]
  },
  {
   "cell_type": "code",
   "execution_count": 56,
   "metadata": {},
   "outputs": [],
   "source": [
    "#creating a list of accuracy scores\n",
    "accuracies=[]"
   ]
  },
  {
   "cell_type": "markdown",
   "metadata": {},
   "source": [
    "### Logistic Regression "
   ]
  },
  {
   "cell_type": "code",
   "execution_count": 57,
   "metadata": {},
   "outputs": [],
   "source": [
    "#import necessary library\n",
    "from sklearn.linear_model import LogisticRegression\n",
    "from sklearn.metrics import accuracy_score\n",
    "from sklearn.model_selection import GridSearchCV"
   ]
  },
  {
   "cell_type": "code",
   "execution_count": 58,
   "metadata": {},
   "outputs": [],
   "source": [
    "#create an instance of linear regression\n",
    "log = LogisticRegression()"
   ]
  },
  {
   "cell_type": "code",
   "execution_count": 59,
   "metadata": {},
   "outputs": [],
   "source": [
    "#finding best parameters\n",
    "param_grid = [\n",
    "    {'C': [0.001,0.01,0.05,0.1,1,10,100]},\n",
    "]\n",
    "grid_search = GridSearchCV(log, param_grid, cv=5, scoring='neg_mean_squared_error')"
   ]
  },
  {
   "cell_type": "code",
   "execution_count": 60,
   "metadata": {},
   "outputs": [
    {
     "data": {
      "text/plain": [
       "GridSearchCV(cv=5, estimator=LogisticRegression(),\n",
       "             param_grid=[{'C': [0.001, 0.01, 0.05, 0.1, 1, 10, 100]}],\n",
       "             scoring='neg_mean_squared_error')"
      ]
     },
     "execution_count": 60,
     "metadata": {},
     "output_type": "execute_result"
    }
   ],
   "source": [
    "#fitting on training data\n",
    "grid_search.fit(X_train, y_train)"
   ]
  },
  {
   "cell_type": "code",
   "execution_count": 61,
   "metadata": {},
   "outputs": [
    {
     "data": {
      "text/plain": [
       "{'C': 0.01}"
      ]
     },
     "execution_count": 61,
     "metadata": {},
     "output_type": "execute_result"
    }
   ],
   "source": [
    "#selecting best parameters\n",
    "grid_search.best_params_"
   ]
  },
  {
   "cell_type": "code",
   "execution_count": 62,
   "metadata": {},
   "outputs": [],
   "source": [
    "#creating instance using best parameters\n",
    "log_model = LogisticRegression(C=0.01, random_state=0)"
   ]
  },
  {
   "cell_type": "code",
   "execution_count": 63,
   "metadata": {},
   "outputs": [
    {
     "data": {
      "text/plain": [
       "LogisticRegression(C=0.01, random_state=0)"
      ]
     },
     "execution_count": 63,
     "metadata": {},
     "output_type": "execute_result"
    }
   ],
   "source": [
    "#fitting model on train data\n",
    "log_model.fit(X_train, y_train)"
   ]
  },
  {
   "cell_type": "code",
   "execution_count": 64,
   "metadata": {},
   "outputs": [],
   "source": [
    "#making predictions\n",
    "predictions = log_model.predict(X_test)"
   ]
  },
  {
   "cell_type": "code",
   "execution_count": 65,
   "metadata": {},
   "outputs": [
    {
     "name": "stdout",
     "output_type": "stream",
     "text": [
      "Logistic accuracy is 0.85\n"
     ]
    }
   ],
   "source": [
    "#calculating accuracy on test data\n",
    "print(\"Logistic accuracy is %2.2f\" % accuracy_score(y_test, log_model.predict(X_test)))"
   ]
  },
  {
   "cell_type": "code",
   "execution_count": 66,
   "metadata": {},
   "outputs": [
    {
     "name": "stdout",
     "output_type": "stream",
     "text": [
      "              precision    recall  f1-score   support\n",
      "\n",
      "           0       0.88      0.93      0.90      7407\n",
      "           1       0.74      0.58      0.65      2362\n",
      "\n",
      "    accuracy                           0.85      9769\n",
      "   macro avg       0.81      0.76      0.78      9769\n",
      "weighted avg       0.84      0.85      0.84      9769\n",
      "\n"
     ]
    }
   ],
   "source": [
    "#using classification report to measure performance\n",
    "from sklearn.metrics import classification_report\n",
    "print(classification_report(y_test, predictions))"
   ]
  },
  {
   "cell_type": "code",
   "execution_count": 67,
   "metadata": {},
   "outputs": [
    {
     "name": "stdout",
     "output_type": "stream",
     "text": [
      "[[6911  496]\n",
      " [ 982 1380]]\n"
     ]
    }
   ],
   "source": [
    "#making confusion matrix\n",
    "from sklearn.metrics import confusion_matrix,accuracy_score\n",
    "print(confusion_matrix(y_test, predictions))"
   ]
  },
  {
   "cell_type": "code",
   "execution_count": 68,
   "metadata": {},
   "outputs": [
    {
     "data": {
      "image/png": "[encoded data removed]",
      "text/plain": [
       "<Figure size 432x288 with 2 Axes>"
      ]
     },
     "metadata": {
      "needs_background": "light"
     },
     "output_type": "display_data"
    }
   ],
   "source": [
    "#plotting confusion matrix\n",
    "from sklearn.metrics import plot_confusion_matrix\n",
    "plot_confusion_matrix(log_model, X_test, y_test)  \n",
    "plt.show()"
   ]
  },
  {
   "cell_type": "code",
   "execution_count": 69,
   "metadata": {},
   "outputs": [],
   "source": [
    "#accuracy score \n",
    "acc=accuracy_score(y_test, predictions)*100\n",
    "\n",
    "#adding to the list accuracies\n",
    "accuracies.append(acc)"
   ]
  },
  {
   "cell_type": "markdown",
   "metadata": {},
   "source": [
    "### Decision Tree "
   ]
  },
  {
   "cell_type": "code",
   "execution_count": 70,
   "metadata": {},
   "outputs": [],
   "source": [
    "#importing necessary library\n",
    "from sklearn.tree import DecisionTreeClassifier\n"
   ]
  },
  {
   "cell_type": "code",
   "execution_count": 71,
   "metadata": {},
   "outputs": [],
   "source": [
    "#Create Decision Tree classifer object\n",
    "dt = DecisionTreeClassifier(criterion='entropy',min_samples_split=8,max_depth=10)"
   ]
  },
  {
   "cell_type": "code",
   "execution_count": 72,
   "metadata": {},
   "outputs": [],
   "source": [
    "#finding best parameters\n",
    "param_grid = {'max_leaf_nodes': list(range(2, 100)), 'min_samples_split': [2, 3, 4]}\n",
    "grid_search = GridSearchCV(dt, param_grid, refit = True, verbose = 3) "
   ]
  },
  {
   "cell_type": "code",
   "execution_count": 73,
   "metadata": {},
   "outputs": [
    {
     "name": "stdout",
     "output_type": "stream",
     "text": [
      "Fitting 5 folds for each of 294 candidates, totalling 1470 fits\n",
      "[CV] max_leaf_nodes=2, min_samples_split=2 ...........................\n",
      "[CV]  max_leaf_nodes=2, min_samples_split=2, score=0.760, total=   0.1s\n",
      "[CV] max_leaf_nodes=2, min_samples_split=2 ...........................\n",
      "[CV]  max_leaf_nodes=2, min_samples_split=2, score=0.760, total=   0.0s\n",
      "[CV] max_leaf_nodes=2, min_samples_split=2 ...........................\n",
      "[CV]  max_leaf_nodes=2, min_samples_split=2, score=0.760, total=   0.0s\n",
      "[CV] max_leaf_nodes=2, min_samples_split=2 ...........................\n",
      "[CV]  max_leaf_nodes=2, min_samples_split=2, score=0.760, total=   0.0s"
     ]
    },
    {
     "name": "stderr",
     "output_type": "stream",
     "text": [
      "[Parallel(n_jobs=1)]: Using backend SequentialBackend with 1 concurrent workers.\n",
      "[Parallel(n_jobs=1)]: Done   1 out of   1 | elapsed:    0.1s remaining:    0.0s\n",
      "[Parallel(n_jobs=1)]: Done   2 out of   2 | elapsed:    0.1s remaining:    0.0s\n"
     ]
    },
    {
     "name": "stdout",
     "output_type": "stream",
     "text": [
      "\n",
      "[CV] max_leaf_nodes=2, min_samples_split=2 ...........................\n",
      "[CV]  max_leaf_nodes=2, min_samples_split=2, score=0.760, total=   0.1s\n",
      "[CV] max_leaf_nodes=2, min_samples_split=3 ...........................\n",
      "[CV]  max_leaf_nodes=2, min_samples_split=3, score=0.760, total=   0.1s\n",
      "[CV] max_leaf_nodes=2, min_samples_split=3 ...........................\n",
      "[CV]  max_leaf_nodes=2, min_samples_split=3, score=0.760, total=   0.0s\n",
      "[CV] max_leaf_nodes=2, min_samples_split=3 ...........................\n",
      "[CV]  max_leaf_nodes=2, min_samples_split=3, score=0.760, total=   0.0s\n",
      "[CV] max_leaf_nodes=2, min_samples_split=3 ...........................\n",
      "[CV]  max_leaf_nodes=2, min_samples_split=3, score=0.760, total=   0.0s\n",
      "[CV] max_leaf_nodes=2, min_samples_split=3 ...........................\n",
      "[CV]  max_leaf_nodes=2, min_samples_split=3, score=0.760, total=   0.0s\n",
      "[CV] max_leaf_nodes=2, min_samples_split=4 ...........................\n",
      "[CV]  max_leaf_nodes=2, min_samples_split=4, score=0.760, total=   0.0s\n",
      "[CV] max_leaf_nodes=2, min_samples_split=4 ...........................\n",
      "[CV]  max_leaf_nodes=2, min_samples_split=4, score=0.760, total=   0.0s\n",
      "[CV] max_leaf_nodes=2, min_samples_split=4 ...........................\n",
      "[CV]  max_leaf_nodes=2, min_samples_split=4, score=0.760, total=   0.0s\n",
      "[CV] max_leaf_nodes=2, min_samples_split=4 ...........................\n",
      "[CV]  max_leaf_nodes=2, min_samples_split=4, score=0.760, total=   0.0s\n",
      "[CV] max_leaf_nodes=2, min_samples_split=4 ...........................\n",
      "[CV]  max_leaf_nodes=2, min_samples_split=4, score=0.760, total=   0.0s\n",
      "[CV] max_leaf_nodes=3, min_samples_split=2 ...........................\n",
      "[CV]  max_leaf_nodes=3, min_samples_split=2, score=0.794, total=   0.0s\n",
      "[CV] max_leaf_nodes=3, min_samples_split=2 ...........................\n",
      "[CV]  max_leaf_nodes=3, min_samples_split=2, score=0.798, total=   0.0s\n",
      "[CV] max_leaf_nodes=3, min_samples_split=2 ...........................\n",
      "[CV]  max_leaf_nodes=3, min_samples_split=2, score=0.788, total=   0.1s\n",
      "[CV] max_leaf_nodes=3, min_samples_split=2 ...........................\n",
      "[CV]  max_leaf_nodes=3, min_samples_split=2, score=0.794, total=   0.0s\n",
      "[CV] max_leaf_nodes=3, min_samples_split=2 ...........................\n",
      "[CV]  max_leaf_nodes=3, min_samples_split=2, score=0.794, total=   0.0s\n",
      "[CV] max_leaf_nodes=3, min_samples_split=3 ...........................\n",
      "[CV]  max_leaf_nodes=3, min_samples_split=3, score=0.794, total=   0.1s\n",
      "[CV] max_leaf_nodes=3, min_samples_split=3 ...........................\n",
      "[CV]  max_leaf_nodes=3, min_samples_split=3, score=0.798, total=   0.1s\n",
      "[CV] max_leaf_nodes=3, min_samples_split=3 ...........................\n",
      "[CV]  max_leaf_nodes=3, min_samples_split=3, score=0.788, total=   0.1s\n",
      "[CV] max_leaf_nodes=3, min_samples_split=3 ...........................\n",
      "[CV]  max_leaf_nodes=3, min_samples_split=3, score=0.794, total=   0.1s\n",
      "[CV] max_leaf_nodes=3, min_samples_split=3 ...........................\n",
      "[CV]  max_leaf_nodes=3, min_samples_split=3, score=0.794, total=   0.1s\n",
      "[CV] max_leaf_nodes=3, min_samples_split=4 ...........................\n",
      "[CV]  max_leaf_nodes=3, min_samples_split=4, score=0.794, total=   0.1s\n",
      "[CV] max_leaf_nodes=3, min_samples_split=4 ...........................\n",
      "[CV]  max_leaf_nodes=3, min_samples_split=4, score=0.798, total=   0.0s\n",
      "[CV] max_leaf_nodes=3, min_samples_split=4 ...........................\n",
      "[CV]  max_leaf_nodes=3, min_samples_split=4, score=0.788, total=   0.0s\n",
      "[CV] max_leaf_nodes=3, min_samples_split=4 ...........................\n",
      "[CV]  max_leaf_nodes=3, min_samples_split=4, score=0.794, total=   0.0s\n",
      "[CV] max_leaf_nodes=3, min_samples_split=4 ...........................\n",
      "[CV]  max_leaf_nodes=3, min_samples_split=4, score=0.794, total=   0.1s\n",
      "[CV] max_leaf_nodes=4, min_samples_split=2 ...........................\n",
      "[CV]  max_leaf_nodes=4, min_samples_split=2, score=0.801, total=   0.1s\n",
      "[CV] max_leaf_nodes=4, min_samples_split=2 ...........................\n",
      "[CV]  max_leaf_nodes=4, min_samples_split=2, score=0.803, total=   0.0s\n",
      "[CV] max_leaf_nodes=4, min_samples_split=2 ...........................\n",
      "[CV]  max_leaf_nodes=4, min_samples_split=2, score=0.795, total=   0.1s\n",
      "[CV] max_leaf_nodes=4, min_samples_split=2 ...........................\n",
      "[CV]  max_leaf_nodes=4, min_samples_split=2, score=0.803, total=   0.1s\n",
      "[CV] max_leaf_nodes=4, min_samples_split=2 ...........................\n",
      "[CV]  max_leaf_nodes=4, min_samples_split=2, score=0.800, total=   0.1s\n",
      "[CV] max_leaf_nodes=4, min_samples_split=3 ...........................\n",
      "[CV]  max_leaf_nodes=4, min_samples_split=3, score=0.801, total=   0.0s\n",
      "[CV] max_leaf_nodes=4, min_samples_split=3 ...........................\n",
      "[CV]  max_leaf_nodes=4, min_samples_split=3, score=0.803, total=   0.1s\n",
      "[CV] max_leaf_nodes=4, min_samples_split=3 ...........................\n",
      "[CV]  max_leaf_nodes=4, min_samples_split=3, score=0.795, total=   0.1s\n",
      "[CV] max_leaf_nodes=4, min_samples_split=3 ...........................\n",
      "[CV]  max_leaf_nodes=4, min_samples_split=3, score=0.803, total=   0.1s\n",
      "[CV] max_leaf_nodes=4, min_samples_split=3 ...........................\n",
      "[CV]  max_leaf_nodes=4, min_samples_split=3, score=0.800, total=   0.1s\n",
      "[CV] max_leaf_nodes=4, min_samples_split=4 ...........................\n",
      "[CV]  max_leaf_nodes=4, min_samples_split=4, score=0.801, total=   0.1s\n",
      "[CV] max_leaf_nodes=4, min_samples_split=4 ...........................\n",
      "[CV]  max_leaf_nodes=4, min_samples_split=4, score=0.803, total=   0.1s\n",
      "[CV] max_leaf_nodes=4, min_samples_split=4 ...........................\n",
      "[CV]  max_leaf_nodes=4, min_samples_split=4, score=0.795, total=   0.1s\n",
      "[CV] max_leaf_nodes=4, min_samples_split=4 ...........................\n",
      "[CV]  max_leaf_nodes=4, min_samples_split=4, score=0.803, total=   0.1s\n",
      "[CV] max_leaf_nodes=4, min_samples_split=4 ...........................\n",
      "[CV]  max_leaf_nodes=4, min_samples_split=4, score=0.800, total=   0.1s\n",
      "[CV] max_leaf_nodes=5, min_samples_split=2 ...........................\n",
      "[CV]  max_leaf_nodes=5, min_samples_split=2, score=0.801, total=   0.1s\n",
      "[CV] max_leaf_nodes=5, min_samples_split=2 ...........................\n",
      "[CV]  max_leaf_nodes=5, min_samples_split=2, score=0.803, total=   0.2s\n",
      "[CV] max_leaf_nodes=5, min_samples_split=2 ...........................\n",
      "[CV]  max_leaf_nodes=5, min_samples_split=2, score=0.795, total=   0.2s\n",
      "[CV] max_leaf_nodes=5, min_samples_split=2 ...........................\n",
      "[CV]  max_leaf_nodes=5, min_samples_split=2, score=0.803, total=   0.1s\n",
      "[CV] max_leaf_nodes=5, min_samples_split=2 ...........................\n",
      "[CV]  max_leaf_nodes=5, min_samples_split=2, score=0.800, total=   0.2s\n",
      "[CV] max_leaf_nodes=5, min_samples_split=3 ...........................\n",
      "[CV]  max_leaf_nodes=5, min_samples_split=3, score=0.801, total=   0.2s\n",
      "[CV] max_leaf_nodes=5, min_samples_split=3 ...........................\n",
      "[CV]  max_leaf_nodes=5, min_samples_split=3, score=0.803, total=   0.2s\n",
      "[CV] max_leaf_nodes=5, min_samples_split=3 ...........................\n",
      "[CV]  max_leaf_nodes=5, min_samples_split=3, score=0.795, total=   0.1s\n",
      "[CV] max_leaf_nodes=5, min_samples_split=3 ...........................\n",
      "[CV]  max_leaf_nodes=5, min_samples_split=3, score=0.803, total=   0.1s\n",
      "[CV] max_leaf_nodes=5, min_samples_split=3 ...........................\n",
      "[CV]  max_leaf_nodes=5, min_samples_split=3, score=0.800, total=   0.2s\n",
      "[CV] max_leaf_nodes=5, min_samples_split=4 ...........................\n",
      "[CV]  max_leaf_nodes=5, min_samples_split=4, score=0.801, total=   0.1s\n",
      "[CV] max_leaf_nodes=5, min_samples_split=4 ...........................\n",
      "[CV]  max_leaf_nodes=5, min_samples_split=4, score=0.803, total=   0.1s\n",
      "[CV] max_leaf_nodes=5, min_samples_split=4 ...........................\n",
      "[CV]  max_leaf_nodes=5, min_samples_split=4, score=0.795, total=   0.1s\n",
      "[CV] max_leaf_nodes=5, min_samples_split=4 ...........................\n",
      "[CV]  max_leaf_nodes=5, min_samples_split=4, score=0.803, total=   0.1s\n",
      "[CV] max_leaf_nodes=5, min_samples_split=4 ...........................\n",
      "[CV]  max_leaf_nodes=5, min_samples_split=4, score=0.800, total=   0.1s\n",
      "[CV] max_leaf_nodes=6, min_samples_split=2 ...........................\n",
      "[CV]  max_leaf_nodes=6, min_samples_split=2, score=0.826, total=   0.1s\n",
      "[CV] max_leaf_nodes=6, min_samples_split=2 ...........................\n"
     ]
    },
    {
     "name": "stdout",
     "output_type": "stream",
     "text": [
      "[CV]  max_leaf_nodes=6, min_samples_split=2, score=0.823, total=   0.2s\n",
      "[CV] max_leaf_nodes=6, min_samples_split=2 ...........................\n",
      "[CV]  max_leaf_nodes=6, min_samples_split=2, score=0.812, total=   0.1s\n",
      "[CV] max_leaf_nodes=6, min_samples_split=2 ...........................\n",
      "[CV]  max_leaf_nodes=6, min_samples_split=2, score=0.822, total=   0.1s\n",
      "[CV] max_leaf_nodes=6, min_samples_split=2 ...........................\n",
      "[CV]  max_leaf_nodes=6, min_samples_split=2, score=0.815, total=   0.2s\n",
      "[CV] max_leaf_nodes=6, min_samples_split=3 ...........................\n",
      "[CV]  max_leaf_nodes=6, min_samples_split=3, score=0.826, total=   0.1s\n",
      "[CV] max_leaf_nodes=6, min_samples_split=3 ...........................\n",
      "[CV]  max_leaf_nodes=6, min_samples_split=3, score=0.823, total=   0.1s\n",
      "[CV] max_leaf_nodes=6, min_samples_split=3 ...........................\n",
      "[CV]  max_leaf_nodes=6, min_samples_split=3, score=0.812, total=   0.1s\n",
      "[CV] max_leaf_nodes=6, min_samples_split=3 ...........................\n",
      "[CV]  max_leaf_nodes=6, min_samples_split=3, score=0.822, total=   0.1s\n",
      "[CV] max_leaf_nodes=6, min_samples_split=3 ...........................\n",
      "[CV]  max_leaf_nodes=6, min_samples_split=3, score=0.815, total=   0.1s\n",
      "[CV] max_leaf_nodes=6, min_samples_split=4 ...........................\n",
      "[CV]  max_leaf_nodes=6, min_samples_split=4, score=0.826, total=   0.1s\n",
      "[CV] max_leaf_nodes=6, min_samples_split=4 ...........................\n",
      "[CV]  max_leaf_nodes=6, min_samples_split=4, score=0.823, total=   0.1s\n",
      "[CV] max_leaf_nodes=6, min_samples_split=4 ...........................\n",
      "[CV]  max_leaf_nodes=6, min_samples_split=4, score=0.812, total=   0.1s\n",
      "[CV] max_leaf_nodes=6, min_samples_split=4 ...........................\n",
      "[CV]  max_leaf_nodes=6, min_samples_split=4, score=0.822, total=   0.1s\n",
      "[CV] max_leaf_nodes=6, min_samples_split=4 ...........................\n",
      "[CV]  max_leaf_nodes=6, min_samples_split=4, score=0.815, total=   0.1s\n",
      "[CV] max_leaf_nodes=7, min_samples_split=2 ...........................\n",
      "[CV]  max_leaf_nodes=7, min_samples_split=2, score=0.826, total=   0.1s\n",
      "[CV] max_leaf_nodes=7, min_samples_split=2 ...........................\n",
      "[CV]  max_leaf_nodes=7, min_samples_split=2, score=0.823, total=   0.2s\n",
      "[CV] max_leaf_nodes=7, min_samples_split=2 ...........................\n",
      "[CV]  max_leaf_nodes=7, min_samples_split=2, score=0.812, total=   0.2s\n",
      "[CV] max_leaf_nodes=7, min_samples_split=2 ...........................\n",
      "[CV]  max_leaf_nodes=7, min_samples_split=2, score=0.822, total=   0.2s\n",
      "[CV] max_leaf_nodes=7, min_samples_split=2 ...........................\n",
      "[CV]  max_leaf_nodes=7, min_samples_split=2, score=0.815, total=   0.1s\n",
      "[CV] max_leaf_nodes=7, min_samples_split=3 ...........................\n",
      "[CV]  max_leaf_nodes=7, min_samples_split=3, score=0.826, total=   0.1s\n",
      "[CV] max_leaf_nodes=7, min_samples_split=3 ...........................\n",
      "[CV]  max_leaf_nodes=7, min_samples_split=3, score=0.823, total=   0.1s\n",
      "[CV] max_leaf_nodes=7, min_samples_split=3 ...........................\n",
      "[CV]  max_leaf_nodes=7, min_samples_split=3, score=0.812, total=   0.1s\n",
      "[CV] max_leaf_nodes=7, min_samples_split=3 ...........................\n",
      "[CV]  max_leaf_nodes=7, min_samples_split=3, score=0.822, total=   0.1s\n",
      "[CV] max_leaf_nodes=7, min_samples_split=3 ...........................\n",
      "[CV]  max_leaf_nodes=7, min_samples_split=3, score=0.815, total=   0.1s\n",
      "[CV] max_leaf_nodes=7, min_samples_split=4 ...........................\n",
      "[CV]  max_leaf_nodes=7, min_samples_split=4, score=0.826, total=   0.1s\n",
      "[CV] max_leaf_nodes=7, min_samples_split=4 ...........................\n",
      "[CV]  max_leaf_nodes=7, min_samples_split=4, score=0.823, total=   0.1s\n",
      "[CV] max_leaf_nodes=7, min_samples_split=4 ...........................\n",
      "[CV]  max_leaf_nodes=7, min_samples_split=4, score=0.812, total=   0.1s\n",
      "[CV] max_leaf_nodes=7, min_samples_split=4 ...........................\n",
      "[CV]  max_leaf_nodes=7, min_samples_split=4, score=0.822, total=   0.1s\n",
      "[CV] max_leaf_nodes=7, min_samples_split=4 ...........................\n",
      "[CV]  max_leaf_nodes=7, min_samples_split=4, score=0.815, total=   0.1s\n",
      "[CV] max_leaf_nodes=8, min_samples_split=2 ...........................\n",
      "[CV]  max_leaf_nodes=8, min_samples_split=2, score=0.843, total=   0.1s\n",
      "[CV] max_leaf_nodes=8, min_samples_split=2 ...........................\n",
      "[CV]  max_leaf_nodes=8, min_samples_split=2, score=0.838, total=   0.1s\n",
      "[CV] max_leaf_nodes=8, min_samples_split=2 ...........................\n",
      "[CV]  max_leaf_nodes=8, min_samples_split=2, score=0.825, total=   0.1s\n",
      "[CV] max_leaf_nodes=8, min_samples_split=2 ...........................\n",
      "[CV]  max_leaf_nodes=8, min_samples_split=2, score=0.842, total=   0.1s\n",
      "[CV] max_leaf_nodes=8, min_samples_split=2 ...........................\n",
      "[CV]  max_leaf_nodes=8, min_samples_split=2, score=0.830, total=   0.1s\n",
      "[CV] max_leaf_nodes=8, min_samples_split=3 ...........................\n",
      "[CV]  max_leaf_nodes=8, min_samples_split=3, score=0.843, total=   0.1s\n",
      "[CV] max_leaf_nodes=8, min_samples_split=3 ...........................\n",
      "[CV]  max_leaf_nodes=8, min_samples_split=3, score=0.838, total=   0.1s\n",
      "[CV] max_leaf_nodes=8, min_samples_split=3 ...........................\n",
      "[CV]  max_leaf_nodes=8, min_samples_split=3, score=0.825, total=   0.1s\n",
      "[CV] max_leaf_nodes=8, min_samples_split=3 ...........................\n",
      "[CV]  max_leaf_nodes=8, min_samples_split=3, score=0.842, total=   0.1s\n",
      "[CV] max_leaf_nodes=8, min_samples_split=3 ...........................\n",
      "[CV]  max_leaf_nodes=8, min_samples_split=3, score=0.830, total=   0.1s\n",
      "[CV] max_leaf_nodes=8, min_samples_split=4 ...........................\n",
      "[CV]  max_leaf_nodes=8, min_samples_split=4, score=0.843, total=   0.1s\n",
      "[CV] max_leaf_nodes=8, min_samples_split=4 ...........................\n",
      "[CV]  max_leaf_nodes=8, min_samples_split=4, score=0.838, total=   0.1s\n",
      "[CV] max_leaf_nodes=8, min_samples_split=4 ...........................\n",
      "[CV]  max_leaf_nodes=8, min_samples_split=4, score=0.825, total=   0.1s\n",
      "[CV] max_leaf_nodes=8, min_samples_split=4 ...........................\n",
      "[CV]  max_leaf_nodes=8, min_samples_split=4, score=0.842, total=   0.1s\n",
      "[CV] max_leaf_nodes=8, min_samples_split=4 ...........................\n",
      "[CV]  max_leaf_nodes=8, min_samples_split=4, score=0.830, total=   0.1s\n",
      "[CV] max_leaf_nodes=9, min_samples_split=2 ...........................\n",
      "[CV]  max_leaf_nodes=9, min_samples_split=2, score=0.843, total=   0.1s\n",
      "[CV] max_leaf_nodes=9, min_samples_split=2 ...........................\n",
      "[CV]  max_leaf_nodes=9, min_samples_split=2, score=0.838, total=   0.1s\n",
      "[CV] max_leaf_nodes=9, min_samples_split=2 ...........................\n",
      "[CV]  max_leaf_nodes=9, min_samples_split=2, score=0.825, total=   0.1s\n",
      "[CV] max_leaf_nodes=9, min_samples_split=2 ...........................\n",
      "[CV]  max_leaf_nodes=9, min_samples_split=2, score=0.842, total=   0.1s\n",
      "[CV] max_leaf_nodes=9, min_samples_split=2 ...........................\n",
      "[CV]  max_leaf_nodes=9, min_samples_split=2, score=0.830, total=   0.1s\n",
      "[CV] max_leaf_nodes=9, min_samples_split=3 ...........................\n",
      "[CV]  max_leaf_nodes=9, min_samples_split=3, score=0.843, total=   0.1s\n",
      "[CV] max_leaf_nodes=9, min_samples_split=3 ...........................\n",
      "[CV]  max_leaf_nodes=9, min_samples_split=3, score=0.838, total=   0.1s\n",
      "[CV] max_leaf_nodes=9, min_samples_split=3 ...........................\n",
      "[CV]  max_leaf_nodes=9, min_samples_split=3, score=0.825, total=   0.1s\n",
      "[CV] max_leaf_nodes=9, min_samples_split=3 ...........................\n",
      "[CV]  max_leaf_nodes=9, min_samples_split=3, score=0.842, total=   0.1s\n",
      "[CV] max_leaf_nodes=9, min_samples_split=3 ...........................\n",
      "[CV]  max_leaf_nodes=9, min_samples_split=3, score=0.830, total=   0.1s\n",
      "[CV] max_leaf_nodes=9, min_samples_split=4 ...........................\n",
      "[CV]  max_leaf_nodes=9, min_samples_split=4, score=0.843, total=   0.1s\n",
      "[CV] max_leaf_nodes=9, min_samples_split=4 ...........................\n",
      "[CV]  max_leaf_nodes=9, min_samples_split=4, score=0.838, total=   0.1s\n",
      "[CV] max_leaf_nodes=9, min_samples_split=4 ...........................\n",
      "[CV]  max_leaf_nodes=9, min_samples_split=4, score=0.825, total=   0.1s\n",
      "[CV] max_leaf_nodes=9, min_samples_split=4 ...........................\n",
      "[CV]  max_leaf_nodes=9, min_samples_split=4, score=0.842, total=   0.1s\n",
      "[CV] max_leaf_nodes=9, min_samples_split=4 ...........................\n",
      "[CV]  max_leaf_nodes=9, min_samples_split=4, score=0.830, total=   0.1s\n",
      "[CV] max_leaf_nodes=10, min_samples_split=2 ..........................\n"
     ]
    },
    {
     "name": "stdout",
     "output_type": "stream",
     "text": [
      "[CV]  max_leaf_nodes=10, min_samples_split=2, score=0.842, total=   0.1s\n",
      "[CV] max_leaf_nodes=10, min_samples_split=2 ..........................\n",
      "[CV]  max_leaf_nodes=10, min_samples_split=2, score=0.838, total=   0.1s\n",
      "[CV] max_leaf_nodes=10, min_samples_split=2 ..........................\n",
      "[CV]  max_leaf_nodes=10, min_samples_split=2, score=0.830, total=   0.1s\n",
      "[CV] max_leaf_nodes=10, min_samples_split=2 ..........................\n",
      "[CV]  max_leaf_nodes=10, min_samples_split=2, score=0.842, total=   0.1s\n",
      "[CV] max_leaf_nodes=10, min_samples_split=2 ..........................\n",
      "[CV]  max_leaf_nodes=10, min_samples_split=2, score=0.830, total=   0.1s\n",
      "[CV] max_leaf_nodes=10, min_samples_split=3 ..........................\n",
      "[CV]  max_leaf_nodes=10, min_samples_split=3, score=0.842, total=   0.1s\n",
      "[CV] max_leaf_nodes=10, min_samples_split=3 ..........................\n",
      "[CV]  max_leaf_nodes=10, min_samples_split=3, score=0.838, total=   0.1s\n",
      "[CV] max_leaf_nodes=10, min_samples_split=3 ..........................\n",
      "[CV]  max_leaf_nodes=10, min_samples_split=3, score=0.830, total=   0.1s\n",
      "[CV] max_leaf_nodes=10, min_samples_split=3 ..........................\n",
      "[CV]  max_leaf_nodes=10, min_samples_split=3, score=0.842, total=   0.1s\n",
      "[CV] max_leaf_nodes=10, min_samples_split=3 ..........................\n",
      "[CV]  max_leaf_nodes=10, min_samples_split=3, score=0.830, total=   0.1s\n",
      "[CV] max_leaf_nodes=10, min_samples_split=4 ..........................\n",
      "[CV]  max_leaf_nodes=10, min_samples_split=4, score=0.842, total=   0.1s\n",
      "[CV] max_leaf_nodes=10, min_samples_split=4 ..........................\n",
      "[CV]  max_leaf_nodes=10, min_samples_split=4, score=0.838, total=   0.1s\n",
      "[CV] max_leaf_nodes=10, min_samples_split=4 ..........................\n",
      "[CV]  max_leaf_nodes=10, min_samples_split=4, score=0.830, total=   0.1s\n",
      "[CV] max_leaf_nodes=10, min_samples_split=4 ..........................\n",
      "[CV]  max_leaf_nodes=10, min_samples_split=4, score=0.842, total=   0.1s\n",
      "[CV] max_leaf_nodes=10, min_samples_split=4 ..........................\n",
      "[CV]  max_leaf_nodes=10, min_samples_split=4, score=0.830, total=   0.1s\n",
      "[CV] max_leaf_nodes=11, min_samples_split=2 ..........................\n",
      "[CV]  max_leaf_nodes=11, min_samples_split=2, score=0.842, total=   0.1s\n",
      "[CV] max_leaf_nodes=11, min_samples_split=2 ..........................\n",
      "[CV]  max_leaf_nodes=11, min_samples_split=2, score=0.838, total=   0.1s\n",
      "[CV] max_leaf_nodes=11, min_samples_split=2 ..........................\n",
      "[CV]  max_leaf_nodes=11, min_samples_split=2, score=0.833, total=   0.1s\n",
      "[CV] max_leaf_nodes=11, min_samples_split=2 ..........................\n",
      "[CV]  max_leaf_nodes=11, min_samples_split=2, score=0.846, total=   0.1s\n",
      "[CV] max_leaf_nodes=11, min_samples_split=2 ..........................\n",
      "[CV]  max_leaf_nodes=11, min_samples_split=2, score=0.830, total=   0.1s\n",
      "[CV] max_leaf_nodes=11, min_samples_split=3 ..........................\n",
      "[CV]  max_leaf_nodes=11, min_samples_split=3, score=0.842, total=   0.1s\n",
      "[CV] max_leaf_nodes=11, min_samples_split=3 ..........................\n",
      "[CV]  max_leaf_nodes=11, min_samples_split=3, score=0.838, total=   0.1s\n",
      "[CV] max_leaf_nodes=11, min_samples_split=3 ..........................\n",
      "[CV]  max_leaf_nodes=11, min_samples_split=3, score=0.833, total=   0.1s\n",
      "[CV] max_leaf_nodes=11, min_samples_split=3 ..........................\n",
      "[CV]  max_leaf_nodes=11, min_samples_split=3, score=0.846, total=   0.1s\n",
      "[CV] max_leaf_nodes=11, min_samples_split=3 ..........................\n",
      "[CV]  max_leaf_nodes=11, min_samples_split=3, score=0.830, total=   0.1s\n",
      "[CV] max_leaf_nodes=11, min_samples_split=4 ..........................\n",
      "[CV]  max_leaf_nodes=11, min_samples_split=4, score=0.842, total=   0.1s\n",
      "[CV] max_leaf_nodes=11, min_samples_split=4 ..........................\n",
      "[CV]  max_leaf_nodes=11, min_samples_split=4, score=0.838, total=   0.1s\n",
      "[CV] max_leaf_nodes=11, min_samples_split=4 ..........................\n",
      "[CV]  max_leaf_nodes=11, min_samples_split=4, score=0.833, total=   0.1s\n",
      "[CV] max_leaf_nodes=11, min_samples_split=4 ..........................\n",
      "[CV]  max_leaf_nodes=11, min_samples_split=4, score=0.846, total=   0.1s\n",
      "[CV] max_leaf_nodes=11, min_samples_split=4 ..........................\n",
      "[CV]  max_leaf_nodes=11, min_samples_split=4, score=0.830, total=   0.1s\n",
      "[CV] max_leaf_nodes=12, min_samples_split=2 ..........................\n",
      "[CV]  max_leaf_nodes=12, min_samples_split=2, score=0.842, total=   0.1s\n",
      "[CV] max_leaf_nodes=12, min_samples_split=2 ..........................\n",
      "[CV]  max_leaf_nodes=12, min_samples_split=2, score=0.838, total=   0.1s\n",
      "[CV] max_leaf_nodes=12, min_samples_split=2 ..........................\n",
      "[CV]  max_leaf_nodes=12, min_samples_split=2, score=0.833, total=   0.1s\n",
      "[CV] max_leaf_nodes=12, min_samples_split=2 ..........................\n",
      "[CV]  max_leaf_nodes=12, min_samples_split=2, score=0.848, total=   0.1s\n",
      "[CV] max_leaf_nodes=12, min_samples_split=2 ..........................\n",
      "[CV]  max_leaf_nodes=12, min_samples_split=2, score=0.834, total=   0.1s\n",
      "[CV] max_leaf_nodes=12, min_samples_split=3 ..........................\n",
      "[CV]  max_leaf_nodes=12, min_samples_split=3, score=0.842, total=   0.1s\n",
      "[CV] max_leaf_nodes=12, min_samples_split=3 ..........................\n",
      "[CV]  max_leaf_nodes=12, min_samples_split=3, score=0.838, total=   0.1s\n",
      "[CV] max_leaf_nodes=12, min_samples_split=3 ..........................\n",
      "[CV]  max_leaf_nodes=12, min_samples_split=3, score=0.833, total=   0.1s\n",
      "[CV] max_leaf_nodes=12, min_samples_split=3 ..........................\n",
      "[CV]  max_leaf_nodes=12, min_samples_split=3, score=0.848, total=   0.1s\n",
      "[CV] max_leaf_nodes=12, min_samples_split=3 ..........................\n",
      "[CV]  max_leaf_nodes=12, min_samples_split=3, score=0.834, total=   0.1s\n",
      "[CV] max_leaf_nodes=12, min_samples_split=4 ..........................\n",
      "[CV]  max_leaf_nodes=12, min_samples_split=4, score=0.842, total=   0.1s\n",
      "[CV] max_leaf_nodes=12, min_samples_split=4 ..........................\n",
      "[CV]  max_leaf_nodes=12, min_samples_split=4, score=0.838, total=   0.1s\n",
      "[CV] max_leaf_nodes=12, min_samples_split=4 ..........................\n",
      "[CV]  max_leaf_nodes=12, min_samples_split=4, score=0.833, total=   0.1s\n",
      "[CV] max_leaf_nodes=12, min_samples_split=4 ..........................\n",
      "[CV]  max_leaf_nodes=12, min_samples_split=4, score=0.848, total=   0.1s\n",
      "[CV] max_leaf_nodes=12, min_samples_split=4 ..........................\n",
      "[CV]  max_leaf_nodes=12, min_samples_split=4, score=0.834, total=   0.1s\n",
      "[CV] max_leaf_nodes=13, min_samples_split=2 ..........................\n",
      "[CV]  max_leaf_nodes=13, min_samples_split=2, score=0.845, total=   0.1s\n",
      "[CV] max_leaf_nodes=13, min_samples_split=2 ..........................\n",
      "[CV]  max_leaf_nodes=13, min_samples_split=2, score=0.838, total=   0.1s\n",
      "[CV] max_leaf_nodes=13, min_samples_split=2 ..........................\n",
      "[CV]  max_leaf_nodes=13, min_samples_split=2, score=0.833, total=   0.1s\n",
      "[CV] max_leaf_nodes=13, min_samples_split=2 ..........................\n",
      "[CV]  max_leaf_nodes=13, min_samples_split=2, score=0.847, total=   0.1s\n",
      "[CV] max_leaf_nodes=13, min_samples_split=2 ..........................\n",
      "[CV]  max_leaf_nodes=13, min_samples_split=2, score=0.834, total=   0.1s\n",
      "[CV] max_leaf_nodes=13, min_samples_split=3 ..........................\n",
      "[CV]  max_leaf_nodes=13, min_samples_split=3, score=0.845, total=   0.1s\n",
      "[CV] max_leaf_nodes=13, min_samples_split=3 ..........................\n",
      "[CV]  max_leaf_nodes=13, min_samples_split=3, score=0.838, total=   0.1s\n",
      "[CV] max_leaf_nodes=13, min_samples_split=3 ..........................\n",
      "[CV]  max_leaf_nodes=13, min_samples_split=3, score=0.833, total=   0.1s\n",
      "[CV] max_leaf_nodes=13, min_samples_split=3 ..........................\n",
      "[CV]  max_leaf_nodes=13, min_samples_split=3, score=0.847, total=   0.1s\n",
      "[CV] max_leaf_nodes=13, min_samples_split=3 ..........................\n",
      "[CV]  max_leaf_nodes=13, min_samples_split=3, score=0.834, total=   0.1s\n",
      "[CV] max_leaf_nodes=13, min_samples_split=4 ..........................\n",
      "[CV]  max_leaf_nodes=13, min_samples_split=4, score=0.845, total=   0.1s\n",
      "[CV] max_leaf_nodes=13, min_samples_split=4 ..........................\n",
      "[CV]  max_leaf_nodes=13, min_samples_split=4, score=0.838, total=   0.1s\n",
      "[CV] max_leaf_nodes=13, min_samples_split=4 ..........................\n",
      "[CV]  max_leaf_nodes=13, min_samples_split=4, score=0.833, total=   0.1s\n",
      "[CV] max_leaf_nodes=13, min_samples_split=4 ..........................\n"
     ]
    },
    {
     "name": "stdout",
     "output_type": "stream",
     "text": [
      "[CV]  max_leaf_nodes=13, min_samples_split=4, score=0.847, total=   0.1s\n",
      "[CV] max_leaf_nodes=13, min_samples_split=4 ..........................\n",
      "[CV]  max_leaf_nodes=13, min_samples_split=4, score=0.834, total=   0.1s\n",
      "[CV] max_leaf_nodes=14, min_samples_split=2 ..........................\n",
      "[CV]  max_leaf_nodes=14, min_samples_split=2, score=0.845, total=   0.1s\n",
      "[CV] max_leaf_nodes=14, min_samples_split=2 ..........................\n",
      "[CV]  max_leaf_nodes=14, min_samples_split=2, score=0.838, total=   0.1s\n",
      "[CV] max_leaf_nodes=14, min_samples_split=2 ..........................\n",
      "[CV]  max_leaf_nodes=14, min_samples_split=2, score=0.834, total=   0.1s\n",
      "[CV] max_leaf_nodes=14, min_samples_split=2 ..........................\n",
      "[CV]  max_leaf_nodes=14, min_samples_split=2, score=0.847, total=   0.1s\n",
      "[CV] max_leaf_nodes=14, min_samples_split=2 ..........................\n",
      "[CV]  max_leaf_nodes=14, min_samples_split=2, score=0.836, total=   0.1s\n",
      "[CV] max_leaf_nodes=14, min_samples_split=3 ..........................\n",
      "[CV]  max_leaf_nodes=14, min_samples_split=3, score=0.845, total=   0.1s\n",
      "[CV] max_leaf_nodes=14, min_samples_split=3 ..........................\n",
      "[CV]  max_leaf_nodes=14, min_samples_split=3, score=0.838, total=   0.1s\n",
      "[CV] max_leaf_nodes=14, min_samples_split=3 ..........................\n",
      "[CV]  max_leaf_nodes=14, min_samples_split=3, score=0.834, total=   0.1s\n",
      "[CV] max_leaf_nodes=14, min_samples_split=3 ..........................\n",
      "[CV]  max_leaf_nodes=14, min_samples_split=3, score=0.847, total=   0.1s\n",
      "[CV] max_leaf_nodes=14, min_samples_split=3 ..........................\n",
      "[CV]  max_leaf_nodes=14, min_samples_split=3, score=0.836, total=   0.1s\n",
      "[CV] max_leaf_nodes=14, min_samples_split=4 ..........................\n",
      "[CV]  max_leaf_nodes=14, min_samples_split=4, score=0.845, total=   0.1s\n",
      "[CV] max_leaf_nodes=14, min_samples_split=4 ..........................\n",
      "[CV]  max_leaf_nodes=14, min_samples_split=4, score=0.838, total=   0.1s\n",
      "[CV] max_leaf_nodes=14, min_samples_split=4 ..........................\n",
      "[CV]  max_leaf_nodes=14, min_samples_split=4, score=0.834, total=   0.1s\n",
      "[CV] max_leaf_nodes=14, min_samples_split=4 ..........................\n",
      "[CV]  max_leaf_nodes=14, min_samples_split=4, score=0.847, total=   0.1s\n",
      "[CV] max_leaf_nodes=14, min_samples_split=4 ..........................\n",
      "[CV]  max_leaf_nodes=14, min_samples_split=4, score=0.836, total=   0.1s\n",
      "[CV] max_leaf_nodes=15, min_samples_split=2 ..........................\n",
      "[CV]  max_leaf_nodes=15, min_samples_split=2, score=0.845, total=   0.1s\n",
      "[CV] max_leaf_nodes=15, min_samples_split=2 ..........................\n",
      "[CV]  max_leaf_nodes=15, min_samples_split=2, score=0.838, total=   0.1s\n",
      "[CV] max_leaf_nodes=15, min_samples_split=2 ..........................\n",
      "[CV]  max_leaf_nodes=15, min_samples_split=2, score=0.834, total=   0.1s\n",
      "[CV] max_leaf_nodes=15, min_samples_split=2 ..........................\n",
      "[CV]  max_leaf_nodes=15, min_samples_split=2, score=0.847, total=   0.1s\n",
      "[CV] max_leaf_nodes=15, min_samples_split=2 ..........................\n",
      "[CV]  max_leaf_nodes=15, min_samples_split=2, score=0.836, total=   0.1s\n",
      "[CV] max_leaf_nodes=15, min_samples_split=3 ..........................\n",
      "[CV]  max_leaf_nodes=15, min_samples_split=3, score=0.845, total=   0.1s\n",
      "[CV] max_leaf_nodes=15, min_samples_split=3 ..........................\n",
      "[CV]  max_leaf_nodes=15, min_samples_split=3, score=0.838, total=   0.1s\n",
      "[CV] max_leaf_nodes=15, min_samples_split=3 ..........................\n",
      "[CV]  max_leaf_nodes=15, min_samples_split=3, score=0.834, total=   0.1s\n",
      "[CV] max_leaf_nodes=15, min_samples_split=3 ..........................\n",
      "[CV]  max_leaf_nodes=15, min_samples_split=3, score=0.847, total=   0.1s\n",
      "[CV] max_leaf_nodes=15, min_samples_split=3 ..........................\n",
      "[CV]  max_leaf_nodes=15, min_samples_split=3, score=0.836, total=   0.1s\n",
      "[CV] max_leaf_nodes=15, min_samples_split=4 ..........................\n",
      "[CV]  max_leaf_nodes=15, min_samples_split=4, score=0.845, total=   0.1s\n",
      "[CV] max_leaf_nodes=15, min_samples_split=4 ..........................\n",
      "[CV]  max_leaf_nodes=15, min_samples_split=4, score=0.838, total=   0.1s\n",
      "[CV] max_leaf_nodes=15, min_samples_split=4 ..........................\n",
      "[CV]  max_leaf_nodes=15, min_samples_split=4, score=0.834, total=   0.1s\n",
      "[CV] max_leaf_nodes=15, min_samples_split=4 ..........................\n",
      "[CV]  max_leaf_nodes=15, min_samples_split=4, score=0.847, total=   0.1s\n",
      "[CV] max_leaf_nodes=15, min_samples_split=4 ..........................\n",
      "[CV]  max_leaf_nodes=15, min_samples_split=4, score=0.836, total=   0.1s\n",
      "[CV] max_leaf_nodes=16, min_samples_split=2 ..........................\n",
      "[CV]  max_leaf_nodes=16, min_samples_split=2, score=0.846, total=   0.1s\n",
      "[CV] max_leaf_nodes=16, min_samples_split=2 ..........................\n",
      "[CV]  max_leaf_nodes=16, min_samples_split=2, score=0.840, total=   0.1s\n",
      "[CV] max_leaf_nodes=16, min_samples_split=2 ..........................\n",
      "[CV]  max_leaf_nodes=16, min_samples_split=2, score=0.834, total=   0.1s\n",
      "[CV] max_leaf_nodes=16, min_samples_split=2 ..........................\n",
      "[CV]  max_leaf_nodes=16, min_samples_split=2, score=0.847, total=   0.1s\n",
      "[CV] max_leaf_nodes=16, min_samples_split=2 ..........................\n",
      "[CV]  max_leaf_nodes=16, min_samples_split=2, score=0.836, total=   0.1s\n",
      "[CV] max_leaf_nodes=16, min_samples_split=3 ..........................\n",
      "[CV]  max_leaf_nodes=16, min_samples_split=3, score=0.846, total=   0.1s\n",
      "[CV] max_leaf_nodes=16, min_samples_split=3 ..........................\n",
      "[CV]  max_leaf_nodes=16, min_samples_split=3, score=0.840, total=   0.1s\n",
      "[CV] max_leaf_nodes=16, min_samples_split=3 ..........................\n",
      "[CV]  max_leaf_nodes=16, min_samples_split=3, score=0.834, total=   0.1s\n",
      "[CV] max_leaf_nodes=16, min_samples_split=3 ..........................\n",
      "[CV]  max_leaf_nodes=16, min_samples_split=3, score=0.847, total=   0.1s\n",
      "[CV] max_leaf_nodes=16, min_samples_split=3 ..........................\n",
      "[CV]  max_leaf_nodes=16, min_samples_split=3, score=0.836, total=   0.1s\n",
      "[CV] max_leaf_nodes=16, min_samples_split=4 ..........................\n",
      "[CV]  max_leaf_nodes=16, min_samples_split=4, score=0.846, total=   0.1s\n",
      "[CV] max_leaf_nodes=16, min_samples_split=4 ..........................\n",
      "[CV]  max_leaf_nodes=16, min_samples_split=4, score=0.840, total=   0.1s\n",
      "[CV] max_leaf_nodes=16, min_samples_split=4 ..........................\n",
      "[CV]  max_leaf_nodes=16, min_samples_split=4, score=0.834, total=   0.1s\n",
      "[CV] max_leaf_nodes=16, min_samples_split=4 ..........................\n",
      "[CV]  max_leaf_nodes=16, min_samples_split=4, score=0.847, total=   0.1s\n",
      "[CV] max_leaf_nodes=16, min_samples_split=4 ..........................\n",
      "[CV]  max_leaf_nodes=16, min_samples_split=4, score=0.836, total=   0.1s\n",
      "[CV] max_leaf_nodes=17, min_samples_split=2 ..........................\n",
      "[CV]  max_leaf_nodes=17, min_samples_split=2, score=0.846, total=   0.1s\n",
      "[CV] max_leaf_nodes=17, min_samples_split=2 ..........................\n",
      "[CV]  max_leaf_nodes=17, min_samples_split=2, score=0.840, total=   0.2s\n",
      "[CV] max_leaf_nodes=17, min_samples_split=2 ..........................\n",
      "[CV]  max_leaf_nodes=17, min_samples_split=2, score=0.834, total=   0.2s\n",
      "[CV] max_leaf_nodes=17, min_samples_split=2 ..........................\n",
      "[CV]  max_leaf_nodes=17, min_samples_split=2, score=0.848, total=   0.2s\n",
      "[CV] max_leaf_nodes=17, min_samples_split=2 ..........................\n",
      "[CV]  max_leaf_nodes=17, min_samples_split=2, score=0.836, total=   0.2s\n",
      "[CV] max_leaf_nodes=17, min_samples_split=3 ..........................\n",
      "[CV]  max_leaf_nodes=17, min_samples_split=3, score=0.846, total=   0.1s\n",
      "[CV] max_leaf_nodes=17, min_samples_split=3 ..........................\n",
      "[CV]  max_leaf_nodes=17, min_samples_split=3, score=0.840, total=   0.1s\n",
      "[CV] max_leaf_nodes=17, min_samples_split=3 ..........................\n",
      "[CV]  max_leaf_nodes=17, min_samples_split=3, score=0.834, total=   0.1s\n",
      "[CV] max_leaf_nodes=17, min_samples_split=3 ..........................\n",
      "[CV]  max_leaf_nodes=17, min_samples_split=3, score=0.848, total=   0.1s\n",
      "[CV] max_leaf_nodes=17, min_samples_split=3 ..........................\n",
      "[CV]  max_leaf_nodes=17, min_samples_split=3, score=0.836, total=   0.1s\n",
      "[CV] max_leaf_nodes=17, min_samples_split=4 ..........................\n",
      "[CV]  max_leaf_nodes=17, min_samples_split=4, score=0.846, total=   0.1s\n",
      "[CV] max_leaf_nodes=17, min_samples_split=4 ..........................\n"
     ]
    },
    {
     "name": "stdout",
     "output_type": "stream",
     "text": [
      "[CV]  max_leaf_nodes=17, min_samples_split=4, score=0.840, total=   0.1s\n",
      "[CV] max_leaf_nodes=17, min_samples_split=4 ..........................\n",
      "[CV]  max_leaf_nodes=17, min_samples_split=4, score=0.834, total=   0.1s\n",
      "[CV] max_leaf_nodes=17, min_samples_split=4 ..........................\n",
      "[CV]  max_leaf_nodes=17, min_samples_split=4, score=0.848, total=   0.1s\n",
      "[CV] max_leaf_nodes=17, min_samples_split=4 ..........................\n",
      "[CV]  max_leaf_nodes=17, min_samples_split=4, score=0.836, total=   0.1s\n",
      "[CV] max_leaf_nodes=18, min_samples_split=2 ..........................\n",
      "[CV]  max_leaf_nodes=18, min_samples_split=2, score=0.846, total=   0.1s\n",
      "[CV] max_leaf_nodes=18, min_samples_split=2 ..........................\n",
      "[CV]  max_leaf_nodes=18, min_samples_split=2, score=0.840, total=   0.1s\n",
      "[CV] max_leaf_nodes=18, min_samples_split=2 ..........................\n",
      "[CV]  max_leaf_nodes=18, min_samples_split=2, score=0.834, total=   0.1s\n",
      "[CV] max_leaf_nodes=18, min_samples_split=2 ..........................\n",
      "[CV]  max_leaf_nodes=18, min_samples_split=2, score=0.848, total=   0.1s\n",
      "[CV] max_leaf_nodes=18, min_samples_split=2 ..........................\n",
      "[CV]  max_leaf_nodes=18, min_samples_split=2, score=0.836, total=   0.1s\n",
      "[CV] max_leaf_nodes=18, min_samples_split=3 ..........................\n",
      "[CV]  max_leaf_nodes=18, min_samples_split=3, score=0.846, total=   0.1s\n",
      "[CV] max_leaf_nodes=18, min_samples_split=3 ..........................\n",
      "[CV]  max_leaf_nodes=18, min_samples_split=3, score=0.840, total=   0.1s\n",
      "[CV] max_leaf_nodes=18, min_samples_split=3 ..........................\n",
      "[CV]  max_leaf_nodes=18, min_samples_split=3, score=0.834, total=   0.1s\n",
      "[CV] max_leaf_nodes=18, min_samples_split=3 ..........................\n",
      "[CV]  max_leaf_nodes=18, min_samples_split=3, score=0.848, total=   0.1s\n",
      "[CV] max_leaf_nodes=18, min_samples_split=3 ..........................\n",
      "[CV]  max_leaf_nodes=18, min_samples_split=3, score=0.836, total=   0.2s\n",
      "[CV] max_leaf_nodes=18, min_samples_split=4 ..........................\n",
      "[CV]  max_leaf_nodes=18, min_samples_split=4, score=0.846, total=   0.1s\n",
      "[CV] max_leaf_nodes=18, min_samples_split=4 ..........................\n",
      "[CV]  max_leaf_nodes=18, min_samples_split=4, score=0.840, total=   0.1s\n",
      "[CV] max_leaf_nodes=18, min_samples_split=4 ..........................\n",
      "[CV]  max_leaf_nodes=18, min_samples_split=4, score=0.834, total=   0.1s\n",
      "[CV] max_leaf_nodes=18, min_samples_split=4 ..........................\n",
      "[CV]  max_leaf_nodes=18, min_samples_split=4, score=0.848, total=   0.1s\n",
      "[CV] max_leaf_nodes=18, min_samples_split=4 ..........................\n",
      "[CV]  max_leaf_nodes=18, min_samples_split=4, score=0.836, total=   0.1s\n",
      "[CV] max_leaf_nodes=19, min_samples_split=2 ..........................\n",
      "[CV]  max_leaf_nodes=19, min_samples_split=2, score=0.847, total=   0.1s\n",
      "[CV] max_leaf_nodes=19, min_samples_split=2 ..........................\n",
      "[CV]  max_leaf_nodes=19, min_samples_split=2, score=0.840, total=   0.1s\n",
      "[CV] max_leaf_nodes=19, min_samples_split=2 ..........................\n",
      "[CV]  max_leaf_nodes=19, min_samples_split=2, score=0.834, total=   0.1s\n",
      "[CV] max_leaf_nodes=19, min_samples_split=2 ..........................\n",
      "[CV]  max_leaf_nodes=19, min_samples_split=2, score=0.846, total=   0.1s\n",
      "[CV] max_leaf_nodes=19, min_samples_split=2 ..........................\n",
      "[CV]  max_leaf_nodes=19, min_samples_split=2, score=0.836, total=   0.1s\n",
      "[CV] max_leaf_nodes=19, min_samples_split=3 ..........................\n",
      "[CV]  max_leaf_nodes=19, min_samples_split=3, score=0.847, total=   0.1s\n",
      "[CV] max_leaf_nodes=19, min_samples_split=3 ..........................\n",
      "[CV]  max_leaf_nodes=19, min_samples_split=3, score=0.840, total=   0.1s\n",
      "[CV] max_leaf_nodes=19, min_samples_split=3 ..........................\n",
      "[CV]  max_leaf_nodes=19, min_samples_split=3, score=0.834, total=   0.1s\n",
      "[CV] max_leaf_nodes=19, min_samples_split=3 ..........................\n",
      "[CV]  max_leaf_nodes=19, min_samples_split=3, score=0.846, total=   0.1s\n",
      "[CV] max_leaf_nodes=19, min_samples_split=3 ..........................\n",
      "[CV]  max_leaf_nodes=19, min_samples_split=3, score=0.836, total=   0.1s\n",
      "[CV] max_leaf_nodes=19, min_samples_split=4 ..........................\n",
      "[CV]  max_leaf_nodes=19, min_samples_split=4, score=0.847, total=   0.1s\n",
      "[CV] max_leaf_nodes=19, min_samples_split=4 ..........................\n",
      "[CV]  max_leaf_nodes=19, min_samples_split=4, score=0.840, total=   0.1s\n",
      "[CV] max_leaf_nodes=19, min_samples_split=4 ..........................\n",
      "[CV]  max_leaf_nodes=19, min_samples_split=4, score=0.834, total=   0.1s\n",
      "[CV] max_leaf_nodes=19, min_samples_split=4 ..........................\n",
      "[CV]  max_leaf_nodes=19, min_samples_split=4, score=0.846, total=   0.1s\n",
      "[CV] max_leaf_nodes=19, min_samples_split=4 ..........................\n",
      "[CV]  max_leaf_nodes=19, min_samples_split=4, score=0.836, total=   0.1s\n",
      "[CV] max_leaf_nodes=20, min_samples_split=2 ..........................\n",
      "[CV]  max_leaf_nodes=20, min_samples_split=2, score=0.847, total=   0.1s\n",
      "[CV] max_leaf_nodes=20, min_samples_split=2 ..........................\n",
      "[CV]  max_leaf_nodes=20, min_samples_split=2, score=0.843, total=   0.1s\n",
      "[CV] max_leaf_nodes=20, min_samples_split=2 ..........................\n",
      "[CV]  max_leaf_nodes=20, min_samples_split=2, score=0.834, total=   0.1s\n",
      "[CV] max_leaf_nodes=20, min_samples_split=2 ..........................\n",
      "[CV]  max_leaf_nodes=20, min_samples_split=2, score=0.846, total=   0.1s\n",
      "[CV] max_leaf_nodes=20, min_samples_split=2 ..........................\n",
      "[CV]  max_leaf_nodes=20, min_samples_split=2, score=0.837, total=   0.1s\n",
      "[CV] max_leaf_nodes=20, min_samples_split=3 ..........................\n",
      "[CV]  max_leaf_nodes=20, min_samples_split=3, score=0.847, total=   0.1s\n",
      "[CV] max_leaf_nodes=20, min_samples_split=3 ..........................\n",
      "[CV]  max_leaf_nodes=20, min_samples_split=3, score=0.843, total=   0.1s\n",
      "[CV] max_leaf_nodes=20, min_samples_split=3 ..........................\n",
      "[CV]  max_leaf_nodes=20, min_samples_split=3, score=0.834, total=   0.1s\n",
      "[CV] max_leaf_nodes=20, min_samples_split=3 ..........................\n",
      "[CV]  max_leaf_nodes=20, min_samples_split=3, score=0.846, total=   0.1s\n",
      "[CV] max_leaf_nodes=20, min_samples_split=3 ..........................\n",
      "[CV]  max_leaf_nodes=20, min_samples_split=3, score=0.837, total=   0.1s\n",
      "[CV] max_leaf_nodes=20, min_samples_split=4 ..........................\n",
      "[CV]  max_leaf_nodes=20, min_samples_split=4, score=0.847, total=   0.1s\n",
      "[CV] max_leaf_nodes=20, min_samples_split=4 ..........................\n",
      "[CV]  max_leaf_nodes=20, min_samples_split=4, score=0.843, total=   0.1s\n",
      "[CV] max_leaf_nodes=20, min_samples_split=4 ..........................\n",
      "[CV]  max_leaf_nodes=20, min_samples_split=4, score=0.834, total=   0.1s\n",
      "[CV] max_leaf_nodes=20, min_samples_split=4 ..........................\n",
      "[CV]  max_leaf_nodes=20, min_samples_split=4, score=0.846, total=   0.1s\n",
      "[CV] max_leaf_nodes=20, min_samples_split=4 ..........................\n",
      "[CV]  max_leaf_nodes=20, min_samples_split=4, score=0.837, total=   0.1s\n",
      "[CV] max_leaf_nodes=21, min_samples_split=2 ..........................\n",
      "[CV]  max_leaf_nodes=21, min_samples_split=2, score=0.847, total=   0.1s\n",
      "[CV] max_leaf_nodes=21, min_samples_split=2 ..........................\n",
      "[CV]  max_leaf_nodes=21, min_samples_split=2, score=0.846, total=   0.1s\n",
      "[CV] max_leaf_nodes=21, min_samples_split=2 ..........................\n",
      "[CV]  max_leaf_nodes=21, min_samples_split=2, score=0.834, total=   0.1s\n",
      "[CV] max_leaf_nodes=21, min_samples_split=2 ..........................\n",
      "[CV]  max_leaf_nodes=21, min_samples_split=2, score=0.846, total=   0.1s\n",
      "[CV] max_leaf_nodes=21, min_samples_split=2 ..........................\n",
      "[CV]  max_leaf_nodes=21, min_samples_split=2, score=0.837, total=   0.1s\n",
      "[CV] max_leaf_nodes=21, min_samples_split=3 ..........................\n",
      "[CV]  max_leaf_nodes=21, min_samples_split=3, score=0.847, total=   0.1s\n",
      "[CV] max_leaf_nodes=21, min_samples_split=3 ..........................\n",
      "[CV]  max_leaf_nodes=21, min_samples_split=3, score=0.846, total=   0.1s\n",
      "[CV] max_leaf_nodes=21, min_samples_split=3 ..........................\n",
      "[CV]  max_leaf_nodes=21, min_samples_split=3, score=0.834, total=   0.1s\n",
      "[CV] max_leaf_nodes=21, min_samples_split=3 ..........................\n"
     ]
    },
    {
     "name": "stdout",
     "output_type": "stream",
     "text": [
      "[CV]  max_leaf_nodes=21, min_samples_split=3, score=0.846, total=   0.1s\n",
      "[CV] max_leaf_nodes=21, min_samples_split=3 ..........................\n",
      "[CV]  max_leaf_nodes=21, min_samples_split=3, score=0.837, total=   0.1s\n",
      "[CV] max_leaf_nodes=21, min_samples_split=4 ..........................\n",
      "[CV]  max_leaf_nodes=21, min_samples_split=4, score=0.847, total=   0.1s\n",
      "[CV] max_leaf_nodes=21, min_samples_split=4 ..........................\n",
      "[CV]  max_leaf_nodes=21, min_samples_split=4, score=0.846, total=   0.1s\n",
      "[CV] max_leaf_nodes=21, min_samples_split=4 ..........................\n",
      "[CV]  max_leaf_nodes=21, min_samples_split=4, score=0.834, total=   0.1s\n",
      "[CV] max_leaf_nodes=21, min_samples_split=4 ..........................\n",
      "[CV]  max_leaf_nodes=21, min_samples_split=4, score=0.846, total=   0.1s\n",
      "[CV] max_leaf_nodes=21, min_samples_split=4 ..........................\n",
      "[CV]  max_leaf_nodes=21, min_samples_split=4, score=0.837, total=   0.1s\n",
      "[CV] max_leaf_nodes=22, min_samples_split=2 ..........................\n",
      "[CV]  max_leaf_nodes=22, min_samples_split=2, score=0.847, total=   0.1s\n",
      "[CV] max_leaf_nodes=22, min_samples_split=2 ..........................\n",
      "[CV]  max_leaf_nodes=22, min_samples_split=2, score=0.846, total=   0.1s\n",
      "[CV] max_leaf_nodes=22, min_samples_split=2 ..........................\n",
      "[CV]  max_leaf_nodes=22, min_samples_split=2, score=0.834, total=   0.1s\n",
      "[CV] max_leaf_nodes=22, min_samples_split=2 ..........................\n",
      "[CV]  max_leaf_nodes=22, min_samples_split=2, score=0.846, total=   0.1s\n",
      "[CV] max_leaf_nodes=22, min_samples_split=2 ..........................\n",
      "[CV]  max_leaf_nodes=22, min_samples_split=2, score=0.837, total=   0.1s\n",
      "[CV] max_leaf_nodes=22, min_samples_split=3 ..........................\n",
      "[CV]  max_leaf_nodes=22, min_samples_split=3, score=0.847, total=   0.1s\n",
      "[CV] max_leaf_nodes=22, min_samples_split=3 ..........................\n",
      "[CV]  max_leaf_nodes=22, min_samples_split=3, score=0.846, total=   0.1s\n",
      "[CV] max_leaf_nodes=22, min_samples_split=3 ..........................\n",
      "[CV]  max_leaf_nodes=22, min_samples_split=3, score=0.834, total=   0.1s\n",
      "[CV] max_leaf_nodes=22, min_samples_split=3 ..........................\n",
      "[CV]  max_leaf_nodes=22, min_samples_split=3, score=0.846, total=   0.1s\n",
      "[CV] max_leaf_nodes=22, min_samples_split=3 ..........................\n",
      "[CV]  max_leaf_nodes=22, min_samples_split=3, score=0.837, total=   0.1s\n",
      "[CV] max_leaf_nodes=22, min_samples_split=4 ..........................\n",
      "[CV]  max_leaf_nodes=22, min_samples_split=4, score=0.847, total=   0.1s\n",
      "[CV] max_leaf_nodes=22, min_samples_split=4 ..........................\n",
      "[CV]  max_leaf_nodes=22, min_samples_split=4, score=0.846, total=   0.2s\n",
      "[CV] max_leaf_nodes=22, min_samples_split=4 ..........................\n",
      "[CV]  max_leaf_nodes=22, min_samples_split=4, score=0.834, total=   0.2s\n",
      "[CV] max_leaf_nodes=22, min_samples_split=4 ..........................\n",
      "[CV]  max_leaf_nodes=22, min_samples_split=4, score=0.846, total=   0.2s\n",
      "[CV] max_leaf_nodes=22, min_samples_split=4 ..........................\n",
      "[CV]  max_leaf_nodes=22, min_samples_split=4, score=0.837, total=   0.1s\n",
      "[CV] max_leaf_nodes=23, min_samples_split=2 ..........................\n",
      "[CV]  max_leaf_nodes=23, min_samples_split=2, score=0.847, total=   0.1s\n",
      "[CV] max_leaf_nodes=23, min_samples_split=2 ..........................\n",
      "[CV]  max_leaf_nodes=23, min_samples_split=2, score=0.846, total=   0.1s\n",
      "[CV] max_leaf_nodes=23, min_samples_split=2 ..........................\n",
      "[CV]  max_leaf_nodes=23, min_samples_split=2, score=0.834, total=   0.1s\n",
      "[CV] max_leaf_nodes=23, min_samples_split=2 ..........................\n",
      "[CV]  max_leaf_nodes=23, min_samples_split=2, score=0.846, total=   0.1s\n",
      "[CV] max_leaf_nodes=23, min_samples_split=2 ..........................\n",
      "[CV]  max_leaf_nodes=23, min_samples_split=2, score=0.837, total=   0.1s\n",
      "[CV] max_leaf_nodes=23, min_samples_split=3 ..........................\n",
      "[CV]  max_leaf_nodes=23, min_samples_split=3, score=0.847, total=   0.1s\n",
      "[CV] max_leaf_nodes=23, min_samples_split=3 ..........................\n",
      "[CV]  max_leaf_nodes=23, min_samples_split=3, score=0.846, total=   0.1s\n",
      "[CV] max_leaf_nodes=23, min_samples_split=3 ..........................\n",
      "[CV]  max_leaf_nodes=23, min_samples_split=3, score=0.834, total=   0.1s\n",
      "[CV] max_leaf_nodes=23, min_samples_split=3 ..........................\n",
      "[CV]  max_leaf_nodes=23, min_samples_split=3, score=0.846, total=   0.1s\n",
      "[CV] max_leaf_nodes=23, min_samples_split=3 ..........................\n",
      "[CV]  max_leaf_nodes=23, min_samples_split=3, score=0.837, total=   0.1s\n",
      "[CV] max_leaf_nodes=23, min_samples_split=4 ..........................\n",
      "[CV]  max_leaf_nodes=23, min_samples_split=4, score=0.847, total=   0.1s\n",
      "[CV] max_leaf_nodes=23, min_samples_split=4 ..........................\n",
      "[CV]  max_leaf_nodes=23, min_samples_split=4, score=0.846, total=   0.1s\n",
      "[CV] max_leaf_nodes=23, min_samples_split=4 ..........................\n",
      "[CV]  max_leaf_nodes=23, min_samples_split=4, score=0.834, total=   0.1s\n",
      "[CV] max_leaf_nodes=23, min_samples_split=4 ..........................\n",
      "[CV]  max_leaf_nodes=23, min_samples_split=4, score=0.846, total=   0.1s\n",
      "[CV] max_leaf_nodes=23, min_samples_split=4 ..........................\n",
      "[CV]  max_leaf_nodes=23, min_samples_split=4, score=0.837, total=   0.1s\n",
      "[CV] max_leaf_nodes=24, min_samples_split=2 ..........................\n",
      "[CV]  max_leaf_nodes=24, min_samples_split=2, score=0.847, total=   0.1s\n",
      "[CV] max_leaf_nodes=24, min_samples_split=2 ..........................\n",
      "[CV]  max_leaf_nodes=24, min_samples_split=2, score=0.849, total=   0.1s\n",
      "[CV] max_leaf_nodes=24, min_samples_split=2 ..........................\n",
      "[CV]  max_leaf_nodes=24, min_samples_split=2, score=0.835, total=   0.1s\n",
      "[CV] max_leaf_nodes=24, min_samples_split=2 ..........................\n",
      "[CV]  max_leaf_nodes=24, min_samples_split=2, score=0.846, total=   0.1s\n",
      "[CV] max_leaf_nodes=24, min_samples_split=2 ..........................\n",
      "[CV]  max_leaf_nodes=24, min_samples_split=2, score=0.837, total=   0.1s\n",
      "[CV] max_leaf_nodes=24, min_samples_split=3 ..........................\n",
      "[CV]  max_leaf_nodes=24, min_samples_split=3, score=0.847, total=   0.1s\n",
      "[CV] max_leaf_nodes=24, min_samples_split=3 ..........................\n",
      "[CV]  max_leaf_nodes=24, min_samples_split=3, score=0.849, total=   0.1s\n",
      "[CV] max_leaf_nodes=24, min_samples_split=3 ..........................\n",
      "[CV]  max_leaf_nodes=24, min_samples_split=3, score=0.835, total=   0.1s\n",
      "[CV] max_leaf_nodes=24, min_samples_split=3 ..........................\n",
      "[CV]  max_leaf_nodes=24, min_samples_split=3, score=0.846, total=   0.1s\n",
      "[CV] max_leaf_nodes=24, min_samples_split=3 ..........................\n",
      "[CV]  max_leaf_nodes=24, min_samples_split=3, score=0.837, total=   0.1s\n",
      "[CV] max_leaf_nodes=24, min_samples_split=4 ..........................\n",
      "[CV]  max_leaf_nodes=24, min_samples_split=4, score=0.847, total=   0.1s\n",
      "[CV] max_leaf_nodes=24, min_samples_split=4 ..........................\n",
      "[CV]  max_leaf_nodes=24, min_samples_split=4, score=0.849, total=   0.1s\n",
      "[CV] max_leaf_nodes=24, min_samples_split=4 ..........................\n",
      "[CV]  max_leaf_nodes=24, min_samples_split=4, score=0.835, total=   0.1s\n",
      "[CV] max_leaf_nodes=24, min_samples_split=4 ..........................\n",
      "[CV]  max_leaf_nodes=24, min_samples_split=4, score=0.846, total=   0.1s\n",
      "[CV] max_leaf_nodes=24, min_samples_split=4 ..........................\n",
      "[CV]  max_leaf_nodes=24, min_samples_split=4, score=0.837, total=   0.1s\n",
      "[CV] max_leaf_nodes=25, min_samples_split=2 ..........................\n",
      "[CV]  max_leaf_nodes=25, min_samples_split=2, score=0.847, total=   0.1s\n",
      "[CV] max_leaf_nodes=25, min_samples_split=2 ..........................\n",
      "[CV]  max_leaf_nodes=25, min_samples_split=2, score=0.848, total=   0.1s\n",
      "[CV] max_leaf_nodes=25, min_samples_split=2 ..........................\n",
      "[CV]  max_leaf_nodes=25, min_samples_split=2, score=0.835, total=   0.1s\n",
      "[CV] max_leaf_nodes=25, min_samples_split=2 ..........................\n",
      "[CV]  max_leaf_nodes=25, min_samples_split=2, score=0.846, total=   0.1s\n",
      "[CV] max_leaf_nodes=25, min_samples_split=2 ..........................\n",
      "[CV]  max_leaf_nodes=25, min_samples_split=2, score=0.837, total=   0.1s\n",
      "[CV] max_leaf_nodes=25, min_samples_split=3 ..........................\n"
     ]
    },
    {
     "name": "stdout",
     "output_type": "stream",
     "text": [
      "[CV]  max_leaf_nodes=25, min_samples_split=3, score=0.847, total=   0.1s\n",
      "[CV] max_leaf_nodes=25, min_samples_split=3 ..........................\n",
      "[CV]  max_leaf_nodes=25, min_samples_split=3, score=0.848, total=   0.1s\n",
      "[CV] max_leaf_nodes=25, min_samples_split=3 ..........................\n",
      "[CV]  max_leaf_nodes=25, min_samples_split=3, score=0.835, total=   0.1s\n",
      "[CV] max_leaf_nodes=25, min_samples_split=3 ..........................\n",
      "[CV]  max_leaf_nodes=25, min_samples_split=3, score=0.846, total=   0.1s\n",
      "[CV] max_leaf_nodes=25, min_samples_split=3 ..........................\n",
      "[CV]  max_leaf_nodes=25, min_samples_split=3, score=0.837, total=   0.1s\n",
      "[CV] max_leaf_nodes=25, min_samples_split=4 ..........................\n",
      "[CV]  max_leaf_nodes=25, min_samples_split=4, score=0.847, total=   0.1s\n",
      "[CV] max_leaf_nodes=25, min_samples_split=4 ..........................\n",
      "[CV]  max_leaf_nodes=25, min_samples_split=4, score=0.848, total=   0.1s\n",
      "[CV] max_leaf_nodes=25, min_samples_split=4 ..........................\n",
      "[CV]  max_leaf_nodes=25, min_samples_split=4, score=0.835, total=   0.1s\n",
      "[CV] max_leaf_nodes=25, min_samples_split=4 ..........................\n",
      "[CV]  max_leaf_nodes=25, min_samples_split=4, score=0.846, total=   0.1s\n",
      "[CV] max_leaf_nodes=25, min_samples_split=4 ..........................\n",
      "[CV]  max_leaf_nodes=25, min_samples_split=4, score=0.837, total=   0.1s\n",
      "[CV] max_leaf_nodes=26, min_samples_split=2 ..........................\n",
      "[CV]  max_leaf_nodes=26, min_samples_split=2, score=0.847, total=   0.1s\n",
      "[CV] max_leaf_nodes=26, min_samples_split=2 ..........................\n",
      "[CV]  max_leaf_nodes=26, min_samples_split=2, score=0.848, total=   0.1s\n",
      "[CV] max_leaf_nodes=26, min_samples_split=2 ..........................\n",
      "[CV]  max_leaf_nodes=26, min_samples_split=2, score=0.835, total=   0.1s\n",
      "[CV] max_leaf_nodes=26, min_samples_split=2 ..........................\n",
      "[CV]  max_leaf_nodes=26, min_samples_split=2, score=0.846, total=   0.1s\n",
      "[CV] max_leaf_nodes=26, min_samples_split=2 ..........................\n",
      "[CV]  max_leaf_nodes=26, min_samples_split=2, score=0.837, total=   0.2s\n",
      "[CV] max_leaf_nodes=26, min_samples_split=3 ..........................\n",
      "[CV]  max_leaf_nodes=26, min_samples_split=3, score=0.847, total=   0.1s\n",
      "[CV] max_leaf_nodes=26, min_samples_split=3 ..........................\n",
      "[CV]  max_leaf_nodes=26, min_samples_split=3, score=0.848, total=   0.2s\n",
      "[CV] max_leaf_nodes=26, min_samples_split=3 ..........................\n",
      "[CV]  max_leaf_nodes=26, min_samples_split=3, score=0.835, total=   0.1s\n",
      "[CV] max_leaf_nodes=26, min_samples_split=3 ..........................\n",
      "[CV]  max_leaf_nodes=26, min_samples_split=3, score=0.846, total=   0.1s\n",
      "[CV] max_leaf_nodes=26, min_samples_split=3 ..........................\n",
      "[CV]  max_leaf_nodes=26, min_samples_split=3, score=0.837, total=   0.1s\n",
      "[CV] max_leaf_nodes=26, min_samples_split=4 ..........................\n",
      "[CV]  max_leaf_nodes=26, min_samples_split=4, score=0.847, total=   0.1s\n",
      "[CV] max_leaf_nodes=26, min_samples_split=4 ..........................\n",
      "[CV]  max_leaf_nodes=26, min_samples_split=4, score=0.848, total=   0.1s\n",
      "[CV] max_leaf_nodes=26, min_samples_split=4 ..........................\n",
      "[CV]  max_leaf_nodes=26, min_samples_split=4, score=0.835, total=   0.1s\n",
      "[CV] max_leaf_nodes=26, min_samples_split=4 ..........................\n",
      "[CV]  max_leaf_nodes=26, min_samples_split=4, score=0.846, total=   0.1s\n",
      "[CV] max_leaf_nodes=26, min_samples_split=4 ..........................\n",
      "[CV]  max_leaf_nodes=26, min_samples_split=4, score=0.837, total=   0.1s\n",
      "[CV] max_leaf_nodes=27, min_samples_split=2 ..........................\n",
      "[CV]  max_leaf_nodes=27, min_samples_split=2, score=0.847, total=   0.1s\n",
      "[CV] max_leaf_nodes=27, min_samples_split=2 ..........................\n",
      "[CV]  max_leaf_nodes=27, min_samples_split=2, score=0.848, total=   0.1s\n",
      "[CV] max_leaf_nodes=27, min_samples_split=2 ..........................\n",
      "[CV]  max_leaf_nodes=27, min_samples_split=2, score=0.835, total=   0.1s\n",
      "[CV] max_leaf_nodes=27, min_samples_split=2 ..........................\n",
      "[CV]  max_leaf_nodes=27, min_samples_split=2, score=0.846, total=   0.1s\n",
      "[CV] max_leaf_nodes=27, min_samples_split=2 ..........................\n",
      "[CV]  max_leaf_nodes=27, min_samples_split=2, score=0.837, total=   0.1s\n",
      "[CV] max_leaf_nodes=27, min_samples_split=3 ..........................\n",
      "[CV]  max_leaf_nodes=27, min_samples_split=3, score=0.847, total=   0.1s\n",
      "[CV] max_leaf_nodes=27, min_samples_split=3 ..........................\n",
      "[CV]  max_leaf_nodes=27, min_samples_split=3, score=0.848, total=   0.1s\n",
      "[CV] max_leaf_nodes=27, min_samples_split=3 ..........................\n",
      "[CV]  max_leaf_nodes=27, min_samples_split=3, score=0.835, total=   0.1s\n",
      "[CV] max_leaf_nodes=27, min_samples_split=3 ..........................\n",
      "[CV]  max_leaf_nodes=27, min_samples_split=3, score=0.846, total=   0.1s\n",
      "[CV] max_leaf_nodes=27, min_samples_split=3 ..........................\n",
      "[CV]  max_leaf_nodes=27, min_samples_split=3, score=0.837, total=   0.1s\n",
      "[CV] max_leaf_nodes=27, min_samples_split=4 ..........................\n",
      "[CV]  max_leaf_nodes=27, min_samples_split=4, score=0.847, total=   0.1s\n",
      "[CV] max_leaf_nodes=27, min_samples_split=4 ..........................\n",
      "[CV]  max_leaf_nodes=27, min_samples_split=4, score=0.848, total=   0.1s\n",
      "[CV] max_leaf_nodes=27, min_samples_split=4 ..........................\n",
      "[CV]  max_leaf_nodes=27, min_samples_split=4, score=0.835, total=   0.1s\n",
      "[CV] max_leaf_nodes=27, min_samples_split=4 ..........................\n",
      "[CV]  max_leaf_nodes=27, min_samples_split=4, score=0.846, total=   0.1s\n",
      "[CV] max_leaf_nodes=27, min_samples_split=4 ..........................\n",
      "[CV]  max_leaf_nodes=27, min_samples_split=4, score=0.837, total=   0.1s\n",
      "[CV] max_leaf_nodes=28, min_samples_split=2 ..........................\n",
      "[CV]  max_leaf_nodes=28, min_samples_split=2, score=0.847, total=   0.1s\n",
      "[CV] max_leaf_nodes=28, min_samples_split=2 ..........................\n",
      "[CV]  max_leaf_nodes=28, min_samples_split=2, score=0.848, total=   0.1s\n",
      "[CV] max_leaf_nodes=28, min_samples_split=2 ..........................\n",
      "[CV]  max_leaf_nodes=28, min_samples_split=2, score=0.835, total=   0.1s\n",
      "[CV] max_leaf_nodes=28, min_samples_split=2 ..........................\n",
      "[CV]  max_leaf_nodes=28, min_samples_split=2, score=0.846, total=   0.1s\n",
      "[CV] max_leaf_nodes=28, min_samples_split=2 ..........................\n",
      "[CV]  max_leaf_nodes=28, min_samples_split=2, score=0.837, total=   0.1s\n",
      "[CV] max_leaf_nodes=28, min_samples_split=3 ..........................\n",
      "[CV]  max_leaf_nodes=28, min_samples_split=3, score=0.847, total=   0.1s\n",
      "[CV] max_leaf_nodes=28, min_samples_split=3 ..........................\n",
      "[CV]  max_leaf_nodes=28, min_samples_split=3, score=0.848, total=   0.2s\n",
      "[CV] max_leaf_nodes=28, min_samples_split=3 ..........................\n",
      "[CV]  max_leaf_nodes=28, min_samples_split=3, score=0.835, total=   0.2s\n",
      "[CV] max_leaf_nodes=28, min_samples_split=3 ..........................\n",
      "[CV]  max_leaf_nodes=28, min_samples_split=3, score=0.846, total=   0.1s\n",
      "[CV] max_leaf_nodes=28, min_samples_split=3 ..........................\n",
      "[CV]  max_leaf_nodes=28, min_samples_split=3, score=0.837, total=   0.1s\n",
      "[CV] max_leaf_nodes=28, min_samples_split=4 ..........................\n",
      "[CV]  max_leaf_nodes=28, min_samples_split=4, score=0.847, total=   0.1s\n",
      "[CV] max_leaf_nodes=28, min_samples_split=4 ..........................\n",
      "[CV]  max_leaf_nodes=28, min_samples_split=4, score=0.848, total=   0.1s\n",
      "[CV] max_leaf_nodes=28, min_samples_split=4 ..........................\n",
      "[CV]  max_leaf_nodes=28, min_samples_split=4, score=0.835, total=   0.1s\n",
      "[CV] max_leaf_nodes=28, min_samples_split=4 ..........................\n",
      "[CV]  max_leaf_nodes=28, min_samples_split=4, score=0.846, total=   0.1s\n",
      "[CV] max_leaf_nodes=28, min_samples_split=4 ..........................\n",
      "[CV]  max_leaf_nodes=28, min_samples_split=4, score=0.837, total=   0.1s\n",
      "[CV] max_leaf_nodes=29, min_samples_split=2 ..........................\n",
      "[CV]  max_leaf_nodes=29, min_samples_split=2, score=0.847, total=   0.1s\n",
      "[CV] max_leaf_nodes=29, min_samples_split=2 ..........................\n",
      "[CV]  max_leaf_nodes=29, min_samples_split=2, score=0.848, total=   0.1s\n",
      "[CV] max_leaf_nodes=29, min_samples_split=2 ..........................\n",
      "[CV]  max_leaf_nodes=29, min_samples_split=2, score=0.835, total=   0.1s\n",
      "[CV] max_leaf_nodes=29, min_samples_split=2 ..........................\n"
     ]
    },
    {
     "name": "stdout",
     "output_type": "stream",
     "text": [
      "[CV]  max_leaf_nodes=29, min_samples_split=2, score=0.846, total=   0.1s\n",
      "[CV] max_leaf_nodes=29, min_samples_split=2 ..........................\n",
      "[CV]  max_leaf_nodes=29, min_samples_split=2, score=0.837, total=   0.1s\n",
      "[CV] max_leaf_nodes=29, min_samples_split=3 ..........................\n",
      "[CV]  max_leaf_nodes=29, min_samples_split=3, score=0.847, total=   0.1s\n",
      "[CV] max_leaf_nodes=29, min_samples_split=3 ..........................\n",
      "[CV]  max_leaf_nodes=29, min_samples_split=3, score=0.848, total=   0.1s\n",
      "[CV] max_leaf_nodes=29, min_samples_split=3 ..........................\n",
      "[CV]  max_leaf_nodes=29, min_samples_split=3, score=0.835, total=   0.1s\n",
      "[CV] max_leaf_nodes=29, min_samples_split=3 ..........................\n",
      "[CV]  max_leaf_nodes=29, min_samples_split=3, score=0.846, total=   0.1s\n",
      "[CV] max_leaf_nodes=29, min_samples_split=3 ..........................\n",
      "[CV]  max_leaf_nodes=29, min_samples_split=3, score=0.837, total=   0.1s\n",
      "[CV] max_leaf_nodes=29, min_samples_split=4 ..........................\n",
      "[CV]  max_leaf_nodes=29, min_samples_split=4, score=0.847, total=   0.1s\n",
      "[CV] max_leaf_nodes=29, min_samples_split=4 ..........................\n",
      "[CV]  max_leaf_nodes=29, min_samples_split=4, score=0.848, total=   0.1s\n",
      "[CV] max_leaf_nodes=29, min_samples_split=4 ..........................\n",
      "[CV]  max_leaf_nodes=29, min_samples_split=4, score=0.835, total=   0.1s\n",
      "[CV] max_leaf_nodes=29, min_samples_split=4 ..........................\n",
      "[CV]  max_leaf_nodes=29, min_samples_split=4, score=0.846, total=   0.1s\n",
      "[CV] max_leaf_nodes=29, min_samples_split=4 ..........................\n",
      "[CV]  max_leaf_nodes=29, min_samples_split=4, score=0.837, total=   0.1s\n",
      "[CV] max_leaf_nodes=30, min_samples_split=2 ..........................\n",
      "[CV]  max_leaf_nodes=30, min_samples_split=2, score=0.846, total=   0.1s\n",
      "[CV] max_leaf_nodes=30, min_samples_split=2 ..........................\n",
      "[CV]  max_leaf_nodes=30, min_samples_split=2, score=0.848, total=   0.1s\n",
      "[CV] max_leaf_nodes=30, min_samples_split=2 ..........................\n",
      "[CV]  max_leaf_nodes=30, min_samples_split=2, score=0.835, total=   0.1s\n",
      "[CV] max_leaf_nodes=30, min_samples_split=2 ..........................\n",
      "[CV]  max_leaf_nodes=30, min_samples_split=2, score=0.846, total=   0.1s\n",
      "[CV] max_leaf_nodes=30, min_samples_split=2 ..........................\n",
      "[CV]  max_leaf_nodes=30, min_samples_split=2, score=0.837, total=   0.1s\n",
      "[CV] max_leaf_nodes=30, min_samples_split=3 ..........................\n",
      "[CV]  max_leaf_nodes=30, min_samples_split=3, score=0.846, total=   0.1s\n",
      "[CV] max_leaf_nodes=30, min_samples_split=3 ..........................\n",
      "[CV]  max_leaf_nodes=30, min_samples_split=3, score=0.848, total=   0.1s\n",
      "[CV] max_leaf_nodes=30, min_samples_split=3 ..........................\n",
      "[CV]  max_leaf_nodes=30, min_samples_split=3, score=0.835, total=   0.1s\n",
      "[CV] max_leaf_nodes=30, min_samples_split=3 ..........................\n",
      "[CV]  max_leaf_nodes=30, min_samples_split=3, score=0.846, total=   0.1s\n",
      "[CV] max_leaf_nodes=30, min_samples_split=3 ..........................\n",
      "[CV]  max_leaf_nodes=30, min_samples_split=3, score=0.837, total=   0.1s\n",
      "[CV] max_leaf_nodes=30, min_samples_split=4 ..........................\n",
      "[CV]  max_leaf_nodes=30, min_samples_split=4, score=0.846, total=   0.1s\n",
      "[CV] max_leaf_nodes=30, min_samples_split=4 ..........................\n",
      "[CV]  max_leaf_nodes=30, min_samples_split=4, score=0.848, total=   0.1s\n",
      "[CV] max_leaf_nodes=30, min_samples_split=4 ..........................\n",
      "[CV]  max_leaf_nodes=30, min_samples_split=4, score=0.835, total=   0.1s\n",
      "[CV] max_leaf_nodes=30, min_samples_split=4 ..........................\n",
      "[CV]  max_leaf_nodes=30, min_samples_split=4, score=0.846, total=   0.1s\n",
      "[CV] max_leaf_nodes=30, min_samples_split=4 ..........................\n",
      "[CV]  max_leaf_nodes=30, min_samples_split=4, score=0.837, total=   0.1s\n",
      "[CV] max_leaf_nodes=31, min_samples_split=2 ..........................\n",
      "[CV]  max_leaf_nodes=31, min_samples_split=2, score=0.846, total=   0.1s\n",
      "[CV] max_leaf_nodes=31, min_samples_split=2 ..........................\n",
      "[CV]  max_leaf_nodes=31, min_samples_split=2, score=0.848, total=   0.1s\n",
      "[CV] max_leaf_nodes=31, min_samples_split=2 ..........................\n",
      "[CV]  max_leaf_nodes=31, min_samples_split=2, score=0.835, total=   0.1s\n",
      "[CV] max_leaf_nodes=31, min_samples_split=2 ..........................\n",
      "[CV]  max_leaf_nodes=31, min_samples_split=2, score=0.846, total=   0.1s\n",
      "[CV] max_leaf_nodes=31, min_samples_split=2 ..........................\n",
      "[CV]  max_leaf_nodes=31, min_samples_split=2, score=0.837, total=   0.1s\n",
      "[CV] max_leaf_nodes=31, min_samples_split=3 ..........................\n",
      "[CV]  max_leaf_nodes=31, min_samples_split=3, score=0.846, total=   0.1s\n",
      "[CV] max_leaf_nodes=31, min_samples_split=3 ..........................\n",
      "[CV]  max_leaf_nodes=31, min_samples_split=3, score=0.848, total=   0.1s\n",
      "[CV] max_leaf_nodes=31, min_samples_split=3 ..........................\n",
      "[CV]  max_leaf_nodes=31, min_samples_split=3, score=0.835, total=   0.1s\n",
      "[CV] max_leaf_nodes=31, min_samples_split=3 ..........................\n",
      "[CV]  max_leaf_nodes=31, min_samples_split=3, score=0.846, total=   0.1s\n",
      "[CV] max_leaf_nodes=31, min_samples_split=3 ..........................\n",
      "[CV]  max_leaf_nodes=31, min_samples_split=3, score=0.837, total=   0.1s\n",
      "[CV] max_leaf_nodes=31, min_samples_split=4 ..........................\n",
      "[CV]  max_leaf_nodes=31, min_samples_split=4, score=0.846, total=   0.1s\n",
      "[CV] max_leaf_nodes=31, min_samples_split=4 ..........................\n",
      "[CV]  max_leaf_nodes=31, min_samples_split=4, score=0.848, total=   0.1s\n",
      "[CV] max_leaf_nodes=31, min_samples_split=4 ..........................\n",
      "[CV]  max_leaf_nodes=31, min_samples_split=4, score=0.835, total=   0.1s\n",
      "[CV] max_leaf_nodes=31, min_samples_split=4 ..........................\n",
      "[CV]  max_leaf_nodes=31, min_samples_split=4, score=0.846, total=   0.1s\n",
      "[CV] max_leaf_nodes=31, min_samples_split=4 ..........................\n",
      "[CV]  max_leaf_nodes=31, min_samples_split=4, score=0.837, total=   0.1s\n",
      "[CV] max_leaf_nodes=32, min_samples_split=2 ..........................\n",
      "[CV]  max_leaf_nodes=32, min_samples_split=2, score=0.846, total=   0.1s\n",
      "[CV] max_leaf_nodes=32, min_samples_split=2 ..........................\n",
      "[CV]  max_leaf_nodes=32, min_samples_split=2, score=0.848, total=   0.1s\n",
      "[CV] max_leaf_nodes=32, min_samples_split=2 ..........................\n",
      "[CV]  max_leaf_nodes=32, min_samples_split=2, score=0.835, total=   0.1s\n",
      "[CV] max_leaf_nodes=32, min_samples_split=2 ..........................\n",
      "[CV]  max_leaf_nodes=32, min_samples_split=2, score=0.846, total=   0.1s\n",
      "[CV] max_leaf_nodes=32, min_samples_split=2 ..........................\n",
      "[CV]  max_leaf_nodes=32, min_samples_split=2, score=0.837, total=   0.1s\n",
      "[CV] max_leaf_nodes=32, min_samples_split=3 ..........................\n",
      "[CV]  max_leaf_nodes=32, min_samples_split=3, score=0.846, total=   0.1s\n",
      "[CV] max_leaf_nodes=32, min_samples_split=3 ..........................\n",
      "[CV]  max_leaf_nodes=32, min_samples_split=3, score=0.848, total=   0.1s\n",
      "[CV] max_leaf_nodes=32, min_samples_split=3 ..........................\n",
      "[CV]  max_leaf_nodes=32, min_samples_split=3, score=0.835, total=   0.1s\n",
      "[CV] max_leaf_nodes=32, min_samples_split=3 ..........................\n",
      "[CV]  max_leaf_nodes=32, min_samples_split=3, score=0.846, total=   0.1s\n",
      "[CV] max_leaf_nodes=32, min_samples_split=3 ..........................\n",
      "[CV]  max_leaf_nodes=32, min_samples_split=3, score=0.837, total=   0.1s\n",
      "[CV] max_leaf_nodes=32, min_samples_split=4 ..........................\n",
      "[CV]  max_leaf_nodes=32, min_samples_split=4, score=0.846, total=   0.1s\n",
      "[CV] max_leaf_nodes=32, min_samples_split=4 ..........................\n",
      "[CV]  max_leaf_nodes=32, min_samples_split=4, score=0.848, total=   0.1s\n",
      "[CV] max_leaf_nodes=32, min_samples_split=4 ..........................\n",
      "[CV]  max_leaf_nodes=32, min_samples_split=4, score=0.835, total=   0.1s\n",
      "[CV] max_leaf_nodes=32, min_samples_split=4 ..........................\n",
      "[CV]  max_leaf_nodes=32, min_samples_split=4, score=0.846, total=   0.1s\n",
      "[CV] max_leaf_nodes=32, min_samples_split=4 ..........................\n",
      "[CV]  max_leaf_nodes=32, min_samples_split=4, score=0.837, total=   0.1s\n",
      "[CV] max_leaf_nodes=33, min_samples_split=2 ..........................\n",
      "[CV]  max_leaf_nodes=33, min_samples_split=2, score=0.846, total=   0.1s\n",
      "[CV] max_leaf_nodes=33, min_samples_split=2 ..........................\n",
      "[CV]  max_leaf_nodes=33, min_samples_split=2, score=0.848, total=   0.1s\n",
      "[CV] max_leaf_nodes=33, min_samples_split=2 ..........................\n"
     ]
    },
    {
     "name": "stdout",
     "output_type": "stream",
     "text": [
      "[CV]  max_leaf_nodes=33, min_samples_split=2, score=0.835, total=   0.1s\n",
      "[CV] max_leaf_nodes=33, min_samples_split=2 ..........................\n",
      "[CV]  max_leaf_nodes=33, min_samples_split=2, score=0.846, total=   0.1s\n",
      "[CV] max_leaf_nodes=33, min_samples_split=2 ..........................\n",
      "[CV]  max_leaf_nodes=33, min_samples_split=2, score=0.837, total=   0.1s\n",
      "[CV] max_leaf_nodes=33, min_samples_split=3 ..........................\n",
      "[CV]  max_leaf_nodes=33, min_samples_split=3, score=0.846, total=   0.1s\n",
      "[CV] max_leaf_nodes=33, min_samples_split=3 ..........................\n",
      "[CV]  max_leaf_nodes=33, min_samples_split=3, score=0.848, total=   0.1s\n",
      "[CV] max_leaf_nodes=33, min_samples_split=3 ..........................\n",
      "[CV]  max_leaf_nodes=33, min_samples_split=3, score=0.835, total=   0.1s\n",
      "[CV] max_leaf_nodes=33, min_samples_split=3 ..........................\n",
      "[CV]  max_leaf_nodes=33, min_samples_split=3, score=0.846, total=   0.1s\n",
      "[CV] max_leaf_nodes=33, min_samples_split=3 ..........................\n",
      "[CV]  max_leaf_nodes=33, min_samples_split=3, score=0.837, total=   0.1s\n",
      "[CV] max_leaf_nodes=33, min_samples_split=4 ..........................\n",
      "[CV]  max_leaf_nodes=33, min_samples_split=4, score=0.846, total=   0.1s\n",
      "[CV] max_leaf_nodes=33, min_samples_split=4 ..........................\n",
      "[CV]  max_leaf_nodes=33, min_samples_split=4, score=0.848, total=   0.1s\n",
      "[CV] max_leaf_nodes=33, min_samples_split=4 ..........................\n",
      "[CV]  max_leaf_nodes=33, min_samples_split=4, score=0.835, total=   0.1s\n",
      "[CV] max_leaf_nodes=33, min_samples_split=4 ..........................\n",
      "[CV]  max_leaf_nodes=33, min_samples_split=4, score=0.846, total=   0.1s\n",
      "[CV] max_leaf_nodes=33, min_samples_split=4 ..........................\n",
      "[CV]  max_leaf_nodes=33, min_samples_split=4, score=0.837, total=   0.1s\n",
      "[CV] max_leaf_nodes=34, min_samples_split=2 ..........................\n",
      "[CV]  max_leaf_nodes=34, min_samples_split=2, score=0.846, total=   0.1s\n",
      "[CV] max_leaf_nodes=34, min_samples_split=2 ..........................\n",
      "[CV]  max_leaf_nodes=34, min_samples_split=2, score=0.848, total=   0.1s\n",
      "[CV] max_leaf_nodes=34, min_samples_split=2 ..........................\n",
      "[CV]  max_leaf_nodes=34, min_samples_split=2, score=0.835, total=   0.1s\n",
      "[CV] max_leaf_nodes=34, min_samples_split=2 ..........................\n",
      "[CV]  max_leaf_nodes=34, min_samples_split=2, score=0.847, total=   0.1s\n",
      "[CV] max_leaf_nodes=34, min_samples_split=2 ..........................\n",
      "[CV]  max_leaf_nodes=34, min_samples_split=2, score=0.837, total=   0.1s\n",
      "[CV] max_leaf_nodes=34, min_samples_split=3 ..........................\n",
      "[CV]  max_leaf_nodes=34, min_samples_split=3, score=0.846, total=   0.1s\n",
      "[CV] max_leaf_nodes=34, min_samples_split=3 ..........................\n",
      "[CV]  max_leaf_nodes=34, min_samples_split=3, score=0.848, total=   0.1s\n",
      "[CV] max_leaf_nodes=34, min_samples_split=3 ..........................\n",
      "[CV]  max_leaf_nodes=34, min_samples_split=3, score=0.835, total=   0.1s\n",
      "[CV] max_leaf_nodes=34, min_samples_split=3 ..........................\n",
      "[CV]  max_leaf_nodes=34, min_samples_split=3, score=0.847, total=   0.1s\n",
      "[CV] max_leaf_nodes=34, min_samples_split=3 ..........................\n",
      "[CV]  max_leaf_nodes=34, min_samples_split=3, score=0.837, total=   0.1s\n",
      "[CV] max_leaf_nodes=34, min_samples_split=4 ..........................\n",
      "[CV]  max_leaf_nodes=34, min_samples_split=4, score=0.846, total=   0.1s\n",
      "[CV] max_leaf_nodes=34, min_samples_split=4 ..........................\n",
      "[CV]  max_leaf_nodes=34, min_samples_split=4, score=0.848, total=   0.1s\n",
      "[CV] max_leaf_nodes=34, min_samples_split=4 ..........................\n",
      "[CV]  max_leaf_nodes=34, min_samples_split=4, score=0.835, total=   0.1s\n",
      "[CV] max_leaf_nodes=34, min_samples_split=4 ..........................\n",
      "[CV]  max_leaf_nodes=34, min_samples_split=4, score=0.847, total=   0.1s\n",
      "[CV] max_leaf_nodes=34, min_samples_split=4 ..........................\n",
      "[CV]  max_leaf_nodes=34, min_samples_split=4, score=0.837, total=   0.1s\n",
      "[CV] max_leaf_nodes=35, min_samples_split=2 ..........................\n",
      "[CV]  max_leaf_nodes=35, min_samples_split=2, score=0.846, total=   0.1s\n",
      "[CV] max_leaf_nodes=35, min_samples_split=2 ..........................\n",
      "[CV]  max_leaf_nodes=35, min_samples_split=2, score=0.848, total=   0.1s\n",
      "[CV] max_leaf_nodes=35, min_samples_split=2 ..........................\n",
      "[CV]  max_leaf_nodes=35, min_samples_split=2, score=0.835, total=   0.1s\n",
      "[CV] max_leaf_nodes=35, min_samples_split=2 ..........................\n",
      "[CV]  max_leaf_nodes=35, min_samples_split=2, score=0.847, total=   0.1s\n",
      "[CV] max_leaf_nodes=35, min_samples_split=2 ..........................\n",
      "[CV]  max_leaf_nodes=35, min_samples_split=2, score=0.837, total=   0.1s\n",
      "[CV] max_leaf_nodes=35, min_samples_split=3 ..........................\n",
      "[CV]  max_leaf_nodes=35, min_samples_split=3, score=0.846, total=   0.1s\n",
      "[CV] max_leaf_nodes=35, min_samples_split=3 ..........................\n",
      "[CV]  max_leaf_nodes=35, min_samples_split=3, score=0.848, total=   0.1s\n",
      "[CV] max_leaf_nodes=35, min_samples_split=3 ..........................\n",
      "[CV]  max_leaf_nodes=35, min_samples_split=3, score=0.835, total=   0.1s\n",
      "[CV] max_leaf_nodes=35, min_samples_split=3 ..........................\n",
      "[CV]  max_leaf_nodes=35, min_samples_split=3, score=0.847, total=   0.1s\n",
      "[CV] max_leaf_nodes=35, min_samples_split=3 ..........................\n",
      "[CV]  max_leaf_nodes=35, min_samples_split=3, score=0.837, total=   0.1s\n",
      "[CV] max_leaf_nodes=35, min_samples_split=4 ..........................\n",
      "[CV]  max_leaf_nodes=35, min_samples_split=4, score=0.846, total=   0.1s\n",
      "[CV] max_leaf_nodes=35, min_samples_split=4 ..........................\n",
      "[CV]  max_leaf_nodes=35, min_samples_split=4, score=0.848, total=   0.1s\n",
      "[CV] max_leaf_nodes=35, min_samples_split=4 ..........................\n",
      "[CV]  max_leaf_nodes=35, min_samples_split=4, score=0.835, total=   0.1s\n",
      "[CV] max_leaf_nodes=35, min_samples_split=4 ..........................\n",
      "[CV]  max_leaf_nodes=35, min_samples_split=4, score=0.847, total=   0.1s\n",
      "[CV] max_leaf_nodes=35, min_samples_split=4 ..........................\n",
      "[CV]  max_leaf_nodes=35, min_samples_split=4, score=0.837, total=   0.1s\n",
      "[CV] max_leaf_nodes=36, min_samples_split=2 ..........................\n",
      "[CV]  max_leaf_nodes=36, min_samples_split=2, score=0.846, total=   0.1s\n",
      "[CV] max_leaf_nodes=36, min_samples_split=2 ..........................\n",
      "[CV]  max_leaf_nodes=36, min_samples_split=2, score=0.848, total=   0.1s\n",
      "[CV] max_leaf_nodes=36, min_samples_split=2 ..........................\n",
      "[CV]  max_leaf_nodes=36, min_samples_split=2, score=0.835, total=   0.1s\n",
      "[CV] max_leaf_nodes=36, min_samples_split=2 ..........................\n",
      "[CV]  max_leaf_nodes=36, min_samples_split=2, score=0.847, total=   0.2s\n",
      "[CV] max_leaf_nodes=36, min_samples_split=2 ..........................\n",
      "[CV]  max_leaf_nodes=36, min_samples_split=2, score=0.835, total=   0.1s\n",
      "[CV] max_leaf_nodes=36, min_samples_split=3 ..........................\n",
      "[CV]  max_leaf_nodes=36, min_samples_split=3, score=0.846, total=   0.1s\n",
      "[CV] max_leaf_nodes=36, min_samples_split=3 ..........................\n",
      "[CV]  max_leaf_nodes=36, min_samples_split=3, score=0.848, total=   0.2s\n",
      "[CV] max_leaf_nodes=36, min_samples_split=3 ..........................\n",
      "[CV]  max_leaf_nodes=36, min_samples_split=3, score=0.835, total=   0.2s\n",
      "[CV] max_leaf_nodes=36, min_samples_split=3 ..........................\n",
      "[CV]  max_leaf_nodes=36, min_samples_split=3, score=0.847, total=   0.2s\n",
      "[CV] max_leaf_nodes=36, min_samples_split=3 ..........................\n",
      "[CV]  max_leaf_nodes=36, min_samples_split=3, score=0.835, total=   0.2s\n",
      "[CV] max_leaf_nodes=36, min_samples_split=4 ..........................\n",
      "[CV]  max_leaf_nodes=36, min_samples_split=4, score=0.846, total=   0.2s\n",
      "[CV] max_leaf_nodes=36, min_samples_split=4 ..........................\n",
      "[CV]  max_leaf_nodes=36, min_samples_split=4, score=0.848, total=   0.1s\n",
      "[CV] max_leaf_nodes=36, min_samples_split=4 ..........................\n",
      "[CV]  max_leaf_nodes=36, min_samples_split=4, score=0.835, total=   0.2s\n",
      "[CV] max_leaf_nodes=36, min_samples_split=4 ..........................\n",
      "[CV]  max_leaf_nodes=36, min_samples_split=4, score=0.847, total=   0.1s\n",
      "[CV] max_leaf_nodes=36, min_samples_split=4 ..........................\n"
     ]
    },
    {
     "name": "stdout",
     "output_type": "stream",
     "text": [
      "[CV]  max_leaf_nodes=36, min_samples_split=4, score=0.835, total=   0.1s\n",
      "[CV] max_leaf_nodes=37, min_samples_split=2 ..........................\n",
      "[CV]  max_leaf_nodes=37, min_samples_split=2, score=0.846, total=   0.1s\n",
      "[CV] max_leaf_nodes=37, min_samples_split=2 ..........................\n",
      "[CV]  max_leaf_nodes=37, min_samples_split=2, score=0.848, total=   0.1s\n",
      "[CV] max_leaf_nodes=37, min_samples_split=2 ..........................\n",
      "[CV]  max_leaf_nodes=37, min_samples_split=2, score=0.835, total=   0.1s\n",
      "[CV] max_leaf_nodes=37, min_samples_split=2 ..........................\n",
      "[CV]  max_leaf_nodes=37, min_samples_split=2, score=0.847, total=   0.1s\n",
      "[CV] max_leaf_nodes=37, min_samples_split=2 ..........................\n",
      "[CV]  max_leaf_nodes=37, min_samples_split=2, score=0.835, total=   0.1s\n",
      "[CV] max_leaf_nodes=37, min_samples_split=3 ..........................\n",
      "[CV]  max_leaf_nodes=37, min_samples_split=3, score=0.846, total=   0.1s\n",
      "[CV] max_leaf_nodes=37, min_samples_split=3 ..........................\n",
      "[CV]  max_leaf_nodes=37, min_samples_split=3, score=0.848, total=   0.1s\n",
      "[CV] max_leaf_nodes=37, min_samples_split=3 ..........................\n",
      "[CV]  max_leaf_nodes=37, min_samples_split=3, score=0.835, total=   0.2s\n",
      "[CV] max_leaf_nodes=37, min_samples_split=3 ..........................\n",
      "[CV]  max_leaf_nodes=37, min_samples_split=3, score=0.847, total=   0.1s\n",
      "[CV] max_leaf_nodes=37, min_samples_split=3 ..........................\n",
      "[CV]  max_leaf_nodes=37, min_samples_split=3, score=0.835, total=   0.1s\n",
      "[CV] max_leaf_nodes=37, min_samples_split=4 ..........................\n",
      "[CV]  max_leaf_nodes=37, min_samples_split=4, score=0.846, total=   0.1s\n",
      "[CV] max_leaf_nodes=37, min_samples_split=4 ..........................\n",
      "[CV]  max_leaf_nodes=37, min_samples_split=4, score=0.848, total=   0.1s\n",
      "[CV] max_leaf_nodes=37, min_samples_split=4 ..........................\n",
      "[CV]  max_leaf_nodes=37, min_samples_split=4, score=0.835, total=   0.1s\n",
      "[CV] max_leaf_nodes=37, min_samples_split=4 ..........................\n",
      "[CV]  max_leaf_nodes=37, min_samples_split=4, score=0.847, total=   0.1s\n",
      "[CV] max_leaf_nodes=37, min_samples_split=4 ..........................\n",
      "[CV]  max_leaf_nodes=37, min_samples_split=4, score=0.835, total=   0.1s\n",
      "[CV] max_leaf_nodes=38, min_samples_split=2 ..........................\n",
      "[CV]  max_leaf_nodes=38, min_samples_split=2, score=0.846, total=   0.1s\n",
      "[CV] max_leaf_nodes=38, min_samples_split=2 ..........................\n",
      "[CV]  max_leaf_nodes=38, min_samples_split=2, score=0.849, total=   0.1s\n",
      "[CV] max_leaf_nodes=38, min_samples_split=2 ..........................\n",
      "[CV]  max_leaf_nodes=38, min_samples_split=2, score=0.835, total=   0.1s\n",
      "[CV] max_leaf_nodes=38, min_samples_split=2 ..........................\n",
      "[CV]  max_leaf_nodes=38, min_samples_split=2, score=0.847, total=   0.1s\n",
      "[CV] max_leaf_nodes=38, min_samples_split=2 ..........................\n",
      "[CV]  max_leaf_nodes=38, min_samples_split=2, score=0.835, total=   0.1s\n",
      "[CV] max_leaf_nodes=38, min_samples_split=3 ..........................\n",
      "[CV]  max_leaf_nodes=38, min_samples_split=3, score=0.846, total=   0.1s\n",
      "[CV] max_leaf_nodes=38, min_samples_split=3 ..........................\n",
      "[CV]  max_leaf_nodes=38, min_samples_split=3, score=0.849, total=   0.1s\n",
      "[CV] max_leaf_nodes=38, min_samples_split=3 ..........................\n",
      "[CV]  max_leaf_nodes=38, min_samples_split=3, score=0.835, total=   0.1s\n",
      "[CV] max_leaf_nodes=38, min_samples_split=3 ..........................\n",
      "[CV]  max_leaf_nodes=38, min_samples_split=3, score=0.847, total=   0.1s\n",
      "[CV] max_leaf_nodes=38, min_samples_split=3 ..........................\n",
      "[CV]  max_leaf_nodes=38, min_samples_split=3, score=0.835, total=   0.1s\n",
      "[CV] max_leaf_nodes=38, min_samples_split=4 ..........................\n",
      "[CV]  max_leaf_nodes=38, min_samples_split=4, score=0.846, total=   0.1s\n",
      "[CV] max_leaf_nodes=38, min_samples_split=4 ..........................\n",
      "[CV]  max_leaf_nodes=38, min_samples_split=4, score=0.849, total=   0.1s\n",
      "[CV] max_leaf_nodes=38, min_samples_split=4 ..........................\n",
      "[CV]  max_leaf_nodes=38, min_samples_split=4, score=0.835, total=   0.1s\n",
      "[CV] max_leaf_nodes=38, min_samples_split=4 ..........................\n",
      "[CV]  max_leaf_nodes=38, min_samples_split=4, score=0.847, total=   0.1s\n",
      "[CV] max_leaf_nodes=38, min_samples_split=4 ..........................\n",
      "[CV]  max_leaf_nodes=38, min_samples_split=4, score=0.835, total=   0.1s\n",
      "[CV] max_leaf_nodes=39, min_samples_split=2 ..........................\n",
      "[CV]  max_leaf_nodes=39, min_samples_split=2, score=0.846, total=   0.1s\n",
      "[CV] max_leaf_nodes=39, min_samples_split=2 ..........................\n",
      "[CV]  max_leaf_nodes=39, min_samples_split=2, score=0.849, total=   0.1s\n",
      "[CV] max_leaf_nodes=39, min_samples_split=2 ..........................\n",
      "[CV]  max_leaf_nodes=39, min_samples_split=2, score=0.835, total=   0.1s\n",
      "[CV] max_leaf_nodes=39, min_samples_split=2 ..........................\n",
      "[CV]  max_leaf_nodes=39, min_samples_split=2, score=0.847, total=   0.1s\n",
      "[CV] max_leaf_nodes=39, min_samples_split=2 ..........................\n",
      "[CV]  max_leaf_nodes=39, min_samples_split=2, score=0.836, total=   0.1s\n",
      "[CV] max_leaf_nodes=39, min_samples_split=3 ..........................\n",
      "[CV]  max_leaf_nodes=39, min_samples_split=3, score=0.846, total=   0.1s\n",
      "[CV] max_leaf_nodes=39, min_samples_split=3 ..........................\n",
      "[CV]  max_leaf_nodes=39, min_samples_split=3, score=0.849, total=   0.1s\n",
      "[CV] max_leaf_nodes=39, min_samples_split=3 ..........................\n",
      "[CV]  max_leaf_nodes=39, min_samples_split=3, score=0.835, total=   0.1s\n",
      "[CV] max_leaf_nodes=39, min_samples_split=3 ..........................\n",
      "[CV]  max_leaf_nodes=39, min_samples_split=3, score=0.847, total=   0.1s\n",
      "[CV] max_leaf_nodes=39, min_samples_split=3 ..........................\n",
      "[CV]  max_leaf_nodes=39, min_samples_split=3, score=0.836, total=   0.1s\n",
      "[CV] max_leaf_nodes=39, min_samples_split=4 ..........................\n",
      "[CV]  max_leaf_nodes=39, min_samples_split=4, score=0.846, total=   0.1s\n",
      "[CV] max_leaf_nodes=39, min_samples_split=4 ..........................\n",
      "[CV]  max_leaf_nodes=39, min_samples_split=4, score=0.849, total=   0.1s\n",
      "[CV] max_leaf_nodes=39, min_samples_split=4 ..........................\n",
      "[CV]  max_leaf_nodes=39, min_samples_split=4, score=0.835, total=   0.1s\n",
      "[CV] max_leaf_nodes=39, min_samples_split=4 ..........................\n",
      "[CV]  max_leaf_nodes=39, min_samples_split=4, score=0.847, total=   0.1s\n",
      "[CV] max_leaf_nodes=39, min_samples_split=4 ..........................\n",
      "[CV]  max_leaf_nodes=39, min_samples_split=4, score=0.836, total=   0.1s\n",
      "[CV] max_leaf_nodes=40, min_samples_split=2 ..........................\n",
      "[CV]  max_leaf_nodes=40, min_samples_split=2, score=0.846, total=   0.1s\n",
      "[CV] max_leaf_nodes=40, min_samples_split=2 ..........................\n",
      "[CV]  max_leaf_nodes=40, min_samples_split=2, score=0.849, total=   0.1s\n",
      "[CV] max_leaf_nodes=40, min_samples_split=2 ..........................\n",
      "[CV]  max_leaf_nodes=40, min_samples_split=2, score=0.835, total=   0.1s\n",
      "[CV] max_leaf_nodes=40, min_samples_split=2 ..........................\n",
      "[CV]  max_leaf_nodes=40, min_samples_split=2, score=0.847, total=   0.1s\n",
      "[CV] max_leaf_nodes=40, min_samples_split=2 ..........................\n",
      "[CV]  max_leaf_nodes=40, min_samples_split=2, score=0.836, total=   0.1s\n",
      "[CV] max_leaf_nodes=40, min_samples_split=3 ..........................\n",
      "[CV]  max_leaf_nodes=40, min_samples_split=3, score=0.846, total=   0.1s\n",
      "[CV] max_leaf_nodes=40, min_samples_split=3 ..........................\n",
      "[CV]  max_leaf_nodes=40, min_samples_split=3, score=0.849, total=   0.1s\n",
      "[CV] max_leaf_nodes=40, min_samples_split=3 ..........................\n",
      "[CV]  max_leaf_nodes=40, min_samples_split=3, score=0.835, total=   0.1s\n",
      "[CV] max_leaf_nodes=40, min_samples_split=3 ..........................\n",
      "[CV]  max_leaf_nodes=40, min_samples_split=3, score=0.847, total=   0.1s\n",
      "[CV] max_leaf_nodes=40, min_samples_split=3 ..........................\n",
      "[CV]  max_leaf_nodes=40, min_samples_split=3, score=0.836, total=   0.1s\n",
      "[CV] max_leaf_nodes=40, min_samples_split=4 ..........................\n",
      "[CV]  max_leaf_nodes=40, min_samples_split=4, score=0.846, total=   0.1s\n",
      "[CV] max_leaf_nodes=40, min_samples_split=4 ..........................\n",
      "[CV]  max_leaf_nodes=40, min_samples_split=4, score=0.849, total=   0.1s\n",
      "[CV] max_leaf_nodes=40, min_samples_split=4 ..........................\n"
     ]
    },
    {
     "name": "stdout",
     "output_type": "stream",
     "text": [
      "[CV]  max_leaf_nodes=40, min_samples_split=4, score=0.835, total=   0.1s\n",
      "[CV] max_leaf_nodes=40, min_samples_split=4 ..........................\n",
      "[CV]  max_leaf_nodes=40, min_samples_split=4, score=0.847, total=   0.1s\n",
      "[CV] max_leaf_nodes=40, min_samples_split=4 ..........................\n",
      "[CV]  max_leaf_nodes=40, min_samples_split=4, score=0.836, total=   0.1s\n",
      "[CV] max_leaf_nodes=41, min_samples_split=2 ..........................\n",
      "[CV]  max_leaf_nodes=41, min_samples_split=2, score=0.846, total=   0.1s\n",
      "[CV] max_leaf_nodes=41, min_samples_split=2 ..........................\n",
      "[CV]  max_leaf_nodes=41, min_samples_split=2, score=0.849, total=   0.1s\n",
      "[CV] max_leaf_nodes=41, min_samples_split=2 ..........................\n",
      "[CV]  max_leaf_nodes=41, min_samples_split=2, score=0.835, total=   0.1s\n",
      "[CV] max_leaf_nodes=41, min_samples_split=2 ..........................\n",
      "[CV]  max_leaf_nodes=41, min_samples_split=2, score=0.847, total=   0.2s\n",
      "[CV] max_leaf_nodes=41, min_samples_split=2 ..........................\n",
      "[CV]  max_leaf_nodes=41, min_samples_split=2, score=0.836, total=   0.2s\n",
      "[CV] max_leaf_nodes=41, min_samples_split=3 ..........................\n",
      "[CV]  max_leaf_nodes=41, min_samples_split=3, score=0.846, total=   0.2s\n",
      "[CV] max_leaf_nodes=41, min_samples_split=3 ..........................\n",
      "[CV]  max_leaf_nodes=41, min_samples_split=3, score=0.849, total=   0.1s\n",
      "[CV] max_leaf_nodes=41, min_samples_split=3 ..........................\n",
      "[CV]  max_leaf_nodes=41, min_samples_split=3, score=0.835, total=   0.1s\n",
      "[CV] max_leaf_nodes=41, min_samples_split=3 ..........................\n",
      "[CV]  max_leaf_nodes=41, min_samples_split=3, score=0.847, total=   0.2s\n",
      "[CV] max_leaf_nodes=41, min_samples_split=3 ..........................\n",
      "[CV]  max_leaf_nodes=41, min_samples_split=3, score=0.836, total=   0.1s\n",
      "[CV] max_leaf_nodes=41, min_samples_split=4 ..........................\n",
      "[CV]  max_leaf_nodes=41, min_samples_split=4, score=0.846, total=   0.1s\n",
      "[CV] max_leaf_nodes=41, min_samples_split=4 ..........................\n",
      "[CV]  max_leaf_nodes=41, min_samples_split=4, score=0.849, total=   0.1s\n",
      "[CV] max_leaf_nodes=41, min_samples_split=4 ..........................\n",
      "[CV]  max_leaf_nodes=41, min_samples_split=4, score=0.835, total=   0.1s\n",
      "[CV] max_leaf_nodes=41, min_samples_split=4 ..........................\n",
      "[CV]  max_leaf_nodes=41, min_samples_split=4, score=0.847, total=   0.1s\n",
      "[CV] max_leaf_nodes=41, min_samples_split=4 ..........................\n",
      "[CV]  max_leaf_nodes=41, min_samples_split=4, score=0.836, total=   0.1s\n",
      "[CV] max_leaf_nodes=42, min_samples_split=2 ..........................\n",
      "[CV]  max_leaf_nodes=42, min_samples_split=2, score=0.846, total=   0.1s\n",
      "[CV] max_leaf_nodes=42, min_samples_split=2 ..........................\n",
      "[CV]  max_leaf_nodes=42, min_samples_split=2, score=0.849, total=   0.1s\n",
      "[CV] max_leaf_nodes=42, min_samples_split=2 ..........................\n",
      "[CV]  max_leaf_nodes=42, min_samples_split=2, score=0.835, total=   0.2s\n",
      "[CV] max_leaf_nodes=42, min_samples_split=2 ..........................\n",
      "[CV]  max_leaf_nodes=42, min_samples_split=2, score=0.842, total=   0.1s\n",
      "[CV] max_leaf_nodes=42, min_samples_split=2 ..........................\n",
      "[CV]  max_leaf_nodes=42, min_samples_split=2, score=0.836, total=   0.1s\n",
      "[CV] max_leaf_nodes=42, min_samples_split=3 ..........................\n",
      "[CV]  max_leaf_nodes=42, min_samples_split=3, score=0.846, total=   0.1s\n",
      "[CV] max_leaf_nodes=42, min_samples_split=3 ..........................\n",
      "[CV]  max_leaf_nodes=42, min_samples_split=3, score=0.849, total=   0.1s\n",
      "[CV] max_leaf_nodes=42, min_samples_split=3 ..........................\n",
      "[CV]  max_leaf_nodes=42, min_samples_split=3, score=0.835, total=   0.1s\n",
      "[CV] max_leaf_nodes=42, min_samples_split=3 ..........................\n",
      "[CV]  max_leaf_nodes=42, min_samples_split=3, score=0.842, total=   0.1s\n",
      "[CV] max_leaf_nodes=42, min_samples_split=3 ..........................\n",
      "[CV]  max_leaf_nodes=42, min_samples_split=3, score=0.836, total=   0.1s\n",
      "[CV] max_leaf_nodes=42, min_samples_split=4 ..........................\n",
      "[CV]  max_leaf_nodes=42, min_samples_split=4, score=0.846, total=   0.1s\n",
      "[CV] max_leaf_nodes=42, min_samples_split=4 ..........................\n",
      "[CV]  max_leaf_nodes=42, min_samples_split=4, score=0.849, total=   0.1s\n",
      "[CV] max_leaf_nodes=42, min_samples_split=4 ..........................\n",
      "[CV]  max_leaf_nodes=42, min_samples_split=4, score=0.835, total=   0.1s\n",
      "[CV] max_leaf_nodes=42, min_samples_split=4 ..........................\n",
      "[CV]  max_leaf_nodes=42, min_samples_split=4, score=0.842, total=   0.1s\n",
      "[CV] max_leaf_nodes=42, min_samples_split=4 ..........................\n",
      "[CV]  max_leaf_nodes=42, min_samples_split=4, score=0.836, total=   0.1s\n",
      "[CV] max_leaf_nodes=43, min_samples_split=2 ..........................\n",
      "[CV]  max_leaf_nodes=43, min_samples_split=2, score=0.846, total=   0.1s\n",
      "[CV] max_leaf_nodes=43, min_samples_split=2 ..........................\n",
      "[CV]  max_leaf_nodes=43, min_samples_split=2, score=0.849, total=   0.1s\n",
      "[CV] max_leaf_nodes=43, min_samples_split=2 ..........................\n",
      "[CV]  max_leaf_nodes=43, min_samples_split=2, score=0.835, total=   0.1s\n",
      "[CV] max_leaf_nodes=43, min_samples_split=2 ..........................\n",
      "[CV]  max_leaf_nodes=43, min_samples_split=2, score=0.842, total=   0.1s\n",
      "[CV] max_leaf_nodes=43, min_samples_split=2 ..........................\n",
      "[CV]  max_leaf_nodes=43, min_samples_split=2, score=0.836, total=   0.1s\n",
      "[CV] max_leaf_nodes=43, min_samples_split=3 ..........................\n",
      "[CV]  max_leaf_nodes=43, min_samples_split=3, score=0.846, total=   0.1s\n",
      "[CV] max_leaf_nodes=43, min_samples_split=3 ..........................\n",
      "[CV]  max_leaf_nodes=43, min_samples_split=3, score=0.849, total=   0.1s\n",
      "[CV] max_leaf_nodes=43, min_samples_split=3 ..........................\n",
      "[CV]  max_leaf_nodes=43, min_samples_split=3, score=0.835, total=   0.2s\n",
      "[CV] max_leaf_nodes=43, min_samples_split=3 ..........................\n",
      "[CV]  max_leaf_nodes=43, min_samples_split=3, score=0.842, total=   0.2s\n",
      "[CV] max_leaf_nodes=43, min_samples_split=3 ..........................\n",
      "[CV]  max_leaf_nodes=43, min_samples_split=3, score=0.836, total=   0.1s\n",
      "[CV] max_leaf_nodes=43, min_samples_split=4 ..........................\n",
      "[CV]  max_leaf_nodes=43, min_samples_split=4, score=0.846, total=   0.1s\n",
      "[CV] max_leaf_nodes=43, min_samples_split=4 ..........................\n",
      "[CV]  max_leaf_nodes=43, min_samples_split=4, score=0.849, total=   0.1s\n",
      "[CV] max_leaf_nodes=43, min_samples_split=4 ..........................\n",
      "[CV]  max_leaf_nodes=43, min_samples_split=4, score=0.835, total=   0.1s\n",
      "[CV] max_leaf_nodes=43, min_samples_split=4 ..........................\n",
      "[CV]  max_leaf_nodes=43, min_samples_split=4, score=0.842, total=   0.1s\n",
      "[CV] max_leaf_nodes=43, min_samples_split=4 ..........................\n",
      "[CV]  max_leaf_nodes=43, min_samples_split=4, score=0.836, total=   0.2s\n",
      "[CV] max_leaf_nodes=44, min_samples_split=2 ..........................\n",
      "[CV]  max_leaf_nodes=44, min_samples_split=2, score=0.847, total=   0.1s\n",
      "[CV] max_leaf_nodes=44, min_samples_split=2 ..........................\n",
      "[CV]  max_leaf_nodes=44, min_samples_split=2, score=0.849, total=   0.1s\n",
      "[CV] max_leaf_nodes=44, min_samples_split=2 ..........................\n",
      "[CV]  max_leaf_nodes=44, min_samples_split=2, score=0.835, total=   0.1s\n",
      "[CV] max_leaf_nodes=44, min_samples_split=2 ..........................\n",
      "[CV]  max_leaf_nodes=44, min_samples_split=2, score=0.842, total=   0.1s\n",
      "[CV] max_leaf_nodes=44, min_samples_split=2 ..........................\n",
      "[CV]  max_leaf_nodes=44, min_samples_split=2, score=0.836, total=   0.1s\n",
      "[CV] max_leaf_nodes=44, min_samples_split=3 ..........................\n",
      "[CV]  max_leaf_nodes=44, min_samples_split=3, score=0.847, total=   0.1s\n",
      "[CV] max_leaf_nodes=44, min_samples_split=3 ..........................\n",
      "[CV]  max_leaf_nodes=44, min_samples_split=3, score=0.849, total=   0.1s\n",
      "[CV] max_leaf_nodes=44, min_samples_split=3 ..........................\n",
      "[CV]  max_leaf_nodes=44, min_samples_split=3, score=0.835, total=   0.2s\n",
      "[CV] max_leaf_nodes=44, min_samples_split=3 ..........................\n",
      "[CV]  max_leaf_nodes=44, min_samples_split=3, score=0.842, total=   0.1s\n",
      "[CV] max_leaf_nodes=44, min_samples_split=3 ..........................\n"
     ]
    },
    {
     "name": "stdout",
     "output_type": "stream",
     "text": [
      "[CV]  max_leaf_nodes=44, min_samples_split=3, score=0.836, total=   0.2s\n",
      "[CV] max_leaf_nodes=44, min_samples_split=4 ..........................\n",
      "[CV]  max_leaf_nodes=44, min_samples_split=4, score=0.847, total=   0.2s\n",
      "[CV] max_leaf_nodes=44, min_samples_split=4 ..........................\n",
      "[CV]  max_leaf_nodes=44, min_samples_split=4, score=0.849, total=   0.1s\n",
      "[CV] max_leaf_nodes=44, min_samples_split=4 ..........................\n",
      "[CV]  max_leaf_nodes=44, min_samples_split=4, score=0.835, total=   0.2s\n",
      "[CV] max_leaf_nodes=44, min_samples_split=4 ..........................\n",
      "[CV]  max_leaf_nodes=44, min_samples_split=4, score=0.842, total=   0.2s\n",
      "[CV] max_leaf_nodes=44, min_samples_split=4 ..........................\n",
      "[CV]  max_leaf_nodes=44, min_samples_split=4, score=0.836, total=   0.1s\n",
      "[CV] max_leaf_nodes=45, min_samples_split=2 ..........................\n",
      "[CV]  max_leaf_nodes=45, min_samples_split=2, score=0.847, total=   0.1s\n",
      "[CV] max_leaf_nodes=45, min_samples_split=2 ..........................\n",
      "[CV]  max_leaf_nodes=45, min_samples_split=2, score=0.849, total=   0.1s\n",
      "[CV] max_leaf_nodes=45, min_samples_split=2 ..........................\n",
      "[CV]  max_leaf_nodes=45, min_samples_split=2, score=0.835, total=   0.1s\n",
      "[CV] max_leaf_nodes=45, min_samples_split=2 ..........................\n",
      "[CV]  max_leaf_nodes=45, min_samples_split=2, score=0.842, total=   0.1s\n",
      "[CV] max_leaf_nodes=45, min_samples_split=2 ..........................\n",
      "[CV]  max_leaf_nodes=45, min_samples_split=2, score=0.836, total=   0.2s\n",
      "[CV] max_leaf_nodes=45, min_samples_split=3 ..........................\n",
      "[CV]  max_leaf_nodes=45, min_samples_split=3, score=0.847, total=   0.2s\n",
      "[CV] max_leaf_nodes=45, min_samples_split=3 ..........................\n",
      "[CV]  max_leaf_nodes=45, min_samples_split=3, score=0.849, total=   0.2s\n",
      "[CV] max_leaf_nodes=45, min_samples_split=3 ..........................\n",
      "[CV]  max_leaf_nodes=45, min_samples_split=3, score=0.835, total=   0.2s\n",
      "[CV] max_leaf_nodes=45, min_samples_split=3 ..........................\n",
      "[CV]  max_leaf_nodes=45, min_samples_split=3, score=0.842, total=   0.3s\n",
      "[CV] max_leaf_nodes=45, min_samples_split=3 ..........................\n",
      "[CV]  max_leaf_nodes=45, min_samples_split=3, score=0.836, total=   0.3s\n",
      "[CV] max_leaf_nodes=45, min_samples_split=4 ..........................\n",
      "[CV]  max_leaf_nodes=45, min_samples_split=4, score=0.847, total=   0.3s\n",
      "[CV] max_leaf_nodes=45, min_samples_split=4 ..........................\n",
      "[CV]  max_leaf_nodes=45, min_samples_split=4, score=0.849, total=   0.2s\n",
      "[CV] max_leaf_nodes=45, min_samples_split=4 ..........................\n",
      "[CV]  max_leaf_nodes=45, min_samples_split=4, score=0.835, total=   0.2s\n",
      "[CV] max_leaf_nodes=45, min_samples_split=4 ..........................\n",
      "[CV]  max_leaf_nodes=45, min_samples_split=4, score=0.842, total=   0.2s\n",
      "[CV] max_leaf_nodes=45, min_samples_split=4 ..........................\n",
      "[CV]  max_leaf_nodes=45, min_samples_split=4, score=0.836, total=   0.2s\n",
      "[CV] max_leaf_nodes=46, min_samples_split=2 ..........................\n",
      "[CV]  max_leaf_nodes=46, min_samples_split=2, score=0.847, total=   0.1s\n",
      "[CV] max_leaf_nodes=46, min_samples_split=2 ..........................\n",
      "[CV]  max_leaf_nodes=46, min_samples_split=2, score=0.849, total=   0.1s\n",
      "[CV] max_leaf_nodes=46, min_samples_split=2 ..........................\n",
      "[CV]  max_leaf_nodes=46, min_samples_split=2, score=0.835, total=   0.1s\n",
      "[CV] max_leaf_nodes=46, min_samples_split=2 ..........................\n",
      "[CV]  max_leaf_nodes=46, min_samples_split=2, score=0.842, total=   0.2s\n",
      "[CV] max_leaf_nodes=46, min_samples_split=2 ..........................\n",
      "[CV]  max_leaf_nodes=46, min_samples_split=2, score=0.836, total=   0.1s\n",
      "[CV] max_leaf_nodes=46, min_samples_split=3 ..........................\n",
      "[CV]  max_leaf_nodes=46, min_samples_split=3, score=0.847, total=   0.2s\n",
      "[CV] max_leaf_nodes=46, min_samples_split=3 ..........................\n",
      "[CV]  max_leaf_nodes=46, min_samples_split=3, score=0.849, total=   0.2s\n",
      "[CV] max_leaf_nodes=46, min_samples_split=3 ..........................\n",
      "[CV]  max_leaf_nodes=46, min_samples_split=3, score=0.835, total=   0.1s\n",
      "[CV] max_leaf_nodes=46, min_samples_split=3 ..........................\n",
      "[CV]  max_leaf_nodes=46, min_samples_split=3, score=0.842, total=   0.2s\n",
      "[CV] max_leaf_nodes=46, min_samples_split=3 ..........................\n",
      "[CV]  max_leaf_nodes=46, min_samples_split=3, score=0.836, total=   0.2s\n",
      "[CV] max_leaf_nodes=46, min_samples_split=4 ..........................\n",
      "[CV]  max_leaf_nodes=46, min_samples_split=4, score=0.847, total=   0.2s\n",
      "[CV] max_leaf_nodes=46, min_samples_split=4 ..........................\n",
      "[CV]  max_leaf_nodes=46, min_samples_split=4, score=0.849, total=   0.2s\n",
      "[CV] max_leaf_nodes=46, min_samples_split=4 ..........................\n",
      "[CV]  max_leaf_nodes=46, min_samples_split=4, score=0.835, total=   0.2s\n",
      "[CV] max_leaf_nodes=46, min_samples_split=4 ..........................\n",
      "[CV]  max_leaf_nodes=46, min_samples_split=4, score=0.842, total=   0.2s\n",
      "[CV] max_leaf_nodes=46, min_samples_split=4 ..........................\n",
      "[CV]  max_leaf_nodes=46, min_samples_split=4, score=0.836, total=   0.2s\n",
      "[CV] max_leaf_nodes=47, min_samples_split=2 ..........................\n",
      "[CV]  max_leaf_nodes=47, min_samples_split=2, score=0.847, total=   0.2s\n",
      "[CV] max_leaf_nodes=47, min_samples_split=2 ..........................\n",
      "[CV]  max_leaf_nodes=47, min_samples_split=2, score=0.849, total=   0.2s\n",
      "[CV] max_leaf_nodes=47, min_samples_split=2 ..........................\n",
      "[CV]  max_leaf_nodes=47, min_samples_split=2, score=0.835, total=   0.1s\n",
      "[CV] max_leaf_nodes=47, min_samples_split=2 ..........................\n",
      "[CV]  max_leaf_nodes=47, min_samples_split=2, score=0.842, total=   0.1s\n",
      "[CV] max_leaf_nodes=47, min_samples_split=2 ..........................\n",
      "[CV]  max_leaf_nodes=47, min_samples_split=2, score=0.836, total=   0.1s\n",
      "[CV] max_leaf_nodes=47, min_samples_split=3 ..........................\n",
      "[CV]  max_leaf_nodes=47, min_samples_split=3, score=0.847, total=   0.1s\n",
      "[CV] max_leaf_nodes=47, min_samples_split=3 ..........................\n",
      "[CV]  max_leaf_nodes=47, min_samples_split=3, score=0.849, total=   0.1s\n",
      "[CV] max_leaf_nodes=47, min_samples_split=3 ..........................\n",
      "[CV]  max_leaf_nodes=47, min_samples_split=3, score=0.835, total=   0.1s\n",
      "[CV] max_leaf_nodes=47, min_samples_split=3 ..........................\n",
      "[CV]  max_leaf_nodes=47, min_samples_split=3, score=0.842, total=   0.1s\n",
      "[CV] max_leaf_nodes=47, min_samples_split=3 ..........................\n",
      "[CV]  max_leaf_nodes=47, min_samples_split=3, score=0.836, total=   0.1s\n",
      "[CV] max_leaf_nodes=47, min_samples_split=4 ..........................\n",
      "[CV]  max_leaf_nodes=47, min_samples_split=4, score=0.847, total=   0.1s\n",
      "[CV] max_leaf_nodes=47, min_samples_split=4 ..........................\n",
      "[CV]  max_leaf_nodes=47, min_samples_split=4, score=0.849, total=   0.1s\n",
      "[CV] max_leaf_nodes=47, min_samples_split=4 ..........................\n",
      "[CV]  max_leaf_nodes=47, min_samples_split=4, score=0.835, total=   0.1s\n",
      "[CV] max_leaf_nodes=47, min_samples_split=4 ..........................\n",
      "[CV]  max_leaf_nodes=47, min_samples_split=4, score=0.842, total=   0.1s\n",
      "[CV] max_leaf_nodes=47, min_samples_split=4 ..........................\n",
      "[CV]  max_leaf_nodes=47, min_samples_split=4, score=0.836, total=   0.1s\n",
      "[CV] max_leaf_nodes=48, min_samples_split=2 ..........................\n",
      "[CV]  max_leaf_nodes=48, min_samples_split=2, score=0.847, total=   0.1s\n",
      "[CV] max_leaf_nodes=48, min_samples_split=2 ..........................\n",
      "[CV]  max_leaf_nodes=48, min_samples_split=2, score=0.849, total=   0.1s\n",
      "[CV] max_leaf_nodes=48, min_samples_split=2 ..........................\n",
      "[CV]  max_leaf_nodes=48, min_samples_split=2, score=0.835, total=   0.1s\n",
      "[CV] max_leaf_nodes=48, min_samples_split=2 ..........................\n",
      "[CV]  max_leaf_nodes=48, min_samples_split=2, score=0.842, total=   0.1s\n",
      "[CV] max_leaf_nodes=48, min_samples_split=2 ..........................\n",
      "[CV]  max_leaf_nodes=48, min_samples_split=2, score=0.836, total=   0.1s\n",
      "[CV] max_leaf_nodes=48, min_samples_split=3 ..........................\n",
      "[CV]  max_leaf_nodes=48, min_samples_split=3, score=0.847, total=   0.1s\n",
      "[CV] max_leaf_nodes=48, min_samples_split=3 ..........................\n"
     ]
    },
    {
     "name": "stdout",
     "output_type": "stream",
     "text": [
      "[CV]  max_leaf_nodes=48, min_samples_split=3, score=0.849, total=   0.1s\n",
      "[CV] max_leaf_nodes=48, min_samples_split=3 ..........................\n",
      "[CV]  max_leaf_nodes=48, min_samples_split=3, score=0.835, total=   0.1s\n",
      "[CV] max_leaf_nodes=48, min_samples_split=3 ..........................\n",
      "[CV]  max_leaf_nodes=48, min_samples_split=3, score=0.842, total=   0.1s\n",
      "[CV] max_leaf_nodes=48, min_samples_split=3 ..........................\n",
      "[CV]  max_leaf_nodes=48, min_samples_split=3, score=0.836, total=   0.1s\n",
      "[CV] max_leaf_nodes=48, min_samples_split=4 ..........................\n",
      "[CV]  max_leaf_nodes=48, min_samples_split=4, score=0.847, total=   0.1s\n",
      "[CV] max_leaf_nodes=48, min_samples_split=4 ..........................\n",
      "[CV]  max_leaf_nodes=48, min_samples_split=4, score=0.849, total=   0.1s\n",
      "[CV] max_leaf_nodes=48, min_samples_split=4 ..........................\n",
      "[CV]  max_leaf_nodes=48, min_samples_split=4, score=0.835, total=   0.1s\n",
      "[CV] max_leaf_nodes=48, min_samples_split=4 ..........................\n",
      "[CV]  max_leaf_nodes=48, min_samples_split=4, score=0.842, total=   0.1s\n",
      "[CV] max_leaf_nodes=48, min_samples_split=4 ..........................\n",
      "[CV]  max_leaf_nodes=48, min_samples_split=4, score=0.836, total=   0.1s\n",
      "[CV] max_leaf_nodes=49, min_samples_split=2 ..........................\n",
      "[CV]  max_leaf_nodes=49, min_samples_split=2, score=0.847, total=   0.1s\n",
      "[CV] max_leaf_nodes=49, min_samples_split=2 ..........................\n",
      "[CV]  max_leaf_nodes=49, min_samples_split=2, score=0.849, total=   0.1s\n",
      "[CV] max_leaf_nodes=49, min_samples_split=2 ..........................\n",
      "[CV]  max_leaf_nodes=49, min_samples_split=2, score=0.835, total=   0.1s\n",
      "[CV] max_leaf_nodes=49, min_samples_split=2 ..........................\n",
      "[CV]  max_leaf_nodes=49, min_samples_split=2, score=0.840, total=   0.1s\n",
      "[CV] max_leaf_nodes=49, min_samples_split=2 ..........................\n",
      "[CV]  max_leaf_nodes=49, min_samples_split=2, score=0.836, total=   0.1s\n",
      "[CV] max_leaf_nodes=49, min_samples_split=3 ..........................\n",
      "[CV]  max_leaf_nodes=49, min_samples_split=3, score=0.847, total=   0.1s\n",
      "[CV] max_leaf_nodes=49, min_samples_split=3 ..........................\n",
      "[CV]  max_leaf_nodes=49, min_samples_split=3, score=0.849, total=   0.1s\n",
      "[CV] max_leaf_nodes=49, min_samples_split=3 ..........................\n",
      "[CV]  max_leaf_nodes=49, min_samples_split=3, score=0.835, total=   0.1s\n",
      "[CV] max_leaf_nodes=49, min_samples_split=3 ..........................\n",
      "[CV]  max_leaf_nodes=49, min_samples_split=3, score=0.840, total=   0.1s\n",
      "[CV] max_leaf_nodes=49, min_samples_split=3 ..........................\n",
      "[CV]  max_leaf_nodes=49, min_samples_split=3, score=0.836, total=   0.1s\n",
      "[CV] max_leaf_nodes=49, min_samples_split=4 ..........................\n",
      "[CV]  max_leaf_nodes=49, min_samples_split=4, score=0.847, total=   0.1s\n",
      "[CV] max_leaf_nodes=49, min_samples_split=4 ..........................\n",
      "[CV]  max_leaf_nodes=49, min_samples_split=4, score=0.849, total=   0.1s\n",
      "[CV] max_leaf_nodes=49, min_samples_split=4 ..........................\n",
      "[CV]  max_leaf_nodes=49, min_samples_split=4, score=0.835, total=   0.1s\n",
      "[CV] max_leaf_nodes=49, min_samples_split=4 ..........................\n",
      "[CV]  max_leaf_nodes=49, min_samples_split=4, score=0.840, total=   0.1s\n",
      "[CV] max_leaf_nodes=49, min_samples_split=4 ..........................\n",
      "[CV]  max_leaf_nodes=49, min_samples_split=4, score=0.836, total=   0.1s\n",
      "[CV] max_leaf_nodes=50, min_samples_split=2 ..........................\n",
      "[CV]  max_leaf_nodes=50, min_samples_split=2, score=0.848, total=   0.1s\n",
      "[CV] max_leaf_nodes=50, min_samples_split=2 ..........................\n",
      "[CV]  max_leaf_nodes=50, min_samples_split=2, score=0.851, total=   0.1s\n",
      "[CV] max_leaf_nodes=50, min_samples_split=2 ..........................\n",
      "[CV]  max_leaf_nodes=50, min_samples_split=2, score=0.835, total=   0.1s\n",
      "[CV] max_leaf_nodes=50, min_samples_split=2 ..........................\n",
      "[CV]  max_leaf_nodes=50, min_samples_split=2, score=0.840, total=   0.1s\n",
      "[CV] max_leaf_nodes=50, min_samples_split=2 ..........................\n",
      "[CV]  max_leaf_nodes=50, min_samples_split=2, score=0.836, total=   0.1s\n",
      "[CV] max_leaf_nodes=50, min_samples_split=3 ..........................\n",
      "[CV]  max_leaf_nodes=50, min_samples_split=3, score=0.848, total=   0.1s\n",
      "[CV] max_leaf_nodes=50, min_samples_split=3 ..........................\n",
      "[CV]  max_leaf_nodes=50, min_samples_split=3, score=0.851, total=   0.1s\n",
      "[CV] max_leaf_nodes=50, min_samples_split=3 ..........................\n",
      "[CV]  max_leaf_nodes=50, min_samples_split=3, score=0.835, total=   0.1s\n",
      "[CV] max_leaf_nodes=50, min_samples_split=3 ..........................\n",
      "[CV]  max_leaf_nodes=50, min_samples_split=3, score=0.840, total=   0.1s\n",
      "[CV] max_leaf_nodes=50, min_samples_split=3 ..........................\n",
      "[CV]  max_leaf_nodes=50, min_samples_split=3, score=0.836, total=   0.1s\n",
      "[CV] max_leaf_nodes=50, min_samples_split=4 ..........................\n",
      "[CV]  max_leaf_nodes=50, min_samples_split=4, score=0.848, total=   0.1s\n",
      "[CV] max_leaf_nodes=50, min_samples_split=4 ..........................\n",
      "[CV]  max_leaf_nodes=50, min_samples_split=4, score=0.851, total=   0.1s\n",
      "[CV] max_leaf_nodes=50, min_samples_split=4 ..........................\n",
      "[CV]  max_leaf_nodes=50, min_samples_split=4, score=0.835, total=   0.1s\n",
      "[CV] max_leaf_nodes=50, min_samples_split=4 ..........................\n",
      "[CV]  max_leaf_nodes=50, min_samples_split=4, score=0.840, total=   0.1s\n",
      "[CV] max_leaf_nodes=50, min_samples_split=4 ..........................\n",
      "[CV]  max_leaf_nodes=50, min_samples_split=4, score=0.836, total=   0.1s\n",
      "[CV] max_leaf_nodes=51, min_samples_split=2 ..........................\n",
      "[CV]  max_leaf_nodes=51, min_samples_split=2, score=0.848, total=   0.1s\n",
      "[CV] max_leaf_nodes=51, min_samples_split=2 ..........................\n",
      "[CV]  max_leaf_nodes=51, min_samples_split=2, score=0.851, total=   0.1s\n",
      "[CV] max_leaf_nodes=51, min_samples_split=2 ..........................\n",
      "[CV]  max_leaf_nodes=51, min_samples_split=2, score=0.835, total=   0.1s\n",
      "[CV] max_leaf_nodes=51, min_samples_split=2 ..........................\n",
      "[CV]  max_leaf_nodes=51, min_samples_split=2, score=0.845, total=   0.1s\n",
      "[CV] max_leaf_nodes=51, min_samples_split=2 ..........................\n",
      "[CV]  max_leaf_nodes=51, min_samples_split=2, score=0.836, total=   0.1s\n",
      "[CV] max_leaf_nodes=51, min_samples_split=3 ..........................\n",
      "[CV]  max_leaf_nodes=51, min_samples_split=3, score=0.848, total=   0.1s\n",
      "[CV] max_leaf_nodes=51, min_samples_split=3 ..........................\n",
      "[CV]  max_leaf_nodes=51, min_samples_split=3, score=0.851, total=   0.1s\n",
      "[CV] max_leaf_nodes=51, min_samples_split=3 ..........................\n",
      "[CV]  max_leaf_nodes=51, min_samples_split=3, score=0.835, total=   0.1s\n",
      "[CV] max_leaf_nodes=51, min_samples_split=3 ..........................\n",
      "[CV]  max_leaf_nodes=51, min_samples_split=3, score=0.845, total=   0.1s\n",
      "[CV] max_leaf_nodes=51, min_samples_split=3 ..........................\n",
      "[CV]  max_leaf_nodes=51, min_samples_split=3, score=0.836, total=   0.1s\n",
      "[CV] max_leaf_nodes=51, min_samples_split=4 ..........................\n",
      "[CV]  max_leaf_nodes=51, min_samples_split=4, score=0.848, total=   0.1s\n",
      "[CV] max_leaf_nodes=51, min_samples_split=4 ..........................\n",
      "[CV]  max_leaf_nodes=51, min_samples_split=4, score=0.851, total=   0.1s\n",
      "[CV] max_leaf_nodes=51, min_samples_split=4 ..........................\n",
      "[CV]  max_leaf_nodes=51, min_samples_split=4, score=0.835, total=   0.1s\n",
      "[CV] max_leaf_nodes=51, min_samples_split=4 ..........................\n",
      "[CV]  max_leaf_nodes=51, min_samples_split=4, score=0.845, total=   0.1s\n",
      "[CV] max_leaf_nodes=51, min_samples_split=4 ..........................\n",
      "[CV]  max_leaf_nodes=51, min_samples_split=4, score=0.836, total=   0.1s\n",
      "[CV] max_leaf_nodes=52, min_samples_split=2 ..........................\n",
      "[CV]  max_leaf_nodes=52, min_samples_split=2, score=0.848, total=   0.1s\n",
      "[CV] max_leaf_nodes=52, min_samples_split=2 ..........................\n",
      "[CV]  max_leaf_nodes=52, min_samples_split=2, score=0.851, total=   0.1s\n",
      "[CV] max_leaf_nodes=52, min_samples_split=2 ..........................\n",
      "[CV]  max_leaf_nodes=52, min_samples_split=2, score=0.835, total=   0.1s\n",
      "[CV] max_leaf_nodes=52, min_samples_split=2 ..........................\n",
      "[CV]  max_leaf_nodes=52, min_samples_split=2, score=0.845, total=   0.1s\n",
      "[CV] max_leaf_nodes=52, min_samples_split=2 ..........................\n"
     ]
    },
    {
     "name": "stdout",
     "output_type": "stream",
     "text": [
      "[CV]  max_leaf_nodes=52, min_samples_split=2, score=0.836, total=   0.2s\n",
      "[CV] max_leaf_nodes=52, min_samples_split=3 ..........................\n",
      "[CV]  max_leaf_nodes=52, min_samples_split=3, score=0.848, total=   0.1s\n",
      "[CV] max_leaf_nodes=52, min_samples_split=3 ..........................\n",
      "[CV]  max_leaf_nodes=52, min_samples_split=3, score=0.851, total=   0.2s\n",
      "[CV] max_leaf_nodes=52, min_samples_split=3 ..........................\n",
      "[CV]  max_leaf_nodes=52, min_samples_split=3, score=0.835, total=   0.1s\n",
      "[CV] max_leaf_nodes=52, min_samples_split=3 ..........................\n",
      "[CV]  max_leaf_nodes=52, min_samples_split=3, score=0.845, total=   0.2s\n",
      "[CV] max_leaf_nodes=52, min_samples_split=3 ..........................\n",
      "[CV]  max_leaf_nodes=52, min_samples_split=3, score=0.836, total=   0.1s\n",
      "[CV] max_leaf_nodes=52, min_samples_split=4 ..........................\n",
      "[CV]  max_leaf_nodes=52, min_samples_split=4, score=0.848, total=   0.1s\n",
      "[CV] max_leaf_nodes=52, min_samples_split=4 ..........................\n",
      "[CV]  max_leaf_nodes=52, min_samples_split=4, score=0.851, total=   0.1s\n",
      "[CV] max_leaf_nodes=52, min_samples_split=4 ..........................\n",
      "[CV]  max_leaf_nodes=52, min_samples_split=4, score=0.835, total=   0.1s\n",
      "[CV] max_leaf_nodes=52, min_samples_split=4 ..........................\n",
      "[CV]  max_leaf_nodes=52, min_samples_split=4, score=0.845, total=   0.1s\n",
      "[CV] max_leaf_nodes=52, min_samples_split=4 ..........................\n",
      "[CV]  max_leaf_nodes=52, min_samples_split=4, score=0.836, total=   0.1s\n",
      "[CV] max_leaf_nodes=53, min_samples_split=2 ..........................\n",
      "[CV]  max_leaf_nodes=53, min_samples_split=2, score=0.848, total=   0.1s\n",
      "[CV] max_leaf_nodes=53, min_samples_split=2 ..........................\n",
      "[CV]  max_leaf_nodes=53, min_samples_split=2, score=0.852, total=   0.1s\n",
      "[CV] max_leaf_nodes=53, min_samples_split=2 ..........................\n",
      "[CV]  max_leaf_nodes=53, min_samples_split=2, score=0.835, total=   0.1s\n",
      "[CV] max_leaf_nodes=53, min_samples_split=2 ..........................\n",
      "[CV]  max_leaf_nodes=53, min_samples_split=2, score=0.845, total=   0.1s\n",
      "[CV] max_leaf_nodes=53, min_samples_split=2 ..........................\n",
      "[CV]  max_leaf_nodes=53, min_samples_split=2, score=0.836, total=   0.1s\n",
      "[CV] max_leaf_nodes=53, min_samples_split=3 ..........................\n",
      "[CV]  max_leaf_nodes=53, min_samples_split=3, score=0.848, total=   0.1s\n",
      "[CV] max_leaf_nodes=53, min_samples_split=3 ..........................\n",
      "[CV]  max_leaf_nodes=53, min_samples_split=3, score=0.852, total=   0.1s\n",
      "[CV] max_leaf_nodes=53, min_samples_split=3 ..........................\n",
      "[CV]  max_leaf_nodes=53, min_samples_split=3, score=0.835, total=   0.1s\n",
      "[CV] max_leaf_nodes=53, min_samples_split=3 ..........................\n",
      "[CV]  max_leaf_nodes=53, min_samples_split=3, score=0.845, total=   0.1s\n",
      "[CV] max_leaf_nodes=53, min_samples_split=3 ..........................\n",
      "[CV]  max_leaf_nodes=53, min_samples_split=3, score=0.836, total=   0.1s\n",
      "[CV] max_leaf_nodes=53, min_samples_split=4 ..........................\n",
      "[CV]  max_leaf_nodes=53, min_samples_split=4, score=0.848, total=   0.1s\n",
      "[CV] max_leaf_nodes=53, min_samples_split=4 ..........................\n",
      "[CV]  max_leaf_nodes=53, min_samples_split=4, score=0.852, total=   0.1s\n",
      "[CV] max_leaf_nodes=53, min_samples_split=4 ..........................\n",
      "[CV]  max_leaf_nodes=53, min_samples_split=4, score=0.835, total=   0.1s\n",
      "[CV] max_leaf_nodes=53, min_samples_split=4 ..........................\n",
      "[CV]  max_leaf_nodes=53, min_samples_split=4, score=0.845, total=   0.1s\n",
      "[CV] max_leaf_nodes=53, min_samples_split=4 ..........................\n",
      "[CV]  max_leaf_nodes=53, min_samples_split=4, score=0.836, total=   0.1s\n",
      "[CV] max_leaf_nodes=54, min_samples_split=2 ..........................\n",
      "[CV]  max_leaf_nodes=54, min_samples_split=2, score=0.848, total=   0.1s\n",
      "[CV] max_leaf_nodes=54, min_samples_split=2 ..........................\n",
      "[CV]  max_leaf_nodes=54, min_samples_split=2, score=0.852, total=   0.1s\n",
      "[CV] max_leaf_nodes=54, min_samples_split=2 ..........................\n",
      "[CV]  max_leaf_nodes=54, min_samples_split=2, score=0.835, total=   0.1s\n",
      "[CV] max_leaf_nodes=54, min_samples_split=2 ..........................\n",
      "[CV]  max_leaf_nodes=54, min_samples_split=2, score=0.845, total=   0.1s\n",
      "[CV] max_leaf_nodes=54, min_samples_split=2 ..........................\n",
      "[CV]  max_leaf_nodes=54, min_samples_split=2, score=0.836, total=   0.1s\n",
      "[CV] max_leaf_nodes=54, min_samples_split=3 ..........................\n",
      "[CV]  max_leaf_nodes=54, min_samples_split=3, score=0.848, total=   0.1s\n",
      "[CV] max_leaf_nodes=54, min_samples_split=3 ..........................\n",
      "[CV]  max_leaf_nodes=54, min_samples_split=3, score=0.852, total=   0.1s\n",
      "[CV] max_leaf_nodes=54, min_samples_split=3 ..........................\n",
      "[CV]  max_leaf_nodes=54, min_samples_split=3, score=0.835, total=   0.1s\n",
      "[CV] max_leaf_nodes=54, min_samples_split=3 ..........................\n",
      "[CV]  max_leaf_nodes=54, min_samples_split=3, score=0.845, total=   0.1s\n",
      "[CV] max_leaf_nodes=54, min_samples_split=3 ..........................\n",
      "[CV]  max_leaf_nodes=54, min_samples_split=3, score=0.836, total=   0.1s\n",
      "[CV] max_leaf_nodes=54, min_samples_split=4 ..........................\n",
      "[CV]  max_leaf_nodes=54, min_samples_split=4, score=0.848, total=   0.1s\n",
      "[CV] max_leaf_nodes=54, min_samples_split=4 ..........................\n",
      "[CV]  max_leaf_nodes=54, min_samples_split=4, score=0.852, total=   0.1s\n",
      "[CV] max_leaf_nodes=54, min_samples_split=4 ..........................\n",
      "[CV]  max_leaf_nodes=54, min_samples_split=4, score=0.835, total=   0.1s\n",
      "[CV] max_leaf_nodes=54, min_samples_split=4 ..........................\n",
      "[CV]  max_leaf_nodes=54, min_samples_split=4, score=0.845, total=   0.1s\n",
      "[CV] max_leaf_nodes=54, min_samples_split=4 ..........................\n",
      "[CV]  max_leaf_nodes=54, min_samples_split=4, score=0.836, total=   0.1s\n",
      "[CV] max_leaf_nodes=55, min_samples_split=2 ..........................\n",
      "[CV]  max_leaf_nodes=55, min_samples_split=2, score=0.848, total=   0.1s\n",
      "[CV] max_leaf_nodes=55, min_samples_split=2 ..........................\n",
      "[CV]  max_leaf_nodes=55, min_samples_split=2, score=0.852, total=   0.1s\n",
      "[CV] max_leaf_nodes=55, min_samples_split=2 ..........................\n",
      "[CV]  max_leaf_nodes=55, min_samples_split=2, score=0.836, total=   0.1s\n",
      "[CV] max_leaf_nodes=55, min_samples_split=2 ..........................\n",
      "[CV]  max_leaf_nodes=55, min_samples_split=2, score=0.845, total=   0.1s\n",
      "[CV] max_leaf_nodes=55, min_samples_split=2 ..........................\n",
      "[CV]  max_leaf_nodes=55, min_samples_split=2, score=0.836, total=   0.1s\n",
      "[CV] max_leaf_nodes=55, min_samples_split=3 ..........................\n",
      "[CV]  max_leaf_nodes=55, min_samples_split=3, score=0.848, total=   0.1s\n",
      "[CV] max_leaf_nodes=55, min_samples_split=3 ..........................\n",
      "[CV]  max_leaf_nodes=55, min_samples_split=3, score=0.852, total=   0.1s\n",
      "[CV] max_leaf_nodes=55, min_samples_split=3 ..........................\n",
      "[CV]  max_leaf_nodes=55, min_samples_split=3, score=0.836, total=   0.1s\n",
      "[CV] max_leaf_nodes=55, min_samples_split=3 ..........................\n",
      "[CV]  max_leaf_nodes=55, min_samples_split=3, score=0.845, total=   0.1s\n",
      "[CV] max_leaf_nodes=55, min_samples_split=3 ..........................\n",
      "[CV]  max_leaf_nodes=55, min_samples_split=3, score=0.836, total=   0.1s\n",
      "[CV] max_leaf_nodes=55, min_samples_split=4 ..........................\n",
      "[CV]  max_leaf_nodes=55, min_samples_split=4, score=0.848, total=   0.1s\n",
      "[CV] max_leaf_nodes=55, min_samples_split=4 ..........................\n",
      "[CV]  max_leaf_nodes=55, min_samples_split=4, score=0.852, total=   0.1s\n",
      "[CV] max_leaf_nodes=55, min_samples_split=4 ..........................\n",
      "[CV]  max_leaf_nodes=55, min_samples_split=4, score=0.836, total=   0.1s\n",
      "[CV] max_leaf_nodes=55, min_samples_split=4 ..........................\n",
      "[CV]  max_leaf_nodes=55, min_samples_split=4, score=0.845, total=   0.1s\n",
      "[CV] max_leaf_nodes=55, min_samples_split=4 ..........................\n",
      "[CV]  max_leaf_nodes=55, min_samples_split=4, score=0.836, total=   0.1s\n",
      "[CV] max_leaf_nodes=56, min_samples_split=2 ..........................\n",
      "[CV]  max_leaf_nodes=56, min_samples_split=2, score=0.848, total=   0.1s\n",
      "[CV] max_leaf_nodes=56, min_samples_split=2 ..........................\n"
     ]
    },
    {
     "name": "stdout",
     "output_type": "stream",
     "text": [
      "[CV]  max_leaf_nodes=56, min_samples_split=2, score=0.852, total=   0.1s\n",
      "[CV] max_leaf_nodes=56, min_samples_split=2 ..........................\n",
      "[CV]  max_leaf_nodes=56, min_samples_split=2, score=0.836, total=   0.1s\n",
      "[CV] max_leaf_nodes=56, min_samples_split=2 ..........................\n",
      "[CV]  max_leaf_nodes=56, min_samples_split=2, score=0.845, total=   0.1s\n",
      "[CV] max_leaf_nodes=56, min_samples_split=2 ..........................\n",
      "[CV]  max_leaf_nodes=56, min_samples_split=2, score=0.837, total=   0.1s\n",
      "[CV] max_leaf_nodes=56, min_samples_split=3 ..........................\n",
      "[CV]  max_leaf_nodes=56, min_samples_split=3, score=0.848, total=   0.1s\n",
      "[CV] max_leaf_nodes=56, min_samples_split=3 ..........................\n",
      "[CV]  max_leaf_nodes=56, min_samples_split=3, score=0.852, total=   0.1s\n",
      "[CV] max_leaf_nodes=56, min_samples_split=3 ..........................\n",
      "[CV]  max_leaf_nodes=56, min_samples_split=3, score=0.836, total=   0.1s\n",
      "[CV] max_leaf_nodes=56, min_samples_split=3 ..........................\n",
      "[CV]  max_leaf_nodes=56, min_samples_split=3, score=0.845, total=   0.1s\n",
      "[CV] max_leaf_nodes=56, min_samples_split=3 ..........................\n",
      "[CV]  max_leaf_nodes=56, min_samples_split=3, score=0.837, total=   0.1s\n",
      "[CV] max_leaf_nodes=56, min_samples_split=4 ..........................\n",
      "[CV]  max_leaf_nodes=56, min_samples_split=4, score=0.848, total=   0.1s\n",
      "[CV] max_leaf_nodes=56, min_samples_split=4 ..........................\n",
      "[CV]  max_leaf_nodes=56, min_samples_split=4, score=0.852, total=   0.1s\n",
      "[CV] max_leaf_nodes=56, min_samples_split=4 ..........................\n",
      "[CV]  max_leaf_nodes=56, min_samples_split=4, score=0.836, total=   0.1s\n",
      "[CV] max_leaf_nodes=56, min_samples_split=4 ..........................\n",
      "[CV]  max_leaf_nodes=56, min_samples_split=4, score=0.845, total=   0.1s\n",
      "[CV] max_leaf_nodes=56, min_samples_split=4 ..........................\n",
      "[CV]  max_leaf_nodes=56, min_samples_split=4, score=0.837, total=   0.1s\n",
      "[CV] max_leaf_nodes=57, min_samples_split=2 ..........................\n",
      "[CV]  max_leaf_nodes=57, min_samples_split=2, score=0.848, total=   0.1s\n",
      "[CV] max_leaf_nodes=57, min_samples_split=2 ..........................\n",
      "[CV]  max_leaf_nodes=57, min_samples_split=2, score=0.852, total=   0.1s\n",
      "[CV] max_leaf_nodes=57, min_samples_split=2 ..........................\n",
      "[CV]  max_leaf_nodes=57, min_samples_split=2, score=0.836, total=   0.1s\n",
      "[CV] max_leaf_nodes=57, min_samples_split=2 ..........................\n",
      "[CV]  max_leaf_nodes=57, min_samples_split=2, score=0.847, total=   0.1s\n",
      "[CV] max_leaf_nodes=57, min_samples_split=2 ..........................\n",
      "[CV]  max_leaf_nodes=57, min_samples_split=2, score=0.837, total=   0.1s\n",
      "[CV] max_leaf_nodes=57, min_samples_split=3 ..........................\n",
      "[CV]  max_leaf_nodes=57, min_samples_split=3, score=0.848, total=   0.1s\n",
      "[CV] max_leaf_nodes=57, min_samples_split=3 ..........................\n",
      "[CV]  max_leaf_nodes=57, min_samples_split=3, score=0.852, total=   0.1s\n",
      "[CV] max_leaf_nodes=57, min_samples_split=3 ..........................\n",
      "[CV]  max_leaf_nodes=57, min_samples_split=3, score=0.836, total=   0.1s\n",
      "[CV] max_leaf_nodes=57, min_samples_split=3 ..........................\n",
      "[CV]  max_leaf_nodes=57, min_samples_split=3, score=0.847, total=   0.1s\n",
      "[CV] max_leaf_nodes=57, min_samples_split=3 ..........................\n",
      "[CV]  max_leaf_nodes=57, min_samples_split=3, score=0.837, total=   0.1s\n",
      "[CV] max_leaf_nodes=57, min_samples_split=4 ..........................\n",
      "[CV]  max_leaf_nodes=57, min_samples_split=4, score=0.848, total=   0.1s\n",
      "[CV] max_leaf_nodes=57, min_samples_split=4 ..........................\n",
      "[CV]  max_leaf_nodes=57, min_samples_split=4, score=0.852, total=   0.1s\n",
      "[CV] max_leaf_nodes=57, min_samples_split=4 ..........................\n",
      "[CV]  max_leaf_nodes=57, min_samples_split=4, score=0.836, total=   0.1s\n",
      "[CV] max_leaf_nodes=57, min_samples_split=4 ..........................\n",
      "[CV]  max_leaf_nodes=57, min_samples_split=4, score=0.847, total=   0.1s\n",
      "[CV] max_leaf_nodes=57, min_samples_split=4 ..........................\n",
      "[CV]  max_leaf_nodes=57, min_samples_split=4, score=0.837, total=   0.1s\n",
      "[CV] max_leaf_nodes=58, min_samples_split=2 ..........................\n",
      "[CV]  max_leaf_nodes=58, min_samples_split=2, score=0.848, total=   0.1s\n",
      "[CV] max_leaf_nodes=58, min_samples_split=2 ..........................\n",
      "[CV]  max_leaf_nodes=58, min_samples_split=2, score=0.852, total=   0.1s\n",
      "[CV] max_leaf_nodes=58, min_samples_split=2 ..........................\n",
      "[CV]  max_leaf_nodes=58, min_samples_split=2, score=0.836, total=   0.1s\n",
      "[CV] max_leaf_nodes=58, min_samples_split=2 ..........................\n",
      "[CV]  max_leaf_nodes=58, min_samples_split=2, score=0.847, total=   0.1s\n",
      "[CV] max_leaf_nodes=58, min_samples_split=2 ..........................\n",
      "[CV]  max_leaf_nodes=58, min_samples_split=2, score=0.836, total=   0.1s\n",
      "[CV] max_leaf_nodes=58, min_samples_split=3 ..........................\n",
      "[CV]  max_leaf_nodes=58, min_samples_split=3, score=0.848, total=   0.1s\n",
      "[CV] max_leaf_nodes=58, min_samples_split=3 ..........................\n",
      "[CV]  max_leaf_nodes=58, min_samples_split=3, score=0.852, total=   0.2s\n",
      "[CV] max_leaf_nodes=58, min_samples_split=3 ..........................\n",
      "[CV]  max_leaf_nodes=58, min_samples_split=3, score=0.836, total=   0.3s\n",
      "[CV] max_leaf_nodes=58, min_samples_split=3 ..........................\n",
      "[CV]  max_leaf_nodes=58, min_samples_split=3, score=0.847, total=   0.2s\n",
      "[CV] max_leaf_nodes=58, min_samples_split=3 ..........................\n",
      "[CV]  max_leaf_nodes=58, min_samples_split=3, score=0.836, total=   0.2s\n",
      "[CV] max_leaf_nodes=58, min_samples_split=4 ..........................\n",
      "[CV]  max_leaf_nodes=58, min_samples_split=4, score=0.848, total=   0.1s\n",
      "[CV] max_leaf_nodes=58, min_samples_split=4 ..........................\n",
      "[CV]  max_leaf_nodes=58, min_samples_split=4, score=0.852, total=   0.1s\n",
      "[CV] max_leaf_nodes=58, min_samples_split=4 ..........................\n",
      "[CV]  max_leaf_nodes=58, min_samples_split=4, score=0.836, total=   0.1s\n",
      "[CV] max_leaf_nodes=58, min_samples_split=4 ..........................\n",
      "[CV]  max_leaf_nodes=58, min_samples_split=4, score=0.847, total=   0.1s\n",
      "[CV] max_leaf_nodes=58, min_samples_split=4 ..........................\n",
      "[CV]  max_leaf_nodes=58, min_samples_split=4, score=0.836, total=   0.1s\n",
      "[CV] max_leaf_nodes=59, min_samples_split=2 ..........................\n",
      "[CV]  max_leaf_nodes=59, min_samples_split=2, score=0.848, total=   0.1s\n",
      "[CV] max_leaf_nodes=59, min_samples_split=2 ..........................\n",
      "[CV]  max_leaf_nodes=59, min_samples_split=2, score=0.850, total=   0.1s\n",
      "[CV] max_leaf_nodes=59, min_samples_split=2 ..........................\n",
      "[CV]  max_leaf_nodes=59, min_samples_split=2, score=0.836, total=   0.1s\n",
      "[CV] max_leaf_nodes=59, min_samples_split=2 ..........................\n",
      "[CV]  max_leaf_nodes=59, min_samples_split=2, score=0.847, total=   0.1s\n",
      "[CV] max_leaf_nodes=59, min_samples_split=2 ..........................\n",
      "[CV]  max_leaf_nodes=59, min_samples_split=2, score=0.836, total=   0.1s\n",
      "[CV] max_leaf_nodes=59, min_samples_split=3 ..........................\n",
      "[CV]  max_leaf_nodes=59, min_samples_split=3, score=0.848, total=   0.1s\n",
      "[CV] max_leaf_nodes=59, min_samples_split=3 ..........................\n",
      "[CV]  max_leaf_nodes=59, min_samples_split=3, score=0.850, total=   0.1s\n",
      "[CV] max_leaf_nodes=59, min_samples_split=3 ..........................\n",
      "[CV]  max_leaf_nodes=59, min_samples_split=3, score=0.836, total=   0.1s\n",
      "[CV] max_leaf_nodes=59, min_samples_split=3 ..........................\n",
      "[CV]  max_leaf_nodes=59, min_samples_split=3, score=0.847, total=   0.1s\n",
      "[CV] max_leaf_nodes=59, min_samples_split=3 ..........................\n",
      "[CV]  max_leaf_nodes=59, min_samples_split=3, score=0.836, total=   0.1s\n",
      "[CV] max_leaf_nodes=59, min_samples_split=4 ..........................\n",
      "[CV]  max_leaf_nodes=59, min_samples_split=4, score=0.848, total=   0.1s\n",
      "[CV] max_leaf_nodes=59, min_samples_split=4 ..........................\n",
      "[CV]  max_leaf_nodes=59, min_samples_split=4, score=0.850, total=   0.1s\n",
      "[CV] max_leaf_nodes=59, min_samples_split=4 ..........................\n",
      "[CV]  max_leaf_nodes=59, min_samples_split=4, score=0.836, total=   0.1s\n",
      "[CV] max_leaf_nodes=59, min_samples_split=4 ..........................\n"
     ]
    },
    {
     "name": "stdout",
     "output_type": "stream",
     "text": [
      "[CV]  max_leaf_nodes=59, min_samples_split=4, score=0.847, total=   0.2s\n",
      "[CV] max_leaf_nodes=59, min_samples_split=4 ..........................\n",
      "[CV]  max_leaf_nodes=59, min_samples_split=4, score=0.836, total=   0.1s\n",
      "[CV] max_leaf_nodes=60, min_samples_split=2 ..........................\n",
      "[CV]  max_leaf_nodes=60, min_samples_split=2, score=0.848, total=   0.1s\n",
      "[CV] max_leaf_nodes=60, min_samples_split=2 ..........................\n",
      "[CV]  max_leaf_nodes=60, min_samples_split=2, score=0.850, total=   0.1s\n",
      "[CV] max_leaf_nodes=60, min_samples_split=2 ..........................\n",
      "[CV]  max_leaf_nodes=60, min_samples_split=2, score=0.836, total=   0.2s\n",
      "[CV] max_leaf_nodes=60, min_samples_split=2 ..........................\n",
      "[CV]  max_leaf_nodes=60, min_samples_split=2, score=0.847, total=   0.1s\n",
      "[CV] max_leaf_nodes=60, min_samples_split=2 ..........................\n",
      "[CV]  max_leaf_nodes=60, min_samples_split=2, score=0.836, total=   0.1s\n",
      "[CV] max_leaf_nodes=60, min_samples_split=3 ..........................\n",
      "[CV]  max_leaf_nodes=60, min_samples_split=3, score=0.848, total=   0.1s\n",
      "[CV] max_leaf_nodes=60, min_samples_split=3 ..........................\n",
      "[CV]  max_leaf_nodes=60, min_samples_split=3, score=0.850, total=   0.1s\n",
      "[CV] max_leaf_nodes=60, min_samples_split=3 ..........................\n",
      "[CV]  max_leaf_nodes=60, min_samples_split=3, score=0.836, total=   0.1s\n",
      "[CV] max_leaf_nodes=60, min_samples_split=3 ..........................\n",
      "[CV]  max_leaf_nodes=60, min_samples_split=3, score=0.847, total=   0.1s\n",
      "[CV] max_leaf_nodes=60, min_samples_split=3 ..........................\n",
      "[CV]  max_leaf_nodes=60, min_samples_split=3, score=0.836, total=   0.1s\n",
      "[CV] max_leaf_nodes=60, min_samples_split=4 ..........................\n",
      "[CV]  max_leaf_nodes=60, min_samples_split=4, score=0.848, total=   0.1s\n",
      "[CV] max_leaf_nodes=60, min_samples_split=4 ..........................\n",
      "[CV]  max_leaf_nodes=60, min_samples_split=4, score=0.850, total=   0.1s\n",
      "[CV] max_leaf_nodes=60, min_samples_split=4 ..........................\n",
      "[CV]  max_leaf_nodes=60, min_samples_split=4, score=0.836, total=   0.1s\n",
      "[CV] max_leaf_nodes=60, min_samples_split=4 ..........................\n",
      "[CV]  max_leaf_nodes=60, min_samples_split=4, score=0.847, total=   0.1s\n",
      "[CV] max_leaf_nodes=60, min_samples_split=4 ..........................\n",
      "[CV]  max_leaf_nodes=60, min_samples_split=4, score=0.836, total=   0.1s\n",
      "[CV] max_leaf_nodes=61, min_samples_split=2 ..........................\n",
      "[CV]  max_leaf_nodes=61, min_samples_split=2, score=0.848, total=   0.1s\n",
      "[CV] max_leaf_nodes=61, min_samples_split=2 ..........................\n",
      "[CV]  max_leaf_nodes=61, min_samples_split=2, score=0.850, total=   0.1s\n",
      "[CV] max_leaf_nodes=61, min_samples_split=2 ..........................\n",
      "[CV]  max_leaf_nodes=61, min_samples_split=2, score=0.836, total=   0.1s\n",
      "[CV] max_leaf_nodes=61, min_samples_split=2 ..........................\n",
      "[CV]  max_leaf_nodes=61, min_samples_split=2, score=0.847, total=   0.1s\n",
      "[CV] max_leaf_nodes=61, min_samples_split=2 ..........................\n",
      "[CV]  max_leaf_nodes=61, min_samples_split=2, score=0.836, total=   0.1s\n",
      "[CV] max_leaf_nodes=61, min_samples_split=3 ..........................\n",
      "[CV]  max_leaf_nodes=61, min_samples_split=3, score=0.848, total=   0.1s\n",
      "[CV] max_leaf_nodes=61, min_samples_split=3 ..........................\n",
      "[CV]  max_leaf_nodes=61, min_samples_split=3, score=0.850, total=   0.1s\n",
      "[CV] max_leaf_nodes=61, min_samples_split=3 ..........................\n",
      "[CV]  max_leaf_nodes=61, min_samples_split=3, score=0.836, total=   0.1s\n",
      "[CV] max_leaf_nodes=61, min_samples_split=3 ..........................\n",
      "[CV]  max_leaf_nodes=61, min_samples_split=3, score=0.847, total=   0.1s\n",
      "[CV] max_leaf_nodes=61, min_samples_split=3 ..........................\n",
      "[CV]  max_leaf_nodes=61, min_samples_split=3, score=0.836, total=   0.1s\n",
      "[CV] max_leaf_nodes=61, min_samples_split=4 ..........................\n",
      "[CV]  max_leaf_nodes=61, min_samples_split=4, score=0.848, total=   0.1s\n",
      "[CV] max_leaf_nodes=61, min_samples_split=4 ..........................\n",
      "[CV]  max_leaf_nodes=61, min_samples_split=4, score=0.850, total=   0.1s\n",
      "[CV] max_leaf_nodes=61, min_samples_split=4 ..........................\n",
      "[CV]  max_leaf_nodes=61, min_samples_split=4, score=0.836, total=   0.1s\n",
      "[CV] max_leaf_nodes=61, min_samples_split=4 ..........................\n",
      "[CV]  max_leaf_nodes=61, min_samples_split=4, score=0.847, total=   0.1s\n",
      "[CV] max_leaf_nodes=61, min_samples_split=4 ..........................\n",
      "[CV]  max_leaf_nodes=61, min_samples_split=4, score=0.836, total=   0.1s\n",
      "[CV] max_leaf_nodes=62, min_samples_split=2 ..........................\n",
      "[CV]  max_leaf_nodes=62, min_samples_split=2, score=0.848, total=   0.1s\n",
      "[CV] max_leaf_nodes=62, min_samples_split=2 ..........................\n",
      "[CV]  max_leaf_nodes=62, min_samples_split=2, score=0.850, total=   0.1s\n",
      "[CV] max_leaf_nodes=62, min_samples_split=2 ..........................\n",
      "[CV]  max_leaf_nodes=62, min_samples_split=2, score=0.836, total=   0.1s\n",
      "[CV] max_leaf_nodes=62, min_samples_split=2 ..........................\n",
      "[CV]  max_leaf_nodes=62, min_samples_split=2, score=0.847, total=   0.1s\n",
      "[CV] max_leaf_nodes=62, min_samples_split=2 ..........................\n",
      "[CV]  max_leaf_nodes=62, min_samples_split=2, score=0.836, total=   0.1s\n",
      "[CV] max_leaf_nodes=62, min_samples_split=3 ..........................\n",
      "[CV]  max_leaf_nodes=62, min_samples_split=3, score=0.848, total=   0.1s\n",
      "[CV] max_leaf_nodes=62, min_samples_split=3 ..........................\n",
      "[CV]  max_leaf_nodes=62, min_samples_split=3, score=0.850, total=   0.1s\n",
      "[CV] max_leaf_nodes=62, min_samples_split=3 ..........................\n",
      "[CV]  max_leaf_nodes=62, min_samples_split=3, score=0.836, total=   0.1s\n",
      "[CV] max_leaf_nodes=62, min_samples_split=3 ..........................\n",
      "[CV]  max_leaf_nodes=62, min_samples_split=3, score=0.847, total=   0.1s\n",
      "[CV] max_leaf_nodes=62, min_samples_split=3 ..........................\n",
      "[CV]  max_leaf_nodes=62, min_samples_split=3, score=0.836, total=   0.1s\n",
      "[CV] max_leaf_nodes=62, min_samples_split=4 ..........................\n",
      "[CV]  max_leaf_nodes=62, min_samples_split=4, score=0.848, total=   0.1s\n",
      "[CV] max_leaf_nodes=62, min_samples_split=4 ..........................\n",
      "[CV]  max_leaf_nodes=62, min_samples_split=4, score=0.850, total=   0.1s\n",
      "[CV] max_leaf_nodes=62, min_samples_split=4 ..........................\n",
      "[CV]  max_leaf_nodes=62, min_samples_split=4, score=0.836, total=   0.1s\n",
      "[CV] max_leaf_nodes=62, min_samples_split=4 ..........................\n",
      "[CV]  max_leaf_nodes=62, min_samples_split=4, score=0.847, total=   0.1s\n",
      "[CV] max_leaf_nodes=62, min_samples_split=4 ..........................\n",
      "[CV]  max_leaf_nodes=62, min_samples_split=4, score=0.836, total=   0.1s\n",
      "[CV] max_leaf_nodes=63, min_samples_split=2 ..........................\n",
      "[CV]  max_leaf_nodes=63, min_samples_split=2, score=0.848, total=   0.1s\n",
      "[CV] max_leaf_nodes=63, min_samples_split=2 ..........................\n",
      "[CV]  max_leaf_nodes=63, min_samples_split=2, score=0.850, total=   0.1s\n",
      "[CV] max_leaf_nodes=63, min_samples_split=2 ..........................\n",
      "[CV]  max_leaf_nodes=63, min_samples_split=2, score=0.836, total=   0.1s\n",
      "[CV] max_leaf_nodes=63, min_samples_split=2 ..........................\n",
      "[CV]  max_leaf_nodes=63, min_samples_split=2, score=0.847, total=   0.1s\n",
      "[CV] max_leaf_nodes=63, min_samples_split=2 ..........................\n",
      "[CV]  max_leaf_nodes=63, min_samples_split=2, score=0.836, total=   0.1s\n",
      "[CV] max_leaf_nodes=63, min_samples_split=3 ..........................\n",
      "[CV]  max_leaf_nodes=63, min_samples_split=3, score=0.848, total=   0.1s\n",
      "[CV] max_leaf_nodes=63, min_samples_split=3 ..........................\n",
      "[CV]  max_leaf_nodes=63, min_samples_split=3, score=0.850, total=   0.1s\n",
      "[CV] max_leaf_nodes=63, min_samples_split=3 ..........................\n",
      "[CV]  max_leaf_nodes=63, min_samples_split=3, score=0.836, total=   0.1s\n",
      "[CV] max_leaf_nodes=63, min_samples_split=3 ..........................\n",
      "[CV]  max_leaf_nodes=63, min_samples_split=3, score=0.847, total=   0.1s\n",
      "[CV] max_leaf_nodes=63, min_samples_split=3 ..........................\n",
      "[CV]  max_leaf_nodes=63, min_samples_split=3, score=0.836, total=   0.1s\n",
      "[CV] max_leaf_nodes=63, min_samples_split=4 ..........................\n",
      "[CV]  max_leaf_nodes=63, min_samples_split=4, score=0.848, total=   0.1s\n",
      "[CV] max_leaf_nodes=63, min_samples_split=4 ..........................\n"
     ]
    },
    {
     "name": "stdout",
     "output_type": "stream",
     "text": [
      "[CV]  max_leaf_nodes=63, min_samples_split=4, score=0.850, total=   0.1s\n",
      "[CV] max_leaf_nodes=63, min_samples_split=4 ..........................\n",
      "[CV]  max_leaf_nodes=63, min_samples_split=4, score=0.836, total=   0.1s\n",
      "[CV] max_leaf_nodes=63, min_samples_split=4 ..........................\n",
      "[CV]  max_leaf_nodes=63, min_samples_split=4, score=0.847, total=   0.1s\n",
      "[CV] max_leaf_nodes=63, min_samples_split=4 ..........................\n",
      "[CV]  max_leaf_nodes=63, min_samples_split=4, score=0.836, total=   0.1s\n",
      "[CV] max_leaf_nodes=64, min_samples_split=2 ..........................\n",
      "[CV]  max_leaf_nodes=64, min_samples_split=2, score=0.848, total=   0.1s\n",
      "[CV] max_leaf_nodes=64, min_samples_split=2 ..........................\n",
      "[CV]  max_leaf_nodes=64, min_samples_split=2, score=0.850, total=   0.1s\n",
      "[CV] max_leaf_nodes=64, min_samples_split=2 ..........................\n",
      "[CV]  max_leaf_nodes=64, min_samples_split=2, score=0.836, total=   0.1s\n",
      "[CV] max_leaf_nodes=64, min_samples_split=2 ..........................\n",
      "[CV]  max_leaf_nodes=64, min_samples_split=2, score=0.847, total=   0.1s\n",
      "[CV] max_leaf_nodes=64, min_samples_split=2 ..........................\n",
      "[CV]  max_leaf_nodes=64, min_samples_split=2, score=0.836, total=   0.2s\n",
      "[CV] max_leaf_nodes=64, min_samples_split=3 ..........................\n",
      "[CV]  max_leaf_nodes=64, min_samples_split=3, score=0.848, total=   0.1s\n",
      "[CV] max_leaf_nodes=64, min_samples_split=3 ..........................\n",
      "[CV]  max_leaf_nodes=64, min_samples_split=3, score=0.850, total=   0.2s\n",
      "[CV] max_leaf_nodes=64, min_samples_split=3 ..........................\n",
      "[CV]  max_leaf_nodes=64, min_samples_split=3, score=0.836, total=   0.1s\n",
      "[CV] max_leaf_nodes=64, min_samples_split=3 ..........................\n",
      "[CV]  max_leaf_nodes=64, min_samples_split=3, score=0.847, total=   0.2s\n",
      "[CV] max_leaf_nodes=64, min_samples_split=3 ..........................\n",
      "[CV]  max_leaf_nodes=64, min_samples_split=3, score=0.836, total=   0.1s\n",
      "[CV] max_leaf_nodes=64, min_samples_split=4 ..........................\n",
      "[CV]  max_leaf_nodes=64, min_samples_split=4, score=0.848, total=   0.2s\n",
      "[CV] max_leaf_nodes=64, min_samples_split=4 ..........................\n",
      "[CV]  max_leaf_nodes=64, min_samples_split=4, score=0.850, total=   0.1s\n",
      "[CV] max_leaf_nodes=64, min_samples_split=4 ..........................\n",
      "[CV]  max_leaf_nodes=64, min_samples_split=4, score=0.836, total=   0.1s\n",
      "[CV] max_leaf_nodes=64, min_samples_split=4 ..........................\n",
      "[CV]  max_leaf_nodes=64, min_samples_split=4, score=0.847, total=   0.1s\n",
      "[CV] max_leaf_nodes=64, min_samples_split=4 ..........................\n",
      "[CV]  max_leaf_nodes=64, min_samples_split=4, score=0.836, total=   0.1s\n",
      "[CV] max_leaf_nodes=65, min_samples_split=2 ..........................\n",
      "[CV]  max_leaf_nodes=65, min_samples_split=2, score=0.848, total=   0.1s\n",
      "[CV] max_leaf_nodes=65, min_samples_split=2 ..........................\n",
      "[CV]  max_leaf_nodes=65, min_samples_split=2, score=0.850, total=   0.1s\n",
      "[CV] max_leaf_nodes=65, min_samples_split=2 ..........................\n",
      "[CV]  max_leaf_nodes=65, min_samples_split=2, score=0.836, total=   0.1s\n",
      "[CV] max_leaf_nodes=65, min_samples_split=2 ..........................\n",
      "[CV]  max_leaf_nodes=65, min_samples_split=2, score=0.847, total=   0.1s\n",
      "[CV] max_leaf_nodes=65, min_samples_split=2 ..........................\n",
      "[CV]  max_leaf_nodes=65, min_samples_split=2, score=0.836, total=   0.1s\n",
      "[CV] max_leaf_nodes=65, min_samples_split=3 ..........................\n",
      "[CV]  max_leaf_nodes=65, min_samples_split=3, score=0.848, total=   0.1s\n",
      "[CV] max_leaf_nodes=65, min_samples_split=3 ..........................\n",
      "[CV]  max_leaf_nodes=65, min_samples_split=3, score=0.850, total=   0.1s\n",
      "[CV] max_leaf_nodes=65, min_samples_split=3 ..........................\n",
      "[CV]  max_leaf_nodes=65, min_samples_split=3, score=0.836, total=   0.1s\n",
      "[CV] max_leaf_nodes=65, min_samples_split=3 ..........................\n",
      "[CV]  max_leaf_nodes=65, min_samples_split=3, score=0.847, total=   0.1s\n",
      "[CV] max_leaf_nodes=65, min_samples_split=3 ..........................\n",
      "[CV]  max_leaf_nodes=65, min_samples_split=3, score=0.836, total=   0.1s\n",
      "[CV] max_leaf_nodes=65, min_samples_split=4 ..........................\n",
      "[CV]  max_leaf_nodes=65, min_samples_split=4, score=0.848, total=   0.1s\n",
      "[CV] max_leaf_nodes=65, min_samples_split=4 ..........................\n",
      "[CV]  max_leaf_nodes=65, min_samples_split=4, score=0.850, total=   0.1s\n",
      "[CV] max_leaf_nodes=65, min_samples_split=4 ..........................\n",
      "[CV]  max_leaf_nodes=65, min_samples_split=4, score=0.836, total=   0.1s\n",
      "[CV] max_leaf_nodes=65, min_samples_split=4 ..........................\n",
      "[CV]  max_leaf_nodes=65, min_samples_split=4, score=0.847, total=   0.1s\n",
      "[CV] max_leaf_nodes=65, min_samples_split=4 ..........................\n",
      "[CV]  max_leaf_nodes=65, min_samples_split=4, score=0.836, total=   0.1s\n",
      "[CV] max_leaf_nodes=66, min_samples_split=2 ..........................\n",
      "[CV]  max_leaf_nodes=66, min_samples_split=2, score=0.848, total=   0.1s\n",
      "[CV] max_leaf_nodes=66, min_samples_split=2 ..........................\n",
      "[CV]  max_leaf_nodes=66, min_samples_split=2, score=0.850, total=   0.1s\n",
      "[CV] max_leaf_nodes=66, min_samples_split=2 ..........................\n",
      "[CV]  max_leaf_nodes=66, min_samples_split=2, score=0.835, total=   0.1s\n",
      "[CV] max_leaf_nodes=66, min_samples_split=2 ..........................\n",
      "[CV]  max_leaf_nodes=66, min_samples_split=2, score=0.847, total=   0.1s\n",
      "[CV] max_leaf_nodes=66, min_samples_split=2 ..........................\n",
      "[CV]  max_leaf_nodes=66, min_samples_split=2, score=0.836, total=   0.1s\n",
      "[CV] max_leaf_nodes=66, min_samples_split=3 ..........................\n",
      "[CV]  max_leaf_nodes=66, min_samples_split=3, score=0.848, total=   0.1s\n",
      "[CV] max_leaf_nodes=66, min_samples_split=3 ..........................\n",
      "[CV]  max_leaf_nodes=66, min_samples_split=3, score=0.850, total=   0.1s\n",
      "[CV] max_leaf_nodes=66, min_samples_split=3 ..........................\n",
      "[CV]  max_leaf_nodes=66, min_samples_split=3, score=0.835, total=   0.1s\n",
      "[CV] max_leaf_nodes=66, min_samples_split=3 ..........................\n",
      "[CV]  max_leaf_nodes=66, min_samples_split=3, score=0.847, total=   0.1s\n",
      "[CV] max_leaf_nodes=66, min_samples_split=3 ..........................\n",
      "[CV]  max_leaf_nodes=66, min_samples_split=3, score=0.836, total=   0.1s\n",
      "[CV] max_leaf_nodes=66, min_samples_split=4 ..........................\n",
      "[CV]  max_leaf_nodes=66, min_samples_split=4, score=0.848, total=   0.1s\n",
      "[CV] max_leaf_nodes=66, min_samples_split=4 ..........................\n",
      "[CV]  max_leaf_nodes=66, min_samples_split=4, score=0.850, total=   0.1s\n",
      "[CV] max_leaf_nodes=66, min_samples_split=4 ..........................\n",
      "[CV]  max_leaf_nodes=66, min_samples_split=4, score=0.835, total=   0.1s\n",
      "[CV] max_leaf_nodes=66, min_samples_split=4 ..........................\n",
      "[CV]  max_leaf_nodes=66, min_samples_split=4, score=0.847, total=   0.1s\n",
      "[CV] max_leaf_nodes=66, min_samples_split=4 ..........................\n",
      "[CV]  max_leaf_nodes=66, min_samples_split=4, score=0.836, total=   0.1s\n",
      "[CV] max_leaf_nodes=67, min_samples_split=2 ..........................\n",
      "[CV]  max_leaf_nodes=67, min_samples_split=2, score=0.848, total=   0.1s\n",
      "[CV] max_leaf_nodes=67, min_samples_split=2 ..........................\n",
      "[CV]  max_leaf_nodes=67, min_samples_split=2, score=0.850, total=   0.1s\n",
      "[CV] max_leaf_nodes=67, min_samples_split=2 ..........................\n",
      "[CV]  max_leaf_nodes=67, min_samples_split=2, score=0.835, total=   0.1s\n",
      "[CV] max_leaf_nodes=67, min_samples_split=2 ..........................\n",
      "[CV]  max_leaf_nodes=67, min_samples_split=2, score=0.847, total=   0.1s\n",
      "[CV] max_leaf_nodes=67, min_samples_split=2 ..........................\n",
      "[CV]  max_leaf_nodes=67, min_samples_split=2, score=0.836, total=   0.1s\n",
      "[CV] max_leaf_nodes=67, min_samples_split=3 ..........................\n",
      "[CV]  max_leaf_nodes=67, min_samples_split=3, score=0.848, total=   0.1s\n",
      "[CV] max_leaf_nodes=67, min_samples_split=3 ..........................\n",
      "[CV]  max_leaf_nodes=67, min_samples_split=3, score=0.850, total=   0.1s\n",
      "[CV] max_leaf_nodes=67, min_samples_split=3 ..........................\n",
      "[CV]  max_leaf_nodes=67, min_samples_split=3, score=0.835, total=   0.1s\n",
      "[CV] max_leaf_nodes=67, min_samples_split=3 ..........................\n",
      "[CV]  max_leaf_nodes=67, min_samples_split=3, score=0.847, total=   0.1s\n",
      "[CV] max_leaf_nodes=67, min_samples_split=3 ..........................\n"
     ]
    },
    {
     "name": "stdout",
     "output_type": "stream",
     "text": [
      "[CV]  max_leaf_nodes=67, min_samples_split=3, score=0.836, total=   0.1s\n",
      "[CV] max_leaf_nodes=67, min_samples_split=4 ..........................\n",
      "[CV]  max_leaf_nodes=67, min_samples_split=4, score=0.848, total=   0.1s\n",
      "[CV] max_leaf_nodes=67, min_samples_split=4 ..........................\n",
      "[CV]  max_leaf_nodes=67, min_samples_split=4, score=0.850, total=   0.1s\n",
      "[CV] max_leaf_nodes=67, min_samples_split=4 ..........................\n",
      "[CV]  max_leaf_nodes=67, min_samples_split=4, score=0.835, total=   0.1s\n",
      "[CV] max_leaf_nodes=67, min_samples_split=4 ..........................\n",
      "[CV]  max_leaf_nodes=67, min_samples_split=4, score=0.847, total=   0.1s\n",
      "[CV] max_leaf_nodes=67, min_samples_split=4 ..........................\n",
      "[CV]  max_leaf_nodes=67, min_samples_split=4, score=0.836, total=   0.1s\n",
      "[CV] max_leaf_nodes=68, min_samples_split=2 ..........................\n",
      "[CV]  max_leaf_nodes=68, min_samples_split=2, score=0.848, total=   0.1s\n",
      "[CV] max_leaf_nodes=68, min_samples_split=2 ..........................\n",
      "[CV]  max_leaf_nodes=68, min_samples_split=2, score=0.850, total=   0.1s\n",
      "[CV] max_leaf_nodes=68, min_samples_split=2 ..........................\n",
      "[CV]  max_leaf_nodes=68, min_samples_split=2, score=0.835, total=   0.1s\n",
      "[CV] max_leaf_nodes=68, min_samples_split=2 ..........................\n",
      "[CV]  max_leaf_nodes=68, min_samples_split=2, score=0.847, total=   0.1s\n",
      "[CV] max_leaf_nodes=68, min_samples_split=2 ..........................\n",
      "[CV]  max_leaf_nodes=68, min_samples_split=2, score=0.836, total=   0.1s\n",
      "[CV] max_leaf_nodes=68, min_samples_split=3 ..........................\n",
      "[CV]  max_leaf_nodes=68, min_samples_split=3, score=0.848, total=   0.1s\n",
      "[CV] max_leaf_nodes=68, min_samples_split=3 ..........................\n",
      "[CV]  max_leaf_nodes=68, min_samples_split=3, score=0.850, total=   0.1s\n",
      "[CV] max_leaf_nodes=68, min_samples_split=3 ..........................\n",
      "[CV]  max_leaf_nodes=68, min_samples_split=3, score=0.835, total=   0.1s\n",
      "[CV] max_leaf_nodes=68, min_samples_split=3 ..........................\n",
      "[CV]  max_leaf_nodes=68, min_samples_split=3, score=0.847, total=   0.1s\n",
      "[CV] max_leaf_nodes=68, min_samples_split=3 ..........................\n",
      "[CV]  max_leaf_nodes=68, min_samples_split=3, score=0.836, total=   0.1s\n",
      "[CV] max_leaf_nodes=68, min_samples_split=4 ..........................\n",
      "[CV]  max_leaf_nodes=68, min_samples_split=4, score=0.848, total=   0.1s\n",
      "[CV] max_leaf_nodes=68, min_samples_split=4 ..........................\n",
      "[CV]  max_leaf_nodes=68, min_samples_split=4, score=0.850, total=   0.1s\n",
      "[CV] max_leaf_nodes=68, min_samples_split=4 ..........................\n",
      "[CV]  max_leaf_nodes=68, min_samples_split=4, score=0.835, total=   0.1s\n",
      "[CV] max_leaf_nodes=68, min_samples_split=4 ..........................\n",
      "[CV]  max_leaf_nodes=68, min_samples_split=4, score=0.847, total=   0.1s\n",
      "[CV] max_leaf_nodes=68, min_samples_split=4 ..........................\n",
      "[CV]  max_leaf_nodes=68, min_samples_split=4, score=0.836, total=   0.1s\n",
      "[CV] max_leaf_nodes=69, min_samples_split=2 ..........................\n",
      "[CV]  max_leaf_nodes=69, min_samples_split=2, score=0.848, total=   0.1s\n",
      "[CV] max_leaf_nodes=69, min_samples_split=2 ..........................\n",
      "[CV]  max_leaf_nodes=69, min_samples_split=2, score=0.850, total=   0.1s\n",
      "[CV] max_leaf_nodes=69, min_samples_split=2 ..........................\n",
      "[CV]  max_leaf_nodes=69, min_samples_split=2, score=0.835, total=   0.1s\n",
      "[CV] max_leaf_nodes=69, min_samples_split=2 ..........................\n",
      "[CV]  max_leaf_nodes=69, min_samples_split=2, score=0.847, total=   0.1s\n",
      "[CV] max_leaf_nodes=69, min_samples_split=2 ..........................\n",
      "[CV]  max_leaf_nodes=69, min_samples_split=2, score=0.836, total=   0.1s\n",
      "[CV] max_leaf_nodes=69, min_samples_split=3 ..........................\n",
      "[CV]  max_leaf_nodes=69, min_samples_split=3, score=0.848, total=   0.1s\n",
      "[CV] max_leaf_nodes=69, min_samples_split=3 ..........................\n",
      "[CV]  max_leaf_nodes=69, min_samples_split=3, score=0.850, total=   0.1s\n",
      "[CV] max_leaf_nodes=69, min_samples_split=3 ..........................\n",
      "[CV]  max_leaf_nodes=69, min_samples_split=3, score=0.835, total=   0.1s\n",
      "[CV] max_leaf_nodes=69, min_samples_split=3 ..........................\n",
      "[CV]  max_leaf_nodes=69, min_samples_split=3, score=0.847, total=   0.1s\n",
      "[CV] max_leaf_nodes=69, min_samples_split=3 ..........................\n",
      "[CV]  max_leaf_nodes=69, min_samples_split=3, score=0.836, total=   0.1s\n",
      "[CV] max_leaf_nodes=69, min_samples_split=4 ..........................\n",
      "[CV]  max_leaf_nodes=69, min_samples_split=4, score=0.848, total=   0.1s\n",
      "[CV] max_leaf_nodes=69, min_samples_split=4 ..........................\n",
      "[CV]  max_leaf_nodes=69, min_samples_split=4, score=0.850, total=   0.1s\n",
      "[CV] max_leaf_nodes=69, min_samples_split=4 ..........................\n",
      "[CV]  max_leaf_nodes=69, min_samples_split=4, score=0.835, total=   0.1s\n",
      "[CV] max_leaf_nodes=69, min_samples_split=4 ..........................\n",
      "[CV]  max_leaf_nodes=69, min_samples_split=4, score=0.847, total=   0.1s\n",
      "[CV] max_leaf_nodes=69, min_samples_split=4 ..........................\n",
      "[CV]  max_leaf_nodes=69, min_samples_split=4, score=0.836, total=   0.1s\n",
      "[CV] max_leaf_nodes=70, min_samples_split=2 ..........................\n",
      "[CV]  max_leaf_nodes=70, min_samples_split=2, score=0.848, total=   0.1s\n",
      "[CV] max_leaf_nodes=70, min_samples_split=2 ..........................\n",
      "[CV]  max_leaf_nodes=70, min_samples_split=2, score=0.850, total=   0.1s\n",
      "[CV] max_leaf_nodes=70, min_samples_split=2 ..........................\n",
      "[CV]  max_leaf_nodes=70, min_samples_split=2, score=0.835, total=   0.1s\n",
      "[CV] max_leaf_nodes=70, min_samples_split=2 ..........................\n",
      "[CV]  max_leaf_nodes=70, min_samples_split=2, score=0.847, total=   0.1s\n",
      "[CV] max_leaf_nodes=70, min_samples_split=2 ..........................\n",
      "[CV]  max_leaf_nodes=70, min_samples_split=2, score=0.835, total=   0.1s\n",
      "[CV] max_leaf_nodes=70, min_samples_split=3 ..........................\n",
      "[CV]  max_leaf_nodes=70, min_samples_split=3, score=0.848, total=   0.1s\n",
      "[CV] max_leaf_nodes=70, min_samples_split=3 ..........................\n",
      "[CV]  max_leaf_nodes=70, min_samples_split=3, score=0.850, total=   0.1s\n",
      "[CV] max_leaf_nodes=70, min_samples_split=3 ..........................\n",
      "[CV]  max_leaf_nodes=70, min_samples_split=3, score=0.835, total=   0.1s\n",
      "[CV] max_leaf_nodes=70, min_samples_split=3 ..........................\n",
      "[CV]  max_leaf_nodes=70, min_samples_split=3, score=0.847, total=   0.1s\n",
      "[CV] max_leaf_nodes=70, min_samples_split=3 ..........................\n",
      "[CV]  max_leaf_nodes=70, min_samples_split=3, score=0.835, total=   0.1s\n",
      "[CV] max_leaf_nodes=70, min_samples_split=4 ..........................\n",
      "[CV]  max_leaf_nodes=70, min_samples_split=4, score=0.848, total=   0.1s\n",
      "[CV] max_leaf_nodes=70, min_samples_split=4 ..........................\n",
      "[CV]  max_leaf_nodes=70, min_samples_split=4, score=0.850, total=   0.1s\n",
      "[CV] max_leaf_nodes=70, min_samples_split=4 ..........................\n",
      "[CV]  max_leaf_nodes=70, min_samples_split=4, score=0.835, total=   0.1s\n",
      "[CV] max_leaf_nodes=70, min_samples_split=4 ..........................\n",
      "[CV]  max_leaf_nodes=70, min_samples_split=4, score=0.847, total=   0.1s\n",
      "[CV] max_leaf_nodes=70, min_samples_split=4 ..........................\n",
      "[CV]  max_leaf_nodes=70, min_samples_split=4, score=0.835, total=   0.1s\n",
      "[CV] max_leaf_nodes=71, min_samples_split=2 ..........................\n",
      "[CV]  max_leaf_nodes=71, min_samples_split=2, score=0.848, total=   0.1s\n",
      "[CV] max_leaf_nodes=71, min_samples_split=2 ..........................\n",
      "[CV]  max_leaf_nodes=71, min_samples_split=2, score=0.850, total=   0.1s\n",
      "[CV] max_leaf_nodes=71, min_samples_split=2 ..........................\n",
      "[CV]  max_leaf_nodes=71, min_samples_split=2, score=0.835, total=   0.1s\n",
      "[CV] max_leaf_nodes=71, min_samples_split=2 ..........................\n",
      "[CV]  max_leaf_nodes=71, min_samples_split=2, score=0.847, total=   0.1s\n",
      "[CV] max_leaf_nodes=71, min_samples_split=2 ..........................\n",
      "[CV]  max_leaf_nodes=71, min_samples_split=2, score=0.835, total=   0.1s\n",
      "[CV] max_leaf_nodes=71, min_samples_split=3 ..........................\n",
      "[CV]  max_leaf_nodes=71, min_samples_split=3, score=0.848, total=   0.1s\n",
      "[CV] max_leaf_nodes=71, min_samples_split=3 ..........................\n",
      "[CV]  max_leaf_nodes=71, min_samples_split=3, score=0.850, total=   0.1s\n",
      "[CV] max_leaf_nodes=71, min_samples_split=3 ..........................\n"
     ]
    },
    {
     "name": "stdout",
     "output_type": "stream",
     "text": [
      "[CV]  max_leaf_nodes=71, min_samples_split=3, score=0.835, total=   0.1s\n",
      "[CV] max_leaf_nodes=71, min_samples_split=3 ..........................\n",
      "[CV]  max_leaf_nodes=71, min_samples_split=3, score=0.847, total=   0.1s\n",
      "[CV] max_leaf_nodes=71, min_samples_split=3 ..........................\n",
      "[CV]  max_leaf_nodes=71, min_samples_split=3, score=0.835, total=   0.1s\n",
      "[CV] max_leaf_nodes=71, min_samples_split=4 ..........................\n",
      "[CV]  max_leaf_nodes=71, min_samples_split=4, score=0.848, total=   0.1s\n",
      "[CV] max_leaf_nodes=71, min_samples_split=4 ..........................\n",
      "[CV]  max_leaf_nodes=71, min_samples_split=4, score=0.850, total=   0.1s\n",
      "[CV] max_leaf_nodes=71, min_samples_split=4 ..........................\n",
      "[CV]  max_leaf_nodes=71, min_samples_split=4, score=0.835, total=   0.1s\n",
      "[CV] max_leaf_nodes=71, min_samples_split=4 ..........................\n",
      "[CV]  max_leaf_nodes=71, min_samples_split=4, score=0.847, total=   0.1s\n",
      "[CV] max_leaf_nodes=71, min_samples_split=4 ..........................\n",
      "[CV]  max_leaf_nodes=71, min_samples_split=4, score=0.835, total=   0.1s\n",
      "[CV] max_leaf_nodes=72, min_samples_split=2 ..........................\n",
      "[CV]  max_leaf_nodes=72, min_samples_split=2, score=0.848, total=   0.1s\n",
      "[CV] max_leaf_nodes=72, min_samples_split=2 ..........................\n",
      "[CV]  max_leaf_nodes=72, min_samples_split=2, score=0.850, total=   0.1s\n",
      "[CV] max_leaf_nodes=72, min_samples_split=2 ..........................\n",
      "[CV]  max_leaf_nodes=72, min_samples_split=2, score=0.835, total=   0.1s\n",
      "[CV] max_leaf_nodes=72, min_samples_split=2 ..........................\n",
      "[CV]  max_leaf_nodes=72, min_samples_split=2, score=0.848, total=   0.1s\n",
      "[CV] max_leaf_nodes=72, min_samples_split=2 ..........................\n",
      "[CV]  max_leaf_nodes=72, min_samples_split=2, score=0.835, total=   0.1s\n",
      "[CV] max_leaf_nodes=72, min_samples_split=3 ..........................\n",
      "[CV]  max_leaf_nodes=72, min_samples_split=3, score=0.848, total=   0.1s\n",
      "[CV] max_leaf_nodes=72, min_samples_split=3 ..........................\n",
      "[CV]  max_leaf_nodes=72, min_samples_split=3, score=0.850, total=   0.1s\n",
      "[CV] max_leaf_nodes=72, min_samples_split=3 ..........................\n",
      "[CV]  max_leaf_nodes=72, min_samples_split=3, score=0.835, total=   0.1s\n",
      "[CV] max_leaf_nodes=72, min_samples_split=3 ..........................\n",
      "[CV]  max_leaf_nodes=72, min_samples_split=3, score=0.848, total=   0.1s\n",
      "[CV] max_leaf_nodes=72, min_samples_split=3 ..........................\n",
      "[CV]  max_leaf_nodes=72, min_samples_split=3, score=0.835, total=   0.1s\n",
      "[CV] max_leaf_nodes=72, min_samples_split=4 ..........................\n",
      "[CV]  max_leaf_nodes=72, min_samples_split=4, score=0.848, total=   0.1s\n",
      "[CV] max_leaf_nodes=72, min_samples_split=4 ..........................\n",
      "[CV]  max_leaf_nodes=72, min_samples_split=4, score=0.850, total=   0.1s\n",
      "[CV] max_leaf_nodes=72, min_samples_split=4 ..........................\n",
      "[CV]  max_leaf_nodes=72, min_samples_split=4, score=0.835, total=   0.1s\n",
      "[CV] max_leaf_nodes=72, min_samples_split=4 ..........................\n",
      "[CV]  max_leaf_nodes=72, min_samples_split=4, score=0.848, total=   0.1s\n",
      "[CV] max_leaf_nodes=72, min_samples_split=4 ..........................\n",
      "[CV]  max_leaf_nodes=72, min_samples_split=4, score=0.835, total=   0.1s\n",
      "[CV] max_leaf_nodes=73, min_samples_split=2 ..........................\n",
      "[CV]  max_leaf_nodes=73, min_samples_split=2, score=0.848, total=   0.1s\n",
      "[CV] max_leaf_nodes=73, min_samples_split=2 ..........................\n",
      "[CV]  max_leaf_nodes=73, min_samples_split=2, score=0.850, total=   0.1s\n",
      "[CV] max_leaf_nodes=73, min_samples_split=2 ..........................\n",
      "[CV]  max_leaf_nodes=73, min_samples_split=2, score=0.835, total=   0.1s\n",
      "[CV] max_leaf_nodes=73, min_samples_split=2 ..........................\n",
      "[CV]  max_leaf_nodes=73, min_samples_split=2, score=0.847, total=   0.1s\n",
      "[CV] max_leaf_nodes=73, min_samples_split=2 ..........................\n",
      "[CV]  max_leaf_nodes=73, min_samples_split=2, score=0.835, total=   0.1s\n",
      "[CV] max_leaf_nodes=73, min_samples_split=3 ..........................\n",
      "[CV]  max_leaf_nodes=73, min_samples_split=3, score=0.848, total=   0.1s\n",
      "[CV] max_leaf_nodes=73, min_samples_split=3 ..........................\n",
      "[CV]  max_leaf_nodes=73, min_samples_split=3, score=0.850, total=   0.1s\n",
      "[CV] max_leaf_nodes=73, min_samples_split=3 ..........................\n",
      "[CV]  max_leaf_nodes=73, min_samples_split=3, score=0.835, total=   0.1s\n",
      "[CV] max_leaf_nodes=73, min_samples_split=3 ..........................\n",
      "[CV]  max_leaf_nodes=73, min_samples_split=3, score=0.847, total=   0.1s\n",
      "[CV] max_leaf_nodes=73, min_samples_split=3 ..........................\n",
      "[CV]  max_leaf_nodes=73, min_samples_split=3, score=0.835, total=   0.1s\n",
      "[CV] max_leaf_nodes=73, min_samples_split=4 ..........................\n",
      "[CV]  max_leaf_nodes=73, min_samples_split=4, score=0.848, total=   0.1s\n",
      "[CV] max_leaf_nodes=73, min_samples_split=4 ..........................\n",
      "[CV]  max_leaf_nodes=73, min_samples_split=4, score=0.850, total=   0.1s\n",
      "[CV] max_leaf_nodes=73, min_samples_split=4 ..........................\n",
      "[CV]  max_leaf_nodes=73, min_samples_split=4, score=0.835, total=   0.1s\n",
      "[CV] max_leaf_nodes=73, min_samples_split=4 ..........................\n",
      "[CV]  max_leaf_nodes=73, min_samples_split=4, score=0.847, total=   0.1s\n",
      "[CV] max_leaf_nodes=73, min_samples_split=4 ..........................\n",
      "[CV]  max_leaf_nodes=73, min_samples_split=4, score=0.835, total=   0.1s\n",
      "[CV] max_leaf_nodes=74, min_samples_split=2 ..........................\n",
      "[CV]  max_leaf_nodes=74, min_samples_split=2, score=0.848, total=   0.1s\n",
      "[CV] max_leaf_nodes=74, min_samples_split=2 ..........................\n",
      "[CV]  max_leaf_nodes=74, min_samples_split=2, score=0.850, total=   0.1s\n",
      "[CV] max_leaf_nodes=74, min_samples_split=2 ..........................\n",
      "[CV]  max_leaf_nodes=74, min_samples_split=2, score=0.835, total=   0.1s\n",
      "[CV] max_leaf_nodes=74, min_samples_split=2 ..........................\n",
      "[CV]  max_leaf_nodes=74, min_samples_split=2, score=0.847, total=   0.1s\n",
      "[CV] max_leaf_nodes=74, min_samples_split=2 ..........................\n",
      "[CV]  max_leaf_nodes=74, min_samples_split=2, score=0.835, total=   0.1s\n",
      "[CV] max_leaf_nodes=74, min_samples_split=3 ..........................\n",
      "[CV]  max_leaf_nodes=74, min_samples_split=3, score=0.848, total=   0.1s\n",
      "[CV] max_leaf_nodes=74, min_samples_split=3 ..........................\n",
      "[CV]  max_leaf_nodes=74, min_samples_split=3, score=0.850, total=   0.1s\n",
      "[CV] max_leaf_nodes=74, min_samples_split=3 ..........................\n",
      "[CV]  max_leaf_nodes=74, min_samples_split=3, score=0.835, total=   0.1s\n",
      "[CV] max_leaf_nodes=74, min_samples_split=3 ..........................\n",
      "[CV]  max_leaf_nodes=74, min_samples_split=3, score=0.847, total=   0.1s\n",
      "[CV] max_leaf_nodes=74, min_samples_split=3 ..........................\n",
      "[CV]  max_leaf_nodes=74, min_samples_split=3, score=0.835, total=   0.1s\n",
      "[CV] max_leaf_nodes=74, min_samples_split=4 ..........................\n",
      "[CV]  max_leaf_nodes=74, min_samples_split=4, score=0.848, total=   0.1s\n",
      "[CV] max_leaf_nodes=74, min_samples_split=4 ..........................\n",
      "[CV]  max_leaf_nodes=74, min_samples_split=4, score=0.850, total=   0.1s\n",
      "[CV] max_leaf_nodes=74, min_samples_split=4 ..........................\n",
      "[CV]  max_leaf_nodes=74, min_samples_split=4, score=0.835, total=   0.1s\n",
      "[CV] max_leaf_nodes=74, min_samples_split=4 ..........................\n",
      "[CV]  max_leaf_nodes=74, min_samples_split=4, score=0.847, total=   0.1s\n",
      "[CV] max_leaf_nodes=74, min_samples_split=4 ..........................\n",
      "[CV]  max_leaf_nodes=74, min_samples_split=4, score=0.835, total=   0.1s\n",
      "[CV] max_leaf_nodes=75, min_samples_split=2 ..........................\n",
      "[CV]  max_leaf_nodes=75, min_samples_split=2, score=0.848, total=   0.1s\n",
      "[CV] max_leaf_nodes=75, min_samples_split=2 ..........................\n",
      "[CV]  max_leaf_nodes=75, min_samples_split=2, score=0.850, total=   0.1s\n",
      "[CV] max_leaf_nodes=75, min_samples_split=2 ..........................\n",
      "[CV]  max_leaf_nodes=75, min_samples_split=2, score=0.835, total=   0.1s\n",
      "[CV] max_leaf_nodes=75, min_samples_split=2 ..........................\n",
      "[CV]  max_leaf_nodes=75, min_samples_split=2, score=0.847, total=   0.1s\n",
      "[CV] max_leaf_nodes=75, min_samples_split=2 ..........................\n",
      "[CV]  max_leaf_nodes=75, min_samples_split=2, score=0.836, total=   0.1s\n",
      "[CV] max_leaf_nodes=75, min_samples_split=3 ..........................\n"
     ]
    },
    {
     "name": "stdout",
     "output_type": "stream",
     "text": [
      "[CV]  max_leaf_nodes=75, min_samples_split=3, score=0.848, total=   0.1s\n",
      "[CV] max_leaf_nodes=75, min_samples_split=3 ..........................\n",
      "[CV]  max_leaf_nodes=75, min_samples_split=3, score=0.850, total=   0.1s\n",
      "[CV] max_leaf_nodes=75, min_samples_split=3 ..........................\n",
      "[CV]  max_leaf_nodes=75, min_samples_split=3, score=0.835, total=   0.1s\n",
      "[CV] max_leaf_nodes=75, min_samples_split=3 ..........................\n",
      "[CV]  max_leaf_nodes=75, min_samples_split=3, score=0.847, total=   0.1s\n",
      "[CV] max_leaf_nodes=75, min_samples_split=3 ..........................\n",
      "[CV]  max_leaf_nodes=75, min_samples_split=3, score=0.836, total=   0.1s\n",
      "[CV] max_leaf_nodes=75, min_samples_split=4 ..........................\n",
      "[CV]  max_leaf_nodes=75, min_samples_split=4, score=0.848, total=   0.1s\n",
      "[CV] max_leaf_nodes=75, min_samples_split=4 ..........................\n",
      "[CV]  max_leaf_nodes=75, min_samples_split=4, score=0.850, total=   0.1s\n",
      "[CV] max_leaf_nodes=75, min_samples_split=4 ..........................\n",
      "[CV]  max_leaf_nodes=75, min_samples_split=4, score=0.835, total=   0.1s\n",
      "[CV] max_leaf_nodes=75, min_samples_split=4 ..........................\n",
      "[CV]  max_leaf_nodes=75, min_samples_split=4, score=0.847, total=   0.1s\n",
      "[CV] max_leaf_nodes=75, min_samples_split=4 ..........................\n",
      "[CV]  max_leaf_nodes=75, min_samples_split=4, score=0.836, total=   0.1s\n",
      "[CV] max_leaf_nodes=76, min_samples_split=2 ..........................\n",
      "[CV]  max_leaf_nodes=76, min_samples_split=2, score=0.848, total=   0.2s\n",
      "[CV] max_leaf_nodes=76, min_samples_split=2 ..........................\n",
      "[CV]  max_leaf_nodes=76, min_samples_split=2, score=0.850, total=   0.1s\n",
      "[CV] max_leaf_nodes=76, min_samples_split=2 ..........................\n",
      "[CV]  max_leaf_nodes=76, min_samples_split=2, score=0.835, total=   0.2s\n",
      "[CV] max_leaf_nodes=76, min_samples_split=2 ..........................\n",
      "[CV]  max_leaf_nodes=76, min_samples_split=2, score=0.847, total=   0.1s\n",
      "[CV] max_leaf_nodes=76, min_samples_split=2 ..........................\n",
      "[CV]  max_leaf_nodes=76, min_samples_split=2, score=0.836, total=   0.1s\n",
      "[CV] max_leaf_nodes=76, min_samples_split=3 ..........................\n",
      "[CV]  max_leaf_nodes=76, min_samples_split=3, score=0.848, total=   0.1s\n",
      "[CV] max_leaf_nodes=76, min_samples_split=3 ..........................\n",
      "[CV]  max_leaf_nodes=76, min_samples_split=3, score=0.850, total=   0.1s\n",
      "[CV] max_leaf_nodes=76, min_samples_split=3 ..........................\n",
      "[CV]  max_leaf_nodes=76, min_samples_split=3, score=0.835, total=   0.1s\n",
      "[CV] max_leaf_nodes=76, min_samples_split=3 ..........................\n",
      "[CV]  max_leaf_nodes=76, min_samples_split=3, score=0.847, total=   0.1s\n",
      "[CV] max_leaf_nodes=76, min_samples_split=3 ..........................\n",
      "[CV]  max_leaf_nodes=76, min_samples_split=3, score=0.836, total=   0.1s\n",
      "[CV] max_leaf_nodes=76, min_samples_split=4 ..........................\n",
      "[CV]  max_leaf_nodes=76, min_samples_split=4, score=0.848, total=   0.1s\n",
      "[CV] max_leaf_nodes=76, min_samples_split=4 ..........................\n",
      "[CV]  max_leaf_nodes=76, min_samples_split=4, score=0.850, total=   0.1s\n",
      "[CV] max_leaf_nodes=76, min_samples_split=4 ..........................\n",
      "[CV]  max_leaf_nodes=76, min_samples_split=4, score=0.835, total=   0.1s\n",
      "[CV] max_leaf_nodes=76, min_samples_split=4 ..........................\n",
      "[CV]  max_leaf_nodes=76, min_samples_split=4, score=0.847, total=   0.1s\n",
      "[CV] max_leaf_nodes=76, min_samples_split=4 ..........................\n",
      "[CV]  max_leaf_nodes=76, min_samples_split=4, score=0.836, total=   0.1s\n",
      "[CV] max_leaf_nodes=77, min_samples_split=2 ..........................\n",
      "[CV]  max_leaf_nodes=77, min_samples_split=2, score=0.848, total=   0.1s\n",
      "[CV] max_leaf_nodes=77, min_samples_split=2 ..........................\n",
      "[CV]  max_leaf_nodes=77, min_samples_split=2, score=0.850, total=   0.1s\n",
      "[CV] max_leaf_nodes=77, min_samples_split=2 ..........................\n",
      "[CV]  max_leaf_nodes=77, min_samples_split=2, score=0.835, total=   0.1s\n",
      "[CV] max_leaf_nodes=77, min_samples_split=2 ..........................\n",
      "[CV]  max_leaf_nodes=77, min_samples_split=2, score=0.847, total=   0.1s\n",
      "[CV] max_leaf_nodes=77, min_samples_split=2 ..........................\n",
      "[CV]  max_leaf_nodes=77, min_samples_split=2, score=0.836, total=   0.1s\n",
      "[CV] max_leaf_nodes=77, min_samples_split=3 ..........................\n",
      "[CV]  max_leaf_nodes=77, min_samples_split=3, score=0.848, total=   0.1s\n",
      "[CV] max_leaf_nodes=77, min_samples_split=3 ..........................\n",
      "[CV]  max_leaf_nodes=77, min_samples_split=3, score=0.850, total=   0.1s\n",
      "[CV] max_leaf_nodes=77, min_samples_split=3 ..........................\n",
      "[CV]  max_leaf_nodes=77, min_samples_split=3, score=0.835, total=   0.1s\n",
      "[CV] max_leaf_nodes=77, min_samples_split=3 ..........................\n",
      "[CV]  max_leaf_nodes=77, min_samples_split=3, score=0.847, total=   0.1s\n",
      "[CV] max_leaf_nodes=77, min_samples_split=3 ..........................\n",
      "[CV]  max_leaf_nodes=77, min_samples_split=3, score=0.836, total=   0.1s\n",
      "[CV] max_leaf_nodes=77, min_samples_split=4 ..........................\n",
      "[CV]  max_leaf_nodes=77, min_samples_split=4, score=0.848, total=   0.1s\n",
      "[CV] max_leaf_nodes=77, min_samples_split=4 ..........................\n",
      "[CV]  max_leaf_nodes=77, min_samples_split=4, score=0.850, total=   0.1s\n",
      "[CV] max_leaf_nodes=77, min_samples_split=4 ..........................\n",
      "[CV]  max_leaf_nodes=77, min_samples_split=4, score=0.835, total=   0.1s\n",
      "[CV] max_leaf_nodes=77, min_samples_split=4 ..........................\n",
      "[CV]  max_leaf_nodes=77, min_samples_split=4, score=0.847, total=   0.1s\n",
      "[CV] max_leaf_nodes=77, min_samples_split=4 ..........................\n",
      "[CV]  max_leaf_nodes=77, min_samples_split=4, score=0.836, total=   0.1s\n",
      "[CV] max_leaf_nodes=78, min_samples_split=2 ..........................\n",
      "[CV]  max_leaf_nodes=78, min_samples_split=2, score=0.848, total=   0.1s\n",
      "[CV] max_leaf_nodes=78, min_samples_split=2 ..........................\n",
      "[CV]  max_leaf_nodes=78, min_samples_split=2, score=0.850, total=   0.1s\n",
      "[CV] max_leaf_nodes=78, min_samples_split=2 ..........................\n",
      "[CV]  max_leaf_nodes=78, min_samples_split=2, score=0.835, total=   0.1s\n",
      "[CV] max_leaf_nodes=78, min_samples_split=2 ..........................\n",
      "[CV]  max_leaf_nodes=78, min_samples_split=2, score=0.846, total=   0.1s\n",
      "[CV] max_leaf_nodes=78, min_samples_split=2 ..........................\n",
      "[CV]  max_leaf_nodes=78, min_samples_split=2, score=0.836, total=   0.1s\n",
      "[CV] max_leaf_nodes=78, min_samples_split=3 ..........................\n",
      "[CV]  max_leaf_nodes=78, min_samples_split=3, score=0.848, total=   0.1s\n",
      "[CV] max_leaf_nodes=78, min_samples_split=3 ..........................\n",
      "[CV]  max_leaf_nodes=78, min_samples_split=3, score=0.850, total=   0.1s\n",
      "[CV] max_leaf_nodes=78, min_samples_split=3 ..........................\n",
      "[CV]  max_leaf_nodes=78, min_samples_split=3, score=0.835, total=   0.1s\n",
      "[CV] max_leaf_nodes=78, min_samples_split=3 ..........................\n",
      "[CV]  max_leaf_nodes=78, min_samples_split=3, score=0.846, total=   0.1s\n",
      "[CV] max_leaf_nodes=78, min_samples_split=3 ..........................\n",
      "[CV]  max_leaf_nodes=78, min_samples_split=3, score=0.836, total=   0.1s\n",
      "[CV] max_leaf_nodes=78, min_samples_split=4 ..........................\n",
      "[CV]  max_leaf_nodes=78, min_samples_split=4, score=0.848, total=   0.1s\n",
      "[CV] max_leaf_nodes=78, min_samples_split=4 ..........................\n",
      "[CV]  max_leaf_nodes=78, min_samples_split=4, score=0.850, total=   0.1s\n",
      "[CV] max_leaf_nodes=78, min_samples_split=4 ..........................\n",
      "[CV]  max_leaf_nodes=78, min_samples_split=4, score=0.835, total=   0.1s\n",
      "[CV] max_leaf_nodes=78, min_samples_split=4 ..........................\n",
      "[CV]  max_leaf_nodes=78, min_samples_split=4, score=0.846, total=   0.1s\n",
      "[CV] max_leaf_nodes=78, min_samples_split=4 ..........................\n",
      "[CV]  max_leaf_nodes=78, min_samples_split=4, score=0.836, total=   0.1s\n",
      "[CV] max_leaf_nodes=79, min_samples_split=2 ..........................\n",
      "[CV]  max_leaf_nodes=79, min_samples_split=2, score=0.848, total=   0.1s\n",
      "[CV] max_leaf_nodes=79, min_samples_split=2 ..........................\n",
      "[CV]  max_leaf_nodes=79, min_samples_split=2, score=0.850, total=   0.1s\n",
      "[CV] max_leaf_nodes=79, min_samples_split=2 ..........................\n",
      "[CV]  max_leaf_nodes=79, min_samples_split=2, score=0.835, total=   0.1s\n",
      "[CV] max_leaf_nodes=79, min_samples_split=2 ..........................\n"
     ]
    },
    {
     "name": "stdout",
     "output_type": "stream",
     "text": [
      "[CV]  max_leaf_nodes=79, min_samples_split=2, score=0.846, total=   0.1s\n",
      "[CV] max_leaf_nodes=79, min_samples_split=2 ..........................\n",
      "[CV]  max_leaf_nodes=79, min_samples_split=2, score=0.836, total=   0.1s\n",
      "[CV] max_leaf_nodes=79, min_samples_split=3 ..........................\n",
      "[CV]  max_leaf_nodes=79, min_samples_split=3, score=0.848, total=   0.1s\n",
      "[CV] max_leaf_nodes=79, min_samples_split=3 ..........................\n",
      "[CV]  max_leaf_nodes=79, min_samples_split=3, score=0.850, total=   0.1s\n",
      "[CV] max_leaf_nodes=79, min_samples_split=3 ..........................\n",
      "[CV]  max_leaf_nodes=79, min_samples_split=3, score=0.835, total=   0.1s\n",
      "[CV] max_leaf_nodes=79, min_samples_split=3 ..........................\n",
      "[CV]  max_leaf_nodes=79, min_samples_split=3, score=0.846, total=   0.1s\n",
      "[CV] max_leaf_nodes=79, min_samples_split=3 ..........................\n",
      "[CV]  max_leaf_nodes=79, min_samples_split=3, score=0.836, total=   0.1s\n",
      "[CV] max_leaf_nodes=79, min_samples_split=4 ..........................\n",
      "[CV]  max_leaf_nodes=79, min_samples_split=4, score=0.848, total=   0.1s\n",
      "[CV] max_leaf_nodes=79, min_samples_split=4 ..........................\n",
      "[CV]  max_leaf_nodes=79, min_samples_split=4, score=0.850, total=   0.1s\n",
      "[CV] max_leaf_nodes=79, min_samples_split=4 ..........................\n",
      "[CV]  max_leaf_nodes=79, min_samples_split=4, score=0.835, total=   0.1s\n",
      "[CV] max_leaf_nodes=79, min_samples_split=4 ..........................\n",
      "[CV]  max_leaf_nodes=79, min_samples_split=4, score=0.846, total=   0.1s\n",
      "[CV] max_leaf_nodes=79, min_samples_split=4 ..........................\n",
      "[CV]  max_leaf_nodes=79, min_samples_split=4, score=0.836, total=   0.1s\n",
      "[CV] max_leaf_nodes=80, min_samples_split=2 ..........................\n",
      "[CV]  max_leaf_nodes=80, min_samples_split=2, score=0.848, total=   0.1s\n",
      "[CV] max_leaf_nodes=80, min_samples_split=2 ..........................\n",
      "[CV]  max_leaf_nodes=80, min_samples_split=2, score=0.850, total=   0.1s\n",
      "[CV] max_leaf_nodes=80, min_samples_split=2 ..........................\n",
      "[CV]  max_leaf_nodes=80, min_samples_split=2, score=0.835, total=   0.1s\n",
      "[CV] max_leaf_nodes=80, min_samples_split=2 ..........................\n",
      "[CV]  max_leaf_nodes=80, min_samples_split=2, score=0.846, total=   0.1s\n",
      "[CV] max_leaf_nodes=80, min_samples_split=2 ..........................\n",
      "[CV]  max_leaf_nodes=80, min_samples_split=2, score=0.836, total=   0.1s\n",
      "[CV] max_leaf_nodes=80, min_samples_split=3 ..........................\n",
      "[CV]  max_leaf_nodes=80, min_samples_split=3, score=0.848, total=   0.1s\n",
      "[CV] max_leaf_nodes=80, min_samples_split=3 ..........................\n",
      "[CV]  max_leaf_nodes=80, min_samples_split=3, score=0.850, total=   0.1s\n",
      "[CV] max_leaf_nodes=80, min_samples_split=3 ..........................\n",
      "[CV]  max_leaf_nodes=80, min_samples_split=3, score=0.835, total=   0.1s\n",
      "[CV] max_leaf_nodes=80, min_samples_split=3 ..........................\n",
      "[CV]  max_leaf_nodes=80, min_samples_split=3, score=0.846, total=   0.1s\n",
      "[CV] max_leaf_nodes=80, min_samples_split=3 ..........................\n",
      "[CV]  max_leaf_nodes=80, min_samples_split=3, score=0.836, total=   0.1s\n",
      "[CV] max_leaf_nodes=80, min_samples_split=4 ..........................\n",
      "[CV]  max_leaf_nodes=80, min_samples_split=4, score=0.848, total=   0.1s\n",
      "[CV] max_leaf_nodes=80, min_samples_split=4 ..........................\n",
      "[CV]  max_leaf_nodes=80, min_samples_split=4, score=0.850, total=   0.1s\n",
      "[CV] max_leaf_nodes=80, min_samples_split=4 ..........................\n",
      "[CV]  max_leaf_nodes=80, min_samples_split=4, score=0.835, total=   0.1s\n",
      "[CV] max_leaf_nodes=80, min_samples_split=4 ..........................\n",
      "[CV]  max_leaf_nodes=80, min_samples_split=4, score=0.846, total=   0.1s\n",
      "[CV] max_leaf_nodes=80, min_samples_split=4 ..........................\n",
      "[CV]  max_leaf_nodes=80, min_samples_split=4, score=0.836, total=   0.1s\n",
      "[CV] max_leaf_nodes=81, min_samples_split=2 ..........................\n",
      "[CV]  max_leaf_nodes=81, min_samples_split=2, score=0.848, total=   0.1s\n",
      "[CV] max_leaf_nodes=81, min_samples_split=2 ..........................\n",
      "[CV]  max_leaf_nodes=81, min_samples_split=2, score=0.850, total=   0.1s\n",
      "[CV] max_leaf_nodes=81, min_samples_split=2 ..........................\n",
      "[CV]  max_leaf_nodes=81, min_samples_split=2, score=0.835, total=   0.1s\n",
      "[CV] max_leaf_nodes=81, min_samples_split=2 ..........................\n",
      "[CV]  max_leaf_nodes=81, min_samples_split=2, score=0.846, total=   0.1s\n",
      "[CV] max_leaf_nodes=81, min_samples_split=2 ..........................\n",
      "[CV]  max_leaf_nodes=81, min_samples_split=2, score=0.836, total=   0.1s\n",
      "[CV] max_leaf_nodes=81, min_samples_split=3 ..........................\n",
      "[CV]  max_leaf_nodes=81, min_samples_split=3, score=0.848, total=   0.1s\n",
      "[CV] max_leaf_nodes=81, min_samples_split=3 ..........................\n",
      "[CV]  max_leaf_nodes=81, min_samples_split=3, score=0.850, total=   0.1s\n",
      "[CV] max_leaf_nodes=81, min_samples_split=3 ..........................\n",
      "[CV]  max_leaf_nodes=81, min_samples_split=3, score=0.835, total=   0.1s\n",
      "[CV] max_leaf_nodes=81, min_samples_split=3 ..........................\n",
      "[CV]  max_leaf_nodes=81, min_samples_split=3, score=0.846, total=   0.1s\n",
      "[CV] max_leaf_nodes=81, min_samples_split=3 ..........................\n",
      "[CV]  max_leaf_nodes=81, min_samples_split=3, score=0.836, total=   0.1s\n",
      "[CV] max_leaf_nodes=81, min_samples_split=4 ..........................\n",
      "[CV]  max_leaf_nodes=81, min_samples_split=4, score=0.848, total=   0.1s\n",
      "[CV] max_leaf_nodes=81, min_samples_split=4 ..........................\n",
      "[CV]  max_leaf_nodes=81, min_samples_split=4, score=0.850, total=   0.2s\n",
      "[CV] max_leaf_nodes=81, min_samples_split=4 ..........................\n",
      "[CV]  max_leaf_nodes=81, min_samples_split=4, score=0.835, total=   0.1s\n",
      "[CV] max_leaf_nodes=81, min_samples_split=4 ..........................\n",
      "[CV]  max_leaf_nodes=81, min_samples_split=4, score=0.846, total=   0.2s\n",
      "[CV] max_leaf_nodes=81, min_samples_split=4 ..........................\n",
      "[CV]  max_leaf_nodes=81, min_samples_split=4, score=0.836, total=   0.1s\n",
      "[CV] max_leaf_nodes=82, min_samples_split=2 ..........................\n",
      "[CV]  max_leaf_nodes=82, min_samples_split=2, score=0.848, total=   0.2s\n",
      "[CV] max_leaf_nodes=82, min_samples_split=2 ..........................\n",
      "[CV]  max_leaf_nodes=82, min_samples_split=2, score=0.850, total=   0.1s\n",
      "[CV] max_leaf_nodes=82, min_samples_split=2 ..........................\n",
      "[CV]  max_leaf_nodes=82, min_samples_split=2, score=0.835, total=   0.1s\n",
      "[CV] max_leaf_nodes=82, min_samples_split=2 ..........................\n",
      "[CV]  max_leaf_nodes=82, min_samples_split=2, score=0.847, total=   0.1s\n",
      "[CV] max_leaf_nodes=82, min_samples_split=2 ..........................\n",
      "[CV]  max_leaf_nodes=82, min_samples_split=2, score=0.836, total=   0.1s\n",
      "[CV] max_leaf_nodes=82, min_samples_split=3 ..........................\n",
      "[CV]  max_leaf_nodes=82, min_samples_split=3, score=0.848, total=   0.1s\n",
      "[CV] max_leaf_nodes=82, min_samples_split=3 ..........................\n",
      "[CV]  max_leaf_nodes=82, min_samples_split=3, score=0.850, total=   0.1s\n",
      "[CV] max_leaf_nodes=82, min_samples_split=3 ..........................\n",
      "[CV]  max_leaf_nodes=82, min_samples_split=3, score=0.835, total=   0.1s\n",
      "[CV] max_leaf_nodes=82, min_samples_split=3 ..........................\n",
      "[CV]  max_leaf_nodes=82, min_samples_split=3, score=0.847, total=   0.1s\n",
      "[CV] max_leaf_nodes=82, min_samples_split=3 ..........................\n",
      "[CV]  max_leaf_nodes=82, min_samples_split=3, score=0.836, total=   0.1s\n",
      "[CV] max_leaf_nodes=82, min_samples_split=4 ..........................\n",
      "[CV]  max_leaf_nodes=82, min_samples_split=4, score=0.848, total=   0.1s\n",
      "[CV] max_leaf_nodes=82, min_samples_split=4 ..........................\n",
      "[CV]  max_leaf_nodes=82, min_samples_split=4, score=0.850, total=   0.1s\n",
      "[CV] max_leaf_nodes=82, min_samples_split=4 ..........................\n",
      "[CV]  max_leaf_nodes=82, min_samples_split=4, score=0.835, total=   0.1s\n",
      "[CV] max_leaf_nodes=82, min_samples_split=4 ..........................\n",
      "[CV]  max_leaf_nodes=82, min_samples_split=4, score=0.847, total=   0.1s\n",
      "[CV] max_leaf_nodes=82, min_samples_split=4 ..........................\n",
      "[CV]  max_leaf_nodes=82, min_samples_split=4, score=0.836, total=   0.1s\n",
      "[CV] max_leaf_nodes=83, min_samples_split=2 ..........................\n",
      "[CV]  max_leaf_nodes=83, min_samples_split=2, score=0.848, total=   0.1s\n",
      "[CV] max_leaf_nodes=83, min_samples_split=2 ..........................\n"
     ]
    },
    {
     "name": "stdout",
     "output_type": "stream",
     "text": [
      "[CV]  max_leaf_nodes=83, min_samples_split=2, score=0.850, total=   0.1s\n",
      "[CV] max_leaf_nodes=83, min_samples_split=2 ..........................\n",
      "[CV]  max_leaf_nodes=83, min_samples_split=2, score=0.835, total=   0.1s\n",
      "[CV] max_leaf_nodes=83, min_samples_split=2 ..........................\n",
      "[CV]  max_leaf_nodes=83, min_samples_split=2, score=0.847, total=   0.1s\n",
      "[CV] max_leaf_nodes=83, min_samples_split=2 ..........................\n",
      "[CV]  max_leaf_nodes=83, min_samples_split=2, score=0.835, total=   0.1s\n",
      "[CV] max_leaf_nodes=83, min_samples_split=3 ..........................\n",
      "[CV]  max_leaf_nodes=83, min_samples_split=3, score=0.848, total=   0.1s\n",
      "[CV] max_leaf_nodes=83, min_samples_split=3 ..........................\n",
      "[CV]  max_leaf_nodes=83, min_samples_split=3, score=0.850, total=   0.1s\n",
      "[CV] max_leaf_nodes=83, min_samples_split=3 ..........................\n",
      "[CV]  max_leaf_nodes=83, min_samples_split=3, score=0.835, total=   0.1s\n",
      "[CV] max_leaf_nodes=83, min_samples_split=3 ..........................\n",
      "[CV]  max_leaf_nodes=83, min_samples_split=3, score=0.847, total=   0.1s\n",
      "[CV] max_leaf_nodes=83, min_samples_split=3 ..........................\n",
      "[CV]  max_leaf_nodes=83, min_samples_split=3, score=0.835, total=   0.1s\n",
      "[CV] max_leaf_nodes=83, min_samples_split=4 ..........................\n",
      "[CV]  max_leaf_nodes=83, min_samples_split=4, score=0.848, total=   0.1s\n",
      "[CV] max_leaf_nodes=83, min_samples_split=4 ..........................\n",
      "[CV]  max_leaf_nodes=83, min_samples_split=4, score=0.850, total=   0.1s\n",
      "[CV] max_leaf_nodes=83, min_samples_split=4 ..........................\n",
      "[CV]  max_leaf_nodes=83, min_samples_split=4, score=0.835, total=   0.1s\n",
      "[CV] max_leaf_nodes=83, min_samples_split=4 ..........................\n",
      "[CV]  max_leaf_nodes=83, min_samples_split=4, score=0.847, total=   0.1s\n",
      "[CV] max_leaf_nodes=83, min_samples_split=4 ..........................\n",
      "[CV]  max_leaf_nodes=83, min_samples_split=4, score=0.835, total=   0.1s\n",
      "[CV] max_leaf_nodes=84, min_samples_split=2 ..........................\n",
      "[CV]  max_leaf_nodes=84, min_samples_split=2, score=0.848, total=   0.1s\n",
      "[CV] max_leaf_nodes=84, min_samples_split=2 ..........................\n",
      "[CV]  max_leaf_nodes=84, min_samples_split=2, score=0.850, total=   0.1s\n",
      "[CV] max_leaf_nodes=84, min_samples_split=2 ..........................\n",
      "[CV]  max_leaf_nodes=84, min_samples_split=2, score=0.835, total=   0.1s\n",
      "[CV] max_leaf_nodes=84, min_samples_split=2 ..........................\n",
      "[CV]  max_leaf_nodes=84, min_samples_split=2, score=0.847, total=   0.1s\n",
      "[CV] max_leaf_nodes=84, min_samples_split=2 ..........................\n",
      "[CV]  max_leaf_nodes=84, min_samples_split=2, score=0.835, total=   0.1s\n",
      "[CV] max_leaf_nodes=84, min_samples_split=3 ..........................\n",
      "[CV]  max_leaf_nodes=84, min_samples_split=3, score=0.848, total=   0.1s\n",
      "[CV] max_leaf_nodes=84, min_samples_split=3 ..........................\n",
      "[CV]  max_leaf_nodes=84, min_samples_split=3, score=0.850, total=   0.1s\n",
      "[CV] max_leaf_nodes=84, min_samples_split=3 ..........................\n",
      "[CV]  max_leaf_nodes=84, min_samples_split=3, score=0.835, total=   0.1s\n",
      "[CV] max_leaf_nodes=84, min_samples_split=3 ..........................\n",
      "[CV]  max_leaf_nodes=84, min_samples_split=3, score=0.847, total=   0.1s\n",
      "[CV] max_leaf_nodes=84, min_samples_split=3 ..........................\n",
      "[CV]  max_leaf_nodes=84, min_samples_split=3, score=0.835, total=   0.1s\n",
      "[CV] max_leaf_nodes=84, min_samples_split=4 ..........................\n",
      "[CV]  max_leaf_nodes=84, min_samples_split=4, score=0.848, total=   0.1s\n",
      "[CV] max_leaf_nodes=84, min_samples_split=4 ..........................\n",
      "[CV]  max_leaf_nodes=84, min_samples_split=4, score=0.850, total=   0.1s\n",
      "[CV] max_leaf_nodes=84, min_samples_split=4 ..........................\n",
      "[CV]  max_leaf_nodes=84, min_samples_split=4, score=0.835, total=   0.1s\n",
      "[CV] max_leaf_nodes=84, min_samples_split=4 ..........................\n",
      "[CV]  max_leaf_nodes=84, min_samples_split=4, score=0.847, total=   0.1s\n",
      "[CV] max_leaf_nodes=84, min_samples_split=4 ..........................\n",
      "[CV]  max_leaf_nodes=84, min_samples_split=4, score=0.835, total=   0.1s\n",
      "[CV] max_leaf_nodes=85, min_samples_split=2 ..........................\n",
      "[CV]  max_leaf_nodes=85, min_samples_split=2, score=0.848, total=   0.1s\n",
      "[CV] max_leaf_nodes=85, min_samples_split=2 ..........................\n",
      "[CV]  max_leaf_nodes=85, min_samples_split=2, score=0.850, total=   0.1s\n",
      "[CV] max_leaf_nodes=85, min_samples_split=2 ..........................\n",
      "[CV]  max_leaf_nodes=85, min_samples_split=2, score=0.835, total=   0.1s\n",
      "[CV] max_leaf_nodes=85, min_samples_split=2 ..........................\n",
      "[CV]  max_leaf_nodes=85, min_samples_split=2, score=0.847, total=   0.1s\n",
      "[CV] max_leaf_nodes=85, min_samples_split=2 ..........................\n",
      "[CV]  max_leaf_nodes=85, min_samples_split=2, score=0.835, total=   0.1s\n",
      "[CV] max_leaf_nodes=85, min_samples_split=3 ..........................\n",
      "[CV]  max_leaf_nodes=85, min_samples_split=3, score=0.848, total=   0.1s\n",
      "[CV] max_leaf_nodes=85, min_samples_split=3 ..........................\n",
      "[CV]  max_leaf_nodes=85, min_samples_split=3, score=0.850, total=   0.1s\n",
      "[CV] max_leaf_nodes=85, min_samples_split=3 ..........................\n",
      "[CV]  max_leaf_nodes=85, min_samples_split=3, score=0.835, total=   0.1s\n",
      "[CV] max_leaf_nodes=85, min_samples_split=3 ..........................\n",
      "[CV]  max_leaf_nodes=85, min_samples_split=3, score=0.847, total=   0.1s\n",
      "[CV] max_leaf_nodes=85, min_samples_split=3 ..........................\n",
      "[CV]  max_leaf_nodes=85, min_samples_split=3, score=0.835, total=   0.1s\n",
      "[CV] max_leaf_nodes=85, min_samples_split=4 ..........................\n",
      "[CV]  max_leaf_nodes=85, min_samples_split=4, score=0.848, total=   0.1s\n",
      "[CV] max_leaf_nodes=85, min_samples_split=4 ..........................\n",
      "[CV]  max_leaf_nodes=85, min_samples_split=4, score=0.850, total=   0.1s\n",
      "[CV] max_leaf_nodes=85, min_samples_split=4 ..........................\n",
      "[CV]  max_leaf_nodes=85, min_samples_split=4, score=0.835, total=   0.1s\n",
      "[CV] max_leaf_nodes=85, min_samples_split=4 ..........................\n",
      "[CV]  max_leaf_nodes=85, min_samples_split=4, score=0.847, total=   0.1s\n",
      "[CV] max_leaf_nodes=85, min_samples_split=4 ..........................\n",
      "[CV]  max_leaf_nodes=85, min_samples_split=4, score=0.835, total=   0.1s\n",
      "[CV] max_leaf_nodes=86, min_samples_split=2 ..........................\n",
      "[CV]  max_leaf_nodes=86, min_samples_split=2, score=0.848, total=   0.1s\n",
      "[CV] max_leaf_nodes=86, min_samples_split=2 ..........................\n",
      "[CV]  max_leaf_nodes=86, min_samples_split=2, score=0.850, total=   0.1s\n",
      "[CV] max_leaf_nodes=86, min_samples_split=2 ..........................\n",
      "[CV]  max_leaf_nodes=86, min_samples_split=2, score=0.835, total=   0.1s\n",
      "[CV] max_leaf_nodes=86, min_samples_split=2 ..........................\n",
      "[CV]  max_leaf_nodes=86, min_samples_split=2, score=0.847, total=   0.1s\n",
      "[CV] max_leaf_nodes=86, min_samples_split=2 ..........................\n",
      "[CV]  max_leaf_nodes=86, min_samples_split=2, score=0.835, total=   0.1s\n",
      "[CV] max_leaf_nodes=86, min_samples_split=3 ..........................\n",
      "[CV]  max_leaf_nodes=86, min_samples_split=3, score=0.848, total=   0.1s\n",
      "[CV] max_leaf_nodes=86, min_samples_split=3 ..........................\n",
      "[CV]  max_leaf_nodes=86, min_samples_split=3, score=0.850, total=   0.1s\n",
      "[CV] max_leaf_nodes=86, min_samples_split=3 ..........................\n",
      "[CV]  max_leaf_nodes=86, min_samples_split=3, score=0.835, total=   0.1s\n",
      "[CV] max_leaf_nodes=86, min_samples_split=3 ..........................\n",
      "[CV]  max_leaf_nodes=86, min_samples_split=3, score=0.847, total=   0.1s\n",
      "[CV] max_leaf_nodes=86, min_samples_split=3 ..........................\n",
      "[CV]  max_leaf_nodes=86, min_samples_split=3, score=0.835, total=   0.1s\n",
      "[CV] max_leaf_nodes=86, min_samples_split=4 ..........................\n",
      "[CV]  max_leaf_nodes=86, min_samples_split=4, score=0.848, total=   0.1s\n",
      "[CV] max_leaf_nodes=86, min_samples_split=4 ..........................\n",
      "[CV]  max_leaf_nodes=86, min_samples_split=4, score=0.850, total=   0.1s\n",
      "[CV] max_leaf_nodes=86, min_samples_split=4 ..........................\n",
      "[CV]  max_leaf_nodes=86, min_samples_split=4, score=0.835, total=   0.1s\n",
      "[CV] max_leaf_nodes=86, min_samples_split=4 ..........................\n",
      "[CV]  max_leaf_nodes=86, min_samples_split=4, score=0.847, total=   0.1s\n",
      "[CV] max_leaf_nodes=86, min_samples_split=4 ..........................\n"
     ]
    },
    {
     "name": "stdout",
     "output_type": "stream",
     "text": [
      "[CV]  max_leaf_nodes=86, min_samples_split=4, score=0.835, total=   0.1s\n",
      "[CV] max_leaf_nodes=87, min_samples_split=2 ..........................\n",
      "[CV]  max_leaf_nodes=87, min_samples_split=2, score=0.848, total=   0.1s\n",
      "[CV] max_leaf_nodes=87, min_samples_split=2 ..........................\n",
      "[CV]  max_leaf_nodes=87, min_samples_split=2, score=0.850, total=   0.1s\n",
      "[CV] max_leaf_nodes=87, min_samples_split=2 ..........................\n",
      "[CV]  max_leaf_nodes=87, min_samples_split=2, score=0.834, total=   0.1s\n",
      "[CV] max_leaf_nodes=87, min_samples_split=2 ..........................\n",
      "[CV]  max_leaf_nodes=87, min_samples_split=2, score=0.847, total=   0.1s\n",
      "[CV] max_leaf_nodes=87, min_samples_split=2 ..........................\n",
      "[CV]  max_leaf_nodes=87, min_samples_split=2, score=0.835, total=   0.1s\n",
      "[CV] max_leaf_nodes=87, min_samples_split=3 ..........................\n",
      "[CV]  max_leaf_nodes=87, min_samples_split=3, score=0.848, total=   0.1s\n",
      "[CV] max_leaf_nodes=87, min_samples_split=3 ..........................\n",
      "[CV]  max_leaf_nodes=87, min_samples_split=3, score=0.850, total=   0.1s\n",
      "[CV] max_leaf_nodes=87, min_samples_split=3 ..........................\n",
      "[CV]  max_leaf_nodes=87, min_samples_split=3, score=0.834, total=   0.2s\n",
      "[CV] max_leaf_nodes=87, min_samples_split=3 ..........................\n",
      "[CV]  max_leaf_nodes=87, min_samples_split=3, score=0.847, total=   0.1s\n",
      "[CV] max_leaf_nodes=87, min_samples_split=3 ..........................\n",
      "[CV]  max_leaf_nodes=87, min_samples_split=3, score=0.835, total=   0.1s\n",
      "[CV] max_leaf_nodes=87, min_samples_split=4 ..........................\n",
      "[CV]  max_leaf_nodes=87, min_samples_split=4, score=0.848, total=   0.1s\n",
      "[CV] max_leaf_nodes=87, min_samples_split=4 ..........................\n",
      "[CV]  max_leaf_nodes=87, min_samples_split=4, score=0.850, total=   0.1s\n",
      "[CV] max_leaf_nodes=87, min_samples_split=4 ..........................\n",
      "[CV]  max_leaf_nodes=87, min_samples_split=4, score=0.834, total=   0.1s\n",
      "[CV] max_leaf_nodes=87, min_samples_split=4 ..........................\n",
      "[CV]  max_leaf_nodes=87, min_samples_split=4, score=0.847, total=   0.1s\n",
      "[CV] max_leaf_nodes=87, min_samples_split=4 ..........................\n",
      "[CV]  max_leaf_nodes=87, min_samples_split=4, score=0.835, total=   0.1s\n",
      "[CV] max_leaf_nodes=88, min_samples_split=2 ..........................\n",
      "[CV]  max_leaf_nodes=88, min_samples_split=2, score=0.848, total=   0.1s\n",
      "[CV] max_leaf_nodes=88, min_samples_split=2 ..........................\n",
      "[CV]  max_leaf_nodes=88, min_samples_split=2, score=0.850, total=   0.1s\n",
      "[CV] max_leaf_nodes=88, min_samples_split=2 ..........................\n",
      "[CV]  max_leaf_nodes=88, min_samples_split=2, score=0.834, total=   0.1s\n",
      "[CV] max_leaf_nodes=88, min_samples_split=2 ..........................\n",
      "[CV]  max_leaf_nodes=88, min_samples_split=2, score=0.847, total=   0.1s\n",
      "[CV] max_leaf_nodes=88, min_samples_split=2 ..........................\n",
      "[CV]  max_leaf_nodes=88, min_samples_split=2, score=0.835, total=   0.1s\n",
      "[CV] max_leaf_nodes=88, min_samples_split=3 ..........................\n",
      "[CV]  max_leaf_nodes=88, min_samples_split=3, score=0.848, total=   0.1s\n",
      "[CV] max_leaf_nodes=88, min_samples_split=3 ..........................\n",
      "[CV]  max_leaf_nodes=88, min_samples_split=3, score=0.850, total=   0.1s\n",
      "[CV] max_leaf_nodes=88, min_samples_split=3 ..........................\n",
      "[CV]  max_leaf_nodes=88, min_samples_split=3, score=0.834, total=   0.1s\n",
      "[CV] max_leaf_nodes=88, min_samples_split=3 ..........................\n",
      "[CV]  max_leaf_nodes=88, min_samples_split=3, score=0.847, total=   0.1s\n",
      "[CV] max_leaf_nodes=88, min_samples_split=3 ..........................\n",
      "[CV]  max_leaf_nodes=88, min_samples_split=3, score=0.835, total=   0.1s\n",
      "[CV] max_leaf_nodes=88, min_samples_split=4 ..........................\n",
      "[CV]  max_leaf_nodes=88, min_samples_split=4, score=0.848, total=   0.2s\n",
      "[CV] max_leaf_nodes=88, min_samples_split=4 ..........................\n",
      "[CV]  max_leaf_nodes=88, min_samples_split=4, score=0.850, total=   0.1s\n",
      "[CV] max_leaf_nodes=88, min_samples_split=4 ..........................\n",
      "[CV]  max_leaf_nodes=88, min_samples_split=4, score=0.834, total=   0.1s\n",
      "[CV] max_leaf_nodes=88, min_samples_split=4 ..........................\n",
      "[CV]  max_leaf_nodes=88, min_samples_split=4, score=0.847, total=   0.1s\n",
      "[CV] max_leaf_nodes=88, min_samples_split=4 ..........................\n",
      "[CV]  max_leaf_nodes=88, min_samples_split=4, score=0.835, total=   0.1s\n",
      "[CV] max_leaf_nodes=89, min_samples_split=2 ..........................\n",
      "[CV]  max_leaf_nodes=89, min_samples_split=2, score=0.848, total=   0.1s\n",
      "[CV] max_leaf_nodes=89, min_samples_split=2 ..........................\n",
      "[CV]  max_leaf_nodes=89, min_samples_split=2, score=0.850, total=   0.1s\n",
      "[CV] max_leaf_nodes=89, min_samples_split=2 ..........................\n",
      "[CV]  max_leaf_nodes=89, min_samples_split=2, score=0.834, total=   0.1s\n",
      "[CV] max_leaf_nodes=89, min_samples_split=2 ..........................\n",
      "[CV]  max_leaf_nodes=89, min_samples_split=2, score=0.847, total=   0.1s\n",
      "[CV] max_leaf_nodes=89, min_samples_split=2 ..........................\n",
      "[CV]  max_leaf_nodes=89, min_samples_split=2, score=0.835, total=   0.1s\n",
      "[CV] max_leaf_nodes=89, min_samples_split=3 ..........................\n",
      "[CV]  max_leaf_nodes=89, min_samples_split=3, score=0.848, total=   0.1s\n",
      "[CV] max_leaf_nodes=89, min_samples_split=3 ..........................\n",
      "[CV]  max_leaf_nodes=89, min_samples_split=3, score=0.850, total=   0.1s\n",
      "[CV] max_leaf_nodes=89, min_samples_split=3 ..........................\n",
      "[CV]  max_leaf_nodes=89, min_samples_split=3, score=0.834, total=   0.1s\n",
      "[CV] max_leaf_nodes=89, min_samples_split=3 ..........................\n",
      "[CV]  max_leaf_nodes=89, min_samples_split=3, score=0.847, total=   0.1s\n",
      "[CV] max_leaf_nodes=89, min_samples_split=3 ..........................\n",
      "[CV]  max_leaf_nodes=89, min_samples_split=3, score=0.835, total=   0.1s\n",
      "[CV] max_leaf_nodes=89, min_samples_split=4 ..........................\n",
      "[CV]  max_leaf_nodes=89, min_samples_split=4, score=0.848, total=   0.1s\n",
      "[CV] max_leaf_nodes=89, min_samples_split=4 ..........................\n",
      "[CV]  max_leaf_nodes=89, min_samples_split=4, score=0.850, total=   0.1s\n",
      "[CV] max_leaf_nodes=89, min_samples_split=4 ..........................\n",
      "[CV]  max_leaf_nodes=89, min_samples_split=4, score=0.834, total=   0.1s\n",
      "[CV] max_leaf_nodes=89, min_samples_split=4 ..........................\n",
      "[CV]  max_leaf_nodes=89, min_samples_split=4, score=0.847, total=   0.1s\n",
      "[CV] max_leaf_nodes=89, min_samples_split=4 ..........................\n",
      "[CV]  max_leaf_nodes=89, min_samples_split=4, score=0.835, total=   0.1s\n",
      "[CV] max_leaf_nodes=90, min_samples_split=2 ..........................\n",
      "[CV]  max_leaf_nodes=90, min_samples_split=2, score=0.848, total=   0.1s\n",
      "[CV] max_leaf_nodes=90, min_samples_split=2 ..........................\n",
      "[CV]  max_leaf_nodes=90, min_samples_split=2, score=0.850, total=   0.1s\n",
      "[CV] max_leaf_nodes=90, min_samples_split=2 ..........................\n",
      "[CV]  max_leaf_nodes=90, min_samples_split=2, score=0.834, total=   0.1s\n",
      "[CV] max_leaf_nodes=90, min_samples_split=2 ..........................\n",
      "[CV]  max_leaf_nodes=90, min_samples_split=2, score=0.847, total=   0.1s\n",
      "[CV] max_leaf_nodes=90, min_samples_split=2 ..........................\n",
      "[CV]  max_leaf_nodes=90, min_samples_split=2, score=0.835, total=   0.1s\n",
      "[CV] max_leaf_nodes=90, min_samples_split=3 ..........................\n",
      "[CV]  max_leaf_nodes=90, min_samples_split=3, score=0.848, total=   0.1s\n",
      "[CV] max_leaf_nodes=90, min_samples_split=3 ..........................\n",
      "[CV]  max_leaf_nodes=90, min_samples_split=3, score=0.850, total=   0.1s\n",
      "[CV] max_leaf_nodes=90, min_samples_split=3 ..........................\n",
      "[CV]  max_leaf_nodes=90, min_samples_split=3, score=0.834, total=   0.1s\n",
      "[CV] max_leaf_nodes=90, min_samples_split=3 ..........................\n",
      "[CV]  max_leaf_nodes=90, min_samples_split=3, score=0.847, total=   0.1s\n",
      "[CV] max_leaf_nodes=90, min_samples_split=3 ..........................\n",
      "[CV]  max_leaf_nodes=90, min_samples_split=3, score=0.835, total=   0.1s\n",
      "[CV] max_leaf_nodes=90, min_samples_split=4 ..........................\n",
      "[CV]  max_leaf_nodes=90, min_samples_split=4, score=0.848, total=   0.1s\n",
      "[CV] max_leaf_nodes=90, min_samples_split=4 ..........................\n",
      "[CV]  max_leaf_nodes=90, min_samples_split=4, score=0.850, total=   0.1s\n",
      "[CV] max_leaf_nodes=90, min_samples_split=4 ..........................\n"
     ]
    },
    {
     "name": "stdout",
     "output_type": "stream",
     "text": [
      "[CV]  max_leaf_nodes=90, min_samples_split=4, score=0.834, total=   0.1s\n",
      "[CV] max_leaf_nodes=90, min_samples_split=4 ..........................\n",
      "[CV]  max_leaf_nodes=90, min_samples_split=4, score=0.847, total=   0.1s\n",
      "[CV] max_leaf_nodes=90, min_samples_split=4 ..........................\n",
      "[CV]  max_leaf_nodes=90, min_samples_split=4, score=0.835, total=   0.1s\n",
      "[CV] max_leaf_nodes=91, min_samples_split=2 ..........................\n",
      "[CV]  max_leaf_nodes=91, min_samples_split=2, score=0.848, total=   0.1s\n",
      "[CV] max_leaf_nodes=91, min_samples_split=2 ..........................\n",
      "[CV]  max_leaf_nodes=91, min_samples_split=2, score=0.850, total=   0.1s\n",
      "[CV] max_leaf_nodes=91, min_samples_split=2 ..........................\n",
      "[CV]  max_leaf_nodes=91, min_samples_split=2, score=0.834, total=   0.1s\n",
      "[CV] max_leaf_nodes=91, min_samples_split=2 ..........................\n",
      "[CV]  max_leaf_nodes=91, min_samples_split=2, score=0.847, total=   0.1s\n",
      "[CV] max_leaf_nodes=91, min_samples_split=2 ..........................\n",
      "[CV]  max_leaf_nodes=91, min_samples_split=2, score=0.835, total=   0.1s\n",
      "[CV] max_leaf_nodes=91, min_samples_split=3 ..........................\n",
      "[CV]  max_leaf_nodes=91, min_samples_split=3, score=0.848, total=   0.1s\n",
      "[CV] max_leaf_nodes=91, min_samples_split=3 ..........................\n",
      "[CV]  max_leaf_nodes=91, min_samples_split=3, score=0.850, total=   0.1s\n",
      "[CV] max_leaf_nodes=91, min_samples_split=3 ..........................\n",
      "[CV]  max_leaf_nodes=91, min_samples_split=3, score=0.834, total=   0.1s\n",
      "[CV] max_leaf_nodes=91, min_samples_split=3 ..........................\n",
      "[CV]  max_leaf_nodes=91, min_samples_split=3, score=0.847, total=   0.1s\n",
      "[CV] max_leaf_nodes=91, min_samples_split=3 ..........................\n",
      "[CV]  max_leaf_nodes=91, min_samples_split=3, score=0.835, total=   0.1s\n",
      "[CV] max_leaf_nodes=91, min_samples_split=4 ..........................\n",
      "[CV]  max_leaf_nodes=91, min_samples_split=4, score=0.848, total=   0.1s\n",
      "[CV] max_leaf_nodes=91, min_samples_split=4 ..........................\n",
      "[CV]  max_leaf_nodes=91, min_samples_split=4, score=0.850, total=   0.1s\n",
      "[CV] max_leaf_nodes=91, min_samples_split=4 ..........................\n",
      "[CV]  max_leaf_nodes=91, min_samples_split=4, score=0.834, total=   0.1s\n",
      "[CV] max_leaf_nodes=91, min_samples_split=4 ..........................\n",
      "[CV]  max_leaf_nodes=91, min_samples_split=4, score=0.847, total=   0.1s\n",
      "[CV] max_leaf_nodes=91, min_samples_split=4 ..........................\n",
      "[CV]  max_leaf_nodes=91, min_samples_split=4, score=0.835, total=   0.1s\n",
      "[CV] max_leaf_nodes=92, min_samples_split=2 ..........................\n",
      "[CV]  max_leaf_nodes=92, min_samples_split=2, score=0.848, total=   0.1s\n",
      "[CV] max_leaf_nodes=92, min_samples_split=2 ..........................\n",
      "[CV]  max_leaf_nodes=92, min_samples_split=2, score=0.850, total=   0.1s\n",
      "[CV] max_leaf_nodes=92, min_samples_split=2 ..........................\n",
      "[CV]  max_leaf_nodes=92, min_samples_split=2, score=0.834, total=   0.1s\n",
      "[CV] max_leaf_nodes=92, min_samples_split=2 ..........................\n",
      "[CV]  max_leaf_nodes=92, min_samples_split=2, score=0.847, total=   0.1s\n",
      "[CV] max_leaf_nodes=92, min_samples_split=2 ..........................\n",
      "[CV]  max_leaf_nodes=92, min_samples_split=2, score=0.835, total=   0.3s\n",
      "[CV] max_leaf_nodes=92, min_samples_split=3 ..........................\n",
      "[CV]  max_leaf_nodes=92, min_samples_split=3, score=0.848, total=   0.1s\n",
      "[CV] max_leaf_nodes=92, min_samples_split=3 ..........................\n",
      "[CV]  max_leaf_nodes=92, min_samples_split=3, score=0.850, total=   0.2s\n",
      "[CV] max_leaf_nodes=92, min_samples_split=3 ..........................\n",
      "[CV]  max_leaf_nodes=92, min_samples_split=3, score=0.834, total=   0.2s\n",
      "[CV] max_leaf_nodes=92, min_samples_split=3 ..........................\n",
      "[CV]  max_leaf_nodes=92, min_samples_split=3, score=0.847, total=   0.2s\n",
      "[CV] max_leaf_nodes=92, min_samples_split=3 ..........................\n",
      "[CV]  max_leaf_nodes=92, min_samples_split=3, score=0.835, total=   0.2s\n",
      "[CV] max_leaf_nodes=92, min_samples_split=4 ..........................\n",
      "[CV]  max_leaf_nodes=92, min_samples_split=4, score=0.848, total=   0.2s\n",
      "[CV] max_leaf_nodes=92, min_samples_split=4 ..........................\n",
      "[CV]  max_leaf_nodes=92, min_samples_split=4, score=0.850, total=   0.2s\n",
      "[CV] max_leaf_nodes=92, min_samples_split=4 ..........................\n",
      "[CV]  max_leaf_nodes=92, min_samples_split=4, score=0.834, total=   0.1s\n",
      "[CV] max_leaf_nodes=92, min_samples_split=4 ..........................\n",
      "[CV]  max_leaf_nodes=92, min_samples_split=4, score=0.847, total=   0.1s\n",
      "[CV] max_leaf_nodes=92, min_samples_split=4 ..........................\n",
      "[CV]  max_leaf_nodes=92, min_samples_split=4, score=0.835, total=   0.1s\n",
      "[CV] max_leaf_nodes=93, min_samples_split=2 ..........................\n",
      "[CV]  max_leaf_nodes=93, min_samples_split=2, score=0.848, total=   0.2s\n",
      "[CV] max_leaf_nodes=93, min_samples_split=2 ..........................\n",
      "[CV]  max_leaf_nodes=93, min_samples_split=2, score=0.850, total=   0.1s\n",
      "[CV] max_leaf_nodes=93, min_samples_split=2 ..........................\n",
      "[CV]  max_leaf_nodes=93, min_samples_split=2, score=0.834, total=   0.2s\n",
      "[CV] max_leaf_nodes=93, min_samples_split=2 ..........................\n",
      "[CV]  max_leaf_nodes=93, min_samples_split=2, score=0.847, total=   0.1s\n",
      "[CV] max_leaf_nodes=93, min_samples_split=2 ..........................\n",
      "[CV]  max_leaf_nodes=93, min_samples_split=2, score=0.835, total=   0.2s\n",
      "[CV] max_leaf_nodes=93, min_samples_split=3 ..........................\n",
      "[CV]  max_leaf_nodes=93, min_samples_split=3, score=0.848, total=   0.1s\n",
      "[CV] max_leaf_nodes=93, min_samples_split=3 ..........................\n",
      "[CV]  max_leaf_nodes=93, min_samples_split=3, score=0.850, total=   0.1s\n",
      "[CV] max_leaf_nodes=93, min_samples_split=3 ..........................\n",
      "[CV]  max_leaf_nodes=93, min_samples_split=3, score=0.834, total=   0.1s\n",
      "[CV] max_leaf_nodes=93, min_samples_split=3 ..........................\n",
      "[CV]  max_leaf_nodes=93, min_samples_split=3, score=0.847, total=   0.1s\n",
      "[CV] max_leaf_nodes=93, min_samples_split=3 ..........................\n",
      "[CV]  max_leaf_nodes=93, min_samples_split=3, score=0.835, total=   0.1s\n",
      "[CV] max_leaf_nodes=93, min_samples_split=4 ..........................\n",
      "[CV]  max_leaf_nodes=93, min_samples_split=4, score=0.848, total=   0.1s\n",
      "[CV] max_leaf_nodes=93, min_samples_split=4 ..........................\n",
      "[CV]  max_leaf_nodes=93, min_samples_split=4, score=0.850, total=   0.1s\n",
      "[CV] max_leaf_nodes=93, min_samples_split=4 ..........................\n",
      "[CV]  max_leaf_nodes=93, min_samples_split=4, score=0.834, total=   0.1s\n",
      "[CV] max_leaf_nodes=93, min_samples_split=4 ..........................\n",
      "[CV]  max_leaf_nodes=93, min_samples_split=4, score=0.847, total=   0.1s\n",
      "[CV] max_leaf_nodes=93, min_samples_split=4 ..........................\n",
      "[CV]  max_leaf_nodes=93, min_samples_split=4, score=0.835, total=   0.1s\n",
      "[CV] max_leaf_nodes=94, min_samples_split=2 ..........................\n",
      "[CV]  max_leaf_nodes=94, min_samples_split=2, score=0.848, total=   0.1s\n",
      "[CV] max_leaf_nodes=94, min_samples_split=2 ..........................\n",
      "[CV]  max_leaf_nodes=94, min_samples_split=2, score=0.850, total=   0.1s\n",
      "[CV] max_leaf_nodes=94, min_samples_split=2 ..........................\n",
      "[CV]  max_leaf_nodes=94, min_samples_split=2, score=0.835, total=   0.1s\n",
      "[CV] max_leaf_nodes=94, min_samples_split=2 ..........................\n",
      "[CV]  max_leaf_nodes=94, min_samples_split=2, score=0.847, total=   0.1s\n",
      "[CV] max_leaf_nodes=94, min_samples_split=2 ..........................\n",
      "[CV]  max_leaf_nodes=94, min_samples_split=2, score=0.835, total=   0.1s\n",
      "[CV] max_leaf_nodes=94, min_samples_split=3 ..........................\n",
      "[CV]  max_leaf_nodes=94, min_samples_split=3, score=0.848, total=   0.2s\n",
      "[CV] max_leaf_nodes=94, min_samples_split=3 ..........................\n",
      "[CV]  max_leaf_nodes=94, min_samples_split=3, score=0.850, total=   0.1s\n",
      "[CV] max_leaf_nodes=94, min_samples_split=3 ..........................\n",
      "[CV]  max_leaf_nodes=94, min_samples_split=3, score=0.835, total=   0.1s\n",
      "[CV] max_leaf_nodes=94, min_samples_split=3 ..........................\n",
      "[CV]  max_leaf_nodes=94, min_samples_split=3, score=0.847, total=   0.1s\n",
      "[CV] max_leaf_nodes=94, min_samples_split=3 ..........................\n"
     ]
    },
    {
     "name": "stdout",
     "output_type": "stream",
     "text": [
      "[CV]  max_leaf_nodes=94, min_samples_split=3, score=0.835, total=   0.1s\n",
      "[CV] max_leaf_nodes=94, min_samples_split=4 ..........................\n",
      "[CV]  max_leaf_nodes=94, min_samples_split=4, score=0.848, total=   0.1s\n",
      "[CV] max_leaf_nodes=94, min_samples_split=4 ..........................\n",
      "[CV]  max_leaf_nodes=94, min_samples_split=4, score=0.850, total=   0.1s\n",
      "[CV] max_leaf_nodes=94, min_samples_split=4 ..........................\n",
      "[CV]  max_leaf_nodes=94, min_samples_split=4, score=0.835, total=   0.1s\n",
      "[CV] max_leaf_nodes=94, min_samples_split=4 ..........................\n",
      "[CV]  max_leaf_nodes=94, min_samples_split=4, score=0.847, total=   0.1s\n",
      "[CV] max_leaf_nodes=94, min_samples_split=4 ..........................\n",
      "[CV]  max_leaf_nodes=94, min_samples_split=4, score=0.835, total=   0.1s\n",
      "[CV] max_leaf_nodes=95, min_samples_split=2 ..........................\n",
      "[CV]  max_leaf_nodes=95, min_samples_split=2, score=0.849, total=   0.1s\n",
      "[CV] max_leaf_nodes=95, min_samples_split=2 ..........................\n",
      "[CV]  max_leaf_nodes=95, min_samples_split=2, score=0.850, total=   0.1s\n",
      "[CV] max_leaf_nodes=95, min_samples_split=2 ..........................\n",
      "[CV]  max_leaf_nodes=95, min_samples_split=2, score=0.835, total=   0.1s\n",
      "[CV] max_leaf_nodes=95, min_samples_split=2 ..........................\n",
      "[CV]  max_leaf_nodes=95, min_samples_split=2, score=0.847, total=   0.1s\n",
      "[CV] max_leaf_nodes=95, min_samples_split=2 ..........................\n",
      "[CV]  max_leaf_nodes=95, min_samples_split=2, score=0.835, total=   0.1s\n",
      "[CV] max_leaf_nodes=95, min_samples_split=3 ..........................\n",
      "[CV]  max_leaf_nodes=95, min_samples_split=3, score=0.848, total=   0.1s\n",
      "[CV] max_leaf_nodes=95, min_samples_split=3 ..........................\n",
      "[CV]  max_leaf_nodes=95, min_samples_split=3, score=0.850, total=   0.1s\n",
      "[CV] max_leaf_nodes=95, min_samples_split=3 ..........................\n",
      "[CV]  max_leaf_nodes=95, min_samples_split=3, score=0.835, total=   0.1s\n",
      "[CV] max_leaf_nodes=95, min_samples_split=3 ..........................\n",
      "[CV]  max_leaf_nodes=95, min_samples_split=3, score=0.847, total=   0.1s\n",
      "[CV] max_leaf_nodes=95, min_samples_split=3 ..........................\n",
      "[CV]  max_leaf_nodes=95, min_samples_split=3, score=0.835, total=   0.1s\n",
      "[CV] max_leaf_nodes=95, min_samples_split=4 ..........................\n",
      "[CV]  max_leaf_nodes=95, min_samples_split=4, score=0.849, total=   0.1s\n",
      "[CV] max_leaf_nodes=95, min_samples_split=4 ..........................\n",
      "[CV]  max_leaf_nodes=95, min_samples_split=4, score=0.850, total=   0.1s\n",
      "[CV] max_leaf_nodes=95, min_samples_split=4 ..........................\n",
      "[CV]  max_leaf_nodes=95, min_samples_split=4, score=0.835, total=   0.1s\n",
      "[CV] max_leaf_nodes=95, min_samples_split=4 ..........................\n",
      "[CV]  max_leaf_nodes=95, min_samples_split=4, score=0.847, total=   0.1s\n",
      "[CV] max_leaf_nodes=95, min_samples_split=4 ..........................\n",
      "[CV]  max_leaf_nodes=95, min_samples_split=4, score=0.835, total=   0.1s\n",
      "[CV] max_leaf_nodes=96, min_samples_split=2 ..........................\n",
      "[CV]  max_leaf_nodes=96, min_samples_split=2, score=0.848, total=   0.1s\n",
      "[CV] max_leaf_nodes=96, min_samples_split=2 ..........................\n",
      "[CV]  max_leaf_nodes=96, min_samples_split=2, score=0.850, total=   0.1s\n",
      "[CV] max_leaf_nodes=96, min_samples_split=2 ..........................\n",
      "[CV]  max_leaf_nodes=96, min_samples_split=2, score=0.835, total=   0.1s\n",
      "[CV] max_leaf_nodes=96, min_samples_split=2 ..........................\n",
      "[CV]  max_leaf_nodes=96, min_samples_split=2, score=0.847, total=   0.1s\n",
      "[CV] max_leaf_nodes=96, min_samples_split=2 ..........................\n",
      "[CV]  max_leaf_nodes=96, min_samples_split=2, score=0.835, total=   0.1s\n",
      "[CV] max_leaf_nodes=96, min_samples_split=3 ..........................\n",
      "[CV]  max_leaf_nodes=96, min_samples_split=3, score=0.848, total=   0.1s\n",
      "[CV] max_leaf_nodes=96, min_samples_split=3 ..........................\n",
      "[CV]  max_leaf_nodes=96, min_samples_split=3, score=0.850, total=   0.1s\n",
      "[CV] max_leaf_nodes=96, min_samples_split=3 ..........................\n",
      "[CV]  max_leaf_nodes=96, min_samples_split=3, score=0.835, total=   0.1s\n",
      "[CV] max_leaf_nodes=96, min_samples_split=3 ..........................\n",
      "[CV]  max_leaf_nodes=96, min_samples_split=3, score=0.847, total=   0.1s\n",
      "[CV] max_leaf_nodes=96, min_samples_split=3 ..........................\n",
      "[CV]  max_leaf_nodes=96, min_samples_split=3, score=0.835, total=   0.1s\n",
      "[CV] max_leaf_nodes=96, min_samples_split=4 ..........................\n",
      "[CV]  max_leaf_nodes=96, min_samples_split=4, score=0.849, total=   0.1s\n",
      "[CV] max_leaf_nodes=96, min_samples_split=4 ..........................\n",
      "[CV]  max_leaf_nodes=96, min_samples_split=4, score=0.850, total=   0.1s\n",
      "[CV] max_leaf_nodes=96, min_samples_split=4 ..........................\n",
      "[CV]  max_leaf_nodes=96, min_samples_split=4, score=0.835, total=   0.1s\n",
      "[CV] max_leaf_nodes=96, min_samples_split=4 ..........................\n",
      "[CV]  max_leaf_nodes=96, min_samples_split=4, score=0.847, total=   0.1s\n",
      "[CV] max_leaf_nodes=96, min_samples_split=4 ..........................\n",
      "[CV]  max_leaf_nodes=96, min_samples_split=4, score=0.835, total=   0.1s\n",
      "[CV] max_leaf_nodes=97, min_samples_split=2 ..........................\n",
      "[CV]  max_leaf_nodes=97, min_samples_split=2, score=0.848, total=   0.1s\n",
      "[CV] max_leaf_nodes=97, min_samples_split=2 ..........................\n",
      "[CV]  max_leaf_nodes=97, min_samples_split=2, score=0.850, total=   0.1s\n",
      "[CV] max_leaf_nodes=97, min_samples_split=2 ..........................\n",
      "[CV]  max_leaf_nodes=97, min_samples_split=2, score=0.835, total=   0.1s\n",
      "[CV] max_leaf_nodes=97, min_samples_split=2 ..........................\n",
      "[CV]  max_leaf_nodes=97, min_samples_split=2, score=0.847, total=   0.1s\n",
      "[CV] max_leaf_nodes=97, min_samples_split=2 ..........................\n",
      "[CV]  max_leaf_nodes=97, min_samples_split=2, score=0.835, total=   0.1s\n",
      "[CV] max_leaf_nodes=97, min_samples_split=3 ..........................\n",
      "[CV]  max_leaf_nodes=97, min_samples_split=3, score=0.848, total=   0.1s\n",
      "[CV] max_leaf_nodes=97, min_samples_split=3 ..........................\n",
      "[CV]  max_leaf_nodes=97, min_samples_split=3, score=0.850, total=   0.1s\n",
      "[CV] max_leaf_nodes=97, min_samples_split=3 ..........................\n",
      "[CV]  max_leaf_nodes=97, min_samples_split=3, score=0.835, total=   0.1s\n",
      "[CV] max_leaf_nodes=97, min_samples_split=3 ..........................\n",
      "[CV]  max_leaf_nodes=97, min_samples_split=3, score=0.847, total=   0.1s\n",
      "[CV] max_leaf_nodes=97, min_samples_split=3 ..........................\n",
      "[CV]  max_leaf_nodes=97, min_samples_split=3, score=0.835, total=   0.1s\n",
      "[CV] max_leaf_nodes=97, min_samples_split=4 ..........................\n",
      "[CV]  max_leaf_nodes=97, min_samples_split=4, score=0.848, total=   0.1s\n",
      "[CV] max_leaf_nodes=97, min_samples_split=4 ..........................\n",
      "[CV]  max_leaf_nodes=97, min_samples_split=4, score=0.850, total=   0.1s\n",
      "[CV] max_leaf_nodes=97, min_samples_split=4 ..........................\n",
      "[CV]  max_leaf_nodes=97, min_samples_split=4, score=0.835, total=   0.1s\n",
      "[CV] max_leaf_nodes=97, min_samples_split=4 ..........................\n",
      "[CV]  max_leaf_nodes=97, min_samples_split=4, score=0.847, total=   0.1s\n",
      "[CV] max_leaf_nodes=97, min_samples_split=4 ..........................\n",
      "[CV]  max_leaf_nodes=97, min_samples_split=4, score=0.835, total=   0.1s\n",
      "[CV] max_leaf_nodes=98, min_samples_split=2 ..........................\n",
      "[CV]  max_leaf_nodes=98, min_samples_split=2, score=0.849, total=   0.1s\n",
      "[CV] max_leaf_nodes=98, min_samples_split=2 ..........................\n",
      "[CV]  max_leaf_nodes=98, min_samples_split=2, score=0.850, total=   0.1s\n",
      "[CV] max_leaf_nodes=98, min_samples_split=2 ..........................\n",
      "[CV]  max_leaf_nodes=98, min_samples_split=2, score=0.835, total=   0.2s\n",
      "[CV] max_leaf_nodes=98, min_samples_split=2 ..........................\n",
      "[CV]  max_leaf_nodes=98, min_samples_split=2, score=0.847, total=   0.2s\n",
      "[CV] max_leaf_nodes=98, min_samples_split=2 ..........................\n",
      "[CV]  max_leaf_nodes=98, min_samples_split=2, score=0.835, total=   0.1s\n",
      "[CV] max_leaf_nodes=98, min_samples_split=3 ..........................\n",
      "[CV]  max_leaf_nodes=98, min_samples_split=3, score=0.848, total=   0.2s\n",
      "[CV] max_leaf_nodes=98, min_samples_split=3 ..........................\n",
      "[CV]  max_leaf_nodes=98, min_samples_split=3, score=0.850, total=   0.1s\n",
      "[CV] max_leaf_nodes=98, min_samples_split=3 ..........................\n"
     ]
    },
    {
     "name": "stdout",
     "output_type": "stream",
     "text": [
      "[CV]  max_leaf_nodes=98, min_samples_split=3, score=0.835, total=   0.1s\n",
      "[CV] max_leaf_nodes=98, min_samples_split=3 ..........................\n",
      "[CV]  max_leaf_nodes=98, min_samples_split=3, score=0.847, total=   0.1s\n",
      "[CV] max_leaf_nodes=98, min_samples_split=3 ..........................\n",
      "[CV]  max_leaf_nodes=98, min_samples_split=3, score=0.835, total=   0.1s\n",
      "[CV] max_leaf_nodes=98, min_samples_split=4 ..........................\n",
      "[CV]  max_leaf_nodes=98, min_samples_split=4, score=0.849, total=   0.1s\n",
      "[CV] max_leaf_nodes=98, min_samples_split=4 ..........................\n",
      "[CV]  max_leaf_nodes=98, min_samples_split=4, score=0.850, total=   0.1s\n",
      "[CV] max_leaf_nodes=98, min_samples_split=4 ..........................\n",
      "[CV]  max_leaf_nodes=98, min_samples_split=4, score=0.835, total=   0.1s\n",
      "[CV] max_leaf_nodes=98, min_samples_split=4 ..........................\n",
      "[CV]  max_leaf_nodes=98, min_samples_split=4, score=0.847, total=   0.1s\n",
      "[CV] max_leaf_nodes=98, min_samples_split=4 ..........................\n",
      "[CV]  max_leaf_nodes=98, min_samples_split=4, score=0.835, total=   0.1s\n",
      "[CV] max_leaf_nodes=99, min_samples_split=2 ..........................\n",
      "[CV]  max_leaf_nodes=99, min_samples_split=2, score=0.848, total=   0.1s\n",
      "[CV] max_leaf_nodes=99, min_samples_split=2 ..........................\n",
      "[CV]  max_leaf_nodes=99, min_samples_split=2, score=0.850, total=   0.1s\n",
      "[CV] max_leaf_nodes=99, min_samples_split=2 ..........................\n",
      "[CV]  max_leaf_nodes=99, min_samples_split=2, score=0.835, total=   0.1s\n",
      "[CV] max_leaf_nodes=99, min_samples_split=2 ..........................\n",
      "[CV]  max_leaf_nodes=99, min_samples_split=2, score=0.847, total=   0.1s\n",
      "[CV] max_leaf_nodes=99, min_samples_split=2 ..........................\n",
      "[CV]  max_leaf_nodes=99, min_samples_split=2, score=0.835, total=   0.1s\n",
      "[CV] max_leaf_nodes=99, min_samples_split=3 ..........................\n",
      "[CV]  max_leaf_nodes=99, min_samples_split=3, score=0.848, total=   0.1s\n",
      "[CV] max_leaf_nodes=99, min_samples_split=3 ..........................\n",
      "[CV]  max_leaf_nodes=99, min_samples_split=3, score=0.850, total=   0.1s\n",
      "[CV] max_leaf_nodes=99, min_samples_split=3 ..........................\n",
      "[CV]  max_leaf_nodes=99, min_samples_split=3, score=0.835, total=   0.1s\n",
      "[CV] max_leaf_nodes=99, min_samples_split=3 ..........................\n",
      "[CV]  max_leaf_nodes=99, min_samples_split=3, score=0.847, total=   0.1s\n",
      "[CV] max_leaf_nodes=99, min_samples_split=3 ..........................\n",
      "[CV]  max_leaf_nodes=99, min_samples_split=3, score=0.835, total=   0.1s\n",
      "[CV] max_leaf_nodes=99, min_samples_split=4 ..........................\n",
      "[CV]  max_leaf_nodes=99, min_samples_split=4, score=0.848, total=   0.1s\n",
      "[CV] max_leaf_nodes=99, min_samples_split=4 ..........................\n",
      "[CV]  max_leaf_nodes=99, min_samples_split=4, score=0.850, total=   0.1s\n",
      "[CV] max_leaf_nodes=99, min_samples_split=4 ..........................\n",
      "[CV]  max_leaf_nodes=99, min_samples_split=4, score=0.835, total=   0.1s\n",
      "[CV] max_leaf_nodes=99, min_samples_split=4 ..........................\n",
      "[CV]  max_leaf_nodes=99, min_samples_split=4, score=0.847, total=   0.1s\n",
      "[CV] max_leaf_nodes=99, min_samples_split=4 ..........................\n",
      "[CV]  max_leaf_nodes=99, min_samples_split=4, score=0.835, total=   0.1s\n"
     ]
    },
    {
     "name": "stderr",
     "output_type": "stream",
     "text": [
      "[Parallel(n_jobs=1)]: Done 1470 out of 1470 | elapsed:  2.8min finished\n"
     ]
    },
    {
     "data": {
      "text/plain": [
       "GridSearchCV(estimator=DecisionTreeClassifier(criterion='entropy', max_depth=10,\n",
       "                                              min_samples_split=8),\n",
       "             param_grid={'max_leaf_nodes': [2, 3, 4, 5, 6, 7, 8, 9, 10, 11, 12,\n",
       "                                            13, 14, 15, 16, 17, 18, 19, 20, 21,\n",
       "                                            22, 23, 24, 25, 26, 27, 28, 29, 30,\n",
       "                                            31, ...],\n",
       "                         'min_samples_split': [2, 3, 4]},\n",
       "             verbose=3)"
      ]
     },
     "execution_count": 73,
     "metadata": {},
     "output_type": "execute_result"
    }
   ],
   "source": [
    "#fitting on training data\n",
    "grid_search.fit(X_train, y_train)"
   ]
  },
  {
   "cell_type": "code",
   "execution_count": 74,
   "metadata": {},
   "outputs": [
    {
     "data": {
      "text/plain": [
       "{'max_leaf_nodes': 57, 'min_samples_split': 2}"
      ]
     },
     "execution_count": 74,
     "metadata": {},
     "output_type": "execute_result"
    }
   ],
   "source": [
    "#selecting best parameters\n",
    "grid_search.best_params_"
   ]
  },
  {
   "cell_type": "code",
   "execution_count": 75,
   "metadata": {},
   "outputs": [],
   "source": [
    "#creating instance using best parameter\n",
    "dt_model = DecisionTreeClassifier(max_leaf_nodes= 57, min_samples_split= 2)"
   ]
  },
  {
   "cell_type": "code",
   "execution_count": 76,
   "metadata": {},
   "outputs": [
    {
     "data": {
      "text/plain": [
       "DecisionTreeClassifier(max_leaf_nodes=57)"
      ]
     },
     "execution_count": 76,
     "metadata": {},
     "output_type": "execute_result"
    }
   ],
   "source": [
    "#fitting model on training data\n",
    "dt_model.fit(X_train, y_train)"
   ]
  },
  {
   "cell_type": "code",
   "execution_count": 77,
   "metadata": {},
   "outputs": [],
   "source": [
    "#making predictions\n",
    "predictions = dt_model.predict(X_test)"
   ]
  },
  {
   "cell_type": "code",
   "execution_count": 78,
   "metadata": {},
   "outputs": [
    {
     "name": "stdout",
     "output_type": "stream",
     "text": [
      "Decision Tree accuracy is 0.85\n"
     ]
    }
   ],
   "source": [
    "#calculating accuracy on test data\n",
    "print(\"Decision Tree accuracy is %2.2f\" % accuracy_score(y_test, dt_model.predict(X_test)))"
   ]
  },
  {
   "cell_type": "code",
   "execution_count": 79,
   "metadata": {},
   "outputs": [
    {
     "name": "stdout",
     "output_type": "stream",
     "text": [
      "              precision    recall  f1-score   support\n",
      "\n",
      "           0       0.87      0.93      0.90      7407\n",
      "           1       0.73      0.58      0.65      2362\n",
      "\n",
      "    accuracy                           0.85      9769\n",
      "   macro avg       0.80      0.76      0.77      9769\n",
      "weighted avg       0.84      0.85      0.84      9769\n",
      "\n"
     ]
    }
   ],
   "source": [
    "#using classification report to measure performance\n",
    "print(classification_report(y_test, predictions))"
   ]
  },
  {
   "cell_type": "code",
   "execution_count": 80,
   "metadata": {},
   "outputs": [
    {
     "name": "stdout",
     "output_type": "stream",
     "text": [
      "[[6895  512]\n",
      " [ 990 1372]]\n"
     ]
    }
   ],
   "source": [
    "#making confusion matrix\n",
    "from sklearn.metrics import confusion_matrix,accuracy_score\n",
    "print(confusion_matrix(y_test, predictions))"
   ]
  },
  {
   "cell_type": "code",
   "execution_count": 81,
   "metadata": {},
   "outputs": [
    {
     "data": {
      "image/png": "[encoded data removed]",
      "text/plain": [
       "<Figure size 432x288 with 2 Axes>"
      ]
     },
     "metadata": {
      "needs_background": "light"
     },
     "output_type": "display_data"
    }
   ],
   "source": [
    "#plotting confusion matrix\n",
    "from sklearn.metrics import plot_confusion_matrix\n",
    "plot_confusion_matrix(dt_model, X_test, y_test)  \n",
    "plt.show()"
   ]
  },
  {
   "cell_type": "code",
   "execution_count": 82,
   "metadata": {},
   "outputs": [],
   "source": [
    "#accuracy score \n",
    "acc=accuracy_score(y_test, predictions)*100\n",
    "\n",
    "#adding to the list accuracies\n",
    "accuracies.append(acc)"
   ]
  },
  {
   "cell_type": "markdown",
   "metadata": {},
   "source": [
    "### Naive Bayes "
   ]
  },
  {
   "cell_type": "code",
   "execution_count": 83,
   "metadata": {},
   "outputs": [],
   "source": [
    "from sklearn.naive_bayes import GaussianNB\n",
    "#Create a Gaussian Classifier\n",
    "model = GaussianNB()"
   ]
  },
  {
   "cell_type": "code",
   "execution_count": 84,
   "metadata": {},
   "outputs": [],
   "source": [
    "# Train the model using the training sets\n",
    "gnb = model.fit(X_train,y_train)"
   ]
  },
  {
   "cell_type": "code",
   "execution_count": 85,
   "metadata": {},
   "outputs": [],
   "source": [
    "#making predictions\n",
    "predictions = gnb.predict(X_test)"
   ]
  },
  {
   "cell_type": "code",
   "execution_count": 86,
   "metadata": {},
   "outputs": [
    {
     "name": "stdout",
     "output_type": "stream",
     "text": [
      "Naive Bayes accuracy is 0.65\n"
     ]
    }
   ],
   "source": [
    "#calculating accuracy on test data\n",
    "print(\"Naive Bayes accuracy is %2.2f\" % accuracy_score(y_test, gnb.predict(X_test)))"
   ]
  },
  {
   "cell_type": "code",
   "execution_count": 87,
   "metadata": {},
   "outputs": [
    {
     "name": "stdout",
     "output_type": "stream",
     "text": [
      "              precision    recall  f1-score   support\n",
      "\n",
      "           0       0.97      0.56      0.71      7407\n",
      "           1       0.41      0.95      0.57      2362\n",
      "\n",
      "    accuracy                           0.65      9769\n",
      "   macro avg       0.69      0.75      0.64      9769\n",
      "weighted avg       0.83      0.65      0.67      9769\n",
      "\n"
     ]
    }
   ],
   "source": [
    "#using classification report to measure performance\n",
    "print(classification_report(y_test, predictions))"
   ]
  },
  {
   "cell_type": "code",
   "execution_count": 88,
   "metadata": {},
   "outputs": [
    {
     "name": "stdout",
     "output_type": "stream",
     "text": [
      "[[4121 3286]\n",
      " [ 125 2237]]\n",
      "0.6508342716757088\n"
     ]
    }
   ],
   "source": [
    "#making confusion matrix\n",
    "from sklearn.metrics import confusion_matrix,accuracy_score\n",
    "print(confusion_matrix(y_test, predictions))\n",
    "print(accuracy_score(y_test, predictions))"
   ]
  },
  {
   "cell_type": "code",
   "execution_count": 89,
   "metadata": {},
   "outputs": [
    {
     "data": {
      "image/png": "[encoded data removed]",
      "text/plain": [
       "<Figure size 432x288 with 2 Axes>"
      ]
     },
     "metadata": {
      "needs_background": "light"
     },
     "output_type": "display_data"
    }
   ],
   "source": [
    "#plotting confusion matrix\n",
    "from sklearn.metrics import plot_confusion_matrix\n",
    "plot_confusion_matrix(gnb, X_test, y_test)  \n",
    "plt.show()"
   ]
  },
  {
   "cell_type": "code",
   "execution_count": 90,
   "metadata": {},
   "outputs": [],
   "source": [
    "#accuracy score \n",
    "acc=accuracy_score(y_test, predictions)*100\n",
    "\n",
    "#adding to the list accuracies\n",
    "accuracies.append(acc)"
   ]
  },
  {
   "cell_type": "markdown",
   "metadata": {},
   "source": [
    "###  Random Forest"
   ]
  },
  {
   "cell_type": "code",
   "execution_count": 91,
   "metadata": {},
   "outputs": [],
   "source": [
    "#import necessary library\n",
    "from sklearn.ensemble import RandomForestClassifier"
   ]
  },
  {
   "cell_type": "code",
   "execution_count": 92,
   "metadata": {},
   "outputs": [],
   "source": [
    "#create instance for random forest\n",
    "rf=RandomForestClassifier(n_estimators = 100, random_state = 0)"
   ]
  },
  {
   "cell_type": "code",
   "execution_count": 93,
   "metadata": {},
   "outputs": [],
   "source": [
    "#findng best parameters\n",
    "param_grid = [\n",
    "    {'n_estimators': [3, 10, 30,50,80,100], 'max_features': [2, 4, 6, 8]},\n",
    "    {'bootstrap': [False], 'n_estimators': [3, 10], 'max_features': [2, 3, 4]}\n",
    "]\n",
    "grid_search = GridSearchCV(rf, param_grid, cv=5, scoring='neg_mean_squared_error')"
   ]
  },
  {
   "cell_type": "code",
   "execution_count": 94,
   "metadata": {},
   "outputs": [
    {
     "data": {
      "text/plain": [
       "GridSearchCV(cv=5, estimator=RandomForestClassifier(random_state=0),\n",
       "             param_grid=[{'max_features': [2, 4, 6, 8],\n",
       "                          'n_estimators': [3, 10, 30, 50, 80, 100]},\n",
       "                         {'bootstrap': [False], 'max_features': [2, 3, 4],\n",
       "                          'n_estimators': [3, 10]}],\n",
       "             scoring='neg_mean_squared_error')"
      ]
     },
     "execution_count": 94,
     "metadata": {},
     "output_type": "execute_result"
    }
   ],
   "source": [
    "#fitting on training data\n",
    "grid_search.fit(X_train, y_train)"
   ]
  },
  {
   "cell_type": "code",
   "execution_count": 95,
   "metadata": {},
   "outputs": [
    {
     "data": {
      "text/plain": [
       "{'max_features': 4, 'n_estimators': 80}"
      ]
     },
     "execution_count": 95,
     "metadata": {},
     "output_type": "execute_result"
    }
   ],
   "source": [
    "#selecting best parameters\n",
    "grid_search.best_params_"
   ]
  },
  {
   "cell_type": "code",
   "execution_count": 96,
   "metadata": {},
   "outputs": [],
   "source": [
    "#creating instance using best parameteres\n",
    "rf_model = RandomForestClassifier(max_features=4, n_estimators=80, random_state=0)"
   ]
  },
  {
   "cell_type": "code",
   "execution_count": 97,
   "metadata": {},
   "outputs": [
    {
     "data": {
      "text/plain": [
       "RandomForestClassifier(max_features=4, n_estimators=80, random_state=0)"
      ]
     },
     "execution_count": 97,
     "metadata": {},
     "output_type": "execute_result"
    }
   ],
   "source": [
    "#fitting on training data\n",
    "rf_model.fit(X_train, y_train)"
   ]
  },
  {
   "cell_type": "code",
   "execution_count": 98,
   "metadata": {},
   "outputs": [],
   "source": [
    "#making predictions\n",
    "predictions = rf_model.predict(X_test)"
   ]
  },
  {
   "cell_type": "code",
   "execution_count": 99,
   "metadata": {},
   "outputs": [
    {
     "name": "stdout",
     "output_type": "stream",
     "text": [
      "Random Forest accuracy is 0.84\n"
     ]
    }
   ],
   "source": [
    "#calculating accuracy on test data\n",
    "print(\"Random Forest accuracy is %2.2f\" % accuracy_score(y_test, rf_model.predict(X_test)))"
   ]
  },
  {
   "cell_type": "code",
   "execution_count": 100,
   "metadata": {},
   "outputs": [
    {
     "name": "stdout",
     "output_type": "stream",
     "text": [
      "              precision    recall  f1-score   support\n",
      "\n",
      "           0       0.88      0.91      0.90      7407\n",
      "           1       0.69      0.61      0.65      2362\n",
      "\n",
      "    accuracy                           0.84      9769\n",
      "   macro avg       0.78      0.76      0.77      9769\n",
      "weighted avg       0.83      0.84      0.84      9769\n",
      "\n"
     ]
    }
   ],
   "source": [
    "#using classification report to measure performance\n",
    "print(classification_report(y_test, predictions))"
   ]
  },
  {
   "cell_type": "code",
   "execution_count": 101,
   "metadata": {},
   "outputs": [
    {
     "name": "stdout",
     "output_type": "stream",
     "text": [
      "[[6766  641]\n",
      " [ 932 1430]]\n"
     ]
    }
   ],
   "source": [
    "#making confusion matrix\n",
    "from sklearn.metrics import confusion_matrix,accuracy_score\n",
    "print(confusion_matrix(y_test, predictions))"
   ]
  },
  {
   "cell_type": "code",
   "execution_count": 102,
   "metadata": {},
   "outputs": [
    {
     "data": {
      "image/png": "[encoded data removed]",
      "text/plain": [
       "<Figure size 432x288 with 2 Axes>"
      ]
     },
     "metadata": {
      "needs_background": "light"
     },
     "output_type": "display_data"
    }
   ],
   "source": [
    "#plotting confusion matrix\n",
    "from sklearn.metrics import plot_confusion_matrix\n",
    "plot_confusion_matrix(rf_model, X_test, y_test)  \n",
    "plt.show()"
   ]
  },
  {
   "cell_type": "code",
   "execution_count": 103,
   "metadata": {},
   "outputs": [],
   "source": [
    "#accuracy score \n",
    "acc=accuracy_score(y_test, predictions)*100\n",
    "\n",
    "#adding to the list accuracies\n",
    "accuracies.append(acc)"
   ]
  },
  {
   "cell_type": "markdown",
   "metadata": {},
   "source": [
    "### Support vector classifier "
   ]
  },
  {
   "cell_type": "code",
   "execution_count": 104,
   "metadata": {},
   "outputs": [],
   "source": [
    "#import necessary library\n",
    "from sklearn.svm import SVC"
   ]
  },
  {
   "cell_type": "code",
   "execution_count": 105,
   "metadata": {},
   "outputs": [],
   "source": [
    "#create instance for svc\n",
    "svc = SVC()"
   ]
  },
  {
   "cell_type": "code",
   "execution_count": 106,
   "metadata": {},
   "outputs": [],
   "source": [
    "#finding best parameters\n",
    "param_grid = {'C': [0.1, 1, 10, 100, 1000],  \n",
    "              'gamma': [1, 0.1, 0.01, 0.001, 0.0001], \n",
    "              'kernel': ['rbf']}    \n",
    "grid_search = GridSearchCV(SVC(), param_grid, refit = True, verbose = 3) "
   ]
  },
  {
   "cell_type": "code",
   "execution_count": 177,
   "metadata": {},
   "outputs": [
    {
     "name": "stdout",
     "output_type": "stream",
     "text": [
      "Fitting 5 folds for each of 25 candidates, totalling 125 fits\n",
      "[CV] C=0.1, gamma=1, kernel=rbf ......................................\n"
     ]
    },
    {
     "name": "stderr",
     "output_type": "stream",
     "text": [
      "[Parallel(n_jobs=1)]: Using backend SequentialBackend with 1 concurrent workers.\n"
     ]
    },
    {
     "name": "stdout",
     "output_type": "stream",
     "text": [
      "[CV] .......... C=0.1, gamma=1, kernel=rbf, score=0.773, total= 1.6min\n",
      "[CV] C=0.1, gamma=1, kernel=rbf ......................................\n"
     ]
    },
    {
     "name": "stderr",
     "output_type": "stream",
     "text": [
      "[Parallel(n_jobs=1)]: Done   1 out of   1 | elapsed:  1.6min remaining:    0.0s\n"
     ]
    },
    {
     "name": "stdout",
     "output_type": "stream",
     "text": [
      "[CV] .......... C=0.1, gamma=1, kernel=rbf, score=0.772, total= 1.5min\n",
      "[CV] C=0.1, gamma=1, kernel=rbf ......................................\n"
     ]
    },
    {
     "name": "stderr",
     "output_type": "stream",
     "text": [
      "[Parallel(n_jobs=1)]: Done   2 out of   2 | elapsed:  3.1min remaining:    0.0s\n"
     ]
    },
    {
     "name": "stdout",
     "output_type": "stream",
     "text": [
      "[CV] .......... C=0.1, gamma=1, kernel=rbf, score=0.771, total= 1.9min\n",
      "[CV] C=0.1, gamma=1, kernel=rbf ......................................\n",
      "[CV] .......... C=0.1, gamma=1, kernel=rbf, score=0.772, total= 2.1min\n",
      "[CV] C=0.1, gamma=1, kernel=rbf ......................................\n",
      "[CV] .......... C=0.1, gamma=1, kernel=rbf, score=0.774, total= 3.3min\n",
      "[CV] C=0.1, gamma=0.1, kernel=rbf ....................................\n",
      "[CV] ........ C=0.1, gamma=0.1, kernel=rbf, score=0.796, total= 2.1min\n",
      "[CV] C=0.1, gamma=0.1, kernel=rbf ....................................\n",
      "[CV] ........ C=0.1, gamma=0.1, kernel=rbf, score=0.793, total= 1.4min\n",
      "[CV] C=0.1, gamma=0.1, kernel=rbf ....................................\n",
      "[CV] ........ C=0.1, gamma=0.1, kernel=rbf, score=0.787, total= 1.3min\n",
      "[CV] C=0.1, gamma=0.1, kernel=rbf ....................................\n",
      "[CV] ........ C=0.1, gamma=0.1, kernel=rbf, score=0.790, total= 1.1min\n",
      "[CV] C=0.1, gamma=0.1, kernel=rbf ....................................\n",
      "[CV] ........ C=0.1, gamma=0.1, kernel=rbf, score=0.790, total= 1.1min\n",
      "[CV] C=0.1, gamma=0.01, kernel=rbf ...................................\n",
      "[CV] ....... C=0.1, gamma=0.01, kernel=rbf, score=0.848, total=  19.0s\n",
      "[CV] C=0.1, gamma=0.01, kernel=rbf ...................................\n",
      "[CV] ....... C=0.1, gamma=0.01, kernel=rbf, score=0.850, total=  18.8s\n",
      "[CV] C=0.1, gamma=0.01, kernel=rbf ...................................\n",
      "[CV] ....... C=0.1, gamma=0.01, kernel=rbf, score=0.838, total=  18.7s\n",
      "[CV] C=0.1, gamma=0.01, kernel=rbf ...................................\n",
      "[CV] ....... C=0.1, gamma=0.01, kernel=rbf, score=0.851, total=  19.1s\n",
      "[CV] C=0.1, gamma=0.01, kernel=rbf ...................................\n",
      "[CV] ....... C=0.1, gamma=0.01, kernel=rbf, score=0.843, total=  19.2s\n",
      "[CV] C=0.1, gamma=0.001, kernel=rbf ..................................\n",
      "[CV] ...... C=0.1, gamma=0.001, kernel=rbf, score=0.810, total=  20.4s\n",
      "[CV] C=0.1, gamma=0.001, kernel=rbf ..................................\n",
      "[CV] ...... C=0.1, gamma=0.001, kernel=rbf, score=0.811, total=  20.1s\n",
      "[CV] C=0.1, gamma=0.001, kernel=rbf ..................................\n",
      "[CV] ...... C=0.1, gamma=0.001, kernel=rbf, score=0.807, total=  20.7s\n",
      "[CV] C=0.1, gamma=0.001, kernel=rbf ..................................\n",
      "[CV] ...... C=0.1, gamma=0.001, kernel=rbf, score=0.815, total=  21.3s\n",
      "[CV] C=0.1, gamma=0.001, kernel=rbf ..................................\n",
      "[CV] ...... C=0.1, gamma=0.001, kernel=rbf, score=0.815, total=  20.0s\n",
      "[CV] C=0.1, gamma=0.0001, kernel=rbf .................................\n",
      "[CV] ..... C=0.1, gamma=0.0001, kernel=rbf, score=0.760, total=  22.9s\n",
      "[CV] C=0.1, gamma=0.0001, kernel=rbf .................................\n",
      "[CV] ..... C=0.1, gamma=0.0001, kernel=rbf, score=0.760, total=  22.6s\n",
      "[CV] C=0.1, gamma=0.0001, kernel=rbf .................................\n",
      "[CV] ..... C=0.1, gamma=0.0001, kernel=rbf, score=0.760, total=  25.3s\n",
      "[CV] C=0.1, gamma=0.0001, kernel=rbf .................................\n",
      "[CV] ..... C=0.1, gamma=0.0001, kernel=rbf, score=0.760, total=  23.7s\n",
      "[CV] C=0.1, gamma=0.0001, kernel=rbf .................................\n",
      "[CV] ..... C=0.1, gamma=0.0001, kernel=rbf, score=0.760, total=  23.0s\n",
      "[CV] C=1, gamma=1, kernel=rbf ........................................\n",
      "[CV] ............ C=1, gamma=1, kernel=rbf, score=0.808, total= 1.9min\n",
      "[CV] C=1, gamma=1, kernel=rbf ........................................\n",
      "[CV] ............ C=1, gamma=1, kernel=rbf, score=0.810, total= 1.4min\n",
      "[CV] C=1, gamma=1, kernel=rbf ........................................\n",
      "[CV] ............ C=1, gamma=1, kernel=rbf, score=0.798, total= 1.7min\n",
      "[CV] C=1, gamma=1, kernel=rbf ........................................\n",
      "[CV] ............ C=1, gamma=1, kernel=rbf, score=0.799, total= 1.9min\n",
      "[CV] C=1, gamma=1, kernel=rbf ........................................\n",
      "[CV] ............ C=1, gamma=1, kernel=rbf, score=0.798, total= 1.8min\n",
      "[CV] C=1, gamma=0.1, kernel=rbf ......................................\n",
      "[CV] .......... C=1, gamma=0.1, kernel=rbf, score=0.830, total= 1.5min\n",
      "[CV] C=1, gamma=0.1, kernel=rbf ......................................\n",
      "[CV] .......... C=1, gamma=0.1, kernel=rbf, score=0.832, total=12.8min\n",
      "[CV] C=1, gamma=0.1, kernel=rbf ......................................\n",
      "[CV] .......... C=1, gamma=0.1, kernel=rbf, score=0.823, total= 1.5min\n",
      "[CV] C=1, gamma=0.1, kernel=rbf ......................................\n",
      "[CV] .......... C=1, gamma=0.1, kernel=rbf, score=0.824, total= 1.5min\n",
      "[CV] C=1, gamma=0.1, kernel=rbf ......................................\n",
      "[CV] .......... C=1, gamma=0.1, kernel=rbf, score=0.824, total= 1.5min\n",
      "[CV] C=1, gamma=0.01, kernel=rbf .....................................\n",
      "[CV] ......... C=1, gamma=0.01, kernel=rbf, score=0.854, total=  19.8s\n",
      "[CV] C=1, gamma=0.01, kernel=rbf .....................................\n",
      "[CV] ......... C=1, gamma=0.01, kernel=rbf, score=0.853, total=  20.2s\n",
      "[CV] C=1, gamma=0.01, kernel=rbf .....................................\n",
      "[CV] ......... C=1, gamma=0.01, kernel=rbf, score=0.843, total=  19.6s\n",
      "[CV] C=1, gamma=0.01, kernel=rbf .....................................\n",
      "[CV] ......... C=1, gamma=0.01, kernel=rbf, score=0.852, total=  19.7s\n",
      "[CV] C=1, gamma=0.01, kernel=rbf .....................................\n",
      "[CV] ......... C=1, gamma=0.01, kernel=rbf, score=0.845, total=  19.8s\n",
      "[CV] C=1, gamma=0.001, kernel=rbf ....................................\n",
      "[CV] ........ C=1, gamma=0.001, kernel=rbf, score=0.849, total=  18.1s\n",
      "[CV] C=1, gamma=0.001, kernel=rbf ....................................\n",
      "[CV] ........ C=1, gamma=0.001, kernel=rbf, score=0.851, total=  18.1s\n",
      "[CV] C=1, gamma=0.001, kernel=rbf ....................................\n",
      "[CV] ........ C=1, gamma=0.001, kernel=rbf, score=0.836, total=  17.9s\n",
      "[CV] C=1, gamma=0.001, kernel=rbf ....................................\n",
      "[CV] ........ C=1, gamma=0.001, kernel=rbf, score=0.851, total=  18.0s\n",
      "[CV] C=1, gamma=0.001, kernel=rbf ....................................\n",
      "[CV] ........ C=1, gamma=0.001, kernel=rbf, score=0.839, total=  17.9s\n",
      "[CV] C=1, gamma=0.0001, kernel=rbf ...................................\n",
      "[CV] ....... C=1, gamma=0.0001, kernel=rbf, score=0.811, total=  20.0s\n",
      "[CV] C=1, gamma=0.0001, kernel=rbf ...................................\n",
      "[CV] ....... C=1, gamma=0.0001, kernel=rbf, score=0.816, total=  20.3s\n",
      "[CV] C=1, gamma=0.0001, kernel=rbf ...................................\n",
      "[CV] ....... C=1, gamma=0.0001, kernel=rbf, score=0.811, total=  19.8s\n",
      "[CV] C=1, gamma=0.0001, kernel=rbf ...................................\n",
      "[CV] ....... C=1, gamma=0.0001, kernel=rbf, score=0.816, total=  20.2s\n",
      "[CV] C=1, gamma=0.0001, kernel=rbf ...................................\n",
      "[CV] ....... C=1, gamma=0.0001, kernel=rbf, score=0.817, total=  20.4s\n",
      "[CV] C=10, gamma=1, kernel=rbf .......................................\n",
      "[CV] ........... C=10, gamma=1, kernel=rbf, score=0.808, total=31.6min\n",
      "[CV] C=10, gamma=1, kernel=rbf .......................................\n",
      "[CV] ........... C=10, gamma=1, kernel=rbf, score=0.810, total= 3.0min\n",
      "[CV] C=10, gamma=1, kernel=rbf .......................................\n",
      "[CV] ........... C=10, gamma=1, kernel=rbf, score=0.798, total= 2.4min\n",
      "[CV] C=10, gamma=1, kernel=rbf .......................................\n",
      "[CV] ........... C=10, gamma=1, kernel=rbf, score=0.799, total= 2.5min\n",
      "[CV] C=10, gamma=1, kernel=rbf .......................................\n",
      "[CV] ........... C=10, gamma=1, kernel=rbf, score=0.798, total= 2.4min\n",
      "[CV] C=10, gamma=0.1, kernel=rbf .....................................\n",
      "[CV] ......... C=10, gamma=0.1, kernel=rbf, score=0.822, total= 1.5min\n",
      "[CV] C=10, gamma=0.1, kernel=rbf .....................................\n",
      "[CV] ......... C=10, gamma=0.1, kernel=rbf, score=0.828, total= 1.6min\n",
      "[CV] C=10, gamma=0.1, kernel=rbf .....................................\n",
      "[CV] ......... C=10, gamma=0.1, kernel=rbf, score=0.817, total= 1.4min\n",
      "[CV] C=10, gamma=0.1, kernel=rbf .....................................\n",
      "[CV] ......... C=10, gamma=0.1, kernel=rbf, score=0.818, total= 1.4min\n",
      "[CV] C=10, gamma=0.1, kernel=rbf .....................................\n",
      "[CV] ......... C=10, gamma=0.1, kernel=rbf, score=0.819, total= 1.4min\n",
      "[CV] C=10, gamma=0.01, kernel=rbf ....................................\n"
     ]
    },
    {
     "name": "stdout",
     "output_type": "stream",
     "text": [
      "[CV] ........ C=10, gamma=0.01, kernel=rbf, score=0.852, total=  30.9s\n",
      "[CV] C=10, gamma=0.01, kernel=rbf ....................................\n",
      "[CV] ........ C=10, gamma=0.01, kernel=rbf, score=0.853, total=  27.1s\n",
      "[CV] C=10, gamma=0.01, kernel=rbf ....................................\n",
      "[CV] ........ C=10, gamma=0.01, kernel=rbf, score=0.841, total=  26.3s\n",
      "[CV] C=10, gamma=0.01, kernel=rbf ....................................\n",
      "[CV] ........ C=10, gamma=0.01, kernel=rbf, score=0.847, total=  26.0s\n",
      "[CV] C=10, gamma=0.01, kernel=rbf ....................................\n",
      "[CV] ........ C=10, gamma=0.01, kernel=rbf, score=0.845, total=  28.9s\n",
      "[CV] C=10, gamma=0.001, kernel=rbf ...................................\n",
      "[CV] ....... C=10, gamma=0.001, kernel=rbf, score=0.853, total=  20.8s\n",
      "[CV] C=10, gamma=0.001, kernel=rbf ...................................\n",
      "[CV] ....... C=10, gamma=0.001, kernel=rbf, score=0.851, total=  25.5s\n",
      "[CV] C=10, gamma=0.001, kernel=rbf ...................................\n",
      "[CV] ....... C=10, gamma=0.001, kernel=rbf, score=0.837, total=  19.8s\n",
      "[CV] C=10, gamma=0.001, kernel=rbf ...................................\n",
      "[CV] ....... C=10, gamma=0.001, kernel=rbf, score=0.853, total=  19.7s\n",
      "[CV] C=10, gamma=0.001, kernel=rbf ...................................\n",
      "[CV] ....... C=10, gamma=0.001, kernel=rbf, score=0.841, total=  19.5s\n",
      "[CV] C=10, gamma=0.0001, kernel=rbf ..................................\n",
      "[CV] ...... C=10, gamma=0.0001, kernel=rbf, score=0.848, total=  18.6s\n",
      "[CV] C=10, gamma=0.0001, kernel=rbf ..................................\n",
      "[CV] ...... C=10, gamma=0.0001, kernel=rbf, score=0.851, total=  18.8s\n",
      "[CV] C=10, gamma=0.0001, kernel=rbf ..................................\n",
      "[CV] ...... C=10, gamma=0.0001, kernel=rbf, score=0.835, total=  18.4s\n",
      "[CV] C=10, gamma=0.0001, kernel=rbf ..................................\n",
      "[CV] ...... C=10, gamma=0.0001, kernel=rbf, score=0.852, total=  18.8s\n",
      "[CV] C=10, gamma=0.0001, kernel=rbf ..................................\n",
      "[CV] ...... C=10, gamma=0.0001, kernel=rbf, score=0.840, total=  18.7s\n",
      "[CV] C=100, gamma=1, kernel=rbf ......................................\n",
      "[CV] .......... C=100, gamma=1, kernel=rbf, score=0.808, total= 2.5min\n",
      "[CV] C=100, gamma=1, kernel=rbf ......................................\n",
      "[CV] .......... C=100, gamma=1, kernel=rbf, score=0.810, total= 2.6min\n",
      "[CV] C=100, gamma=1, kernel=rbf ......................................\n",
      "[CV] .......... C=100, gamma=1, kernel=rbf, score=0.798, total= 2.2min\n",
      "[CV] C=100, gamma=1, kernel=rbf ......................................\n",
      "[CV] .......... C=100, gamma=1, kernel=rbf, score=0.799, total= 2.3min\n",
      "[CV] C=100, gamma=1, kernel=rbf ......................................\n",
      "[CV] .......... C=100, gamma=1, kernel=rbf, score=0.798, total= 2.3min\n",
      "[CV] C=100, gamma=0.1, kernel=rbf ....................................\n",
      "[CV] ........ C=100, gamma=0.1, kernel=rbf, score=0.822, total= 1.4min\n",
      "[CV] C=100, gamma=0.1, kernel=rbf ....................................\n",
      "[CV] ........ C=100, gamma=0.1, kernel=rbf, score=0.828, total= 1.6min\n",
      "[CV] C=100, gamma=0.1, kernel=rbf ....................................\n",
      "[CV] ........ C=100, gamma=0.1, kernel=rbf, score=0.817, total= 1.4min\n",
      "[CV] C=100, gamma=0.1, kernel=rbf ....................................\n",
      "[CV] ........ C=100, gamma=0.1, kernel=rbf, score=0.818, total= 1.3min\n",
      "[CV] C=100, gamma=0.1, kernel=rbf ....................................\n",
      "[CV] ........ C=100, gamma=0.1, kernel=rbf, score=0.819, total= 1.4min\n",
      "[CV] C=100, gamma=0.01, kernel=rbf ...................................\n",
      "[CV] ....... C=100, gamma=0.01, kernel=rbf, score=0.832, total=  57.7s\n",
      "[CV] C=100, gamma=0.01, kernel=rbf ...................................\n",
      "[CV] ....... C=100, gamma=0.01, kernel=rbf, score=0.834, total= 1.2min\n",
      "[CV] C=100, gamma=0.01, kernel=rbf ...................................\n",
      "[CV] ....... C=100, gamma=0.01, kernel=rbf, score=0.824, total=  55.9s\n",
      "[CV] C=100, gamma=0.01, kernel=rbf ...................................\n",
      "[CV] ....... C=100, gamma=0.01, kernel=rbf, score=0.836, total= 1.2min\n",
      "[CV] C=100, gamma=0.01, kernel=rbf ...................................\n",
      "[CV] ....... C=100, gamma=0.01, kernel=rbf, score=0.824, total= 1.3min\n",
      "[CV] C=100, gamma=0.001, kernel=rbf ..................................\n",
      "[CV] ...... C=100, gamma=0.001, kernel=rbf, score=0.852, total=  34.0s\n",
      "[CV] C=100, gamma=0.001, kernel=rbf ..................................\n",
      "[CV] ...... C=100, gamma=0.001, kernel=rbf, score=0.857, total=  34.4s\n",
      "[CV] C=100, gamma=0.001, kernel=rbf ..................................\n",
      "[CV] ...... C=100, gamma=0.001, kernel=rbf, score=0.844, total=  47.4s\n",
      "[CV] C=100, gamma=0.001, kernel=rbf ..................................\n",
      "[CV] ...... C=100, gamma=0.001, kernel=rbf, score=0.851, total=  30.2s\n",
      "[CV] C=100, gamma=0.001, kernel=rbf ..................................\n",
      "[CV] ...... C=100, gamma=0.001, kernel=rbf, score=0.847, total=  31.8s\n",
      "[CV] C=100, gamma=0.0001, kernel=rbf .................................\n",
      "[CV] ..... C=100, gamma=0.0001, kernel=rbf, score=0.848, total=  22.0s\n",
      "[CV] C=100, gamma=0.0001, kernel=rbf .................................\n",
      "[CV] ..... C=100, gamma=0.0001, kernel=rbf, score=0.850, total=  23.5s\n",
      "[CV] C=100, gamma=0.0001, kernel=rbf .................................\n",
      "[CV] ..... C=100, gamma=0.0001, kernel=rbf, score=0.835, total=  20.1s\n",
      "[CV] C=100, gamma=0.0001, kernel=rbf .................................\n",
      "[CV] ..... C=100, gamma=0.0001, kernel=rbf, score=0.852, total=  22.3s\n",
      "[CV] C=100, gamma=0.0001, kernel=rbf .................................\n",
      "[CV] ..... C=100, gamma=0.0001, kernel=rbf, score=0.841, total=  21.0s\n",
      "[CV] C=1000, gamma=1, kernel=rbf .....................................\n",
      "[CV] ......... C=1000, gamma=1, kernel=rbf, score=0.808, total= 2.6min\n",
      "[CV] C=1000, gamma=1, kernel=rbf .....................................\n",
      "[CV] ......... C=1000, gamma=1, kernel=rbf, score=0.810, total= 2.7min\n",
      "[CV] C=1000, gamma=1, kernel=rbf .....................................\n",
      "[CV] ......... C=1000, gamma=1, kernel=rbf, score=0.798, total= 2.4min\n",
      "[CV] C=1000, gamma=1, kernel=rbf .....................................\n",
      "[CV] ......... C=1000, gamma=1, kernel=rbf, score=0.799, total= 2.4min\n",
      "[CV] C=1000, gamma=1, kernel=rbf .....................................\n",
      "[CV] ......... C=1000, gamma=1, kernel=rbf, score=0.798, total= 2.2min\n",
      "[CV] C=1000, gamma=0.1, kernel=rbf ...................................\n",
      "[CV] ....... C=1000, gamma=0.1, kernel=rbf, score=0.822, total= 1.4min\n",
      "[CV] C=1000, gamma=0.1, kernel=rbf ...................................\n",
      "[CV] ....... C=1000, gamma=0.1, kernel=rbf, score=0.828, total= 1.4min\n",
      "[CV] C=1000, gamma=0.1, kernel=rbf ...................................\n",
      "[CV] ....... C=1000, gamma=0.1, kernel=rbf, score=0.817, total= 1.4min\n",
      "[CV] C=1000, gamma=0.1, kernel=rbf ...................................\n",
      "[CV] ....... C=1000, gamma=0.1, kernel=rbf, score=0.818, total= 1.3min\n",
      "[CV] C=1000, gamma=0.1, kernel=rbf ...................................\n",
      "[CV] ....... C=1000, gamma=0.1, kernel=rbf, score=0.819, total= 1.4min\n",
      "[CV] C=1000, gamma=0.01, kernel=rbf ..................................\n",
      "[CV] ...... C=1000, gamma=0.01, kernel=rbf, score=0.820, total= 2.2min\n",
      "[CV] C=1000, gamma=0.01, kernel=rbf ..................................\n",
      "[CV] ...... C=1000, gamma=0.01, kernel=rbf, score=0.825, total= 2.0min\n",
      "[CV] C=1000, gamma=0.01, kernel=rbf ..................................\n",
      "[CV] ...... C=1000, gamma=0.01, kernel=rbf, score=0.812, total= 1.8min\n",
      "[CV] C=1000, gamma=0.01, kernel=rbf ..................................\n",
      "[CV] ...... C=1000, gamma=0.01, kernel=rbf, score=0.823, total= 1.8min\n",
      "[CV] C=1000, gamma=0.01, kernel=rbf ..................................\n",
      "[CV] ...... C=1000, gamma=0.01, kernel=rbf, score=0.814, total= 2.1min\n",
      "[CV] C=1000, gamma=0.001, kernel=rbf .................................\n",
      "[CV] ..... C=1000, gamma=0.001, kernel=rbf, score=0.855, total= 1.4min\n",
      "[CV] C=1000, gamma=0.001, kernel=rbf .................................\n",
      "[CV] ..... C=1000, gamma=0.001, kernel=rbf, score=0.855, total= 1.3min\n",
      "[CV] C=1000, gamma=0.001, kernel=rbf .................................\n",
      "[CV] ..... C=1000, gamma=0.001, kernel=rbf, score=0.843, total= 1.2min\n",
      "[CV] C=1000, gamma=0.001, kernel=rbf .................................\n"
     ]
    },
    {
     "name": "stdout",
     "output_type": "stream",
     "text": [
      "[CV] ..... C=1000, gamma=0.001, kernel=rbf, score=0.847, total= 1.2min\n",
      "[CV] C=1000, gamma=0.001, kernel=rbf .................................\n",
      "[CV] ..... C=1000, gamma=0.001, kernel=rbf, score=0.846, total= 1.3min\n",
      "[CV] C=1000, gamma=0.0001, kernel=rbf ................................\n",
      "[CV] .... C=1000, gamma=0.0001, kernel=rbf, score=0.854, total=  25.7s\n",
      "[CV] C=1000, gamma=0.0001, kernel=rbf ................................\n",
      "[CV] .... C=1000, gamma=0.0001, kernel=rbf, score=0.851, total=  25.0s\n",
      "[CV] C=1000, gamma=0.0001, kernel=rbf ................................\n",
      "[CV] .... C=1000, gamma=0.0001, kernel=rbf, score=0.838, total=  24.8s\n",
      "[CV] C=1000, gamma=0.0001, kernel=rbf ................................\n",
      "[CV] .... C=1000, gamma=0.0001, kernel=rbf, score=0.852, total=  24.6s\n",
      "[CV] C=1000, gamma=0.0001, kernel=rbf ................................\n",
      "[CV] .... C=1000, gamma=0.0001, kernel=rbf, score=0.841, total=  24.7s\n"
     ]
    },
    {
     "name": "stderr",
     "output_type": "stream",
     "text": [
      "[Parallel(n_jobs=1)]: Done 125 out of 125 | elapsed: 176.4min finished\n"
     ]
    },
    {
     "data": {
      "text/plain": [
       "GridSearchCV(estimator=SVC(),\n",
       "             param_grid={'C': [0.1, 1, 10, 100, 1000],\n",
       "                         'gamma': [1, 0.1, 0.01, 0.001, 0.0001],\n",
       "                         'kernel': ['rbf']},\n",
       "             verbose=3)"
      ]
     },
     "execution_count": 177,
     "metadata": {},
     "output_type": "execute_result"
    }
   ],
   "source": [
    "#fitting on training data\n",
    "#grid_search.fit(X_train, y_train)\n",
    "##take long time to run"
   ]
  },
  {
   "cell_type": "code",
   "execution_count": 178,
   "metadata": {},
   "outputs": [
    {
     "data": {
      "text/plain": [
       "{'C': 100, 'gamma': 0.001, 'kernel': 'rbf'}"
      ]
     },
     "execution_count": 178,
     "metadata": {},
     "output_type": "execute_result"
    }
   ],
   "source": [
    "#selecting best parameters\n",
    "#grid_search.best_params_"
   ]
  },
  {
   "cell_type": "code",
   "execution_count": 107,
   "metadata": {},
   "outputs": [],
   "source": [
    "#creating instace using best parameters\n",
    "svc_model = SVC(C= 100, gamma= 0.001, kernel= 'rbf')"
   ]
  },
  {
   "cell_type": "code",
   "execution_count": 108,
   "metadata": {},
   "outputs": [
    {
     "data": {
      "text/plain": [
       "SVC(C=100, gamma=0.001)"
      ]
     },
     "execution_count": 108,
     "metadata": {},
     "output_type": "execute_result"
    }
   ],
   "source": [
    "#fitting on train data\n",
    "svc_model.fit(X_train, y_train)"
   ]
  },
  {
   "cell_type": "code",
   "execution_count": 109,
   "metadata": {},
   "outputs": [],
   "source": [
    "#making predictions\n",
    "predictions = svc_model.predict(X_test)"
   ]
  },
  {
   "cell_type": "code",
   "execution_count": 110,
   "metadata": {},
   "outputs": [
    {
     "name": "stdout",
     "output_type": "stream",
     "text": [
      "Support Vector Classifier accuracy is 0.85\n"
     ]
    }
   ],
   "source": [
    "#calculating accuracy on test data\n",
    "print(\"Support Vector Classifier accuracy is %2.2f\" % accuracy_score(y_test, svc_model.predict(X_test)))"
   ]
  },
  {
   "cell_type": "code",
   "execution_count": 111,
   "metadata": {},
   "outputs": [
    {
     "name": "stdout",
     "output_type": "stream",
     "text": [
      "              precision    recall  f1-score   support\n",
      "\n",
      "           0       0.87      0.94      0.90      7407\n",
      "           1       0.75      0.57      0.65      2362\n",
      "\n",
      "    accuracy                           0.85      9769\n",
      "   macro avg       0.81      0.75      0.78      9769\n",
      "weighted avg       0.84      0.85      0.84      9769\n",
      "\n"
     ]
    }
   ],
   "source": [
    "#using classification report to measure performance\n",
    "print(classification_report(y_test, predictions))"
   ]
  },
  {
   "cell_type": "code",
   "execution_count": 112,
   "metadata": {},
   "outputs": [
    {
     "name": "stdout",
     "output_type": "stream",
     "text": [
      "[[6951  456]\n",
      " [1012 1350]]\n"
     ]
    }
   ],
   "source": [
    "#making confusion matrix\n",
    "from sklearn.metrics import confusion_matrix,accuracy_score\n",
    "print(confusion_matrix(y_test, predictions))"
   ]
  },
  {
   "cell_type": "code",
   "execution_count": 113,
   "metadata": {},
   "outputs": [
    {
     "data": {
      "image/png": "[encoded data removed]",
      "text/plain": [
       "<Figure size 432x288 with 2 Axes>"
      ]
     },
     "metadata": {
      "needs_background": "light"
     },
     "output_type": "display_data"
    }
   ],
   "source": [
    "#plotting confusion matrix\n",
    "from sklearn.metrics import plot_confusion_matrix\n",
    "plot_confusion_matrix(svc_model, X_test, y_test)  \n",
    "plt.show()"
   ]
  },
  {
   "cell_type": "code",
   "execution_count": 114,
   "metadata": {},
   "outputs": [],
   "source": [
    "#accuracy score \n",
    "acc=accuracy_score(y_test, predictions)*100\n",
    "\n",
    "#adding to the list accuracies\n",
    "accuracies.append(acc)"
   ]
  },
  {
   "cell_type": "markdown",
   "metadata": {},
   "source": [
    "### Gradient Boosting Classifier "
   ]
  },
  {
   "cell_type": "code",
   "execution_count": 115,
   "metadata": {},
   "outputs": [],
   "source": [
    "#import necessary library\n",
    "from sklearn.ensemble import GradientBoostingClassifier"
   ]
  },
  {
   "cell_type": "code",
   "execution_count": 116,
   "metadata": {},
   "outputs": [],
   "source": [
    "#create instance for gradient boosting classifier\n",
    "gbc = GradientBoostingClassifier(random_state = 0)"
   ]
  },
  {
   "cell_type": "code",
   "execution_count": 117,
   "metadata": {},
   "outputs": [],
   "source": [
    "#finding best parameters\n",
    "param_grid = {'max_depth':range(5,10,3), 'min_samples_split':range(200,1001,300)}\n",
    "grid_search = GridSearchCV(gbc, param_grid, cv=2, scoring='neg_mean_squared_error')"
   ]
  },
  {
   "cell_type": "code",
   "execution_count": 118,
   "metadata": {},
   "outputs": [
    {
     "data": {
      "text/plain": [
       "GridSearchCV(cv=2, estimator=GradientBoostingClassifier(random_state=0),\n",
       "             param_grid={'max_depth': range(5, 10, 3),\n",
       "                         'min_samples_split': range(200, 1001, 300)},\n",
       "             scoring='neg_mean_squared_error')"
      ]
     },
     "execution_count": 118,
     "metadata": {},
     "output_type": "execute_result"
    }
   ],
   "source": [
    "#fitting on training data\n",
    "grid_search.fit(X_train, y_train)"
   ]
  },
  {
   "cell_type": "code",
   "execution_count": 119,
   "metadata": {},
   "outputs": [
    {
     "data": {
      "text/plain": [
       "{'max_depth': 8, 'min_samples_split': 800}"
      ]
     },
     "execution_count": 119,
     "metadata": {},
     "output_type": "execute_result"
    }
   ],
   "source": [
    "#selecting best parameters\n",
    "grid_search.best_params_"
   ]
  },
  {
   "cell_type": "code",
   "execution_count": 120,
   "metadata": {},
   "outputs": [],
   "source": [
    "#creating instance using best parameters\n",
    "gbc_model = GradientBoostingClassifier(max_depth=8, min_samples_split=800, random_state=0)"
   ]
  },
  {
   "cell_type": "code",
   "execution_count": 121,
   "metadata": {},
   "outputs": [
    {
     "data": {
      "text/plain": [
       "GradientBoostingClassifier(max_depth=8, min_samples_split=800, random_state=0)"
      ]
     },
     "execution_count": 121,
     "metadata": {},
     "output_type": "execute_result"
    }
   ],
   "source": [
    "#fitting model on training data\n",
    "gbc_model.fit(X_train, y_train)"
   ]
  },
  {
   "cell_type": "code",
   "execution_count": 122,
   "metadata": {},
   "outputs": [],
   "source": [
    "#making predictions\n",
    "predictions = gbc_model.predict(X_test)"
   ]
  },
  {
   "cell_type": "code",
   "execution_count": 123,
   "metadata": {},
   "outputs": [
    {
     "name": "stdout",
     "output_type": "stream",
     "text": [
      "Gradient Boosting Classifier accuracy is 0.85\n"
     ]
    }
   ],
   "source": [
    "#calculating accuracy on test data\n",
    "print(\"Gradient Boosting Classifier accuracy is %2.2f\" % accuracy_score(y_test, gbc_model.predict(X_test)))"
   ]
  },
  {
   "cell_type": "code",
   "execution_count": 124,
   "metadata": {},
   "outputs": [
    {
     "name": "stdout",
     "output_type": "stream",
     "text": [
      "              precision    recall  f1-score   support\n",
      "\n",
      "           0       0.88      0.93      0.90      7407\n",
      "           1       0.73      0.61      0.67      2362\n",
      "\n",
      "    accuracy                           0.85      9769\n",
      "   macro avg       0.81      0.77      0.79      9769\n",
      "weighted avg       0.85      0.85      0.85      9769\n",
      "\n"
     ]
    }
   ],
   "source": [
    "#using classification report to measure performance\n",
    "print(classification_report(y_test, predictions))"
   ]
  },
  {
   "cell_type": "code",
   "execution_count": 125,
   "metadata": {},
   "outputs": [
    {
     "name": "stdout",
     "output_type": "stream",
     "text": [
      "[[6874  533]\n",
      " [ 916 1446]]\n"
     ]
    }
   ],
   "source": [
    "#making confusion matrix\n",
    "from sklearn.metrics import confusion_matrix,accuracy_score\n",
    "print(confusion_matrix(y_test, predictions))"
   ]
  },
  {
   "cell_type": "code",
   "execution_count": 126,
   "metadata": {},
   "outputs": [
    {
     "data": {
      "image/png": "[encoded data removed]",
      "text/plain": [
       "<Figure size 432x288 with 2 Axes>"
      ]
     },
     "metadata": {
      "needs_background": "light"
     },
     "output_type": "display_data"
    }
   ],
   "source": [
    "#plotting confusion matrix\n",
    "from sklearn.metrics import plot_confusion_matrix\n",
    "plot_confusion_matrix(gbc_model, X_test, y_test)  \n",
    "plt.show()"
   ]
  },
  {
   "cell_type": "code",
   "execution_count": 127,
   "metadata": {},
   "outputs": [],
   "source": [
    "#accuracy score \n",
    "acc=accuracy_score(y_test, predictions)*100\n",
    "\n",
    "#adding to the list accuracies\n",
    "accuracies.append(acc)"
   ]
  },
  {
   "cell_type": "markdown",
   "metadata": {},
   "source": [
    "### KNeighbours"
   ]
  },
  {
   "cell_type": "code",
   "execution_count": 128,
   "metadata": {},
   "outputs": [],
   "source": [
    "#import necessary library\n",
    "from sklearn.neighbors import KNeighborsClassifier"
   ]
  },
  {
   "cell_type": "code",
   "execution_count": 129,
   "metadata": {},
   "outputs": [],
   "source": [
    "#create an instance for k Neighbors classifier\n",
    "knn =  KNeighborsClassifier()"
   ]
  },
  {
   "cell_type": "code",
   "execution_count": 130,
   "metadata": {},
   "outputs": [],
   "source": [
    "#finding best parameters\n",
    "param_grid = {'n_neighbors':range(6,10,1)}\n",
    "grid_search = GridSearchCV(knn, param_grid, cv=2, scoring='neg_mean_squared_error')"
   ]
  },
  {
   "cell_type": "code",
   "execution_count": 131,
   "metadata": {},
   "outputs": [
    {
     "data": {
      "text/plain": [
       "GridSearchCV(cv=2, estimator=KNeighborsClassifier(),\n",
       "             param_grid={'n_neighbors': range(6, 10)},\n",
       "             scoring='neg_mean_squared_error')"
      ]
     },
     "execution_count": 131,
     "metadata": {},
     "output_type": "execute_result"
    }
   ],
   "source": [
    "#fitting model on training data\n",
    "grid_search.fit(X_train, y_train)"
   ]
  },
  {
   "cell_type": "code",
   "execution_count": 132,
   "metadata": {},
   "outputs": [
    {
     "data": {
      "text/plain": [
       "{'n_neighbors': 8}"
      ]
     },
     "execution_count": 132,
     "metadata": {},
     "output_type": "execute_result"
    }
   ],
   "source": [
    "#selecting best parameters\n",
    "grid_search.best_params_"
   ]
  },
  {
   "cell_type": "code",
   "execution_count": 133,
   "metadata": {},
   "outputs": [],
   "source": [
    "#creating instance using best parameters\n",
    "knn_model = KNeighborsClassifier(n_neighbors=8)"
   ]
  },
  {
   "cell_type": "code",
   "execution_count": 134,
   "metadata": {},
   "outputs": [
    {
     "data": {
      "text/plain": [
       "KNeighborsClassifier(n_neighbors=8)"
      ]
     },
     "execution_count": 134,
     "metadata": {},
     "output_type": "execute_result"
    }
   ],
   "source": [
    "#train the model using the training sets\n",
    "knn_model.fit(X_train, y_train)"
   ]
  },
  {
   "cell_type": "code",
   "execution_count": 135,
   "metadata": {},
   "outputs": [],
   "source": [
    "#making predictions\n",
    "predictions = knn_model.predict(X_test)"
   ]
  },
  {
   "cell_type": "code",
   "execution_count": 136,
   "metadata": {},
   "outputs": [
    {
     "name": "stdout",
     "output_type": "stream",
     "text": [
      "KNeighbors Classifier accuracy is 0.84\n"
     ]
    }
   ],
   "source": [
    "#calculating accuracy on test data\n",
    "print(\"KNeighbors Classifier accuracy is %2.2f\" % accuracy_score(y_test, knn_model.predict(X_test)))"
   ]
  },
  {
   "cell_type": "code",
   "execution_count": 137,
   "metadata": {},
   "outputs": [
    {
     "name": "stdout",
     "output_type": "stream",
     "text": [
      "              precision    recall  f1-score   support\n",
      "\n",
      "           0       0.87      0.93      0.90      7407\n",
      "           1       0.72      0.55      0.63      2362\n",
      "\n",
      "    accuracy                           0.84      9769\n",
      "   macro avg       0.79      0.74      0.76      9769\n",
      "weighted avg       0.83      0.84      0.83      9769\n",
      "\n"
     ]
    }
   ],
   "source": [
    "#using classification report to measure performance\n",
    "print(classification_report(y_test, predictions))"
   ]
  },
  {
   "cell_type": "code",
   "execution_count": 138,
   "metadata": {},
   "outputs": [
    {
     "name": "stdout",
     "output_type": "stream",
     "text": [
      "[[6904  503]\n",
      " [1059 1303]]\n"
     ]
    }
   ],
   "source": [
    "#making confusion matrix\n",
    "from sklearn.metrics import confusion_matrix,accuracy_score\n",
    "print(confusion_matrix(y_test, predictions))"
   ]
  },
  {
   "cell_type": "code",
   "execution_count": 139,
   "metadata": {},
   "outputs": [
    {
     "data": {
      "image/png": "[encoded data removed]",
      "text/plain": [
       "<Figure size 432x288 with 2 Axes>"
      ]
     },
     "metadata": {
      "needs_background": "light"
     },
     "output_type": "display_data"
    }
   ],
   "source": [
    "#plotting confusion matrix\n",
    "from sklearn.metrics import plot_confusion_matrix\n",
    "plot_confusion_matrix(knn_model, X_test, y_test)  \n",
    "plt.show()"
   ]
  },
  {
   "cell_type": "code",
   "execution_count": 140,
   "metadata": {},
   "outputs": [],
   "source": [
    "#accuracy score \n",
    "acc=accuracy_score(y_test, predictions)*100\n",
    "\n",
    "#adding to the list accuracies\n",
    "accuracies.append(acc)"
   ]
  },
  {
   "cell_type": "code",
   "execution_count": 141,
   "metadata": {},
   "outputs": [
    {
     "data": {
      "text/plain": [
       "[84.87050875217524,\n",
       " 84.62483365748797,\n",
       " 65.08342716757089,\n",
       " 83.89804483570478,\n",
       " 84.97287337496161,\n",
       " 85.1673661582557,\n",
       " 84.01064592076978]"
      ]
     },
     "execution_count": 141,
     "metadata": {},
     "output_type": "execute_result"
    }
   ],
   "source": [
    "#printing list accuracies\n",
    "accuracies"
   ]
  },
  {
   "cell_type": "code",
   "execution_count": 142,
   "metadata": {},
   "outputs": [],
   "source": [
    "#creating list of classifier name\n",
    "classifier_names = [\"Logistic Regression\",\n",
    "                    \"Decision Tree Classifier\",\n",
    "                    \"Gaussian Naive Bayes\", \n",
    "                    \"Random Forest Classifier\",\n",
    "                    \"Support Vector Classifier\", \n",
    "                    \"Gradient Boosting Classifier\",\n",
    "                   \"KNeighbors Classifier\"]\n",
    "\n",
    "#creating list of classifiers using best parameters\n",
    "classifiers = [LogisticRegression(C=0.01, random_state=0),\n",
    "               DecisionTreeClassifier(max_leaf_nodes= 57, min_samples_split= 2),\n",
    "               GaussianNB(),\n",
    "               RandomForestClassifier(max_features=4, n_estimators=80, random_state=0),\n",
    "               SVC(C= 100, gamma= 0.001, kernel= 'rbf', probability=True),\n",
    "               GradientBoostingClassifier(max_depth=8, min_samples_split=800, random_state=0),\n",
    "              KNeighborsClassifier(n_neighbors=8)]\n"
   ]
  },
  {
   "cell_type": "code",
   "execution_count": 143,
   "metadata": {},
   "outputs": [],
   "source": [
    "#creating dataframe of accuracy scores and classifier names\n",
    "df1=pd.DataFrame(accuracies,columns = ['Accuracy Scores'],index = classifier_names).sort_values(by = 'Accuracy Scores',\n",
    "                                                                                            ascending = False)"
   ]
  },
  {
   "cell_type": "code",
   "execution_count": 144,
   "metadata": {},
   "outputs": [
    {
     "name": "stdout",
     "output_type": "stream",
     "text": [
      "                              Accuracy Scores\n",
      "Gradient Boosting Classifier        85.167366\n",
      "Support Vector Classifier           84.972873\n",
      "Logistic Regression                 84.870509\n",
      "Decision Tree Classifier            84.624834\n",
      "KNeighbors Classifier               84.010646\n",
      "Random Forest Classifier            83.898045\n",
      "Gaussian Naive Bayes                65.083427\n"
     ]
    }
   ],
   "source": [
    "#printing dataframe of accuracy scores and classifier names\n",
    "print(df1)"
   ]
  },
  {
   "cell_type": "code",
   "execution_count": 145,
   "metadata": {},
   "outputs": [
    {
     "name": "stderr",
     "output_type": "stream",
     "text": [
      "<ipython-input-145-87234d962234>:5: MatplotlibDeprecationWarning: Case-insensitive properties were deprecated in 3.3 and support will be removed two minor releases later\n",
      "  plt.xticks(Rotation=90)\n"
     ]
    },
    {
     "data": {
      "image/png": "[encoded data removed]",
      "text/plain": [
       "<Figure size 1440x864 with 1 Axes>"
      ]
     },
     "metadata": {
      "needs_background": "light"
     },
     "output_type": "display_data"
    }
   ],
   "source": [
    "#increasing figure size\n",
    "plt.figure(figsize = (20, 12))\n",
    "\n",
    "#rotating x lable to 90 degrees\n",
    "plt.xticks(Rotation=90)\n",
    "\n",
    "#plotting bar graph of accuracy scores of different classifers\n",
    "barplot = plt.bar(classifier_names,accuracies)\n",
    "\n",
    "#adding labels on axis and ajusting size\n",
    "plt.xlabel(\"Classifiers\",fontsize=14)\n",
    "plt.ylabel(\"Accuracy\",fontsize=16)\n",
    "\n",
    "#adding title\n",
    "plt.title(\"Accuracy of all classifiers\",fontsize=16)\n",
    "\n",
    "#adding accuracy score text on the bar\n",
    "for i, bar in enumerate(barplot):\n",
    "    plt.text(bar.get_x() + bar.get_width()/2 - 0.1, \n",
    "             bar.get_height()*1.02, \n",
    "             s = '{:.2f}%'.format(accuracies[i]), \n",
    "             fontsize = 16)"
   ]
  },
  {
   "cell_type": "markdown",
   "metadata": {},
   "source": [
    "Here we can see, Support vector classifier and Gradient Boosting classifier are giving more accuracy than others."
   ]
  },
  {
   "cell_type": "markdown",
   "metadata": {},
   "source": [
    "# AUC-ROC"
   ]
  },
  {
   "cell_type": "code",
   "execution_count": 146,
   "metadata": {},
   "outputs": [
    {
     "name": "stdout",
     "output_type": "stream",
     "text": [
      "Logistic Regression:\n",
      "F1 score: 0.65\n",
      "Decision Tree Classifier:\n",
      "F1 score: 0.65\n",
      "Gaussian Naive Bayes:\n",
      "F1 score: 0.57\n",
      "Random Forest Classifier:\n",
      "F1 score: 0.65\n",
      "Support Vector Classifier:\n",
      "F1 score: 0.65\n",
      "Gradient Boosting Classifier:\n",
      "F1 score: 0.67\n",
      "KNeighbors Classifier:\n",
      "F1 score: 0.63\n"
     ]
    }
   ],
   "source": [
    "#importing f1 score \n",
    "from sklearn.metrics import f1_score\n",
    "\n",
    "#caculating F1 score of all classifiers\n",
    "for i in range(len(classifiers)):\n",
    "    classifier = classifiers[i]\n",
    "    classifier.fit(X_train, y_train)\n",
    "    y_pred = classifier.predict(X_test)\n",
    "    print(\"{}:\".format(classifier_names[i]))\n",
    "    print(\"F1 score: {:.2f}\".format(f1_score(y_test, y_pred)))"
   ]
  },
  {
   "cell_type": "markdown",
   "metadata": {},
   "source": [
    "The F-score is a way of combining the precision and recall of the model. An F1 score is considered perfect when it's 1 , while the model is a total failure when it's 0. Based on the above results, the Gradient Boosting Classifier performed the best with the highest F1 score."
   ]
  },
  {
   "cell_type": "code",
   "execution_count": 147,
   "metadata": {},
   "outputs": [
    {
     "data": {
      "text/plain": [
       "<matplotlib.legend.Legend at 0x7f9d77c390a0>"
      ]
     },
     "execution_count": 147,
     "metadata": {},
     "output_type": "execute_result"
    },
    {
     "data": {
      "image/png": "[encoded data removed]",
      "text/plain": [
       "<Figure size 1440x864 with 1 Axes>"
      ]
     },
     "metadata": {
      "needs_background": "light"
     },
     "output_type": "display_data"
    }
   ],
   "source": [
    "#importing roc curve and auc\n",
    "from sklearn.metrics import roc_curve, auc\n",
    "\n",
    "#plotting roc curve\n",
    "plt.figure(figsize = (20, 12))\n",
    "plt.plot([0,1], [0,1], 'r--')\n",
    "\n",
    "#plotting for all classifiers\n",
    "for i in range(len(classifiers)):\n",
    "    classifier = classifiers[i]\n",
    "    probs = classifier.predict_proba(X_test)\n",
    "    # Reading probability of second class\n",
    "    probs = probs[:, 1]\n",
    "    fpr, tpr, thresholds = roc_curve(y_test, probs)\n",
    "    roc_auc = auc(fpr, tpr)\n",
    "    label = classifier_names[i] + ' AUC:' + ' {0:.2f}'.format(roc_auc)\n",
    "    plt.plot(fpr, tpr, label = label, linewidth = 4)\n",
    "\n",
    "#adding labels,title and adjusting their size\n",
    "plt.xlabel('False Positive Rate', fontsize = 16)\n",
    "plt.ylabel('True Positive Rate', fontsize = 16)\n",
    "plt.title('Receiver Operating Characteristic', fontsize = 16)\n",
    "plt.legend(loc = 'lower right', fontsize = 16)"
   ]
  },
  {
   "cell_type": "markdown",
   "metadata": {},
   "source": [
    "The KNeighbor Classifier appears to have the lowest Area Under Curve. The Gradient Boosting Classifier again performed the best here with the maximum Area Under Curve of 0.91."
   ]
  },
  {
   "cell_type": "code",
   "execution_count": null,
   "metadata": {},
   "outputs": [],
   "source": []
  }
 ],
 "metadata": {
  "kernelspec": {
   "display_name": "Python 3",
   "language": "python",
   "name": "python3"
  },
  "language_info": {
   "codemirror_mode": {
    "name": "ipython",
    "version": 3
   },
   "file_extension": ".py",
   "mimetype": "text/x-python",
   "name": "python",
   "nbconvert_exporter": "python",
   "pygments_lexer": "ipython3",
   "version": "3.8.5"
  }
 },
 "nbformat": 4,
 "nbformat_minor": 4
}
